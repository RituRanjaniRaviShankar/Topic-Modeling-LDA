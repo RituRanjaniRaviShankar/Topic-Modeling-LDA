{
 "cells": [
  {
   "cell_type": "markdown",
   "metadata": {},
   "source": [
    "<center><h1> Data Assessment</h1></center>\n",
    "\n",
    "\n",
    "###### Ritu Ranjani Ravi Shankar"
   ]
  },
  {
   "cell_type": "markdown",
   "metadata": {},
   "source": [
    "Importing the necessary libraries"
   ]
  },
  {
   "cell_type": "code",
   "execution_count": 1,
   "metadata": {},
   "outputs": [
    {
     "name": "stdout",
     "output_type": "stream",
     "text": [
      "Populating the interactive namespace from numpy and matplotlib\n"
     ]
    },
    {
     "data": {
      "text/html": [
       "        <script type=\"text/javascript\">\n",
       "        window.PlotlyConfig = {MathJaxConfig: 'local'};\n",
       "        if (window.MathJax) {MathJax.Hub.Config({SVG: {font: \"STIX-Web\"}});}\n",
       "        if (typeof require !== 'undefined') {\n",
       "        require.undef(\"plotly\");\n",
       "        requirejs.config({\n",
       "            paths: {\n",
       "                'plotly': ['https://cdn.plot.ly/plotly-latest.min']\n",
       "            }\n",
       "        });\n",
       "        require(['plotly'], function(Plotly) {\n",
       "            window._Plotly = Plotly;\n",
       "        });\n",
       "        }\n",
       "        </script>\n",
       "        "
      ]
     },
     "metadata": {},
     "output_type": "display_data"
    }
   ],
   "source": [
    "import pandas as pd\n",
    "\n",
    "import seaborn as sns\n",
    "%pylab inline\n",
    "from pandas.plotting import register_matplotlib_converters\n",
    "register_matplotlib_converters()\n",
    "import matplotlib.pyplot as plt\n",
    "import plotly.offline as py\n",
    "py.init_notebook_mode(connected=True)\n",
    "import plotly.graph_objs as go\n",
    "import plotly.tools as tls\n",
    "import plotly.figure_factory as ff\n",
    "import chart_studio\n",
    "import chart_studio.plotly as py\n",
    "import chart_studio.tools as tls\n",
    "import plotly.express as px\n",
    "\n",
    "\n",
    "from pandas.plotting import register_matplotlib_converters\n",
    "register_matplotlib_converters()\n",
    "import chart_studio\n",
    "import chart_studio.plotly as py\n",
    "import chart_studio.tools as tls\n",
    "\n",
    "import re\n",
    "import numpy as np\n",
    "import pandas as pd\n",
    "from pprint import pprint\n",
    "\n",
    "# Gensim\n",
    "import gensim\n",
    "import gensim.corpora as corpora\n",
    "from gensim.utils import simple_preprocess\n",
    "from gensim.models import CoherenceModel\n",
    "\n",
    "# spacy for lemmatization\n",
    "import spacy\n",
    "\n",
    "# Plotting tools\n",
    "import pyLDAvis\n",
    "import pyLDAvis.gensim  # don't skip this\n",
    "import matplotlib.pyplot as plt\n",
    "%matplotlib inline\n",
    "\n",
    "import warnings\n",
    "warnings.filterwarnings(\"ignore\",category=DeprecationWarning)\n",
    "\n",
    "from nltk.corpus import stopwords"
   ]
  },
  {
   "cell_type": "markdown",
   "metadata": {},
   "source": [
    "Load the input file"
   ]
  },
  {
   "cell_type": "code",
   "execution_count": 2,
   "metadata": {},
   "outputs": [],
   "source": [
    "# read the file with the data\n",
    "\n",
    "df =pd.read_csv('Data_Banking.csv')"
   ]
  },
  {
   "cell_type": "code",
   "execution_count": 3,
   "metadata": {},
   "outputs": [],
   "source": [
    "# Converting the date format 10-Mar-16 in the sheet to date format yyyy-mm-dd\n",
    "\n",
    "df['date']= pd.to_datetime(df.post_date).dt.date"
   ]
  },
  {
   "cell_type": "code",
   "execution_count": 4,
   "metadata": {},
   "outputs": [],
   "source": [
    "# extracting the year and month from the date format\n",
    "\n",
    "df['month_year'] = pd.to_datetime(df.date).dt.to_period('M')"
   ]
  },
  {
   "cell_type": "code",
   "execution_count": 5,
   "metadata": {},
   "outputs": [
    {
     "data": {
      "text/html": [
       "<div>\n",
       "<style scoped>\n",
       "    .dataframe tbody tr th:only-of-type {\n",
       "        vertical-align: middle;\n",
       "    }\n",
       "\n",
       "    .dataframe tbody tr th {\n",
       "        vertical-align: top;\n",
       "    }\n",
       "\n",
       "    .dataframe thead th {\n",
       "        text-align: right;\n",
       "    }\n",
       "</style>\n",
       "<table border=\"1\" class=\"dataframe\">\n",
       "  <thead>\n",
       "    <tr style=\"text-align: right;\">\n",
       "      <th></th>\n",
       "      <th>Lead ID</th>\n",
       "      <th>bankid</th>\n",
       "      <th>bank_account_id</th>\n",
       "      <th>account_number</th>\n",
       "      <th>Industry</th>\n",
       "      <th>post_date</th>\n",
       "      <th>description</th>\n",
       "      <th>transaction_type</th>\n",
       "      <th>amount</th>\n",
       "      <th>running_balance</th>\n",
       "      <th>trans_order</th>\n",
       "      <th>date</th>\n",
       "      <th>month_year</th>\n",
       "    </tr>\n",
       "  </thead>\n",
       "  <tbody>\n",
       "    <tr>\n",
       "      <td>0</td>\n",
       "      <td>308148</td>\n",
       "      <td>8535</td>\n",
       "      <td>12460</td>\n",
       "      <td>xxxx9928</td>\n",
       "      <td>Accommodation and Food Services</td>\n",
       "      <td>10-Mar-16</td>\n",
       "      <td>DEPOSIT ID NUMBER xx6836</td>\n",
       "      <td>credit</td>\n",
       "      <td>5000.0</td>\n",
       "      <td>5671.4</td>\n",
       "      <td>1</td>\n",
       "      <td>2016-03-10</td>\n",
       "      <td>2016-03</td>\n",
       "    </tr>\n",
       "  </tbody>\n",
       "</table>\n",
       "</div>"
      ],
      "text/plain": [
       "   Lead ID  bankid  bank_account_id account_number  \\\n",
       "0   308148    8535            12460       xxxx9928   \n",
       "\n",
       "                          Industry  post_date               description  \\\n",
       "0  Accommodation and Food Services  10-Mar-16  DEPOSIT ID NUMBER xx6836   \n",
       "\n",
       "  transaction_type  amount  running_balance  trans_order        date  \\\n",
       "0           credit  5000.0           5671.4            1  2016-03-10   \n",
       "\n",
       "  month_year  \n",
       "0    2016-03  "
      ]
     },
     "execution_count": 5,
     "metadata": {},
     "output_type": "execute_result"
    }
   ],
   "source": [
    "# check if the table is loaded correctly\n",
    "\n",
    "\n",
    "df.head(1)"
   ]
  },
  {
   "cell_type": "markdown",
   "metadata": {},
   "source": [
    "###### Basic Exploration of Data "
   ]
  },
  {
   "cell_type": "code",
   "execution_count": 6,
   "metadata": {},
   "outputs": [
    {
     "name": "stdout",
     "output_type": "stream",
     "text": [
      "Number of unique merchants in the dataset:  21\n",
      "Number of unique bankids in the dataset:  10\n",
      "Number of unique Industry in the dataset:  10\n",
      "Number of unique bank accounts in the dataset:  53\n"
     ]
    }
   ],
   "source": [
    "# Number of unique merchants in the dataset\n",
    "\n",
    "print('Number of unique merchants in the dataset: ' ,df['Lead ID'].nunique())\n",
    "\n",
    "# Number of unique bankids in the dataset\n",
    "\n",
    "print('Number of unique bankids in the dataset: ' ,df['bankid'].nunique())\n",
    "\n",
    "# Number of unique industry in the dataset\n",
    "\n",
    "print('Number of unique Industry in the dataset: ', df['Industry'].nunique())\n",
    "\n",
    "# Number of unique bank accounts in the dataset\n",
    "\n",
    "print('Number of unique bank accounts in the dataset: ', df['bank_account_id'].nunique())"
   ]
  },
  {
   "cell_type": "markdown",
   "metadata": {},
   "source": [
    "#### Exercise : \n",
    "\n",
    "<font size=\"2\"><b> 1. Count the number of merchants, bank accounts and tabulate: </b>\n",
    "</font>\n",
    "\n",
    "<b> (i) the number of bank accounts for each merchant</b>\n",
    "\n"
   ]
  },
  {
   "cell_type": "code",
   "execution_count": 7,
   "metadata": {},
   "outputs": [],
   "source": [
    "\n",
    "# group by lead id to count the number of unique bank accounts under each merchant\n",
    "df1 = pd.DataFrame(df.groupby('Lead ID')['bank_account_id'].nunique()).reset_index()\n"
   ]
  },
  {
   "cell_type": "markdown",
   "metadata": {},
   "source": [
    "###### [ans]  (i) The number of bank accounts for each merchant(Lead ID)"
   ]
  },
  {
   "cell_type": "code",
   "execution_count": 8,
   "metadata": {},
   "outputs": [
    {
     "data": {
      "text/html": [
       "<div>\n",
       "<style scoped>\n",
       "    .dataframe tbody tr th:only-of-type {\n",
       "        vertical-align: middle;\n",
       "    }\n",
       "\n",
       "    .dataframe tbody tr th {\n",
       "        vertical-align: top;\n",
       "    }\n",
       "\n",
       "    .dataframe thead th {\n",
       "        text-align: right;\n",
       "    }\n",
       "</style>\n",
       "<table border=\"1\" class=\"dataframe\">\n",
       "  <thead>\n",
       "    <tr style=\"text-align: right;\">\n",
       "      <th></th>\n",
       "      <th>Merchant</th>\n",
       "      <th>Number of Bank Accounts</th>\n",
       "    </tr>\n",
       "  </thead>\n",
       "  <tbody>\n",
       "    <tr>\n",
       "      <td>0</td>\n",
       "      <td>308148</td>\n",
       "      <td>1</td>\n",
       "    </tr>\n",
       "    <tr>\n",
       "      <td>1</td>\n",
       "      <td>310443</td>\n",
       "      <td>2</td>\n",
       "    </tr>\n",
       "    <tr>\n",
       "      <td>2</td>\n",
       "      <td>312745</td>\n",
       "      <td>5</td>\n",
       "    </tr>\n",
       "    <tr>\n",
       "      <td>3</td>\n",
       "      <td>313082</td>\n",
       "      <td>1</td>\n",
       "    </tr>\n",
       "    <tr>\n",
       "      <td>4</td>\n",
       "      <td>314036</td>\n",
       "      <td>1</td>\n",
       "    </tr>\n",
       "    <tr>\n",
       "      <td>5</td>\n",
       "      <td>314559</td>\n",
       "      <td>2</td>\n",
       "    </tr>\n",
       "    <tr>\n",
       "      <td>6</td>\n",
       "      <td>316728</td>\n",
       "      <td>6</td>\n",
       "    </tr>\n",
       "    <tr>\n",
       "      <td>7</td>\n",
       "      <td>318465</td>\n",
       "      <td>7</td>\n",
       "    </tr>\n",
       "    <tr>\n",
       "      <td>8</td>\n",
       "      <td>321146</td>\n",
       "      <td>2</td>\n",
       "    </tr>\n",
       "    <tr>\n",
       "      <td>9</td>\n",
       "      <td>321218</td>\n",
       "      <td>1</td>\n",
       "    </tr>\n",
       "    <tr>\n",
       "      <td>10</td>\n",
       "      <td>321356</td>\n",
       "      <td>5</td>\n",
       "    </tr>\n",
       "    <tr>\n",
       "      <td>11</td>\n",
       "      <td>321380</td>\n",
       "      <td>8</td>\n",
       "    </tr>\n",
       "    <tr>\n",
       "      <td>12</td>\n",
       "      <td>321671</td>\n",
       "      <td>1</td>\n",
       "    </tr>\n",
       "    <tr>\n",
       "      <td>13</td>\n",
       "      <td>323253</td>\n",
       "      <td>2</td>\n",
       "    </tr>\n",
       "    <tr>\n",
       "      <td>14</td>\n",
       "      <td>325142</td>\n",
       "      <td>1</td>\n",
       "    </tr>\n",
       "    <tr>\n",
       "      <td>15</td>\n",
       "      <td>325330</td>\n",
       "      <td>1</td>\n",
       "    </tr>\n",
       "    <tr>\n",
       "      <td>16</td>\n",
       "      <td>326050</td>\n",
       "      <td>1</td>\n",
       "    </tr>\n",
       "    <tr>\n",
       "      <td>17</td>\n",
       "      <td>326062</td>\n",
       "      <td>3</td>\n",
       "    </tr>\n",
       "    <tr>\n",
       "      <td>18</td>\n",
       "      <td>328212</td>\n",
       "      <td>1</td>\n",
       "    </tr>\n",
       "    <tr>\n",
       "      <td>19</td>\n",
       "      <td>329803</td>\n",
       "      <td>1</td>\n",
       "    </tr>\n",
       "    <tr>\n",
       "      <td>20</td>\n",
       "      <td>330698</td>\n",
       "      <td>1</td>\n",
       "    </tr>\n",
       "  </tbody>\n",
       "</table>\n",
       "</div>"
      ],
      "text/plain": [
       "    Merchant  Number of Bank Accounts\n",
       "0     308148                        1\n",
       "1     310443                        2\n",
       "2     312745                        5\n",
       "3     313082                        1\n",
       "4     314036                        1\n",
       "5     314559                        2\n",
       "6     316728                        6\n",
       "7     318465                        7\n",
       "8     321146                        2\n",
       "9     321218                        1\n",
       "10    321356                        5\n",
       "11    321380                        8\n",
       "12    321671                        1\n",
       "13    323253                        2\n",
       "14    325142                        1\n",
       "15    325330                        1\n",
       "16    326050                        1\n",
       "17    326062                        3\n",
       "18    328212                        1\n",
       "19    329803                        1\n",
       "20    330698                        1"
      ]
     },
     "execution_count": 8,
     "metadata": {},
     "output_type": "execute_result"
    }
   ],
   "source": [
    "# rename the columns\n",
    "\n",
    "df1.rename(columns= {'Lead ID':'Merchant','bank_account_id':'Number of Bank Accounts'})"
   ]
  },
  {
   "cell_type": "markdown",
   "metadata": {},
   "source": [
    "\n",
    "Question 1: \n",
    "\n",
    "###### (ii) the number of months of each bank account for which data is available\n",
    "\n"
   ]
  },
  {
   "cell_type": "code",
   "execution_count": 9,
   "metadata": {},
   "outputs": [],
   "source": [
    "# group by bank account id to count the number of months of transaction data available\n",
    "\n",
    "df_month = pd.DataFrame(df.groupby('bank_account_id')['month_year'].nunique()).reset_index()\n"
   ]
  },
  {
   "cell_type": "markdown",
   "metadata": {},
   "source": [
    "###### [ans] (ii) the number of months of each bank account for which data is available"
   ]
  },
  {
   "cell_type": "code",
   "execution_count": 10,
   "metadata": {},
   "outputs": [
    {
     "data": {
      "text/html": [
       "<div>\n",
       "<style scoped>\n",
       "    .dataframe tbody tr th:only-of-type {\n",
       "        vertical-align: middle;\n",
       "    }\n",
       "\n",
       "    .dataframe tbody tr th {\n",
       "        vertical-align: top;\n",
       "    }\n",
       "\n",
       "    .dataframe thead th {\n",
       "        text-align: right;\n",
       "    }\n",
       "</style>\n",
       "<table border=\"1\" class=\"dataframe\">\n",
       "  <thead>\n",
       "    <tr style=\"text-align: right;\">\n",
       "      <th></th>\n",
       "      <th>Bank Account</th>\n",
       "      <th>Number of Months</th>\n",
       "    </tr>\n",
       "  </thead>\n",
       "  <tbody>\n",
       "    <tr>\n",
       "      <td>13</td>\n",
       "      <td>13234</td>\n",
       "      <td>13</td>\n",
       "    </tr>\n",
       "    <tr>\n",
       "      <td>36</td>\n",
       "      <td>14629</td>\n",
       "      <td>13</td>\n",
       "    </tr>\n",
       "    <tr>\n",
       "      <td>46</td>\n",
       "      <td>14981</td>\n",
       "      <td>13</td>\n",
       "    </tr>\n",
       "    <tr>\n",
       "      <td>43</td>\n",
       "      <td>14636</td>\n",
       "      <td>13</td>\n",
       "    </tr>\n",
       "    <tr>\n",
       "      <td>11</td>\n",
       "      <td>13232</td>\n",
       "      <td>13</td>\n",
       "    </tr>\n",
       "    <tr>\n",
       "      <td>48</td>\n",
       "      <td>15142</td>\n",
       "      <td>13</td>\n",
       "    </tr>\n",
       "    <tr>\n",
       "      <td>44</td>\n",
       "      <td>14637</td>\n",
       "      <td>13</td>\n",
       "    </tr>\n",
       "    <tr>\n",
       "      <td>45</td>\n",
       "      <td>14779</td>\n",
       "      <td>13</td>\n",
       "    </tr>\n",
       "    <tr>\n",
       "      <td>7</td>\n",
       "      <td>12839</td>\n",
       "      <td>13</td>\n",
       "    </tr>\n",
       "    <tr>\n",
       "      <td>35</td>\n",
       "      <td>14374</td>\n",
       "      <td>13</td>\n",
       "    </tr>\n",
       "    <tr>\n",
       "      <td>49</td>\n",
       "      <td>15144</td>\n",
       "      <td>13</td>\n",
       "    </tr>\n",
       "    <tr>\n",
       "      <td>50</td>\n",
       "      <td>15146</td>\n",
       "      <td>13</td>\n",
       "    </tr>\n",
       "    <tr>\n",
       "      <td>34</td>\n",
       "      <td>14339</td>\n",
       "      <td>13</td>\n",
       "    </tr>\n",
       "    <tr>\n",
       "      <td>41</td>\n",
       "      <td>14634</td>\n",
       "      <td>12</td>\n",
       "    </tr>\n",
       "    <tr>\n",
       "      <td>42</td>\n",
       "      <td>14635</td>\n",
       "      <td>12</td>\n",
       "    </tr>\n",
       "    <tr>\n",
       "      <td>15</td>\n",
       "      <td>13271</td>\n",
       "      <td>12</td>\n",
       "    </tr>\n",
       "    <tr>\n",
       "      <td>2</td>\n",
       "      <td>12655</td>\n",
       "      <td>12</td>\n",
       "    </tr>\n",
       "    <tr>\n",
       "      <td>9</td>\n",
       "      <td>13228</td>\n",
       "      <td>12</td>\n",
       "    </tr>\n",
       "    <tr>\n",
       "      <td>52</td>\n",
       "      <td>15148</td>\n",
       "      <td>11</td>\n",
       "    </tr>\n",
       "    <tr>\n",
       "      <td>14</td>\n",
       "      <td>13235</td>\n",
       "      <td>11</td>\n",
       "    </tr>\n",
       "    <tr>\n",
       "      <td>29</td>\n",
       "      <td>14044</td>\n",
       "      <td>11</td>\n",
       "    </tr>\n",
       "    <tr>\n",
       "      <td>47</td>\n",
       "      <td>15002</td>\n",
       "      <td>11</td>\n",
       "    </tr>\n",
       "    <tr>\n",
       "      <td>8</td>\n",
       "      <td>13226</td>\n",
       "      <td>11</td>\n",
       "    </tr>\n",
       "    <tr>\n",
       "      <td>6</td>\n",
       "      <td>12838</td>\n",
       "      <td>11</td>\n",
       "    </tr>\n",
       "    <tr>\n",
       "      <td>51</td>\n",
       "      <td>15147</td>\n",
       "      <td>11</td>\n",
       "    </tr>\n",
       "    <tr>\n",
       "      <td>25</td>\n",
       "      <td>13877</td>\n",
       "      <td>11</td>\n",
       "    </tr>\n",
       "    <tr>\n",
       "      <td>0</td>\n",
       "      <td>12460</td>\n",
       "      <td>10</td>\n",
       "    </tr>\n",
       "    <tr>\n",
       "      <td>12</td>\n",
       "      <td>13233</td>\n",
       "      <td>10</td>\n",
       "    </tr>\n",
       "    <tr>\n",
       "      <td>27</td>\n",
       "      <td>13970</td>\n",
       "      <td>9</td>\n",
       "    </tr>\n",
       "    <tr>\n",
       "      <td>18</td>\n",
       "      <td>13419</td>\n",
       "      <td>9</td>\n",
       "    </tr>\n",
       "    <tr>\n",
       "      <td>23</td>\n",
       "      <td>13424</td>\n",
       "      <td>9</td>\n",
       "    </tr>\n",
       "    <tr>\n",
       "      <td>24</td>\n",
       "      <td>13425</td>\n",
       "      <td>8</td>\n",
       "    </tr>\n",
       "    <tr>\n",
       "      <td>16</td>\n",
       "      <td>13272</td>\n",
       "      <td>8</td>\n",
       "    </tr>\n",
       "    <tr>\n",
       "      <td>22</td>\n",
       "      <td>13423</td>\n",
       "      <td>8</td>\n",
       "    </tr>\n",
       "    <tr>\n",
       "      <td>26</td>\n",
       "      <td>13879</td>\n",
       "      <td>8</td>\n",
       "    </tr>\n",
       "    <tr>\n",
       "      <td>33</td>\n",
       "      <td>14206</td>\n",
       "      <td>8</td>\n",
       "    </tr>\n",
       "    <tr>\n",
       "      <td>32</td>\n",
       "      <td>14049</td>\n",
       "      <td>8</td>\n",
       "    </tr>\n",
       "    <tr>\n",
       "      <td>31</td>\n",
       "      <td>14046</td>\n",
       "      <td>8</td>\n",
       "    </tr>\n",
       "    <tr>\n",
       "      <td>21</td>\n",
       "      <td>13422</td>\n",
       "      <td>7</td>\n",
       "    </tr>\n",
       "    <tr>\n",
       "      <td>17</td>\n",
       "      <td>13273</td>\n",
       "      <td>7</td>\n",
       "    </tr>\n",
       "    <tr>\n",
       "      <td>1</td>\n",
       "      <td>12654</td>\n",
       "      <td>7</td>\n",
       "    </tr>\n",
       "    <tr>\n",
       "      <td>10</td>\n",
       "      <td>13230</td>\n",
       "      <td>7</td>\n",
       "    </tr>\n",
       "    <tr>\n",
       "      <td>4</td>\n",
       "      <td>12836</td>\n",
       "      <td>5</td>\n",
       "    </tr>\n",
       "    <tr>\n",
       "      <td>3</td>\n",
       "      <td>12835</td>\n",
       "      <td>5</td>\n",
       "    </tr>\n",
       "    <tr>\n",
       "      <td>28</td>\n",
       "      <td>13971</td>\n",
       "      <td>4</td>\n",
       "    </tr>\n",
       "    <tr>\n",
       "      <td>19</td>\n",
       "      <td>13420</td>\n",
       "      <td>3</td>\n",
       "    </tr>\n",
       "    <tr>\n",
       "      <td>38</td>\n",
       "      <td>14631</td>\n",
       "      <td>2</td>\n",
       "    </tr>\n",
       "    <tr>\n",
       "      <td>39</td>\n",
       "      <td>14632</td>\n",
       "      <td>2</td>\n",
       "    </tr>\n",
       "    <tr>\n",
       "      <td>20</td>\n",
       "      <td>13421</td>\n",
       "      <td>2</td>\n",
       "    </tr>\n",
       "    <tr>\n",
       "      <td>37</td>\n",
       "      <td>14630</td>\n",
       "      <td>2</td>\n",
       "    </tr>\n",
       "    <tr>\n",
       "      <td>30</td>\n",
       "      <td>14045</td>\n",
       "      <td>2</td>\n",
       "    </tr>\n",
       "    <tr>\n",
       "      <td>40</td>\n",
       "      <td>14633</td>\n",
       "      <td>2</td>\n",
       "    </tr>\n",
       "    <tr>\n",
       "      <td>5</td>\n",
       "      <td>12837</td>\n",
       "      <td>1</td>\n",
       "    </tr>\n",
       "  </tbody>\n",
       "</table>\n",
       "</div>"
      ],
      "text/plain": [
       "    Bank Account  Number of Months\n",
       "13         13234                13\n",
       "36         14629                13\n",
       "46         14981                13\n",
       "43         14636                13\n",
       "11         13232                13\n",
       "48         15142                13\n",
       "44         14637                13\n",
       "45         14779                13\n",
       "7          12839                13\n",
       "35         14374                13\n",
       "49         15144                13\n",
       "50         15146                13\n",
       "34         14339                13\n",
       "41         14634                12\n",
       "42         14635                12\n",
       "15         13271                12\n",
       "2          12655                12\n",
       "9          13228                12\n",
       "52         15148                11\n",
       "14         13235                11\n",
       "29         14044                11\n",
       "47         15002                11\n",
       "8          13226                11\n",
       "6          12838                11\n",
       "51         15147                11\n",
       "25         13877                11\n",
       "0          12460                10\n",
       "12         13233                10\n",
       "27         13970                 9\n",
       "18         13419                 9\n",
       "23         13424                 9\n",
       "24         13425                 8\n",
       "16         13272                 8\n",
       "22         13423                 8\n",
       "26         13879                 8\n",
       "33         14206                 8\n",
       "32         14049                 8\n",
       "31         14046                 8\n",
       "21         13422                 7\n",
       "17         13273                 7\n",
       "1          12654                 7\n",
       "10         13230                 7\n",
       "4          12836                 5\n",
       "3          12835                 5\n",
       "28         13971                 4\n",
       "19         13420                 3\n",
       "38         14631                 2\n",
       "39         14632                 2\n",
       "20         13421                 2\n",
       "37         14630                 2\n",
       "30         14045                 2\n",
       "40         14633                 2\n",
       "5          12837                 1"
      ]
     },
     "execution_count": 10,
     "metadata": {},
     "output_type": "execute_result"
    }
   ],
   "source": [
    "# rename the columns\n",
    "\n",
    "df_month.rename(columns= {'bank_account_id':'Bank Account','month_year':'Number of Months'}).\\\n",
    "            sort_values('Number of Months',ascending = False)"
   ]
  },
  {
   "cell_type": "markdown",
   "metadata": {},
   "source": [
    "Question 1: \n",
    "\n",
    "###### (iii) the total number of credits (deposits), debits (withdrawals) and their averages per month for each bank account and each merchant\n"
   ]
  },
  {
   "cell_type": "code",
   "execution_count": 145,
   "metadata": {},
   "outputs": [],
   "source": [
    "# using pivot table group based on bank account and merchant and count the number of credits and debits,and number of \n",
    "# unique months under credits and debits.\n",
    "\n",
    "df_transac= pd.pivot_table(df,index=['bank_account_id','Lead ID'],\\\n",
    "                           columns='transaction_type',values=['amount','month_year'],\\\n",
    "                           aggfunc=({'amount':'count','month_year':lambda x: x.nunique()})).reset_index()\n",
    "\n",
    "\n",
    "# renaming the columns to get rid of multi index\n",
    "df_transac.columns = ['bank_account_id','Lead ID','Number_of_Credits','Number_of_debits','Credit_months','Debit_months']"
   ]
  },
  {
   "cell_type": "code",
   "execution_count": 12,
   "metadata": {},
   "outputs": [],
   "source": [
    "# calculate the average # of credits per month and average # of debits per month\n",
    "\n",
    "df_transac['average_credits'] = (df_transac['Number_of_Credits'])/(df_transac['Credit_months'])\n",
    "\n",
    "\n",
    "df_transac['average_debits'] = (df_transac['Number_of_debits'])/(df_transac['Debit_months'])"
   ]
  },
  {
   "cell_type": "markdown",
   "metadata": {},
   "source": [
    "###### [ans] (iii) the total number of credits (deposits), debits (withdrawals) and their averages per month for each bank account and each merchant"
   ]
  },
  {
   "cell_type": "code",
   "execution_count": 13,
   "metadata": {},
   "outputs": [
    {
     "data": {
      "text/html": [
       "<div>\n",
       "<style scoped>\n",
       "    .dataframe tbody tr th:only-of-type {\n",
       "        vertical-align: middle;\n",
       "    }\n",
       "\n",
       "    .dataframe tbody tr th {\n",
       "        vertical-align: top;\n",
       "    }\n",
       "\n",
       "    .dataframe thead th {\n",
       "        text-align: right;\n",
       "    }\n",
       "</style>\n",
       "<table border=\"1\" class=\"dataframe\">\n",
       "  <thead>\n",
       "    <tr style=\"text-align: right;\">\n",
       "      <th></th>\n",
       "      <th>Bank Account</th>\n",
       "      <th>Merchant</th>\n",
       "      <th># of Credits</th>\n",
       "      <th># of Debits</th>\n",
       "      <th>Avg # of Credit per month</th>\n",
       "      <th>Avg # of Debit per month</th>\n",
       "    </tr>\n",
       "  </thead>\n",
       "  <tbody>\n",
       "    <tr>\n",
       "      <td>0</td>\n",
       "      <td>12460</td>\n",
       "      <td>308148</td>\n",
       "      <td>172.0</td>\n",
       "      <td>320.0</td>\n",
       "      <td>17.200000</td>\n",
       "      <td>32.000000</td>\n",
       "    </tr>\n",
       "    <tr>\n",
       "      <td>1</td>\n",
       "      <td>12654</td>\n",
       "      <td>310443</td>\n",
       "      <td>27.0</td>\n",
       "      <td>223.0</td>\n",
       "      <td>3.857143</td>\n",
       "      <td>31.857143</td>\n",
       "    </tr>\n",
       "    <tr>\n",
       "      <td>2</td>\n",
       "      <td>12655</td>\n",
       "      <td>310443</td>\n",
       "      <td>8.0</td>\n",
       "      <td>23.0</td>\n",
       "      <td>1.333333</td>\n",
       "      <td>2.090909</td>\n",
       "    </tr>\n",
       "    <tr>\n",
       "      <td>3</td>\n",
       "      <td>12835</td>\n",
       "      <td>312745</td>\n",
       "      <td>7.0</td>\n",
       "      <td>11.0</td>\n",
       "      <td>1.750000</td>\n",
       "      <td>2.750000</td>\n",
       "    </tr>\n",
       "    <tr>\n",
       "      <td>4</td>\n",
       "      <td>12836</td>\n",
       "      <td>312745</td>\n",
       "      <td>3.0</td>\n",
       "      <td>5.0</td>\n",
       "      <td>1.500000</td>\n",
       "      <td>1.250000</td>\n",
       "    </tr>\n",
       "    <tr>\n",
       "      <td>5</td>\n",
       "      <td>12837</td>\n",
       "      <td>312745</td>\n",
       "      <td>1.0</td>\n",
       "      <td>0.0</td>\n",
       "      <td>1.000000</td>\n",
       "      <td>0.000000</td>\n",
       "    </tr>\n",
       "    <tr>\n",
       "      <td>6</td>\n",
       "      <td>12838</td>\n",
       "      <td>312745</td>\n",
       "      <td>35.0</td>\n",
       "      <td>47.0</td>\n",
       "      <td>3.500000</td>\n",
       "      <td>4.272727</td>\n",
       "    </tr>\n",
       "    <tr>\n",
       "      <td>7</td>\n",
       "      <td>12839</td>\n",
       "      <td>312745</td>\n",
       "      <td>114.0</td>\n",
       "      <td>537.0</td>\n",
       "      <td>8.769231</td>\n",
       "      <td>41.307692</td>\n",
       "    </tr>\n",
       "    <tr>\n",
       "      <td>8</td>\n",
       "      <td>13226</td>\n",
       "      <td>314036</td>\n",
       "      <td>276.0</td>\n",
       "      <td>1985.0</td>\n",
       "      <td>25.090909</td>\n",
       "      <td>180.454545</td>\n",
       "    </tr>\n",
       "    <tr>\n",
       "      <td>9</td>\n",
       "      <td>13228</td>\n",
       "      <td>316728</td>\n",
       "      <td>21.0</td>\n",
       "      <td>458.0</td>\n",
       "      <td>1.750000</td>\n",
       "      <td>38.166667</td>\n",
       "    </tr>\n",
       "    <tr>\n",
       "      <td>10</td>\n",
       "      <td>13230</td>\n",
       "      <td>316728</td>\n",
       "      <td>85.0</td>\n",
       "      <td>2.0</td>\n",
       "      <td>12.142857</td>\n",
       "      <td>1.000000</td>\n",
       "    </tr>\n",
       "    <tr>\n",
       "      <td>11</td>\n",
       "      <td>13232</td>\n",
       "      <td>316728</td>\n",
       "      <td>110.0</td>\n",
       "      <td>1598.0</td>\n",
       "      <td>9.166667</td>\n",
       "      <td>122.923077</td>\n",
       "    </tr>\n",
       "    <tr>\n",
       "      <td>12</td>\n",
       "      <td>13233</td>\n",
       "      <td>313082</td>\n",
       "      <td>112.0</td>\n",
       "      <td>1026.0</td>\n",
       "      <td>11.200000</td>\n",
       "      <td>102.600000</td>\n",
       "    </tr>\n",
       "    <tr>\n",
       "      <td>13</td>\n",
       "      <td>13234</td>\n",
       "      <td>316728</td>\n",
       "      <td>35.0</td>\n",
       "      <td>160.0</td>\n",
       "      <td>2.916667</td>\n",
       "      <td>12.307692</td>\n",
       "    </tr>\n",
       "    <tr>\n",
       "      <td>14</td>\n",
       "      <td>13235</td>\n",
       "      <td>316728</td>\n",
       "      <td>17.0</td>\n",
       "      <td>3.0</td>\n",
       "      <td>1.545455</td>\n",
       "      <td>1.500000</td>\n",
       "    </tr>\n",
       "    <tr>\n",
       "      <td>15</td>\n",
       "      <td>13271</td>\n",
       "      <td>314559</td>\n",
       "      <td>135.0</td>\n",
       "      <td>280.0</td>\n",
       "      <td>11.250000</td>\n",
       "      <td>23.333333</td>\n",
       "    </tr>\n",
       "    <tr>\n",
       "      <td>16</td>\n",
       "      <td>13272</td>\n",
       "      <td>316728</td>\n",
       "      <td>30.0</td>\n",
       "      <td>93.0</td>\n",
       "      <td>5.000000</td>\n",
       "      <td>11.625000</td>\n",
       "    </tr>\n",
       "    <tr>\n",
       "      <td>17</td>\n",
       "      <td>13273</td>\n",
       "      <td>314559</td>\n",
       "      <td>8.0</td>\n",
       "      <td>4.0</td>\n",
       "      <td>1.333333</td>\n",
       "      <td>1.333333</td>\n",
       "    </tr>\n",
       "    <tr>\n",
       "      <td>18</td>\n",
       "      <td>13419</td>\n",
       "      <td>318465</td>\n",
       "      <td>178.0</td>\n",
       "      <td>1183.0</td>\n",
       "      <td>19.777778</td>\n",
       "      <td>131.444444</td>\n",
       "    </tr>\n",
       "    <tr>\n",
       "      <td>19</td>\n",
       "      <td>13420</td>\n",
       "      <td>318465</td>\n",
       "      <td>4.0</td>\n",
       "      <td>4.0</td>\n",
       "      <td>1.333333</td>\n",
       "      <td>1.333333</td>\n",
       "    </tr>\n",
       "    <tr>\n",
       "      <td>20</td>\n",
       "      <td>13421</td>\n",
       "      <td>318465</td>\n",
       "      <td>0.0</td>\n",
       "      <td>2.0</td>\n",
       "      <td>0.000000</td>\n",
       "      <td>1.000000</td>\n",
       "    </tr>\n",
       "    <tr>\n",
       "      <td>21</td>\n",
       "      <td>13422</td>\n",
       "      <td>318465</td>\n",
       "      <td>57.0</td>\n",
       "      <td>143.0</td>\n",
       "      <td>8.142857</td>\n",
       "      <td>20.428571</td>\n",
       "    </tr>\n",
       "    <tr>\n",
       "      <td>22</td>\n",
       "      <td>13423</td>\n",
       "      <td>318465</td>\n",
       "      <td>41.0</td>\n",
       "      <td>150.0</td>\n",
       "      <td>5.125000</td>\n",
       "      <td>18.750000</td>\n",
       "    </tr>\n",
       "    <tr>\n",
       "      <td>23</td>\n",
       "      <td>13424</td>\n",
       "      <td>318465</td>\n",
       "      <td>29.0</td>\n",
       "      <td>71.0</td>\n",
       "      <td>3.222222</td>\n",
       "      <td>7.888889</td>\n",
       "    </tr>\n",
       "    <tr>\n",
       "      <td>24</td>\n",
       "      <td>13425</td>\n",
       "      <td>318465</td>\n",
       "      <td>60.0</td>\n",
       "      <td>141.0</td>\n",
       "      <td>7.500000</td>\n",
       "      <td>17.625000</td>\n",
       "    </tr>\n",
       "    <tr>\n",
       "      <td>25</td>\n",
       "      <td>13877</td>\n",
       "      <td>323253</td>\n",
       "      <td>17.0</td>\n",
       "      <td>7.0</td>\n",
       "      <td>1.700000</td>\n",
       "      <td>1.166667</td>\n",
       "    </tr>\n",
       "    <tr>\n",
       "      <td>26</td>\n",
       "      <td>13879</td>\n",
       "      <td>323253</td>\n",
       "      <td>291.0</td>\n",
       "      <td>418.0</td>\n",
       "      <td>36.375000</td>\n",
       "      <td>52.250000</td>\n",
       "    </tr>\n",
       "    <tr>\n",
       "      <td>27</td>\n",
       "      <td>13970</td>\n",
       "      <td>321146</td>\n",
       "      <td>66.0</td>\n",
       "      <td>355.0</td>\n",
       "      <td>7.333333</td>\n",
       "      <td>39.444444</td>\n",
       "    </tr>\n",
       "    <tr>\n",
       "      <td>28</td>\n",
       "      <td>13971</td>\n",
       "      <td>321146</td>\n",
       "      <td>55.0</td>\n",
       "      <td>99.0</td>\n",
       "      <td>13.750000</td>\n",
       "      <td>24.750000</td>\n",
       "    </tr>\n",
       "    <tr>\n",
       "      <td>29</td>\n",
       "      <td>14044</td>\n",
       "      <td>326062</td>\n",
       "      <td>421.0</td>\n",
       "      <td>604.0</td>\n",
       "      <td>42.100000</td>\n",
       "      <td>54.909091</td>\n",
       "    </tr>\n",
       "    <tr>\n",
       "      <td>30</td>\n",
       "      <td>14045</td>\n",
       "      <td>326062</td>\n",
       "      <td>0.0</td>\n",
       "      <td>2.0</td>\n",
       "      <td>0.000000</td>\n",
       "      <td>1.000000</td>\n",
       "    </tr>\n",
       "    <tr>\n",
       "      <td>31</td>\n",
       "      <td>14046</td>\n",
       "      <td>326062</td>\n",
       "      <td>431.0</td>\n",
       "      <td>837.0</td>\n",
       "      <td>53.875000</td>\n",
       "      <td>104.625000</td>\n",
       "    </tr>\n",
       "    <tr>\n",
       "      <td>32</td>\n",
       "      <td>14049</td>\n",
       "      <td>325142</td>\n",
       "      <td>115.0</td>\n",
       "      <td>876.0</td>\n",
       "      <td>14.375000</td>\n",
       "      <td>109.500000</td>\n",
       "    </tr>\n",
       "    <tr>\n",
       "      <td>33</td>\n",
       "      <td>14206</td>\n",
       "      <td>326050</td>\n",
       "      <td>190.0</td>\n",
       "      <td>459.0</td>\n",
       "      <td>23.750000</td>\n",
       "      <td>57.375000</td>\n",
       "    </tr>\n",
       "    <tr>\n",
       "      <td>34</td>\n",
       "      <td>14339</td>\n",
       "      <td>329803</td>\n",
       "      <td>116.0</td>\n",
       "      <td>655.0</td>\n",
       "      <td>9.666667</td>\n",
       "      <td>50.384615</td>\n",
       "    </tr>\n",
       "    <tr>\n",
       "      <td>35</td>\n",
       "      <td>14374</td>\n",
       "      <td>330698</td>\n",
       "      <td>346.0</td>\n",
       "      <td>906.0</td>\n",
       "      <td>26.615385</td>\n",
       "      <td>69.692308</td>\n",
       "    </tr>\n",
       "    <tr>\n",
       "      <td>36</td>\n",
       "      <td>14629</td>\n",
       "      <td>321671</td>\n",
       "      <td>642.0</td>\n",
       "      <td>1788.0</td>\n",
       "      <td>49.384615</td>\n",
       "      <td>137.538462</td>\n",
       "    </tr>\n",
       "    <tr>\n",
       "      <td>37</td>\n",
       "      <td>14630</td>\n",
       "      <td>321380</td>\n",
       "      <td>113.0</td>\n",
       "      <td>29.0</td>\n",
       "      <td>56.500000</td>\n",
       "      <td>14.500000</td>\n",
       "    </tr>\n",
       "    <tr>\n",
       "      <td>38</td>\n",
       "      <td>14631</td>\n",
       "      <td>321380</td>\n",
       "      <td>113.0</td>\n",
       "      <td>15.0</td>\n",
       "      <td>56.500000</td>\n",
       "      <td>7.500000</td>\n",
       "    </tr>\n",
       "    <tr>\n",
       "      <td>39</td>\n",
       "      <td>14632</td>\n",
       "      <td>321380</td>\n",
       "      <td>125.0</td>\n",
       "      <td>13.0</td>\n",
       "      <td>62.500000</td>\n",
       "      <td>6.500000</td>\n",
       "    </tr>\n",
       "    <tr>\n",
       "      <td>40</td>\n",
       "      <td>14633</td>\n",
       "      <td>321380</td>\n",
       "      <td>152.0</td>\n",
       "      <td>29.0</td>\n",
       "      <td>76.000000</td>\n",
       "      <td>14.500000</td>\n",
       "    </tr>\n",
       "    <tr>\n",
       "      <td>41</td>\n",
       "      <td>14634</td>\n",
       "      <td>321380</td>\n",
       "      <td>43.0</td>\n",
       "      <td>54.0</td>\n",
       "      <td>3.583333</td>\n",
       "      <td>4.500000</td>\n",
       "    </tr>\n",
       "    <tr>\n",
       "      <td>42</td>\n",
       "      <td>14635</td>\n",
       "      <td>321380</td>\n",
       "      <td>43.0</td>\n",
       "      <td>52.0</td>\n",
       "      <td>3.583333</td>\n",
       "      <td>4.333333</td>\n",
       "    </tr>\n",
       "    <tr>\n",
       "      <td>43</td>\n",
       "      <td>14636</td>\n",
       "      <td>321380</td>\n",
       "      <td>2303.0</td>\n",
       "      <td>233.0</td>\n",
       "      <td>177.153846</td>\n",
       "      <td>17.923077</td>\n",
       "    </tr>\n",
       "    <tr>\n",
       "      <td>44</td>\n",
       "      <td>14637</td>\n",
       "      <td>321380</td>\n",
       "      <td>2047.0</td>\n",
       "      <td>348.0</td>\n",
       "      <td>157.461538</td>\n",
       "      <td>26.769231</td>\n",
       "    </tr>\n",
       "    <tr>\n",
       "      <td>45</td>\n",
       "      <td>14779</td>\n",
       "      <td>321218</td>\n",
       "      <td>57.0</td>\n",
       "      <td>849.0</td>\n",
       "      <td>5.181818</td>\n",
       "      <td>65.307692</td>\n",
       "    </tr>\n",
       "    <tr>\n",
       "      <td>46</td>\n",
       "      <td>14981</td>\n",
       "      <td>328212</td>\n",
       "      <td>282.0</td>\n",
       "      <td>345.0</td>\n",
       "      <td>21.692308</td>\n",
       "      <td>26.538462</td>\n",
       "    </tr>\n",
       "    <tr>\n",
       "      <td>47</td>\n",
       "      <td>15002</td>\n",
       "      <td>325330</td>\n",
       "      <td>312.0</td>\n",
       "      <td>257.0</td>\n",
       "      <td>28.363636</td>\n",
       "      <td>23.363636</td>\n",
       "    </tr>\n",
       "    <tr>\n",
       "      <td>48</td>\n",
       "      <td>15142</td>\n",
       "      <td>321356</td>\n",
       "      <td>154.0</td>\n",
       "      <td>250.0</td>\n",
       "      <td>11.846154</td>\n",
       "      <td>20.833333</td>\n",
       "    </tr>\n",
       "    <tr>\n",
       "      <td>49</td>\n",
       "      <td>15144</td>\n",
       "      <td>321356</td>\n",
       "      <td>114.0</td>\n",
       "      <td>121.0</td>\n",
       "      <td>8.769231</td>\n",
       "      <td>9.307692</td>\n",
       "    </tr>\n",
       "    <tr>\n",
       "      <td>50</td>\n",
       "      <td>15146</td>\n",
       "      <td>321356</td>\n",
       "      <td>389.0</td>\n",
       "      <td>395.0</td>\n",
       "      <td>32.416667</td>\n",
       "      <td>30.384615</td>\n",
       "    </tr>\n",
       "    <tr>\n",
       "      <td>51</td>\n",
       "      <td>15147</td>\n",
       "      <td>321356</td>\n",
       "      <td>21.0</td>\n",
       "      <td>12.0</td>\n",
       "      <td>1.909091</td>\n",
       "      <td>2.000000</td>\n",
       "    </tr>\n",
       "    <tr>\n",
       "      <td>52</td>\n",
       "      <td>15148</td>\n",
       "      <td>321356</td>\n",
       "      <td>19.0</td>\n",
       "      <td>10.0</td>\n",
       "      <td>1.900000</td>\n",
       "      <td>1.666667</td>\n",
       "    </tr>\n",
       "  </tbody>\n",
       "</table>\n",
       "</div>"
      ],
      "text/plain": [
       "    Bank Account  Merchant  # of Credits  # of Debits  \\\n",
       "0          12460    308148         172.0        320.0   \n",
       "1          12654    310443          27.0        223.0   \n",
       "2          12655    310443           8.0         23.0   \n",
       "3          12835    312745           7.0         11.0   \n",
       "4          12836    312745           3.0          5.0   \n",
       "5          12837    312745           1.0          0.0   \n",
       "6          12838    312745          35.0         47.0   \n",
       "7          12839    312745         114.0        537.0   \n",
       "8          13226    314036         276.0       1985.0   \n",
       "9          13228    316728          21.0        458.0   \n",
       "10         13230    316728          85.0          2.0   \n",
       "11         13232    316728         110.0       1598.0   \n",
       "12         13233    313082         112.0       1026.0   \n",
       "13         13234    316728          35.0        160.0   \n",
       "14         13235    316728          17.0          3.0   \n",
       "15         13271    314559         135.0        280.0   \n",
       "16         13272    316728          30.0         93.0   \n",
       "17         13273    314559           8.0          4.0   \n",
       "18         13419    318465         178.0       1183.0   \n",
       "19         13420    318465           4.0          4.0   \n",
       "20         13421    318465           0.0          2.0   \n",
       "21         13422    318465          57.0        143.0   \n",
       "22         13423    318465          41.0        150.0   \n",
       "23         13424    318465          29.0         71.0   \n",
       "24         13425    318465          60.0        141.0   \n",
       "25         13877    323253          17.0          7.0   \n",
       "26         13879    323253         291.0        418.0   \n",
       "27         13970    321146          66.0        355.0   \n",
       "28         13971    321146          55.0         99.0   \n",
       "29         14044    326062         421.0        604.0   \n",
       "30         14045    326062           0.0          2.0   \n",
       "31         14046    326062         431.0        837.0   \n",
       "32         14049    325142         115.0        876.0   \n",
       "33         14206    326050         190.0        459.0   \n",
       "34         14339    329803         116.0        655.0   \n",
       "35         14374    330698         346.0        906.0   \n",
       "36         14629    321671         642.0       1788.0   \n",
       "37         14630    321380         113.0         29.0   \n",
       "38         14631    321380         113.0         15.0   \n",
       "39         14632    321380         125.0         13.0   \n",
       "40         14633    321380         152.0         29.0   \n",
       "41         14634    321380          43.0         54.0   \n",
       "42         14635    321380          43.0         52.0   \n",
       "43         14636    321380        2303.0        233.0   \n",
       "44         14637    321380        2047.0        348.0   \n",
       "45         14779    321218          57.0        849.0   \n",
       "46         14981    328212         282.0        345.0   \n",
       "47         15002    325330         312.0        257.0   \n",
       "48         15142    321356         154.0        250.0   \n",
       "49         15144    321356         114.0        121.0   \n",
       "50         15146    321356         389.0        395.0   \n",
       "51         15147    321356          21.0         12.0   \n",
       "52         15148    321356          19.0         10.0   \n",
       "\n",
       "    Avg # of Credit per month  Avg # of Debit per month  \n",
       "0                   17.200000                 32.000000  \n",
       "1                    3.857143                 31.857143  \n",
       "2                    1.333333                  2.090909  \n",
       "3                    1.750000                  2.750000  \n",
       "4                    1.500000                  1.250000  \n",
       "5                    1.000000                  0.000000  \n",
       "6                    3.500000                  4.272727  \n",
       "7                    8.769231                 41.307692  \n",
       "8                   25.090909                180.454545  \n",
       "9                    1.750000                 38.166667  \n",
       "10                  12.142857                  1.000000  \n",
       "11                   9.166667                122.923077  \n",
       "12                  11.200000                102.600000  \n",
       "13                   2.916667                 12.307692  \n",
       "14                   1.545455                  1.500000  \n",
       "15                  11.250000                 23.333333  \n",
       "16                   5.000000                 11.625000  \n",
       "17                   1.333333                  1.333333  \n",
       "18                  19.777778                131.444444  \n",
       "19                   1.333333                  1.333333  \n",
       "20                   0.000000                  1.000000  \n",
       "21                   8.142857                 20.428571  \n",
       "22                   5.125000                 18.750000  \n",
       "23                   3.222222                  7.888889  \n",
       "24                   7.500000                 17.625000  \n",
       "25                   1.700000                  1.166667  \n",
       "26                  36.375000                 52.250000  \n",
       "27                   7.333333                 39.444444  \n",
       "28                  13.750000                 24.750000  \n",
       "29                  42.100000                 54.909091  \n",
       "30                   0.000000                  1.000000  \n",
       "31                  53.875000                104.625000  \n",
       "32                  14.375000                109.500000  \n",
       "33                  23.750000                 57.375000  \n",
       "34                   9.666667                 50.384615  \n",
       "35                  26.615385                 69.692308  \n",
       "36                  49.384615                137.538462  \n",
       "37                  56.500000                 14.500000  \n",
       "38                  56.500000                  7.500000  \n",
       "39                  62.500000                  6.500000  \n",
       "40                  76.000000                 14.500000  \n",
       "41                   3.583333                  4.500000  \n",
       "42                   3.583333                  4.333333  \n",
       "43                 177.153846                 17.923077  \n",
       "44                 157.461538                 26.769231  \n",
       "45                   5.181818                 65.307692  \n",
       "46                  21.692308                 26.538462  \n",
       "47                  28.363636                 23.363636  \n",
       "48                  11.846154                 20.833333  \n",
       "49                   8.769231                  9.307692  \n",
       "50                  32.416667                 30.384615  \n",
       "51                   1.909091                  2.000000  \n",
       "52                   1.900000                  1.666667  "
      ]
     },
     "execution_count": 13,
     "metadata": {},
     "output_type": "execute_result"
    }
   ],
   "source": [
    "# display the number of credits, # of debits and average # of credits per month and average # of debits per month.\n",
    " # fill na to replace blank values with 0.\n",
    "\n",
    "df_transac[['bank_account_id','Lead ID','Number_of_Credits','Number_of_debits','average_credits','average_debits']]\\\n",
    ".fillna(0).\\\n",
    "rename(columns = {'bank_account_id':'Bank Account','Lead ID': 'Merchant',\\\n",
    "                  'Number_of_Credits':'# of Credits','Number_of_debits':'# of Debits',\\\n",
    "                  'average_credits':'Avg # of Credit per month','average_debits':'Avg # of Debit per month'}).\\\n",
    "sort_values(['Bank Account','Merchant'],ascending=True)"
   ]
  },
  {
   "cell_type": "markdown",
   "metadata": {},
   "source": [
    "Question 1: \n",
    "\n",
    "###### (iv) the total dollar value of credits, debits and their averages per month for each bank account and each merchant"
   ]
  },
  {
   "cell_type": "code",
   "execution_count": 14,
   "metadata": {},
   "outputs": [],
   "source": [
    "# group by bank account and Lead ID to sum the dolar amounts of credits and debits, \n",
    "# count the number of months to find average\n",
    "\n",
    "df_amount = pd.pivot_table(df,index=['bank_account_id','Lead ID',],columns='transaction_type',\\\n",
    "                                   values=['amount','month_year']\\\n",
    "                                       ,aggfunc=({'amount':'sum','month_year':lambda x: x.nunique()})).reset_index()"
   ]
  },
  {
   "cell_type": "code",
   "execution_count": 15,
   "metadata": {},
   "outputs": [],
   "source": [
    "# renaming the columns to get rid of multiindex names\n",
    "\n",
    "df_amount.columns = ['bank_account_id','Lead ID','Credit_amount','Debit_amount','Credit_months','Debit_months']"
   ]
  },
  {
   "cell_type": "code",
   "execution_count": 16,
   "metadata": {},
   "outputs": [],
   "source": [
    "# calculate the average credit amount per month and average debit amount per month\n",
    "\n",
    "df_amount['Avg_creditpermonth'] = (df_amount['Credit_amount']/df_amount['Credit_months'])\n",
    "\n",
    "df_amount['Avg_debitpermonth'] = (df_amount['Debit_amount']/df_amount['Debit_months'])"
   ]
  },
  {
   "cell_type": "markdown",
   "metadata": {},
   "source": [
    "###### [ans] (iv) the total dollar value of credits, debits and their averages per month for each bank account and each merchant"
   ]
  },
  {
   "cell_type": "code",
   "execution_count": 17,
   "metadata": {},
   "outputs": [
    {
     "data": {
      "text/html": [
       "<div>\n",
       "<style scoped>\n",
       "    .dataframe tbody tr th:only-of-type {\n",
       "        vertical-align: middle;\n",
       "    }\n",
       "\n",
       "    .dataframe tbody tr th {\n",
       "        vertical-align: top;\n",
       "    }\n",
       "\n",
       "    .dataframe thead th {\n",
       "        text-align: right;\n",
       "    }\n",
       "</style>\n",
       "<table border=\"1\" class=\"dataframe\">\n",
       "  <thead>\n",
       "    <tr style=\"text-align: right;\">\n",
       "      <th></th>\n",
       "      <th>Bank Account</th>\n",
       "      <th>Merchant</th>\n",
       "      <th>Total Credit amount</th>\n",
       "      <th>Total Debit amount</th>\n",
       "      <th>Avg Credit per month</th>\n",
       "      <th>Avg Debit per month</th>\n",
       "    </tr>\n",
       "  </thead>\n",
       "  <tbody>\n",
       "    <tr>\n",
       "      <td>0</td>\n",
       "      <td>12460</td>\n",
       "      <td>308148</td>\n",
       "      <td>66611.03</td>\n",
       "      <td>61799.63</td>\n",
       "      <td>6661.103000</td>\n",
       "      <td>6179.963000</td>\n",
       "    </tr>\n",
       "    <tr>\n",
       "      <td>1</td>\n",
       "      <td>12654</td>\n",
       "      <td>310443</td>\n",
       "      <td>308732.78</td>\n",
       "      <td>328895.38</td>\n",
       "      <td>44104.682857</td>\n",
       "      <td>46985.054286</td>\n",
       "    </tr>\n",
       "    <tr>\n",
       "      <td>2</td>\n",
       "      <td>12655</td>\n",
       "      <td>310443</td>\n",
       "      <td>16400.44</td>\n",
       "      <td>17766.66</td>\n",
       "      <td>2733.406667</td>\n",
       "      <td>1615.150909</td>\n",
       "    </tr>\n",
       "    <tr>\n",
       "      <td>3</td>\n",
       "      <td>12835</td>\n",
       "      <td>312745</td>\n",
       "      <td>16054.00</td>\n",
       "      <td>16054.00</td>\n",
       "      <td>4013.500000</td>\n",
       "      <td>4013.500000</td>\n",
       "    </tr>\n",
       "    <tr>\n",
       "      <td>4</td>\n",
       "      <td>12836</td>\n",
       "      <td>312745</td>\n",
       "      <td>19055.79</td>\n",
       "      <td>19035.00</td>\n",
       "      <td>9527.895000</td>\n",
       "      <td>4758.750000</td>\n",
       "    </tr>\n",
       "    <tr>\n",
       "      <td>5</td>\n",
       "      <td>12837</td>\n",
       "      <td>312745</td>\n",
       "      <td>25.00</td>\n",
       "      <td>0.00</td>\n",
       "      <td>25.000000</td>\n",
       "      <td>0.000000</td>\n",
       "    </tr>\n",
       "    <tr>\n",
       "      <td>6</td>\n",
       "      <td>12838</td>\n",
       "      <td>312745</td>\n",
       "      <td>29957.00</td>\n",
       "      <td>29895.62</td>\n",
       "      <td>2995.700000</td>\n",
       "      <td>2717.783636</td>\n",
       "    </tr>\n",
       "    <tr>\n",
       "      <td>7</td>\n",
       "      <td>12839</td>\n",
       "      <td>312745</td>\n",
       "      <td>654346.10</td>\n",
       "      <td>648265.91</td>\n",
       "      <td>50334.315385</td>\n",
       "      <td>49866.608462</td>\n",
       "    </tr>\n",
       "    <tr>\n",
       "      <td>8</td>\n",
       "      <td>13226</td>\n",
       "      <td>314036</td>\n",
       "      <td>445920.11</td>\n",
       "      <td>432974.81</td>\n",
       "      <td>40538.191818</td>\n",
       "      <td>39361.346364</td>\n",
       "    </tr>\n",
       "    <tr>\n",
       "      <td>9</td>\n",
       "      <td>13228</td>\n",
       "      <td>316728</td>\n",
       "      <td>86542.04</td>\n",
       "      <td>86505.90</td>\n",
       "      <td>7211.836667</td>\n",
       "      <td>7208.825000</td>\n",
       "    </tr>\n",
       "    <tr>\n",
       "      <td>10</td>\n",
       "      <td>13230</td>\n",
       "      <td>316728</td>\n",
       "      <td>196.00</td>\n",
       "      <td>180.00</td>\n",
       "      <td>28.000000</td>\n",
       "      <td>90.000000</td>\n",
       "    </tr>\n",
       "    <tr>\n",
       "      <td>11</td>\n",
       "      <td>13232</td>\n",
       "      <td>316728</td>\n",
       "      <td>1817750.53</td>\n",
       "      <td>1770673.70</td>\n",
       "      <td>151479.210833</td>\n",
       "      <td>136205.669231</td>\n",
       "    </tr>\n",
       "    <tr>\n",
       "      <td>12</td>\n",
       "      <td>13233</td>\n",
       "      <td>313082</td>\n",
       "      <td>547025.33</td>\n",
       "      <td>558877.28</td>\n",
       "      <td>54702.533000</td>\n",
       "      <td>55887.728000</td>\n",
       "    </tr>\n",
       "    <tr>\n",
       "      <td>13</td>\n",
       "      <td>13234</td>\n",
       "      <td>316728</td>\n",
       "      <td>423519.17</td>\n",
       "      <td>429746.20</td>\n",
       "      <td>35293.264167</td>\n",
       "      <td>33057.400000</td>\n",
       "    </tr>\n",
       "    <tr>\n",
       "      <td>14</td>\n",
       "      <td>13235</td>\n",
       "      <td>316728</td>\n",
       "      <td>3175.07</td>\n",
       "      <td>3175.00</td>\n",
       "      <td>288.642727</td>\n",
       "      <td>1587.500000</td>\n",
       "    </tr>\n",
       "    <tr>\n",
       "      <td>15</td>\n",
       "      <td>13271</td>\n",
       "      <td>314559</td>\n",
       "      <td>521917.86</td>\n",
       "      <td>513734.25</td>\n",
       "      <td>43493.155000</td>\n",
       "      <td>42811.187500</td>\n",
       "    </tr>\n",
       "    <tr>\n",
       "      <td>16</td>\n",
       "      <td>13272</td>\n",
       "      <td>316728</td>\n",
       "      <td>131836.82</td>\n",
       "      <td>125562.74</td>\n",
       "      <td>21972.803333</td>\n",
       "      <td>15695.342500</td>\n",
       "    </tr>\n",
       "    <tr>\n",
       "      <td>17</td>\n",
       "      <td>13273</td>\n",
       "      <td>314559</td>\n",
       "      <td>5700.06</td>\n",
       "      <td>6080.00</td>\n",
       "      <td>950.010000</td>\n",
       "      <td>2026.666667</td>\n",
       "    </tr>\n",
       "    <tr>\n",
       "      <td>18</td>\n",
       "      <td>13419</td>\n",
       "      <td>318465</td>\n",
       "      <td>107347.03</td>\n",
       "      <td>105197.74</td>\n",
       "      <td>11927.447778</td>\n",
       "      <td>11688.637778</td>\n",
       "    </tr>\n",
       "    <tr>\n",
       "      <td>19</td>\n",
       "      <td>13420</td>\n",
       "      <td>318465</td>\n",
       "      <td>50.04</td>\n",
       "      <td>55.04</td>\n",
       "      <td>16.680000</td>\n",
       "      <td>18.346667</td>\n",
       "    </tr>\n",
       "    <tr>\n",
       "      <td>20</td>\n",
       "      <td>13421</td>\n",
       "      <td>318465</td>\n",
       "      <td>0.00</td>\n",
       "      <td>5.01</td>\n",
       "      <td>0.000000</td>\n",
       "      <td>2.505000</td>\n",
       "    </tr>\n",
       "    <tr>\n",
       "      <td>21</td>\n",
       "      <td>13422</td>\n",
       "      <td>318465</td>\n",
       "      <td>60805.75</td>\n",
       "      <td>60509.82</td>\n",
       "      <td>8686.535714</td>\n",
       "      <td>8644.260000</td>\n",
       "    </tr>\n",
       "    <tr>\n",
       "      <td>22</td>\n",
       "      <td>13423</td>\n",
       "      <td>318465</td>\n",
       "      <td>5550.50</td>\n",
       "      <td>5556.87</td>\n",
       "      <td>693.812500</td>\n",
       "      <td>694.608750</td>\n",
       "    </tr>\n",
       "    <tr>\n",
       "      <td>23</td>\n",
       "      <td>13424</td>\n",
       "      <td>318465</td>\n",
       "      <td>3995.66</td>\n",
       "      <td>3994.62</td>\n",
       "      <td>443.962222</td>\n",
       "      <td>443.846667</td>\n",
       "    </tr>\n",
       "    <tr>\n",
       "      <td>24</td>\n",
       "      <td>13425</td>\n",
       "      <td>318465</td>\n",
       "      <td>54099.57</td>\n",
       "      <td>54241.84</td>\n",
       "      <td>6762.446250</td>\n",
       "      <td>6780.230000</td>\n",
       "    </tr>\n",
       "    <tr>\n",
       "      <td>25</td>\n",
       "      <td>13877</td>\n",
       "      <td>323253</td>\n",
       "      <td>20358.38</td>\n",
       "      <td>20112.00</td>\n",
       "      <td>2035.838000</td>\n",
       "      <td>3352.000000</td>\n",
       "    </tr>\n",
       "    <tr>\n",
       "      <td>26</td>\n",
       "      <td>13879</td>\n",
       "      <td>323253</td>\n",
       "      <td>956058.64</td>\n",
       "      <td>970342.72</td>\n",
       "      <td>119507.330000</td>\n",
       "      <td>121292.840000</td>\n",
       "    </tr>\n",
       "    <tr>\n",
       "      <td>27</td>\n",
       "      <td>13970</td>\n",
       "      <td>321146</td>\n",
       "      <td>26041.20</td>\n",
       "      <td>25678.48</td>\n",
       "      <td>2893.466667</td>\n",
       "      <td>2853.164444</td>\n",
       "    </tr>\n",
       "    <tr>\n",
       "      <td>28</td>\n",
       "      <td>13971</td>\n",
       "      <td>321146</td>\n",
       "      <td>79891.26</td>\n",
       "      <td>74913.94</td>\n",
       "      <td>19972.815000</td>\n",
       "      <td>18728.485000</td>\n",
       "    </tr>\n",
       "    <tr>\n",
       "      <td>29</td>\n",
       "      <td>14044</td>\n",
       "      <td>326062</td>\n",
       "      <td>382062.52</td>\n",
       "      <td>390476.77</td>\n",
       "      <td>38206.252000</td>\n",
       "      <td>35497.888182</td>\n",
       "    </tr>\n",
       "    <tr>\n",
       "      <td>30</td>\n",
       "      <td>14045</td>\n",
       "      <td>326062</td>\n",
       "      <td>0.00</td>\n",
       "      <td>50.54</td>\n",
       "      <td>0.000000</td>\n",
       "      <td>25.270000</td>\n",
       "    </tr>\n",
       "    <tr>\n",
       "      <td>31</td>\n",
       "      <td>14046</td>\n",
       "      <td>326062</td>\n",
       "      <td>459574.19</td>\n",
       "      <td>456550.52</td>\n",
       "      <td>57446.773750</td>\n",
       "      <td>57068.815000</td>\n",
       "    </tr>\n",
       "    <tr>\n",
       "      <td>32</td>\n",
       "      <td>14049</td>\n",
       "      <td>325142</td>\n",
       "      <td>472617.59</td>\n",
       "      <td>463603.42</td>\n",
       "      <td>59077.198750</td>\n",
       "      <td>57950.427500</td>\n",
       "    </tr>\n",
       "    <tr>\n",
       "      <td>33</td>\n",
       "      <td>14206</td>\n",
       "      <td>326050</td>\n",
       "      <td>288065.74</td>\n",
       "      <td>271315.57</td>\n",
       "      <td>36008.217500</td>\n",
       "      <td>33914.446250</td>\n",
       "    </tr>\n",
       "    <tr>\n",
       "      <td>34</td>\n",
       "      <td>14339</td>\n",
       "      <td>329803</td>\n",
       "      <td>219079.29</td>\n",
       "      <td>212387.64</td>\n",
       "      <td>18256.607500</td>\n",
       "      <td>16337.510769</td>\n",
       "    </tr>\n",
       "    <tr>\n",
       "      <td>35</td>\n",
       "      <td>14374</td>\n",
       "      <td>330698</td>\n",
       "      <td>10940564.93</td>\n",
       "      <td>10929049.32</td>\n",
       "      <td>841581.917692</td>\n",
       "      <td>840696.101538</td>\n",
       "    </tr>\n",
       "    <tr>\n",
       "      <td>36</td>\n",
       "      <td>14629</td>\n",
       "      <td>321671</td>\n",
       "      <td>312136.74</td>\n",
       "      <td>307190.47</td>\n",
       "      <td>24010.518462</td>\n",
       "      <td>23630.036154</td>\n",
       "    </tr>\n",
       "    <tr>\n",
       "      <td>37</td>\n",
       "      <td>14630</td>\n",
       "      <td>321380</td>\n",
       "      <td>30200.00</td>\n",
       "      <td>30165.60</td>\n",
       "      <td>15100.000000</td>\n",
       "      <td>15082.800000</td>\n",
       "    </tr>\n",
       "    <tr>\n",
       "      <td>38</td>\n",
       "      <td>14631</td>\n",
       "      <td>321380</td>\n",
       "      <td>1122.50</td>\n",
       "      <td>1161.00</td>\n",
       "      <td>561.250000</td>\n",
       "      <td>580.500000</td>\n",
       "    </tr>\n",
       "    <tr>\n",
       "      <td>39</td>\n",
       "      <td>14632</td>\n",
       "      <td>321380</td>\n",
       "      <td>156553.00</td>\n",
       "      <td>107945.30</td>\n",
       "      <td>78276.500000</td>\n",
       "      <td>53972.650000</td>\n",
       "    </tr>\n",
       "    <tr>\n",
       "      <td>40</td>\n",
       "      <td>14633</td>\n",
       "      <td>321380</td>\n",
       "      <td>21808.25</td>\n",
       "      <td>22353.30</td>\n",
       "      <td>10904.125000</td>\n",
       "      <td>11176.650000</td>\n",
       "    </tr>\n",
       "    <tr>\n",
       "      <td>41</td>\n",
       "      <td>14634</td>\n",
       "      <td>321380</td>\n",
       "      <td>25483.00</td>\n",
       "      <td>25519.00</td>\n",
       "      <td>2123.583333</td>\n",
       "      <td>2126.583333</td>\n",
       "    </tr>\n",
       "    <tr>\n",
       "      <td>42</td>\n",
       "      <td>14635</td>\n",
       "      <td>321380</td>\n",
       "      <td>25397.00</td>\n",
       "      <td>25433.00</td>\n",
       "      <td>2116.416667</td>\n",
       "      <td>2119.416667</td>\n",
       "    </tr>\n",
       "    <tr>\n",
       "      <td>43</td>\n",
       "      <td>14636</td>\n",
       "      <td>321380</td>\n",
       "      <td>1226645.15</td>\n",
       "      <td>1225003.69</td>\n",
       "      <td>94357.319231</td>\n",
       "      <td>94231.053077</td>\n",
       "    </tr>\n",
       "    <tr>\n",
       "      <td>44</td>\n",
       "      <td>14637</td>\n",
       "      <td>321380</td>\n",
       "      <td>1234885.00</td>\n",
       "      <td>1239360.25</td>\n",
       "      <td>94991.153846</td>\n",
       "      <td>95335.403846</td>\n",
       "    </tr>\n",
       "    <tr>\n",
       "      <td>45</td>\n",
       "      <td>14779</td>\n",
       "      <td>321218</td>\n",
       "      <td>1444858.49</td>\n",
       "      <td>1466503.18</td>\n",
       "      <td>131350.771818</td>\n",
       "      <td>112807.936923</td>\n",
       "    </tr>\n",
       "    <tr>\n",
       "      <td>46</td>\n",
       "      <td>14981</td>\n",
       "      <td>328212</td>\n",
       "      <td>177402.52</td>\n",
       "      <td>174827.66</td>\n",
       "      <td>13646.347692</td>\n",
       "      <td>13448.281538</td>\n",
       "    </tr>\n",
       "    <tr>\n",
       "      <td>47</td>\n",
       "      <td>15002</td>\n",
       "      <td>325330</td>\n",
       "      <td>82662.27</td>\n",
       "      <td>80230.32</td>\n",
       "      <td>7514.751818</td>\n",
       "      <td>7293.665455</td>\n",
       "    </tr>\n",
       "    <tr>\n",
       "      <td>48</td>\n",
       "      <td>15142</td>\n",
       "      <td>321356</td>\n",
       "      <td>1891834.55</td>\n",
       "      <td>1891898.78</td>\n",
       "      <td>145525.734615</td>\n",
       "      <td>157658.231667</td>\n",
       "    </tr>\n",
       "    <tr>\n",
       "      <td>49</td>\n",
       "      <td>15144</td>\n",
       "      <td>321356</td>\n",
       "      <td>503833.64</td>\n",
       "      <td>508136.23</td>\n",
       "      <td>38756.433846</td>\n",
       "      <td>39087.402308</td>\n",
       "    </tr>\n",
       "    <tr>\n",
       "      <td>50</td>\n",
       "      <td>15146</td>\n",
       "      <td>321356</td>\n",
       "      <td>1700024.62</td>\n",
       "      <td>1737551.92</td>\n",
       "      <td>141668.718333</td>\n",
       "      <td>133657.840000</td>\n",
       "    </tr>\n",
       "    <tr>\n",
       "      <td>51</td>\n",
       "      <td>15147</td>\n",
       "      <td>321356</td>\n",
       "      <td>2631.08</td>\n",
       "      <td>2652.00</td>\n",
       "      <td>239.189091</td>\n",
       "      <td>442.000000</td>\n",
       "    </tr>\n",
       "    <tr>\n",
       "      <td>52</td>\n",
       "      <td>15148</td>\n",
       "      <td>321356</td>\n",
       "      <td>2200.07</td>\n",
       "      <td>2246.00</td>\n",
       "      <td>220.007000</td>\n",
       "      <td>374.333333</td>\n",
       "    </tr>\n",
       "  </tbody>\n",
       "</table>\n",
       "</div>"
      ],
      "text/plain": [
       "    Bank Account  Merchant  Total Credit amount  Total Debit amount  \\\n",
       "0          12460    308148             66611.03            61799.63   \n",
       "1          12654    310443            308732.78           328895.38   \n",
       "2          12655    310443             16400.44            17766.66   \n",
       "3          12835    312745             16054.00            16054.00   \n",
       "4          12836    312745             19055.79            19035.00   \n",
       "5          12837    312745                25.00                0.00   \n",
       "6          12838    312745             29957.00            29895.62   \n",
       "7          12839    312745            654346.10           648265.91   \n",
       "8          13226    314036            445920.11           432974.81   \n",
       "9          13228    316728             86542.04            86505.90   \n",
       "10         13230    316728               196.00              180.00   \n",
       "11         13232    316728           1817750.53          1770673.70   \n",
       "12         13233    313082            547025.33           558877.28   \n",
       "13         13234    316728            423519.17           429746.20   \n",
       "14         13235    316728              3175.07             3175.00   \n",
       "15         13271    314559            521917.86           513734.25   \n",
       "16         13272    316728            131836.82           125562.74   \n",
       "17         13273    314559              5700.06             6080.00   \n",
       "18         13419    318465            107347.03           105197.74   \n",
       "19         13420    318465                50.04               55.04   \n",
       "20         13421    318465                 0.00                5.01   \n",
       "21         13422    318465             60805.75            60509.82   \n",
       "22         13423    318465              5550.50             5556.87   \n",
       "23         13424    318465              3995.66             3994.62   \n",
       "24         13425    318465             54099.57            54241.84   \n",
       "25         13877    323253             20358.38            20112.00   \n",
       "26         13879    323253            956058.64           970342.72   \n",
       "27         13970    321146             26041.20            25678.48   \n",
       "28         13971    321146             79891.26            74913.94   \n",
       "29         14044    326062            382062.52           390476.77   \n",
       "30         14045    326062                 0.00               50.54   \n",
       "31         14046    326062            459574.19           456550.52   \n",
       "32         14049    325142            472617.59           463603.42   \n",
       "33         14206    326050            288065.74           271315.57   \n",
       "34         14339    329803            219079.29           212387.64   \n",
       "35         14374    330698          10940564.93         10929049.32   \n",
       "36         14629    321671            312136.74           307190.47   \n",
       "37         14630    321380             30200.00            30165.60   \n",
       "38         14631    321380              1122.50             1161.00   \n",
       "39         14632    321380            156553.00           107945.30   \n",
       "40         14633    321380             21808.25            22353.30   \n",
       "41         14634    321380             25483.00            25519.00   \n",
       "42         14635    321380             25397.00            25433.00   \n",
       "43         14636    321380           1226645.15          1225003.69   \n",
       "44         14637    321380           1234885.00          1239360.25   \n",
       "45         14779    321218           1444858.49          1466503.18   \n",
       "46         14981    328212            177402.52           174827.66   \n",
       "47         15002    325330             82662.27            80230.32   \n",
       "48         15142    321356           1891834.55          1891898.78   \n",
       "49         15144    321356            503833.64           508136.23   \n",
       "50         15146    321356           1700024.62          1737551.92   \n",
       "51         15147    321356              2631.08             2652.00   \n",
       "52         15148    321356              2200.07             2246.00   \n",
       "\n",
       "    Avg Credit per month  Avg Debit per month  \n",
       "0            6661.103000          6179.963000  \n",
       "1           44104.682857         46985.054286  \n",
       "2            2733.406667          1615.150909  \n",
       "3            4013.500000          4013.500000  \n",
       "4            9527.895000          4758.750000  \n",
       "5              25.000000             0.000000  \n",
       "6            2995.700000          2717.783636  \n",
       "7           50334.315385         49866.608462  \n",
       "8           40538.191818         39361.346364  \n",
       "9            7211.836667          7208.825000  \n",
       "10             28.000000            90.000000  \n",
       "11         151479.210833        136205.669231  \n",
       "12          54702.533000         55887.728000  \n",
       "13          35293.264167         33057.400000  \n",
       "14            288.642727          1587.500000  \n",
       "15          43493.155000         42811.187500  \n",
       "16          21972.803333         15695.342500  \n",
       "17            950.010000          2026.666667  \n",
       "18          11927.447778         11688.637778  \n",
       "19             16.680000            18.346667  \n",
       "20              0.000000             2.505000  \n",
       "21           8686.535714          8644.260000  \n",
       "22            693.812500           694.608750  \n",
       "23            443.962222           443.846667  \n",
       "24           6762.446250          6780.230000  \n",
       "25           2035.838000          3352.000000  \n",
       "26         119507.330000        121292.840000  \n",
       "27           2893.466667          2853.164444  \n",
       "28          19972.815000         18728.485000  \n",
       "29          38206.252000         35497.888182  \n",
       "30              0.000000            25.270000  \n",
       "31          57446.773750         57068.815000  \n",
       "32          59077.198750         57950.427500  \n",
       "33          36008.217500         33914.446250  \n",
       "34          18256.607500         16337.510769  \n",
       "35         841581.917692        840696.101538  \n",
       "36          24010.518462         23630.036154  \n",
       "37          15100.000000         15082.800000  \n",
       "38            561.250000           580.500000  \n",
       "39          78276.500000         53972.650000  \n",
       "40          10904.125000         11176.650000  \n",
       "41           2123.583333          2126.583333  \n",
       "42           2116.416667          2119.416667  \n",
       "43          94357.319231         94231.053077  \n",
       "44          94991.153846         95335.403846  \n",
       "45         131350.771818        112807.936923  \n",
       "46          13646.347692         13448.281538  \n",
       "47           7514.751818          7293.665455  \n",
       "48         145525.734615        157658.231667  \n",
       "49          38756.433846         39087.402308  \n",
       "50         141668.718333        133657.840000  \n",
       "51            239.189091           442.000000  \n",
       "52            220.007000           374.333333  "
      ]
     },
     "execution_count": 17,
     "metadata": {},
     "output_type": "execute_result"
    }
   ],
   "source": [
    "# (iv) the total dollar value of credits, debits and their averages per month for each bank account and each merchant\n",
    "\n",
    "df_amount[['bank_account_id','Lead ID','Credit_amount','Debit_amount','Avg_creditpermonth','Avg_debitpermonth']]\\\n",
    ".fillna(0).\\\n",
    "rename(columns = {'bank_account_id':'Bank Account','Lead ID': 'Merchant',\\\n",
    "                  'Credit_amount':'Total Credit amount','Debit_amount':'Total Debit amount',\\\n",
    "                  'Avg_creditpermonth':'Avg Credit per month','Avg_debitpermonth':'Avg Debit per month'}).\\\n",
    "sort_values(['Bank Account','Merchant'],ascending=True)\n"
   ]
  },
  {
   "cell_type": "markdown",
   "metadata": {},
   "source": [
    "\n",
    "Question 1: \n",
    "\n",
    "###### (v) Aggregate the answers to (iii) and (iv) at the merchant level, industry level and bankid level"
   ]
  },
  {
   "cell_type": "code",
   "execution_count": 18,
   "metadata": {},
   "outputs": [],
   "source": [
    "# aggregate based on lead id, bankid and industry \n",
    "\n",
    "df_indus = pd.pivot_table(df,index=['Lead ID','bankid','Industry'],\\\n",
    "                           columns='transaction_type',values=['amount','month_year']\\\n",
    "                          ,aggfunc=({'amount':'count','month_year':lambda x: x.nunique()})).reset_index()\n",
    "\n",
    "# renaming columns\n",
    "df_indus.columns = ['Lead ID','bankid','Industry','Number_of_Credits','Number_of_debits','Credit_months','Debit_months']"
   ]
  },
  {
   "cell_type": "code",
   "execution_count": 19,
   "metadata": {},
   "outputs": [],
   "source": [
    "#calculating averages at merchant, industry and bankid level, # of credits/debits and their average\n",
    "\n",
    "df_indus['average_credits'] = (df_indus['Number_of_Credits'])/(df_indus['Credit_months'])\n",
    "\n",
    "df_indus['average_debits'] = (df_indus['Number_of_debits'])/(df_indus['Debit_months'])"
   ]
  },
  {
   "cell_type": "code",
   "execution_count": 20,
   "metadata": {},
   "outputs": [
    {
     "data": {
      "text/html": [
       "<div>\n",
       "<style scoped>\n",
       "    .dataframe tbody tr th:only-of-type {\n",
       "        vertical-align: middle;\n",
       "    }\n",
       "\n",
       "    .dataframe tbody tr th {\n",
       "        vertical-align: top;\n",
       "    }\n",
       "\n",
       "    .dataframe thead th {\n",
       "        text-align: right;\n",
       "    }\n",
       "</style>\n",
       "<table border=\"1\" class=\"dataframe\">\n",
       "  <thead>\n",
       "    <tr style=\"text-align: right;\">\n",
       "      <th></th>\n",
       "      <th>Lead ID</th>\n",
       "      <th>bankid</th>\n",
       "      <th>Industry</th>\n",
       "      <th>Number_of_Credits</th>\n",
       "      <th>Number_of_debits</th>\n",
       "      <th>Credit_months</th>\n",
       "      <th>Debit_months</th>\n",
       "      <th>average_credits</th>\n",
       "      <th>average_debits</th>\n",
       "    </tr>\n",
       "  </thead>\n",
       "  <tbody>\n",
       "    <tr>\n",
       "      <td>0</td>\n",
       "      <td>308148</td>\n",
       "      <td>8535</td>\n",
       "      <td>Accommodation and Food Services</td>\n",
       "      <td>172</td>\n",
       "      <td>320</td>\n",
       "      <td>10</td>\n",
       "      <td>10</td>\n",
       "      <td>17.200000</td>\n",
       "      <td>32.0</td>\n",
       "    </tr>\n",
       "    <tr>\n",
       "      <td>1</td>\n",
       "      <td>310443</td>\n",
       "      <td>6192</td>\n",
       "      <td>Construction</td>\n",
       "      <td>35</td>\n",
       "      <td>246</td>\n",
       "      <td>9</td>\n",
       "      <td>12</td>\n",
       "      <td>3.888889</td>\n",
       "      <td>20.5</td>\n",
       "    </tr>\n",
       "  </tbody>\n",
       "</table>\n",
       "</div>"
      ],
      "text/plain": [
       "   Lead ID  bankid                         Industry  Number_of_Credits  \\\n",
       "0   308148    8535  Accommodation and Food Services                172   \n",
       "1   310443    6192                     Construction                 35   \n",
       "\n",
       "   Number_of_debits  Credit_months  Debit_months  average_credits  \\\n",
       "0               320             10            10        17.200000   \n",
       "1               246              9            12         3.888889   \n",
       "\n",
       "   average_debits  \n",
       "0            32.0  \n",
       "1            20.5  "
      ]
     },
     "execution_count": 20,
     "metadata": {},
     "output_type": "execute_result"
    }
   ],
   "source": [
    "# verify the calculation\n",
    "\n",
    "df_indus.head(2)"
   ]
  },
  {
   "cell_type": "markdown",
   "metadata": {},
   "source": [
    "Extracting total credit amount, total debit amount, average credit amount and average debit amount at merchant, industry\n",
    "and bankid level.\n"
   ]
  },
  {
   "cell_type": "code",
   "execution_count": 21,
   "metadata": {},
   "outputs": [],
   "source": [
    "df_indamount = pd.pivot_table(df,index=['Lead ID','bankid','Industry'],columns='transaction_type',\\\n",
    "                                  values=['amount','month_year']\\\n",
    "               ,aggfunc=({'amount':'sum','month_year':lambda x: x.nunique()})).reset_index()"
   ]
  },
  {
   "cell_type": "code",
   "execution_count": 22,
   "metadata": {},
   "outputs": [],
   "source": [
    "# renaming columns\n",
    "\n",
    "df_indamount.columns = ['Lead ID','bankid','Industry','Credit_amount','Debit_amount','Credit_months','Debit_months']"
   ]
  },
  {
   "cell_type": "code",
   "execution_count": 23,
   "metadata": {},
   "outputs": [],
   "source": [
    "# calculate the average amounts per month : credit and debit \n",
    "\n",
    "df_indamount['Avg_creditpermonth'] = (df_indamount['Credit_amount']/df_indamount['Credit_months'])\n",
    "df_indamount['Avg_debitpermonth'] = (df_indamount['Debit_amount']/df_indamount['Debit_months'])"
   ]
  },
  {
   "cell_type": "code",
   "execution_count": 24,
   "metadata": {
    "scrolled": true
   },
   "outputs": [
    {
     "data": {
      "text/html": [
       "<div>\n",
       "<style scoped>\n",
       "    .dataframe tbody tr th:only-of-type {\n",
       "        vertical-align: middle;\n",
       "    }\n",
       "\n",
       "    .dataframe tbody tr th {\n",
       "        vertical-align: top;\n",
       "    }\n",
       "\n",
       "    .dataframe thead th {\n",
       "        text-align: right;\n",
       "    }\n",
       "</style>\n",
       "<table border=\"1\" class=\"dataframe\">\n",
       "  <thead>\n",
       "    <tr style=\"text-align: right;\">\n",
       "      <th></th>\n",
       "      <th>Lead ID</th>\n",
       "      <th>bankid</th>\n",
       "      <th>Industry</th>\n",
       "      <th>Credit_amount</th>\n",
       "      <th>Debit_amount</th>\n",
       "      <th>Credit_months</th>\n",
       "      <th>Debit_months</th>\n",
       "      <th>Avg_creditpermonth</th>\n",
       "      <th>Avg_debitpermonth</th>\n",
       "    </tr>\n",
       "  </thead>\n",
       "  <tbody>\n",
       "    <tr>\n",
       "      <td>0</td>\n",
       "      <td>308148</td>\n",
       "      <td>8535</td>\n",
       "      <td>Accommodation and Food Services</td>\n",
       "      <td>66611.03</td>\n",
       "      <td>61799.63</td>\n",
       "      <td>10</td>\n",
       "      <td>10</td>\n",
       "      <td>6661.103000</td>\n",
       "      <td>6179.963000</td>\n",
       "    </tr>\n",
       "    <tr>\n",
       "      <td>1</td>\n",
       "      <td>310443</td>\n",
       "      <td>6192</td>\n",
       "      <td>Construction</td>\n",
       "      <td>325133.22</td>\n",
       "      <td>346662.04</td>\n",
       "      <td>9</td>\n",
       "      <td>12</td>\n",
       "      <td>36125.913333</td>\n",
       "      <td>28888.503333</td>\n",
       "    </tr>\n",
       "    <tr>\n",
       "      <td>2</td>\n",
       "      <td>312745</td>\n",
       "      <td>8544</td>\n",
       "      <td>Professional, Scientific, and Technical Services</td>\n",
       "      <td>719437.89</td>\n",
       "      <td>713250.53</td>\n",
       "      <td>13</td>\n",
       "      <td>13</td>\n",
       "      <td>55341.376154</td>\n",
       "      <td>54865.425385</td>\n",
       "    </tr>\n",
       "    <tr>\n",
       "      <td>3</td>\n",
       "      <td>313082</td>\n",
       "      <td>8535</td>\n",
       "      <td>Professional, Scientific, and Technical Services</td>\n",
       "      <td>547025.33</td>\n",
       "      <td>558877.28</td>\n",
       "      <td>10</td>\n",
       "      <td>10</td>\n",
       "      <td>54702.533000</td>\n",
       "      <td>55887.728000</td>\n",
       "    </tr>\n",
       "    <tr>\n",
       "      <td>4</td>\n",
       "      <td>314036</td>\n",
       "      <td>9966</td>\n",
       "      <td>Retail Trade</td>\n",
       "      <td>445920.11</td>\n",
       "      <td>432974.81</td>\n",
       "      <td>11</td>\n",
       "      <td>11</td>\n",
       "      <td>40538.191818</td>\n",
       "      <td>39361.346364</td>\n",
       "    </tr>\n",
       "  </tbody>\n",
       "</table>\n",
       "</div>"
      ],
      "text/plain": [
       "   Lead ID  bankid                                          Industry  \\\n",
       "0   308148    8535                   Accommodation and Food Services   \n",
       "1   310443    6192                                      Construction   \n",
       "2   312745    8544  Professional, Scientific, and Technical Services   \n",
       "3   313082    8535  Professional, Scientific, and Technical Services   \n",
       "4   314036    9966                                      Retail Trade   \n",
       "\n",
       "   Credit_amount  Debit_amount  Credit_months  Debit_months  \\\n",
       "0       66611.03      61799.63             10            10   \n",
       "1      325133.22     346662.04              9            12   \n",
       "2      719437.89     713250.53             13            13   \n",
       "3      547025.33     558877.28             10            10   \n",
       "4      445920.11     432974.81             11            11   \n",
       "\n",
       "   Avg_creditpermonth  Avg_debitpermonth  \n",
       "0         6661.103000        6179.963000  \n",
       "1        36125.913333       28888.503333  \n",
       "2        55341.376154       54865.425385  \n",
       "3        54702.533000       55887.728000  \n",
       "4        40538.191818       39361.346364  "
      ]
     },
     "execution_count": 24,
     "metadata": {},
     "output_type": "execute_result"
    }
   ],
   "source": [
    "# verify the calculation\n",
    "\n",
    "df_indamount.head()"
   ]
  },
  {
   "cell_type": "markdown",
   "metadata": {},
   "source": [
    "###### [ans]  (v) Aggregate the answers to (iii) and (iv) at the merchant level, industry level and bankid level"
   ]
  },
  {
   "cell_type": "code",
   "execution_count": 25,
   "metadata": {},
   "outputs": [
    {
     "data": {
      "text/html": [
       "<div>\n",
       "<style scoped>\n",
       "    .dataframe tbody tr th:only-of-type {\n",
       "        vertical-align: middle;\n",
       "    }\n",
       "\n",
       "    .dataframe tbody tr th {\n",
       "        vertical-align: top;\n",
       "    }\n",
       "\n",
       "    .dataframe thead th {\n",
       "        text-align: right;\n",
       "    }\n",
       "</style>\n",
       "<table border=\"1\" class=\"dataframe\">\n",
       "  <thead>\n",
       "    <tr style=\"text-align: right;\">\n",
       "      <th></th>\n",
       "      <th>Merchant ID</th>\n",
       "      <th>Bank ID</th>\n",
       "      <th>Industry</th>\n",
       "      <th># of Credits</th>\n",
       "      <th># of Debits</th>\n",
       "      <th>Total Credit amount</th>\n",
       "      <th>Total Debit amount</th>\n",
       "      <th>Avg # of Credit per month</th>\n",
       "      <th>Avg # of Debit per month</th>\n",
       "      <th>Avg Credit amount per month</th>\n",
       "      <th>Avg Debit amount per month</th>\n",
       "    </tr>\n",
       "  </thead>\n",
       "  <tbody>\n",
       "    <tr>\n",
       "      <td>0</td>\n",
       "      <td>308148</td>\n",
       "      <td>8535</td>\n",
       "      <td>Accommodation and Food Services</td>\n",
       "      <td>172</td>\n",
       "      <td>320</td>\n",
       "      <td>66611.03</td>\n",
       "      <td>61799.63</td>\n",
       "      <td>17.200000</td>\n",
       "      <td>32.000000</td>\n",
       "      <td>6661.103000</td>\n",
       "      <td>6179.963000</td>\n",
       "    </tr>\n",
       "    <tr>\n",
       "      <td>1</td>\n",
       "      <td>310443</td>\n",
       "      <td>6192</td>\n",
       "      <td>Construction</td>\n",
       "      <td>35</td>\n",
       "      <td>246</td>\n",
       "      <td>325133.22</td>\n",
       "      <td>346662.04</td>\n",
       "      <td>3.888889</td>\n",
       "      <td>20.500000</td>\n",
       "      <td>36125.913333</td>\n",
       "      <td>28888.503333</td>\n",
       "    </tr>\n",
       "    <tr>\n",
       "      <td>2</td>\n",
       "      <td>312745</td>\n",
       "      <td>8544</td>\n",
       "      <td>Professional, Scientific, and Technical Services</td>\n",
       "      <td>160</td>\n",
       "      <td>600</td>\n",
       "      <td>719437.89</td>\n",
       "      <td>713250.53</td>\n",
       "      <td>12.307692</td>\n",
       "      <td>46.153846</td>\n",
       "      <td>55341.376154</td>\n",
       "      <td>54865.425385</td>\n",
       "    </tr>\n",
       "    <tr>\n",
       "      <td>3</td>\n",
       "      <td>313082</td>\n",
       "      <td>8535</td>\n",
       "      <td>Professional, Scientific, and Technical Services</td>\n",
       "      <td>112</td>\n",
       "      <td>1026</td>\n",
       "      <td>547025.33</td>\n",
       "      <td>558877.28</td>\n",
       "      <td>11.200000</td>\n",
       "      <td>102.600000</td>\n",
       "      <td>54702.533000</td>\n",
       "      <td>55887.728000</td>\n",
       "    </tr>\n",
       "    <tr>\n",
       "      <td>4</td>\n",
       "      <td>314036</td>\n",
       "      <td>9966</td>\n",
       "      <td>Retail Trade</td>\n",
       "      <td>276</td>\n",
       "      <td>1985</td>\n",
       "      <td>445920.11</td>\n",
       "      <td>432974.81</td>\n",
       "      <td>25.090909</td>\n",
       "      <td>180.454545</td>\n",
       "      <td>40538.191818</td>\n",
       "      <td>39361.346364</td>\n",
       "    </tr>\n",
       "    <tr>\n",
       "      <td>5</td>\n",
       "      <td>314559</td>\n",
       "      <td>8534</td>\n",
       "      <td>Information Technology</td>\n",
       "      <td>143</td>\n",
       "      <td>284</td>\n",
       "      <td>527617.92</td>\n",
       "      <td>519814.25</td>\n",
       "      <td>11.000000</td>\n",
       "      <td>23.666667</td>\n",
       "      <td>40585.993846</td>\n",
       "      <td>43317.854167</td>\n",
       "    </tr>\n",
       "    <tr>\n",
       "      <td>6</td>\n",
       "      <td>316728</td>\n",
       "      <td>8534</td>\n",
       "      <td>Construction</td>\n",
       "      <td>30</td>\n",
       "      <td>93</td>\n",
       "      <td>131836.82</td>\n",
       "      <td>125562.74</td>\n",
       "      <td>5.000000</td>\n",
       "      <td>11.625000</td>\n",
       "      <td>21972.803333</td>\n",
       "      <td>15695.342500</td>\n",
       "    </tr>\n",
       "    <tr>\n",
       "      <td>7</td>\n",
       "      <td>316728</td>\n",
       "      <td>8544</td>\n",
       "      <td>Construction</td>\n",
       "      <td>268</td>\n",
       "      <td>2221</td>\n",
       "      <td>2331182.81</td>\n",
       "      <td>2290280.80</td>\n",
       "      <td>22.333333</td>\n",
       "      <td>170.846154</td>\n",
       "      <td>194265.234167</td>\n",
       "      <td>176175.446154</td>\n",
       "    </tr>\n",
       "    <tr>\n",
       "      <td>8</td>\n",
       "      <td>318465</td>\n",
       "      <td>9262</td>\n",
       "      <td>Health Care and Social Assistance</td>\n",
       "      <td>369</td>\n",
       "      <td>1694</td>\n",
       "      <td>231848.55</td>\n",
       "      <td>229560.94</td>\n",
       "      <td>41.000000</td>\n",
       "      <td>188.222222</td>\n",
       "      <td>25760.950000</td>\n",
       "      <td>25506.771111</td>\n",
       "    </tr>\n",
       "    <tr>\n",
       "      <td>9</td>\n",
       "      <td>321146</td>\n",
       "      <td>10479</td>\n",
       "      <td>Retail Trade</td>\n",
       "      <td>121</td>\n",
       "      <td>454</td>\n",
       "      <td>105932.46</td>\n",
       "      <td>100592.42</td>\n",
       "      <td>13.444444</td>\n",
       "      <td>50.444444</td>\n",
       "      <td>11770.273333</td>\n",
       "      <td>11176.935556</td>\n",
       "    </tr>\n",
       "    <tr>\n",
       "      <td>10</td>\n",
       "      <td>321218</td>\n",
       "      <td>10656</td>\n",
       "      <td>Agriculture, Forestry, Fishing and Hunting</td>\n",
       "      <td>57</td>\n",
       "      <td>849</td>\n",
       "      <td>1444858.49</td>\n",
       "      <td>1466503.18</td>\n",
       "      <td>5.181818</td>\n",
       "      <td>65.307692</td>\n",
       "      <td>131350.771818</td>\n",
       "      <td>112807.936923</td>\n",
       "    </tr>\n",
       "    <tr>\n",
       "      <td>11</td>\n",
       "      <td>321356</td>\n",
       "      <td>8544</td>\n",
       "      <td>Other Services (except Public Administration)</td>\n",
       "      <td>697</td>\n",
       "      <td>788</td>\n",
       "      <td>4100523.96</td>\n",
       "      <td>4142484.93</td>\n",
       "      <td>53.615385</td>\n",
       "      <td>60.615385</td>\n",
       "      <td>315424.920000</td>\n",
       "      <td>318652.686923</td>\n",
       "    </tr>\n",
       "    <tr>\n",
       "      <td>12</td>\n",
       "      <td>321380</td>\n",
       "      <td>8534</td>\n",
       "      <td>Finance and Insurance</td>\n",
       "      <td>4436</td>\n",
       "      <td>687</td>\n",
       "      <td>2512410.15</td>\n",
       "      <td>2515315.94</td>\n",
       "      <td>341.230769</td>\n",
       "      <td>52.846154</td>\n",
       "      <td>193262.319231</td>\n",
       "      <td>193485.841538</td>\n",
       "    </tr>\n",
       "    <tr>\n",
       "      <td>13</td>\n",
       "      <td>321380</td>\n",
       "      <td>10591</td>\n",
       "      <td>Finance and Insurance</td>\n",
       "      <td>503</td>\n",
       "      <td>86</td>\n",
       "      <td>209683.75</td>\n",
       "      <td>161625.20</td>\n",
       "      <td>251.500000</td>\n",
       "      <td>43.000000</td>\n",
       "      <td>104841.875000</td>\n",
       "      <td>80812.600000</td>\n",
       "    </tr>\n",
       "    <tr>\n",
       "      <td>14</td>\n",
       "      <td>321671</td>\n",
       "      <td>8534</td>\n",
       "      <td>Retail Trade</td>\n",
       "      <td>642</td>\n",
       "      <td>1788</td>\n",
       "      <td>312136.74</td>\n",
       "      <td>307190.47</td>\n",
       "      <td>49.384615</td>\n",
       "      <td>137.538462</td>\n",
       "      <td>24010.518462</td>\n",
       "      <td>23630.036154</td>\n",
       "    </tr>\n",
       "    <tr>\n",
       "      <td>15</td>\n",
       "      <td>323253</td>\n",
       "      <td>8545</td>\n",
       "      <td>Retail Trade</td>\n",
       "      <td>308</td>\n",
       "      <td>425</td>\n",
       "      <td>976417.02</td>\n",
       "      <td>990454.72</td>\n",
       "      <td>25.666667</td>\n",
       "      <td>47.222222</td>\n",
       "      <td>81368.085000</td>\n",
       "      <td>110050.524444</td>\n",
       "    </tr>\n",
       "    <tr>\n",
       "      <td>16</td>\n",
       "      <td>325142</td>\n",
       "      <td>8535</td>\n",
       "      <td>Other Services (except Public Administration)</td>\n",
       "      <td>115</td>\n",
       "      <td>876</td>\n",
       "      <td>472617.59</td>\n",
       "      <td>463603.42</td>\n",
       "      <td>14.375000</td>\n",
       "      <td>109.500000</td>\n",
       "      <td>59077.198750</td>\n",
       "      <td>57950.427500</td>\n",
       "    </tr>\n",
       "    <tr>\n",
       "      <td>17</td>\n",
       "      <td>325330</td>\n",
       "      <td>8544</td>\n",
       "      <td>Retail Trade</td>\n",
       "      <td>312</td>\n",
       "      <td>257</td>\n",
       "      <td>82662.27</td>\n",
       "      <td>80230.32</td>\n",
       "      <td>28.363636</td>\n",
       "      <td>23.363636</td>\n",
       "      <td>7514.751818</td>\n",
       "      <td>7293.665455</td>\n",
       "    </tr>\n",
       "    <tr>\n",
       "      <td>18</td>\n",
       "      <td>326050</td>\n",
       "      <td>8534</td>\n",
       "      <td>Accommodation and Food Services</td>\n",
       "      <td>190</td>\n",
       "      <td>459</td>\n",
       "      <td>288065.74</td>\n",
       "      <td>271315.57</td>\n",
       "      <td>23.750000</td>\n",
       "      <td>57.375000</td>\n",
       "      <td>36008.217500</td>\n",
       "      <td>33914.446250</td>\n",
       "    </tr>\n",
       "    <tr>\n",
       "      <td>19</td>\n",
       "      <td>326062</td>\n",
       "      <td>8535</td>\n",
       "      <td>Accommodation and Food Services</td>\n",
       "      <td>852</td>\n",
       "      <td>1443</td>\n",
       "      <td>841636.71</td>\n",
       "      <td>847077.83</td>\n",
       "      <td>77.454545</td>\n",
       "      <td>131.181818</td>\n",
       "      <td>76512.428182</td>\n",
       "      <td>77007.075455</td>\n",
       "    </tr>\n",
       "    <tr>\n",
       "      <td>20</td>\n",
       "      <td>328212</td>\n",
       "      <td>8535</td>\n",
       "      <td>Educational Services</td>\n",
       "      <td>282</td>\n",
       "      <td>345</td>\n",
       "      <td>177402.52</td>\n",
       "      <td>174827.66</td>\n",
       "      <td>21.692308</td>\n",
       "      <td>26.538462</td>\n",
       "      <td>13646.347692</td>\n",
       "      <td>13448.281538</td>\n",
       "    </tr>\n",
       "    <tr>\n",
       "      <td>21</td>\n",
       "      <td>329803</td>\n",
       "      <td>8535</td>\n",
       "      <td>Construction</td>\n",
       "      <td>116</td>\n",
       "      <td>655</td>\n",
       "      <td>219079.29</td>\n",
       "      <td>212387.64</td>\n",
       "      <td>9.666667</td>\n",
       "      <td>50.384615</td>\n",
       "      <td>18256.607500</td>\n",
       "      <td>16337.510769</td>\n",
       "    </tr>\n",
       "    <tr>\n",
       "      <td>22</td>\n",
       "      <td>330698</td>\n",
       "      <td>8545</td>\n",
       "      <td>Health Care and Social Assistance</td>\n",
       "      <td>346</td>\n",
       "      <td>906</td>\n",
       "      <td>10940564.93</td>\n",
       "      <td>10929049.32</td>\n",
       "      <td>26.615385</td>\n",
       "      <td>69.692308</td>\n",
       "      <td>841581.917692</td>\n",
       "      <td>840696.101538</td>\n",
       "    </tr>\n",
       "  </tbody>\n",
       "</table>\n",
       "</div>"
      ],
      "text/plain": [
       "    Merchant ID  Bank ID                                          Industry  \\\n",
       "0        308148     8535                   Accommodation and Food Services   \n",
       "1        310443     6192                                      Construction   \n",
       "2        312745     8544  Professional, Scientific, and Technical Services   \n",
       "3        313082     8535  Professional, Scientific, and Technical Services   \n",
       "4        314036     9966                                      Retail Trade   \n",
       "5        314559     8534                            Information Technology   \n",
       "6        316728     8534                                      Construction   \n",
       "7        316728     8544                                      Construction   \n",
       "8        318465     9262                 Health Care and Social Assistance   \n",
       "9        321146    10479                                      Retail Trade   \n",
       "10       321218    10656        Agriculture, Forestry, Fishing and Hunting   \n",
       "11       321356     8544     Other Services (except Public Administration)   \n",
       "12       321380     8534                             Finance and Insurance   \n",
       "13       321380    10591                             Finance and Insurance   \n",
       "14       321671     8534                                      Retail Trade   \n",
       "15       323253     8545                                      Retail Trade   \n",
       "16       325142     8535     Other Services (except Public Administration)   \n",
       "17       325330     8544                                      Retail Trade   \n",
       "18       326050     8534                   Accommodation and Food Services   \n",
       "19       326062     8535                   Accommodation and Food Services   \n",
       "20       328212     8535                              Educational Services   \n",
       "21       329803     8535                                      Construction   \n",
       "22       330698     8545                 Health Care and Social Assistance   \n",
       "\n",
       "    # of Credits  # of Debits  Total Credit amount  Total Debit amount  \\\n",
       "0            172          320             66611.03            61799.63   \n",
       "1             35          246            325133.22           346662.04   \n",
       "2            160          600            719437.89           713250.53   \n",
       "3            112         1026            547025.33           558877.28   \n",
       "4            276         1985            445920.11           432974.81   \n",
       "5            143          284            527617.92           519814.25   \n",
       "6             30           93            131836.82           125562.74   \n",
       "7            268         2221           2331182.81          2290280.80   \n",
       "8            369         1694            231848.55           229560.94   \n",
       "9            121          454            105932.46           100592.42   \n",
       "10            57          849           1444858.49          1466503.18   \n",
       "11           697          788           4100523.96          4142484.93   \n",
       "12          4436          687           2512410.15          2515315.94   \n",
       "13           503           86            209683.75           161625.20   \n",
       "14           642         1788            312136.74           307190.47   \n",
       "15           308          425            976417.02           990454.72   \n",
       "16           115          876            472617.59           463603.42   \n",
       "17           312          257             82662.27            80230.32   \n",
       "18           190          459            288065.74           271315.57   \n",
       "19           852         1443            841636.71           847077.83   \n",
       "20           282          345            177402.52           174827.66   \n",
       "21           116          655            219079.29           212387.64   \n",
       "22           346          906          10940564.93         10929049.32   \n",
       "\n",
       "    Avg # of Credit per month  Avg # of Debit per month  \\\n",
       "0                   17.200000                 32.000000   \n",
       "1                    3.888889                 20.500000   \n",
       "2                   12.307692                 46.153846   \n",
       "3                   11.200000                102.600000   \n",
       "4                   25.090909                180.454545   \n",
       "5                   11.000000                 23.666667   \n",
       "6                    5.000000                 11.625000   \n",
       "7                   22.333333                170.846154   \n",
       "8                   41.000000                188.222222   \n",
       "9                   13.444444                 50.444444   \n",
       "10                   5.181818                 65.307692   \n",
       "11                  53.615385                 60.615385   \n",
       "12                 341.230769                 52.846154   \n",
       "13                 251.500000                 43.000000   \n",
       "14                  49.384615                137.538462   \n",
       "15                  25.666667                 47.222222   \n",
       "16                  14.375000                109.500000   \n",
       "17                  28.363636                 23.363636   \n",
       "18                  23.750000                 57.375000   \n",
       "19                  77.454545                131.181818   \n",
       "20                  21.692308                 26.538462   \n",
       "21                   9.666667                 50.384615   \n",
       "22                  26.615385                 69.692308   \n",
       "\n",
       "    Avg Credit amount per month  Avg Debit amount per month  \n",
       "0                   6661.103000                 6179.963000  \n",
       "1                  36125.913333                28888.503333  \n",
       "2                  55341.376154                54865.425385  \n",
       "3                  54702.533000                55887.728000  \n",
       "4                  40538.191818                39361.346364  \n",
       "5                  40585.993846                43317.854167  \n",
       "6                  21972.803333                15695.342500  \n",
       "7                 194265.234167               176175.446154  \n",
       "8                  25760.950000                25506.771111  \n",
       "9                  11770.273333                11176.935556  \n",
       "10                131350.771818               112807.936923  \n",
       "11                315424.920000               318652.686923  \n",
       "12                193262.319231               193485.841538  \n",
       "13                104841.875000                80812.600000  \n",
       "14                 24010.518462                23630.036154  \n",
       "15                 81368.085000               110050.524444  \n",
       "16                 59077.198750                57950.427500  \n",
       "17                  7514.751818                 7293.665455  \n",
       "18                 36008.217500                33914.446250  \n",
       "19                 76512.428182                77007.075455  \n",
       "20                 13646.347692                13448.281538  \n",
       "21                 18256.607500                16337.510769  \n",
       "22                841581.917692               840696.101538  "
      ]
     },
     "execution_count": 25,
     "metadata": {},
     "output_type": "execute_result"
    }
   ],
   "source": [
    "# join both the above tables to display the requested columns: \n",
    "# # of credits,  # of debits,  industry,  merchant , average # of credits, average # of debits, # average credit amount\n",
    "# average debit amount per month.\n",
    "\n",
    "pd.merge(df_indus, df_indamount,  how='inner', on=['Lead ID','bankid','Industry'])\\\n",
    "[['Lead ID','bankid','Industry','Number_of_Credits','Number_of_debits','Credit_amount','Debit_amount',\\\n",
    " 'average_credits','average_debits','Avg_creditpermonth','Avg_debitpermonth']]\\\n",
    ".fillna(0).rename(columns = {'Lead ID':'Merchant ID','bankid': 'Bank ID',\\\n",
    "                             'Number_of_Credits':'# of Credits','Number_of_debits':'# of Debits',\\\n",
    "                  'Credit_amount':'Total Credit amount','Debit_amount':'Total Debit amount',\\\n",
    "                'average_credits':'Avg # of Credit per month','average_debits':'Avg # of Debit per month',\\\n",
    "                  'Avg_creditpermonth':'Avg Credit amount per month','Avg_debitpermonth':'Avg Debit amount per month'}).\\\n",
    "sort_values(['Merchant ID','Bank ID'],ascending=True)"
   ]
  },
  {
   "cell_type": "markdown",
   "metadata": {},
   "source": [
    "Question 2 : \n",
    "\n",
    "###### Plot daily time series data for Lead ID - 318465 and bank_account_id = 13419"
   ]
  },
  {
   "cell_type": "code",
   "execution_count": 26,
   "metadata": {},
   "outputs": [],
   "source": [
    "# extract the LeadId and bank account ID\n",
    "\n",
    "df_filter1 = df[(df['Lead ID']==318465) & (df.bank_account_id==13419)]"
   ]
  },
  {
   "cell_type": "code",
   "execution_count": 27,
   "metadata": {},
   "outputs": [],
   "source": [
    "# sort values based on date and transaction order\n",
    "\n",
    "df_filter1 = df_filter1.sort_values(['date','trans_order'],ascending = True)"
   ]
  },
  {
   "cell_type": "code",
   "execution_count": 28,
   "metadata": {},
   "outputs": [],
   "source": [
    "# group by date and transaction type to get the sum of credit and debit amounts per day.\n",
    "\n",
    "df_trans1 = pd.DataFrame(df_filter1.groupby(['date','transaction_type'])['amount'].sum().reset_index())"
   ]
  },
  {
   "cell_type": "code",
   "execution_count": 29,
   "metadata": {},
   "outputs": [
    {
     "data": {
      "text/html": [
       "<div>\n",
       "<style scoped>\n",
       "    .dataframe tbody tr th:only-of-type {\n",
       "        vertical-align: middle;\n",
       "    }\n",
       "\n",
       "    .dataframe tbody tr th {\n",
       "        vertical-align: top;\n",
       "    }\n",
       "\n",
       "    .dataframe thead th {\n",
       "        text-align: right;\n",
       "    }\n",
       "</style>\n",
       "<table border=\"1\" class=\"dataframe\">\n",
       "  <thead>\n",
       "    <tr style=\"text-align: right;\">\n",
       "      <th></th>\n",
       "      <th>date</th>\n",
       "      <th>transaction_type</th>\n",
       "      <th>amount</th>\n",
       "    </tr>\n",
       "  </thead>\n",
       "  <tbody>\n",
       "    <tr>\n",
       "      <td>0</td>\n",
       "      <td>2016-04-12</td>\n",
       "      <td>credit</td>\n",
       "      <td>793.26</td>\n",
       "    </tr>\n",
       "    <tr>\n",
       "      <td>1</td>\n",
       "      <td>2016-04-12</td>\n",
       "      <td>debit</td>\n",
       "      <td>44.44</td>\n",
       "    </tr>\n",
       "    <tr>\n",
       "      <td>2</td>\n",
       "      <td>2016-04-13</td>\n",
       "      <td>credit</td>\n",
       "      <td>737.30</td>\n",
       "    </tr>\n",
       "    <tr>\n",
       "      <td>3</td>\n",
       "      <td>2016-04-13</td>\n",
       "      <td>debit</td>\n",
       "      <td>975.95</td>\n",
       "    </tr>\n",
       "    <tr>\n",
       "      <td>4</td>\n",
       "      <td>2016-04-14</td>\n",
       "      <td>debit</td>\n",
       "      <td>97.34</td>\n",
       "    </tr>\n",
       "  </tbody>\n",
       "</table>\n",
       "</div>"
      ],
      "text/plain": [
       "         date transaction_type  amount\n",
       "0  2016-04-12           credit  793.26\n",
       "1  2016-04-12            debit   44.44\n",
       "2  2016-04-13           credit  737.30\n",
       "3  2016-04-13            debit  975.95\n",
       "4  2016-04-14            debit   97.34"
      ]
     },
     "execution_count": 29,
     "metadata": {},
     "output_type": "execute_result"
    }
   ],
   "source": [
    "# credit amounts and debit amounts\n",
    "\n",
    "df_trans1.head()"
   ]
  },
  {
   "cell_type": "code",
   "execution_count": 30,
   "metadata": {},
   "outputs": [],
   "source": [
    "# to get the running balance at the end of each day, get the max of the transaction order \n",
    "\n",
    "df_temp1 = pd.DataFrame(df_filter1.groupby(['date'])['trans_order'].max().reset_index())"
   ]
  },
  {
   "cell_type": "code",
   "execution_count": 31,
   "metadata": {},
   "outputs": [
    {
     "data": {
      "text/html": [
       "<div>\n",
       "<style scoped>\n",
       "    .dataframe tbody tr th:only-of-type {\n",
       "        vertical-align: middle;\n",
       "    }\n",
       "\n",
       "    .dataframe tbody tr th {\n",
       "        vertical-align: top;\n",
       "    }\n",
       "\n",
       "    .dataframe thead th {\n",
       "        text-align: right;\n",
       "    }\n",
       "</style>\n",
       "<table border=\"1\" class=\"dataframe\">\n",
       "  <thead>\n",
       "    <tr style=\"text-align: right;\">\n",
       "      <th></th>\n",
       "      <th>date</th>\n",
       "      <th>trans_order</th>\n",
       "    </tr>\n",
       "  </thead>\n",
       "  <tbody>\n",
       "    <tr>\n",
       "      <td>0</td>\n",
       "      <td>2016-04-12</td>\n",
       "      <td>5</td>\n",
       "    </tr>\n",
       "    <tr>\n",
       "      <td>1</td>\n",
       "      <td>2016-04-13</td>\n",
       "      <td>8</td>\n",
       "    </tr>\n",
       "    <tr>\n",
       "      <td>2</td>\n",
       "      <td>2016-04-14</td>\n",
       "      <td>4</td>\n",
       "    </tr>\n",
       "    <tr>\n",
       "      <td>3</td>\n",
       "      <td>2016-04-15</td>\n",
       "      <td>7</td>\n",
       "    </tr>\n",
       "    <tr>\n",
       "      <td>4</td>\n",
       "      <td>2016-04-16</td>\n",
       "      <td>7</td>\n",
       "    </tr>\n",
       "  </tbody>\n",
       "</table>\n",
       "</div>"
      ],
      "text/plain": [
       "         date  trans_order\n",
       "0  2016-04-12            5\n",
       "1  2016-04-13            8\n",
       "2  2016-04-14            4\n",
       "3  2016-04-15            7\n",
       "4  2016-04-16            7"
      ]
     },
     "execution_count": 31,
     "metadata": {},
     "output_type": "execute_result"
    }
   ],
   "source": [
    "df_temp1.head()"
   ]
  },
  {
   "cell_type": "code",
   "execution_count": 32,
   "metadata": {},
   "outputs": [],
   "source": [
    "# merge the max transaction order table with the original dataset to extract the running balance \n",
    "# amount corresponding to that transaction order.\n",
    "\n",
    "xyz1 = pd.merge(df_filter1, df_temp1,  how='inner', on=['date','trans_order'])[['date','running_balance']]"
   ]
  },
  {
   "cell_type": "code",
   "execution_count": 33,
   "metadata": {},
   "outputs": [],
   "source": [
    "# renaming the columns\n",
    "\n",
    "xyz1 = xyz1.rename(columns = {'running_balance':'amount'})"
   ]
  },
  {
   "cell_type": "code",
   "execution_count": 34,
   "metadata": {},
   "outputs": [],
   "source": [
    "# creating a new column to specify the category running balance\n",
    "\n",
    "xyz1['transaction_type'] = 'running_balance'"
   ]
  },
  {
   "cell_type": "code",
   "execution_count": 35,
   "metadata": {},
   "outputs": [],
   "source": [
    "xyz1 = xyz1[['date','transaction_type','amount']]"
   ]
  },
  {
   "cell_type": "code",
   "execution_count": 36,
   "metadata": {},
   "outputs": [],
   "source": [
    "# union of both the tables with credit, debit amount and running balance amount to get the credit/debit/running balance\n",
    "# amount for each day.\n",
    "\n",
    "df_final1 = pd.concat([df_trans1,xyz1],ignore_index = False).sort_values(['date'],ascending = True)"
   ]
  },
  {
   "cell_type": "code",
   "execution_count": 37,
   "metadata": {},
   "outputs": [
    {
     "data": {
      "text/html": [
       "<div>\n",
       "<style scoped>\n",
       "    .dataframe tbody tr th:only-of-type {\n",
       "        vertical-align: middle;\n",
       "    }\n",
       "\n",
       "    .dataframe tbody tr th {\n",
       "        vertical-align: top;\n",
       "    }\n",
       "\n",
       "    .dataframe thead th {\n",
       "        text-align: right;\n",
       "    }\n",
       "</style>\n",
       "<table border=\"1\" class=\"dataframe\">\n",
       "  <thead>\n",
       "    <tr style=\"text-align: right;\">\n",
       "      <th></th>\n",
       "      <th>date</th>\n",
       "      <th>transaction_type</th>\n",
       "      <th>amount</th>\n",
       "    </tr>\n",
       "  </thead>\n",
       "  <tbody>\n",
       "    <tr>\n",
       "      <td>0</td>\n",
       "      <td>2016-04-12</td>\n",
       "      <td>credit</td>\n",
       "      <td>793.26</td>\n",
       "    </tr>\n",
       "    <tr>\n",
       "      <td>0</td>\n",
       "      <td>2016-04-12</td>\n",
       "      <td>running_balance</td>\n",
       "      <td>587.52</td>\n",
       "    </tr>\n",
       "    <tr>\n",
       "      <td>1</td>\n",
       "      <td>2016-04-12</td>\n",
       "      <td>debit</td>\n",
       "      <td>44.44</td>\n",
       "    </tr>\n",
       "    <tr>\n",
       "      <td>2</td>\n",
       "      <td>2016-04-13</td>\n",
       "      <td>credit</td>\n",
       "      <td>737.30</td>\n",
       "    </tr>\n",
       "    <tr>\n",
       "      <td>1</td>\n",
       "      <td>2016-04-13</td>\n",
       "      <td>running_balance</td>\n",
       "      <td>348.87</td>\n",
       "    </tr>\n",
       "  </tbody>\n",
       "</table>\n",
       "</div>"
      ],
      "text/plain": [
       "         date transaction_type  amount\n",
       "0  2016-04-12           credit  793.26\n",
       "0  2016-04-12  running_balance  587.52\n",
       "1  2016-04-12            debit   44.44\n",
       "2  2016-04-13           credit  737.30\n",
       "1  2016-04-13  running_balance  348.87"
      ]
     },
     "execution_count": 37,
     "metadata": {},
     "output_type": "execute_result"
    }
   ],
   "source": [
    "df_final1.head()"
   ]
  },
  {
   "cell_type": "markdown",
   "metadata": {},
   "source": [
    "###### [ans] Creating an interactive plot to display the daily time series data."
   ]
  },
  {
   "cell_type": "code",
   "execution_count": 38,
   "metadata": {},
   "outputs": [
    {
     "data": {
      "application/vnd.plotly.v1+json": {
       "config": {
        "plotlyServerURL": "https://plotly.com"
       },
       "data": [
        {
         "hoverlabel": {
          "namelength": 0
         },
         "hovertemplate": "transaction_type=credit<br>date=%{x}<br>amount=%{y}",
         "legendgroup": "credit",
         "line": {
          "color": "#636efa",
          "dash": "solid"
         },
         "mode": "lines",
         "name": "credit",
         "showlegend": true,
         "type": "scatter",
         "x": [
          "2016-04-12",
          "2016-04-13",
          "2016-04-15",
          "2016-04-16",
          "2016-04-19",
          "2016-04-20",
          "2016-04-21",
          "2016-04-23",
          "2016-04-27",
          "2016-04-28",
          "2016-05-03",
          "2016-05-04",
          "2016-05-05",
          "2016-05-07",
          "2016-05-09",
          "2016-05-11",
          "2016-05-12",
          "2016-05-13",
          "2016-05-16",
          "2016-05-18",
          "2016-05-20",
          "2016-05-23",
          "2016-05-24",
          "2016-05-25",
          "2016-05-26",
          "2016-06-01",
          "2016-06-02",
          "2016-06-03",
          "2016-06-05",
          "2016-06-07",
          "2016-06-08",
          "2016-06-09",
          "2016-06-10",
          "2016-06-11",
          "2016-06-13",
          "2016-06-15",
          "2016-06-16",
          "2016-06-17",
          "2016-06-19",
          "2016-06-21",
          "2016-06-24",
          "2016-06-25",
          "2016-06-28",
          "2016-06-29",
          "2016-06-30",
          "2016-07-02",
          "2016-07-04",
          "2016-07-05",
          "2016-07-08",
          "2016-07-11",
          "2016-07-12",
          "2016-07-13",
          "2016-07-14",
          "2016-07-15",
          "2016-07-16",
          "2016-07-20",
          "2016-07-27",
          "2016-08-03",
          "2016-08-05",
          "2016-08-07",
          "2016-08-09",
          "2016-08-10",
          "2016-08-11",
          "2016-08-12",
          "2016-08-15",
          "2016-08-16",
          "2016-08-19",
          "2016-08-22",
          "2016-08-23",
          "2016-08-24",
          "2016-08-26",
          "2016-08-29",
          "2016-08-31",
          "2016-09-02",
          "2016-09-03",
          "2016-09-04",
          "2016-09-06",
          "2016-09-07",
          "2016-09-09",
          "2016-09-12",
          "2016-09-14",
          "2016-09-15",
          "2016-09-16",
          "2016-09-18",
          "2016-09-20",
          "2016-09-22",
          "2016-09-23",
          "2016-09-28",
          "2016-10-07",
          "2016-10-11",
          "2016-10-14",
          "2016-10-15",
          "2016-10-16",
          "2016-10-17",
          "2016-10-23",
          "2016-10-26",
          "2016-10-28",
          "2016-10-30",
          "2016-10-31",
          "2016-11-01",
          "2016-11-02",
          "2016-11-04",
          "2016-11-05",
          "2016-11-06",
          "2016-11-07",
          "2016-11-08",
          "2016-11-09",
          "2016-11-10",
          "2016-11-11",
          "2016-11-14",
          "2016-11-15",
          "2016-11-16",
          "2016-11-17",
          "2016-11-19",
          "2016-11-21",
          "2016-11-23",
          "2016-11-24",
          "2016-11-26",
          "2016-11-30",
          "2016-12-01",
          "2016-12-05",
          "2016-12-06",
          "2016-12-07",
          "2016-12-08",
          "2016-12-09",
          "2016-12-10",
          "2016-12-14",
          "2016-12-15"
         ],
         "xaxis": "x",
         "y": [
          793.26,
          737.3,
          600,
          501.49,
          146.26,
          819.26,
          1246,
          135,
          1720.79,
          195.12,
          163,
          403.26,
          140,
          250,
          323.59000000000003,
          762.26,
          3167.12,
          176.5,
          535.19,
          210.1,
          306.5,
          939.86,
          798.65,
          2462.92,
          533.9,
          500,
          164.21,
          33.9,
          40,
          648.9,
          288.94,
          125,
          1182.45,
          250,
          326.52,
          1198.46,
          1.26,
          1362.96,
          1210.04,
          6.58,
          882.85,
          135,
          882.45,
          1080.69,
          582.45,
          175,
          1069.8,
          582.45,
          70.15,
          635,
          146.46,
          20.88,
          498,
          2194.87,
          1.32,
          3.84,
          52.08,
          405.36,
          1024.0800000000002,
          194.5,
          1500,
          689.8,
          275.85,
          340.37,
          2718.2,
          680.3499999999999,
          379.55,
          500,
          135,
          737.69,
          250,
          1213.45,
          57.55,
          50,
          340.38,
          135,
          1853.64,
          776.5,
          242.45,
          211.1,
          854.47,
          751.92,
          1.43,
          1000,
          336.35,
          300,
          135,
          12.52,
          3907.08,
          778,
          253,
          36.96,
          0.75,
          1019.19,
          2193.87,
          957.91,
          437.62,
          204,
          380.05,
          400,
          166,
          426.75,
          194.5,
          34.04,
          1359.11,
          783.47,
          478.99,
          686.62,
          2008.23,
          26523.59,
          1359.11,
          1.36,
          35,
          115.39,
          467.90999999999997,
          2403.08,
          135,
          744.94,
          500,
          500,
          25,
          260,
          440.44,
          250,
          1648.25,
          194.5,
          1155.87,
          1359.1
         ],
         "yaxis": "y"
        },
        {
         "hoverlabel": {
          "namelength": 0
         },
         "hovertemplate": "transaction_type=running_balance<br>date=%{x}<br>amount=%{y}",
         "legendgroup": "running_balance",
         "line": {
          "color": "#EF553B",
          "dash": "solid"
         },
         "mode": "lines",
         "name": "running_balance",
         "showlegend": true,
         "type": "scatter",
         "x": [
          "2016-04-12",
          "2016-04-13",
          "2016-04-14",
          "2016-04-15",
          "2016-04-16",
          "2016-04-17",
          "2016-04-18",
          "2016-04-19",
          "2016-04-20",
          "2016-04-21",
          "2016-04-22",
          "2016-04-23",
          "2016-04-24",
          "2016-04-25",
          "2016-04-26",
          "2016-04-27",
          "2016-04-28",
          "2016-04-29",
          "2016-04-30",
          "2016-05-02",
          "2016-05-03",
          "2016-05-04",
          "2016-05-05",
          "2016-05-06",
          "2016-05-07",
          "2016-05-08",
          "2016-05-09",
          "2016-05-10",
          "2016-05-11",
          "2016-05-12",
          "2016-05-13",
          "2016-05-14",
          "2016-05-15",
          "2016-05-16",
          "2016-05-17",
          "2016-05-18",
          "2016-05-19",
          "2016-05-20",
          "2016-05-21",
          "2016-05-22",
          "2016-05-23",
          "2016-05-24",
          "2016-05-25",
          "2016-05-26",
          "2016-05-27",
          "2016-05-28",
          "2016-05-29",
          "2016-05-30",
          "2016-05-31",
          "2016-06-01",
          "2016-06-02",
          "2016-06-03",
          "2016-06-04",
          "2016-06-05",
          "2016-06-06",
          "2016-06-07",
          "2016-06-08",
          "2016-06-09",
          "2016-06-10",
          "2016-06-11",
          "2016-06-12",
          "2016-06-13",
          "2016-06-14",
          "2016-06-15",
          "2016-06-16",
          "2016-06-17",
          "2016-06-18",
          "2016-06-19",
          "2016-06-20",
          "2016-06-21",
          "2016-06-22",
          "2016-06-23",
          "2016-06-24",
          "2016-06-25",
          "2016-06-26",
          "2016-06-27",
          "2016-06-28",
          "2016-06-29",
          "2016-06-30",
          "2016-07-01",
          "2016-07-02",
          "2016-07-03",
          "2016-07-04",
          "2016-07-05",
          "2016-07-06",
          "2016-07-07",
          "2016-07-08",
          "2016-07-09",
          "2016-07-10",
          "2016-07-11",
          "2016-07-12",
          "2016-07-13",
          "2016-07-14",
          "2016-07-15",
          "2016-07-16",
          "2016-07-17",
          "2016-07-18",
          "2016-07-19",
          "2016-07-20",
          "2016-07-21",
          "2016-07-26",
          "2016-07-27",
          "2016-08-03",
          "2016-08-05",
          "2016-08-06",
          "2016-08-07",
          "2016-08-08",
          "2016-08-09",
          "2016-08-10",
          "2016-08-11",
          "2016-08-12",
          "2016-08-13",
          "2016-08-15",
          "2016-08-16",
          "2016-08-17",
          "2016-08-18",
          "2016-08-19",
          "2016-08-20",
          "2016-08-22",
          "2016-08-23",
          "2016-08-24",
          "2016-08-25",
          "2016-08-26",
          "2016-08-27",
          "2016-08-28",
          "2016-08-29",
          "2016-08-30",
          "2016-08-31",
          "2016-09-01",
          "2016-09-02",
          "2016-09-03",
          "2016-09-04",
          "2016-09-05",
          "2016-09-06",
          "2016-09-07",
          "2016-09-08",
          "2016-09-09",
          "2016-09-10",
          "2016-09-11",
          "2016-09-12",
          "2016-09-13",
          "2016-09-14",
          "2016-09-15",
          "2016-09-16",
          "2016-09-17",
          "2016-09-18",
          "2016-09-19",
          "2016-09-20",
          "2016-09-21",
          "2016-09-22",
          "2016-09-23",
          "2016-09-24",
          "2016-09-25",
          "2016-09-26",
          "2016-09-28",
          "2016-10-05",
          "2016-10-07",
          "2016-10-08",
          "2016-10-10",
          "2016-10-11",
          "2016-10-12",
          "2016-10-13",
          "2016-10-14",
          "2016-10-15",
          "2016-10-16",
          "2016-10-17",
          "2016-10-18",
          "2016-10-19",
          "2016-10-20",
          "2016-10-21",
          "2016-10-23",
          "2016-10-24",
          "2016-10-25",
          "2016-10-26",
          "2016-10-27",
          "2016-10-28",
          "2016-10-29",
          "2016-10-30",
          "2016-10-31",
          "2016-11-01",
          "2016-11-02",
          "2016-11-03",
          "2016-11-04",
          "2016-11-05",
          "2016-11-06",
          "2016-11-07",
          "2016-11-08",
          "2016-11-09",
          "2016-11-10",
          "2016-11-11",
          "2016-11-12",
          "2016-11-13",
          "2016-11-14",
          "2016-11-15",
          "2016-11-16",
          "2016-11-17",
          "2016-11-18",
          "2016-11-19",
          "2016-11-20",
          "2016-11-21",
          "2016-11-22",
          "2016-11-23",
          "2016-11-24",
          "2016-11-25",
          "2016-11-26",
          "2016-11-27",
          "2016-11-28",
          "2016-11-29",
          "2016-11-30",
          "2016-12-01",
          "2016-12-02",
          "2016-12-03",
          "2016-12-04",
          "2016-12-05",
          "2016-12-06",
          "2016-12-07",
          "2016-12-08",
          "2016-12-09",
          "2016-12-10",
          "2016-12-11",
          "2016-12-12",
          "2016-12-13",
          "2016-12-14",
          "2016-12-15"
         ],
         "xaxis": "x",
         "y": [
          587.52,
          348.87,
          251.53,
          64.16,
          482.31,
          438.81,
          307.93,
          414.92,
          504.53,
          1318.76,
          991.1,
          705.34,
          691.06,
          602.86,
          337.49,
          2006.33,
          2158.9,
          2011.42,
          1665.26,
          1501.73,
          1549.4,
          1868.02,
          2008.02,
          -25.15,
          83.95,
          66.14,
          351.47,
          119.32,
          97.01,
          3163.94,
          2670.44,
          2419.1,
          2336.66,
          2090.39,
          1987.06,
          2153.59,
          1843.56,
          247.98,
          190.51,
          150.51,
          911.19,
          1473.72,
          3272.83,
          3508.18,
          1197.67,
          978.56,
          813.36,
          373.06,
          33.12,
          281.46,
          277.58,
          -0.76,
          -14.15,
          1.12,
          -33.98,
          271.31,
          496.08,
          95.79,
          1232.45,
          1252.83,
          1194.41,
          874.45,
          440.4,
          717.65,
          301.28,
          700.26,
          406.49,
          1616.53,
          1077.66,
          177.26,
          134.45,
          -8.8,
          628.82,
          695.39,
          633.72,
          302.76,
          733.15,
          1537.41,
          1966.97,
          1827.86,
          1857.68,
          1782.98,
          2316.05,
          429.93,
          189.74,
          114.74,
          113.95,
          -8.04,
          -62.91,
          466.61,
          550.46,
          247.85,
          664.17,
          1527.05,
          1425.03,
          1335.66,
          463.74,
          302.75,
          -365.93,
          -743.88,
          -868.88,
          -816.8,
          -411.44,
          612.64,
          526.14,
          672.44,
          644.5,
          2069.5,
          2649.43,
          496.42,
          476.42,
          363.74,
          2389.68,
          1572.78,
          1097.49,
          906.28,
          830.67,
          554.27,
          500.96,
          577.15,
          1212.16,
          97.86,
          183.84,
          133.84,
          8.97,
          988.41,
          811.31,
          814.18,
          470.04,
          341.39,
          410.92,
          500.21,
          327.71,
          1991.63,
          665.72,
          370.08,
          498.23,
          295.05,
          226.21,
          278.64,
          99.57,
          693.22,
          829.43,
          611.24,
          344.49,
          1306.17,
          482,
          269.63,
          23.5,
          323.5,
          337.31,
          202.01,
          179.42,
          -213.98,
          -1156.1,
          -1316.1,
          2590.98,
          2489.78,
          2331.48,
          404.5,
          190.85,
          161.55,
          257.55,
          120.49,
          35.41,
          401.5,
          162.72,
          -263.28,
          -385.03,
          -651.03,
          1542.84,
          1538.46,
          451.14,
          461.88,
          342.23,
          438.62,
          311.41,
          422.77,
          619.02,
          629.13,
          659.3,
          271.72,
          478.31,
          650.48,
          684.52,
          1756.93,
          2122.57,
          188.46,
          393.92,
          2283.59,
          1636.99,
          1433.77,
          1031.86,
          1698.67,
          1614.39,
          1009.28,
          551.53,
          625.21,
          515.49,
          325.38,
          -462.13,
          1671.33,
          1544.05,
          1131.08,
          1338.58,
          1287.39,
          776.92,
          229.89,
          503.21,
          756.17,
          388.69,
          136.18,
          107.11,
          -158.99,
          -280.6,
          139.84,
          330.12,
          1696.98,
          1547.16,
          1504.64,
          1289.61,
          626.78,
          1317.57,
          2056.38
         ],
         "yaxis": "y"
        },
        {
         "hoverlabel": {
          "namelength": 0
         },
         "hovertemplate": "transaction_type=debit<br>date=%{x}<br>amount=%{y}",
         "legendgroup": "debit",
         "line": {
          "color": "#00cc96",
          "dash": "solid"
         },
         "mode": "lines",
         "name": "debit",
         "showlegend": true,
         "type": "scatter",
         "x": [
          "2016-04-12",
          "2016-04-13",
          "2016-04-14",
          "2016-04-15",
          "2016-04-16",
          "2016-04-17",
          "2016-04-18",
          "2016-04-19",
          "2016-04-20",
          "2016-04-21",
          "2016-04-22",
          "2016-04-23",
          "2016-04-24",
          "2016-04-25",
          "2016-04-26",
          "2016-04-27",
          "2016-04-28",
          "2016-04-29",
          "2016-04-30",
          "2016-05-02",
          "2016-05-03",
          "2016-05-04",
          "2016-05-06",
          "2016-05-07",
          "2016-05-08",
          "2016-05-09",
          "2016-05-10",
          "2016-05-11",
          "2016-05-12",
          "2016-05-13",
          "2016-05-14",
          "2016-05-15",
          "2016-05-16",
          "2016-05-17",
          "2016-05-18",
          "2016-05-19",
          "2016-05-20",
          "2016-05-21",
          "2016-05-22",
          "2016-05-23",
          "2016-05-24",
          "2016-05-25",
          "2016-05-26",
          "2016-05-27",
          "2016-05-28",
          "2016-05-29",
          "2016-05-30",
          "2016-05-31",
          "2016-06-01",
          "2016-06-02",
          "2016-06-03",
          "2016-06-04",
          "2016-06-05",
          "2016-06-06",
          "2016-06-07",
          "2016-06-08",
          "2016-06-09",
          "2016-06-10",
          "2016-06-11",
          "2016-06-12",
          "2016-06-13",
          "2016-06-14",
          "2016-06-15",
          "2016-06-16",
          "2016-06-17",
          "2016-06-18",
          "2016-06-20",
          "2016-06-21",
          "2016-06-22",
          "2016-06-23",
          "2016-06-24",
          "2016-06-25",
          "2016-06-26",
          "2016-06-27",
          "2016-06-28",
          "2016-06-29",
          "2016-06-30",
          "2016-07-01",
          "2016-07-02",
          "2016-07-03",
          "2016-07-04",
          "2016-07-05",
          "2016-07-06",
          "2016-07-07",
          "2016-07-08",
          "2016-07-09",
          "2016-07-10",
          "2016-07-11",
          "2016-07-12",
          "2016-07-13",
          "2016-07-14",
          "2016-07-15",
          "2016-07-16",
          "2016-07-17",
          "2016-07-18",
          "2016-07-19",
          "2016-07-20",
          "2016-07-21",
          "2016-07-26",
          "2016-08-06",
          "2016-08-07",
          "2016-08-08",
          "2016-08-09",
          "2016-08-10",
          "2016-08-11",
          "2016-08-12",
          "2016-08-13",
          "2016-08-15",
          "2016-08-16",
          "2016-08-17",
          "2016-08-18",
          "2016-08-19",
          "2016-08-20",
          "2016-08-22",
          "2016-08-23",
          "2016-08-24",
          "2016-08-25",
          "2016-08-26",
          "2016-08-27",
          "2016-08-28",
          "2016-08-29",
          "2016-08-30",
          "2016-08-31",
          "2016-09-01",
          "2016-09-02",
          "2016-09-03",
          "2016-09-04",
          "2016-09-05",
          "2016-09-06",
          "2016-09-07",
          "2016-09-08",
          "2016-09-09",
          "2016-09-10",
          "2016-09-11",
          "2016-09-12",
          "2016-09-13",
          "2016-09-14",
          "2016-09-15",
          "2016-09-16",
          "2016-09-17",
          "2016-09-18",
          "2016-09-19",
          "2016-09-20",
          "2016-09-21",
          "2016-09-23",
          "2016-09-24",
          "2016-09-25",
          "2016-09-26",
          "2016-09-28",
          "2016-10-05",
          "2016-10-08",
          "2016-10-10",
          "2016-10-11",
          "2016-10-12",
          "2016-10-13",
          "2016-10-14",
          "2016-10-15",
          "2016-10-16",
          "2016-10-17",
          "2016-10-18",
          "2016-10-19",
          "2016-10-20",
          "2016-10-21",
          "2016-10-24",
          "2016-10-25",
          "2016-10-26",
          "2016-10-27",
          "2016-10-28",
          "2016-10-29",
          "2016-10-30",
          "2016-10-31",
          "2016-11-01",
          "2016-11-02",
          "2016-11-03",
          "2016-11-04",
          "2016-11-05",
          "2016-11-07",
          "2016-11-08",
          "2016-11-09",
          "2016-11-10",
          "2016-11-11",
          "2016-11-12",
          "2016-11-13",
          "2016-11-14",
          "2016-11-15",
          "2016-11-16",
          "2016-11-17",
          "2016-11-18",
          "2016-11-19",
          "2016-11-20",
          "2016-11-21",
          "2016-11-22",
          "2016-11-23",
          "2016-11-24",
          "2016-11-25",
          "2016-11-26",
          "2016-11-27",
          "2016-11-28",
          "2016-11-29",
          "2016-11-30",
          "2016-12-01",
          "2016-12-02",
          "2016-12-03",
          "2016-12-04",
          "2016-12-05",
          "2016-12-06",
          "2016-12-07",
          "2016-12-08",
          "2016-12-09",
          "2016-12-10",
          "2016-12-11",
          "2016-12-12",
          "2016-12-13",
          "2016-12-14",
          "2016-12-15"
         ],
         "xaxis": "x",
         "y": [
          44.44,
          975.95,
          97.34,
          787.37,
          83.34,
          43.5,
          130.88,
          39.269999999999996,
          729.65,
          431.77,
          327.66,
          420.76,
          14.28,
          88.2,
          265.37,
          51.95,
          42.55,
          147.48000000000002,
          346.16,
          163.53,
          115.33,
          84.64,
          2033.17,
          140.9,
          17.81,
          38.26,
          232.14999999999998,
          784.5699999999999,
          100.19,
          670,
          251.34,
          82.44,
          781.46,
          103.33,
          43.57,
          310.03,
          1902.0800000000002,
          57.470000000000006,
          40,
          179.18,
          236.12,
          663.81,
          298.55,
          2310.51,
          219.10999999999999,
          165.2,
          440.29999999999995,
          339.94,
          251.66,
          168.09,
          312.24,
          13.39,
          24.73,
          35.1,
          343.61,
          64.17,
          525.29,
          45.79,
          229.61999999999995,
          58.42,
          646.48,
          434.05,
          921.21,
          417.63,
          963.98,
          293.77,
          538.87,
          906.98,
          42.81,
          143.25,
          245.23000000000002,
          68.43,
          61.67,
          330.96000000000004,
          452.06,
          276.43,
          152.89,
          139.11,
          145.18,
          74.7,
          536.73,
          2468.5699999999997,
          240.19,
          75,
          70.94,
          121.99,
          54.87,
          105.48,
          62.61,
          323.49,
          81.68,
          1331.99,
          103.34,
          89.36999999999999,
          871.92,
          160.99,
          672.52,
          377.95000000000005,
          125,
          86.5,
          48.2,
          27.939999999999998,
          75,
          109.87,
          2428.86,
          360.36999999999995,
          112.67999999999999,
          692.26,
          1497.25,
          475.29,
          191.21,
          455.16,
          276.4,
          553.3100000000001,
          58.81,
          102.68,
          1114.3,
          164.02,
          50,
          124.87,
          234.01,
          177.10000000000002,
          54.68,
          344.14,
          178.65,
          270.85,
          45.71,
          172.5,
          189.72,
          2102.41,
          295.64,
          114.29999999999998,
          203.18,
          68.84,
          158.67,
          179.07000000000002,
          260.82000000000005,
          615.71,
          219.62,
          266.75,
          38.32,
          824.1700000000001,
          548.72,
          246.13,
          121.19,
          135.3,
          22.59,
          393.4,
          954.64,
          160,
          101.2,
          158.3,
          2704.98,
          213.65,
          29.3,
          157,
          174.01999999999998,
          85.83,
          653.1,
          238.78,
          426,
          121.75,
          266,
          4.38,
          1087.32,
          947.17,
          119.65,
          341.22999999999996,
          127.21,
          92.64,
          252.19,
          389.89,
          135.82999999999998,
          387.58000000000004,
          220.16,
          22.33,
          286.7,
          417.83,
          2413.1,
          481.15999999999997,
          118.56000000000002,
          646.6,
          203.22,
          26925.500000000004,
          692.3,
          85.64,
          640.1099999999999,
          457.75,
          41.71,
          109.72,
          658.02,
          787.51,
          269.62,
          262.28,
          412.96999999999997,
          537.44,
          51.19,
          510.47,
          547.03,
          226.68,
          247.04,
          367.47999999999996,
          252.51000000000002,
          29.07,
          291.09999999999997,
          381.61,
          20,
          59.72,
          281.39,
          344.32,
          42.519999999999996,
          215.03,
          662.83,
          465.08000000000004,
          620.29
         ],
         "yaxis": "y"
        }
       ],
       "layout": {
        "legend": {
         "title": {
          "text": "transaction_type"
         },
         "tracegroupgap": 0
        },
        "template": {
         "data": {
          "bar": [
           {
            "error_x": {
             "color": "#2a3f5f"
            },
            "error_y": {
             "color": "#2a3f5f"
            },
            "marker": {
             "line": {
              "color": "#E5ECF6",
              "width": 0.5
             }
            },
            "type": "bar"
           }
          ],
          "barpolar": [
           {
            "marker": {
             "line": {
              "color": "#E5ECF6",
              "width": 0.5
             }
            },
            "type": "barpolar"
           }
          ],
          "carpet": [
           {
            "aaxis": {
             "endlinecolor": "#2a3f5f",
             "gridcolor": "white",
             "linecolor": "white",
             "minorgridcolor": "white",
             "startlinecolor": "#2a3f5f"
            },
            "baxis": {
             "endlinecolor": "#2a3f5f",
             "gridcolor": "white",
             "linecolor": "white",
             "minorgridcolor": "white",
             "startlinecolor": "#2a3f5f"
            },
            "type": "carpet"
           }
          ],
          "choropleth": [
           {
            "colorbar": {
             "outlinewidth": 0,
             "ticks": ""
            },
            "type": "choropleth"
           }
          ],
          "contour": [
           {
            "colorbar": {
             "outlinewidth": 0,
             "ticks": ""
            },
            "colorscale": [
             [
              0,
              "#0d0887"
             ],
             [
              0.1111111111111111,
              "#46039f"
             ],
             [
              0.2222222222222222,
              "#7201a8"
             ],
             [
              0.3333333333333333,
              "#9c179e"
             ],
             [
              0.4444444444444444,
              "#bd3786"
             ],
             [
              0.5555555555555556,
              "#d8576b"
             ],
             [
              0.6666666666666666,
              "#ed7953"
             ],
             [
              0.7777777777777778,
              "#fb9f3a"
             ],
             [
              0.8888888888888888,
              "#fdca26"
             ],
             [
              1,
              "#f0f921"
             ]
            ],
            "type": "contour"
           }
          ],
          "contourcarpet": [
           {
            "colorbar": {
             "outlinewidth": 0,
             "ticks": ""
            },
            "type": "contourcarpet"
           }
          ],
          "heatmap": [
           {
            "colorbar": {
             "outlinewidth": 0,
             "ticks": ""
            },
            "colorscale": [
             [
              0,
              "#0d0887"
             ],
             [
              0.1111111111111111,
              "#46039f"
             ],
             [
              0.2222222222222222,
              "#7201a8"
             ],
             [
              0.3333333333333333,
              "#9c179e"
             ],
             [
              0.4444444444444444,
              "#bd3786"
             ],
             [
              0.5555555555555556,
              "#d8576b"
             ],
             [
              0.6666666666666666,
              "#ed7953"
             ],
             [
              0.7777777777777778,
              "#fb9f3a"
             ],
             [
              0.8888888888888888,
              "#fdca26"
             ],
             [
              1,
              "#f0f921"
             ]
            ],
            "type": "heatmap"
           }
          ],
          "heatmapgl": [
           {
            "colorbar": {
             "outlinewidth": 0,
             "ticks": ""
            },
            "colorscale": [
             [
              0,
              "#0d0887"
             ],
             [
              0.1111111111111111,
              "#46039f"
             ],
             [
              0.2222222222222222,
              "#7201a8"
             ],
             [
              0.3333333333333333,
              "#9c179e"
             ],
             [
              0.4444444444444444,
              "#bd3786"
             ],
             [
              0.5555555555555556,
              "#d8576b"
             ],
             [
              0.6666666666666666,
              "#ed7953"
             ],
             [
              0.7777777777777778,
              "#fb9f3a"
             ],
             [
              0.8888888888888888,
              "#fdca26"
             ],
             [
              1,
              "#f0f921"
             ]
            ],
            "type": "heatmapgl"
           }
          ],
          "histogram": [
           {
            "marker": {
             "colorbar": {
              "outlinewidth": 0,
              "ticks": ""
             }
            },
            "type": "histogram"
           }
          ],
          "histogram2d": [
           {
            "colorbar": {
             "outlinewidth": 0,
             "ticks": ""
            },
            "colorscale": [
             [
              0,
              "#0d0887"
             ],
             [
              0.1111111111111111,
              "#46039f"
             ],
             [
              0.2222222222222222,
              "#7201a8"
             ],
             [
              0.3333333333333333,
              "#9c179e"
             ],
             [
              0.4444444444444444,
              "#bd3786"
             ],
             [
              0.5555555555555556,
              "#d8576b"
             ],
             [
              0.6666666666666666,
              "#ed7953"
             ],
             [
              0.7777777777777778,
              "#fb9f3a"
             ],
             [
              0.8888888888888888,
              "#fdca26"
             ],
             [
              1,
              "#f0f921"
             ]
            ],
            "type": "histogram2d"
           }
          ],
          "histogram2dcontour": [
           {
            "colorbar": {
             "outlinewidth": 0,
             "ticks": ""
            },
            "colorscale": [
             [
              0,
              "#0d0887"
             ],
             [
              0.1111111111111111,
              "#46039f"
             ],
             [
              0.2222222222222222,
              "#7201a8"
             ],
             [
              0.3333333333333333,
              "#9c179e"
             ],
             [
              0.4444444444444444,
              "#bd3786"
             ],
             [
              0.5555555555555556,
              "#d8576b"
             ],
             [
              0.6666666666666666,
              "#ed7953"
             ],
             [
              0.7777777777777778,
              "#fb9f3a"
             ],
             [
              0.8888888888888888,
              "#fdca26"
             ],
             [
              1,
              "#f0f921"
             ]
            ],
            "type": "histogram2dcontour"
           }
          ],
          "mesh3d": [
           {
            "colorbar": {
             "outlinewidth": 0,
             "ticks": ""
            },
            "type": "mesh3d"
           }
          ],
          "parcoords": [
           {
            "line": {
             "colorbar": {
              "outlinewidth": 0,
              "ticks": ""
             }
            },
            "type": "parcoords"
           }
          ],
          "pie": [
           {
            "automargin": true,
            "type": "pie"
           }
          ],
          "scatter": [
           {
            "marker": {
             "colorbar": {
              "outlinewidth": 0,
              "ticks": ""
             }
            },
            "type": "scatter"
           }
          ],
          "scatter3d": [
           {
            "line": {
             "colorbar": {
              "outlinewidth": 0,
              "ticks": ""
             }
            },
            "marker": {
             "colorbar": {
              "outlinewidth": 0,
              "ticks": ""
             }
            },
            "type": "scatter3d"
           }
          ],
          "scattercarpet": [
           {
            "marker": {
             "colorbar": {
              "outlinewidth": 0,
              "ticks": ""
             }
            },
            "type": "scattercarpet"
           }
          ],
          "scattergeo": [
           {
            "marker": {
             "colorbar": {
              "outlinewidth": 0,
              "ticks": ""
             }
            },
            "type": "scattergeo"
           }
          ],
          "scattergl": [
           {
            "marker": {
             "colorbar": {
              "outlinewidth": 0,
              "ticks": ""
             }
            },
            "type": "scattergl"
           }
          ],
          "scattermapbox": [
           {
            "marker": {
             "colorbar": {
              "outlinewidth": 0,
              "ticks": ""
             }
            },
            "type": "scattermapbox"
           }
          ],
          "scatterpolar": [
           {
            "marker": {
             "colorbar": {
              "outlinewidth": 0,
              "ticks": ""
             }
            },
            "type": "scatterpolar"
           }
          ],
          "scatterpolargl": [
           {
            "marker": {
             "colorbar": {
              "outlinewidth": 0,
              "ticks": ""
             }
            },
            "type": "scatterpolargl"
           }
          ],
          "scatterternary": [
           {
            "marker": {
             "colorbar": {
              "outlinewidth": 0,
              "ticks": ""
             }
            },
            "type": "scatterternary"
           }
          ],
          "surface": [
           {
            "colorbar": {
             "outlinewidth": 0,
             "ticks": ""
            },
            "colorscale": [
             [
              0,
              "#0d0887"
             ],
             [
              0.1111111111111111,
              "#46039f"
             ],
             [
              0.2222222222222222,
              "#7201a8"
             ],
             [
              0.3333333333333333,
              "#9c179e"
             ],
             [
              0.4444444444444444,
              "#bd3786"
             ],
             [
              0.5555555555555556,
              "#d8576b"
             ],
             [
              0.6666666666666666,
              "#ed7953"
             ],
             [
              0.7777777777777778,
              "#fb9f3a"
             ],
             [
              0.8888888888888888,
              "#fdca26"
             ],
             [
              1,
              "#f0f921"
             ]
            ],
            "type": "surface"
           }
          ],
          "table": [
           {
            "cells": {
             "fill": {
              "color": "#EBF0F8"
             },
             "line": {
              "color": "white"
             }
            },
            "header": {
             "fill": {
              "color": "#C8D4E3"
             },
             "line": {
              "color": "white"
             }
            },
            "type": "table"
           }
          ]
         },
         "layout": {
          "annotationdefaults": {
           "arrowcolor": "#2a3f5f",
           "arrowhead": 0,
           "arrowwidth": 1
          },
          "coloraxis": {
           "colorbar": {
            "outlinewidth": 0,
            "ticks": ""
           }
          },
          "colorscale": {
           "diverging": [
            [
             0,
             "#8e0152"
            ],
            [
             0.1,
             "#c51b7d"
            ],
            [
             0.2,
             "#de77ae"
            ],
            [
             0.3,
             "#f1b6da"
            ],
            [
             0.4,
             "#fde0ef"
            ],
            [
             0.5,
             "#f7f7f7"
            ],
            [
             0.6,
             "#e6f5d0"
            ],
            [
             0.7,
             "#b8e186"
            ],
            [
             0.8,
             "#7fbc41"
            ],
            [
             0.9,
             "#4d9221"
            ],
            [
             1,
             "#276419"
            ]
           ],
           "sequential": [
            [
             0,
             "#0d0887"
            ],
            [
             0.1111111111111111,
             "#46039f"
            ],
            [
             0.2222222222222222,
             "#7201a8"
            ],
            [
             0.3333333333333333,
             "#9c179e"
            ],
            [
             0.4444444444444444,
             "#bd3786"
            ],
            [
             0.5555555555555556,
             "#d8576b"
            ],
            [
             0.6666666666666666,
             "#ed7953"
            ],
            [
             0.7777777777777778,
             "#fb9f3a"
            ],
            [
             0.8888888888888888,
             "#fdca26"
            ],
            [
             1,
             "#f0f921"
            ]
           ],
           "sequentialminus": [
            [
             0,
             "#0d0887"
            ],
            [
             0.1111111111111111,
             "#46039f"
            ],
            [
             0.2222222222222222,
             "#7201a8"
            ],
            [
             0.3333333333333333,
             "#9c179e"
            ],
            [
             0.4444444444444444,
             "#bd3786"
            ],
            [
             0.5555555555555556,
             "#d8576b"
            ],
            [
             0.6666666666666666,
             "#ed7953"
            ],
            [
             0.7777777777777778,
             "#fb9f3a"
            ],
            [
             0.8888888888888888,
             "#fdca26"
            ],
            [
             1,
             "#f0f921"
            ]
           ]
          },
          "colorway": [
           "#636efa",
           "#EF553B",
           "#00cc96",
           "#ab63fa",
           "#FFA15A",
           "#19d3f3",
           "#FF6692",
           "#B6E880",
           "#FF97FF",
           "#FECB52"
          ],
          "font": {
           "color": "#2a3f5f"
          },
          "geo": {
           "bgcolor": "white",
           "lakecolor": "white",
           "landcolor": "#E5ECF6",
           "showlakes": true,
           "showland": true,
           "subunitcolor": "white"
          },
          "hoverlabel": {
           "align": "left"
          },
          "hovermode": "closest",
          "mapbox": {
           "style": "light"
          },
          "paper_bgcolor": "white",
          "plot_bgcolor": "#E5ECF6",
          "polar": {
           "angularaxis": {
            "gridcolor": "white",
            "linecolor": "white",
            "ticks": ""
           },
           "bgcolor": "#E5ECF6",
           "radialaxis": {
            "gridcolor": "white",
            "linecolor": "white",
            "ticks": ""
           }
          },
          "scene": {
           "xaxis": {
            "backgroundcolor": "#E5ECF6",
            "gridcolor": "white",
            "gridwidth": 2,
            "linecolor": "white",
            "showbackground": true,
            "ticks": "",
            "zerolinecolor": "white"
           },
           "yaxis": {
            "backgroundcolor": "#E5ECF6",
            "gridcolor": "white",
            "gridwidth": 2,
            "linecolor": "white",
            "showbackground": true,
            "ticks": "",
            "zerolinecolor": "white"
           },
           "zaxis": {
            "backgroundcolor": "#E5ECF6",
            "gridcolor": "white",
            "gridwidth": 2,
            "linecolor": "white",
            "showbackground": true,
            "ticks": "",
            "zerolinecolor": "white"
           }
          },
          "shapedefaults": {
           "line": {
            "color": "#2a3f5f"
           }
          },
          "ternary": {
           "aaxis": {
            "gridcolor": "white",
            "linecolor": "white",
            "ticks": ""
           },
           "baxis": {
            "gridcolor": "white",
            "linecolor": "white",
            "ticks": ""
           },
           "bgcolor": "#E5ECF6",
           "caxis": {
            "gridcolor": "white",
            "linecolor": "white",
            "ticks": ""
           }
          },
          "title": {
           "x": 0.05
          },
          "xaxis": {
           "automargin": true,
           "gridcolor": "white",
           "linecolor": "white",
           "ticks": "",
           "title": {
            "standoff": 15
           },
           "zerolinecolor": "white",
           "zerolinewidth": 2
          },
          "yaxis": {
           "automargin": true,
           "gridcolor": "white",
           "linecolor": "white",
           "ticks": "",
           "title": {
            "standoff": 15
           },
           "zerolinecolor": "white",
           "zerolinewidth": 2
          }
         }
        },
        "title": {
         "text": "Lead ID=318465,bank_account_id=13419: Daily Time Series Plot"
        },
        "xaxis": {
         "anchor": "y",
         "domain": [
          0,
          1
         ],
         "title": {
          "text": "date"
         }
        },
        "yaxis": {
         "anchor": "x",
         "domain": [
          0,
          1
         ],
         "title": {
          "text": "amount"
         }
        }
       }
      },
      "text/html": [
       "<div>\n",
       "        \n",
       "        \n",
       "            <div id=\"a3526f01-5fb9-47c2-909d-53313d6fef0e\" class=\"plotly-graph-div\" style=\"height:525px; width:100%;\"></div>\n",
       "            <script type=\"text/javascript\">\n",
       "                require([\"plotly\"], function(Plotly) {\n",
       "                    window.PLOTLYENV=window.PLOTLYENV || {};\n",
       "                    \n",
       "                if (document.getElementById(\"a3526f01-5fb9-47c2-909d-53313d6fef0e\")) {\n",
       "                    Plotly.newPlot(\n",
       "                        'a3526f01-5fb9-47c2-909d-53313d6fef0e',\n",
       "                        [{\"hoverlabel\": {\"namelength\": 0}, \"hovertemplate\": \"transaction_type=credit<br>date=%{x}<br>amount=%{y}\", \"legendgroup\": \"credit\", \"line\": {\"color\": \"#636efa\", \"dash\": \"solid\"}, \"mode\": \"lines\", \"name\": \"credit\", \"showlegend\": true, \"type\": \"scatter\", \"x\": [\"2016-04-12\", \"2016-04-13\", \"2016-04-15\", \"2016-04-16\", \"2016-04-19\", \"2016-04-20\", \"2016-04-21\", \"2016-04-23\", \"2016-04-27\", \"2016-04-28\", \"2016-05-03\", \"2016-05-04\", \"2016-05-05\", \"2016-05-07\", \"2016-05-09\", \"2016-05-11\", \"2016-05-12\", \"2016-05-13\", \"2016-05-16\", \"2016-05-18\", \"2016-05-20\", \"2016-05-23\", \"2016-05-24\", \"2016-05-25\", \"2016-05-26\", \"2016-06-01\", \"2016-06-02\", \"2016-06-03\", \"2016-06-05\", \"2016-06-07\", \"2016-06-08\", \"2016-06-09\", \"2016-06-10\", \"2016-06-11\", \"2016-06-13\", \"2016-06-15\", \"2016-06-16\", \"2016-06-17\", \"2016-06-19\", \"2016-06-21\", \"2016-06-24\", \"2016-06-25\", \"2016-06-28\", \"2016-06-29\", \"2016-06-30\", \"2016-07-02\", \"2016-07-04\", \"2016-07-05\", \"2016-07-08\", \"2016-07-11\", \"2016-07-12\", \"2016-07-13\", \"2016-07-14\", \"2016-07-15\", \"2016-07-16\", \"2016-07-20\", \"2016-07-27\", \"2016-08-03\", \"2016-08-05\", \"2016-08-07\", \"2016-08-09\", \"2016-08-10\", \"2016-08-11\", \"2016-08-12\", \"2016-08-15\", \"2016-08-16\", \"2016-08-19\", \"2016-08-22\", \"2016-08-23\", \"2016-08-24\", \"2016-08-26\", \"2016-08-29\", \"2016-08-31\", \"2016-09-02\", \"2016-09-03\", \"2016-09-04\", \"2016-09-06\", \"2016-09-07\", \"2016-09-09\", \"2016-09-12\", \"2016-09-14\", \"2016-09-15\", \"2016-09-16\", \"2016-09-18\", \"2016-09-20\", \"2016-09-22\", \"2016-09-23\", \"2016-09-28\", \"2016-10-07\", \"2016-10-11\", \"2016-10-14\", \"2016-10-15\", \"2016-10-16\", \"2016-10-17\", \"2016-10-23\", \"2016-10-26\", \"2016-10-28\", \"2016-10-30\", \"2016-10-31\", \"2016-11-01\", \"2016-11-02\", \"2016-11-04\", \"2016-11-05\", \"2016-11-06\", \"2016-11-07\", \"2016-11-08\", \"2016-11-09\", \"2016-11-10\", \"2016-11-11\", \"2016-11-14\", \"2016-11-15\", \"2016-11-16\", \"2016-11-17\", \"2016-11-19\", \"2016-11-21\", \"2016-11-23\", \"2016-11-24\", \"2016-11-26\", \"2016-11-30\", \"2016-12-01\", \"2016-12-05\", \"2016-12-06\", \"2016-12-07\", \"2016-12-08\", \"2016-12-09\", \"2016-12-10\", \"2016-12-14\", \"2016-12-15\"], \"xaxis\": \"x\", \"y\": [793.26, 737.3, 600.0, 501.49, 146.26, 819.26, 1246.0, 135.0, 1720.79, 195.12, 163.0, 403.26, 140.0, 250.0, 323.59000000000003, 762.26, 3167.12, 176.5, 535.19, 210.1, 306.5, 939.86, 798.65, 2462.92, 533.9, 500.0, 164.21, 33.9, 40.0, 648.9, 288.94, 125.0, 1182.45, 250.0, 326.52, 1198.46, 1.26, 1362.96, 1210.04, 6.58, 882.85, 135.0, 882.45, 1080.69, 582.45, 175.0, 1069.8, 582.45, 70.15, 635.0, 146.46, 20.88, 498.0, 2194.87, 1.32, 3.84, 52.08, 405.36, 1024.0800000000002, 194.5, 1500.0, 689.8, 275.85, 340.37, 2718.2, 680.3499999999999, 379.55, 500.0, 135.0, 737.69, 250.0, 1213.45, 57.55, 50.0, 340.38, 135.0, 1853.64, 776.5, 242.45, 211.1, 854.47, 751.92, 1.43, 1000.0, 336.35, 300.0, 135.0, 12.52, 3907.08, 778.0, 253.0, 36.96, 0.75, 1019.19, 2193.87, 957.91, 437.62, 204.0, 380.05, 400.0, 166.0, 426.75, 194.5, 34.04, 1359.11, 783.47, 478.99, 686.62, 2008.23, 26523.59, 1359.11, 1.36, 35.0, 115.39, 467.90999999999997, 2403.08, 135.0, 744.94, 500.0, 500.0, 25.0, 260.0, 440.44, 250.0, 1648.25, 194.5, 1155.87, 1359.1], \"yaxis\": \"y\"}, {\"hoverlabel\": {\"namelength\": 0}, \"hovertemplate\": \"transaction_type=running_balance<br>date=%{x}<br>amount=%{y}\", \"legendgroup\": \"running_balance\", \"line\": {\"color\": \"#EF553B\", \"dash\": \"solid\"}, \"mode\": \"lines\", \"name\": \"running_balance\", \"showlegend\": true, \"type\": \"scatter\", \"x\": [\"2016-04-12\", \"2016-04-13\", \"2016-04-14\", \"2016-04-15\", \"2016-04-16\", \"2016-04-17\", \"2016-04-18\", \"2016-04-19\", \"2016-04-20\", \"2016-04-21\", \"2016-04-22\", \"2016-04-23\", \"2016-04-24\", \"2016-04-25\", \"2016-04-26\", \"2016-04-27\", \"2016-04-28\", \"2016-04-29\", \"2016-04-30\", \"2016-05-02\", \"2016-05-03\", \"2016-05-04\", \"2016-05-05\", \"2016-05-06\", \"2016-05-07\", \"2016-05-08\", \"2016-05-09\", \"2016-05-10\", \"2016-05-11\", \"2016-05-12\", \"2016-05-13\", \"2016-05-14\", \"2016-05-15\", \"2016-05-16\", \"2016-05-17\", \"2016-05-18\", \"2016-05-19\", \"2016-05-20\", \"2016-05-21\", \"2016-05-22\", \"2016-05-23\", \"2016-05-24\", \"2016-05-25\", \"2016-05-26\", \"2016-05-27\", \"2016-05-28\", \"2016-05-29\", \"2016-05-30\", \"2016-05-31\", \"2016-06-01\", \"2016-06-02\", \"2016-06-03\", \"2016-06-04\", \"2016-06-05\", \"2016-06-06\", \"2016-06-07\", \"2016-06-08\", \"2016-06-09\", \"2016-06-10\", \"2016-06-11\", \"2016-06-12\", \"2016-06-13\", \"2016-06-14\", \"2016-06-15\", \"2016-06-16\", \"2016-06-17\", \"2016-06-18\", \"2016-06-19\", \"2016-06-20\", \"2016-06-21\", \"2016-06-22\", \"2016-06-23\", \"2016-06-24\", \"2016-06-25\", \"2016-06-26\", \"2016-06-27\", \"2016-06-28\", \"2016-06-29\", \"2016-06-30\", \"2016-07-01\", \"2016-07-02\", \"2016-07-03\", \"2016-07-04\", \"2016-07-05\", \"2016-07-06\", \"2016-07-07\", \"2016-07-08\", \"2016-07-09\", \"2016-07-10\", \"2016-07-11\", \"2016-07-12\", \"2016-07-13\", \"2016-07-14\", \"2016-07-15\", \"2016-07-16\", \"2016-07-17\", \"2016-07-18\", \"2016-07-19\", \"2016-07-20\", \"2016-07-21\", \"2016-07-26\", \"2016-07-27\", \"2016-08-03\", \"2016-08-05\", \"2016-08-06\", \"2016-08-07\", \"2016-08-08\", \"2016-08-09\", \"2016-08-10\", \"2016-08-11\", \"2016-08-12\", \"2016-08-13\", \"2016-08-15\", \"2016-08-16\", \"2016-08-17\", \"2016-08-18\", \"2016-08-19\", \"2016-08-20\", \"2016-08-22\", \"2016-08-23\", \"2016-08-24\", \"2016-08-25\", \"2016-08-26\", \"2016-08-27\", \"2016-08-28\", \"2016-08-29\", \"2016-08-30\", \"2016-08-31\", \"2016-09-01\", \"2016-09-02\", \"2016-09-03\", \"2016-09-04\", \"2016-09-05\", \"2016-09-06\", \"2016-09-07\", \"2016-09-08\", \"2016-09-09\", \"2016-09-10\", \"2016-09-11\", \"2016-09-12\", \"2016-09-13\", \"2016-09-14\", \"2016-09-15\", \"2016-09-16\", \"2016-09-17\", \"2016-09-18\", \"2016-09-19\", \"2016-09-20\", \"2016-09-21\", \"2016-09-22\", \"2016-09-23\", \"2016-09-24\", \"2016-09-25\", \"2016-09-26\", \"2016-09-28\", \"2016-10-05\", \"2016-10-07\", \"2016-10-08\", \"2016-10-10\", \"2016-10-11\", \"2016-10-12\", \"2016-10-13\", \"2016-10-14\", \"2016-10-15\", \"2016-10-16\", \"2016-10-17\", \"2016-10-18\", \"2016-10-19\", \"2016-10-20\", \"2016-10-21\", \"2016-10-23\", \"2016-10-24\", \"2016-10-25\", \"2016-10-26\", \"2016-10-27\", \"2016-10-28\", \"2016-10-29\", \"2016-10-30\", \"2016-10-31\", \"2016-11-01\", \"2016-11-02\", \"2016-11-03\", \"2016-11-04\", \"2016-11-05\", \"2016-11-06\", \"2016-11-07\", \"2016-11-08\", \"2016-11-09\", \"2016-11-10\", \"2016-11-11\", \"2016-11-12\", \"2016-11-13\", \"2016-11-14\", \"2016-11-15\", \"2016-11-16\", \"2016-11-17\", \"2016-11-18\", \"2016-11-19\", \"2016-11-20\", \"2016-11-21\", \"2016-11-22\", \"2016-11-23\", \"2016-11-24\", \"2016-11-25\", \"2016-11-26\", \"2016-11-27\", \"2016-11-28\", \"2016-11-29\", \"2016-11-30\", \"2016-12-01\", \"2016-12-02\", \"2016-12-03\", \"2016-12-04\", \"2016-12-05\", \"2016-12-06\", \"2016-12-07\", \"2016-12-08\", \"2016-12-09\", \"2016-12-10\", \"2016-12-11\", \"2016-12-12\", \"2016-12-13\", \"2016-12-14\", \"2016-12-15\"], \"xaxis\": \"x\", \"y\": [587.52, 348.87, 251.53, 64.16, 482.31, 438.81, 307.93, 414.92, 504.53, 1318.76, 991.1, 705.34, 691.06, 602.86, 337.49, 2006.33, 2158.9, 2011.42, 1665.26, 1501.73, 1549.4, 1868.02, 2008.02, -25.15, 83.95, 66.14, 351.47, 119.32, 97.01, 3163.94, 2670.44, 2419.1, 2336.66, 2090.39, 1987.06, 2153.59, 1843.56, 247.98, 190.51, 150.51, 911.19, 1473.72, 3272.83, 3508.18, 1197.67, 978.56, 813.36, 373.06, 33.12, 281.46, 277.58, -0.76, -14.15, 1.12, -33.98, 271.31, 496.08, 95.79, 1232.45, 1252.83, 1194.41, 874.45, 440.4, 717.65, 301.28, 700.26, 406.49, 1616.53, 1077.66, 177.26, 134.45, -8.8, 628.82, 695.39, 633.72, 302.76, 733.15, 1537.41, 1966.97, 1827.86, 1857.68, 1782.98, 2316.05, 429.93, 189.74, 114.74, 113.95, -8.04, -62.91, 466.61, 550.46, 247.85, 664.17, 1527.05, 1425.03, 1335.66, 463.74, 302.75, -365.93, -743.88, -868.88, -816.8, -411.44, 612.64, 526.14, 672.44, 644.5, 2069.5, 2649.43, 496.42, 476.42, 363.74, 2389.68, 1572.78, 1097.49, 906.28, 830.67, 554.27, 500.96, 577.15, 1212.16, 97.86, 183.84, 133.84, 8.97, 988.41, 811.31, 814.18, 470.04, 341.39, 410.92, 500.21, 327.71, 1991.63, 665.72, 370.08, 498.23, 295.05, 226.21, 278.64, 99.57, 693.22, 829.43, 611.24, 344.49, 1306.17, 482.0, 269.63, 23.5, 323.5, 337.31, 202.01, 179.42, -213.98, -1156.1, -1316.1, 2590.98, 2489.78, 2331.48, 404.5, 190.85, 161.55, 257.55, 120.49, 35.41, 401.5, 162.72, -263.28, -385.03, -651.03, 1542.84, 1538.46, 451.14, 461.88, 342.23, 438.62, 311.41, 422.77, 619.02, 629.13, 659.3, 271.72, 478.31, 650.48, 684.52, 1756.93, 2122.57, 188.46, 393.92, 2283.59, 1636.99, 1433.77, 1031.86, 1698.67, 1614.39, 1009.28, 551.53, 625.21, 515.49, 325.38, -462.13, 1671.33, 1544.05, 1131.08, 1338.58, 1287.39, 776.92, 229.89, 503.21, 756.17, 388.69, 136.18, 107.11, -158.99, -280.6, 139.84, 330.12, 1696.98, 1547.16, 1504.64, 1289.61, 626.78, 1317.57, 2056.38], \"yaxis\": \"y\"}, {\"hoverlabel\": {\"namelength\": 0}, \"hovertemplate\": \"transaction_type=debit<br>date=%{x}<br>amount=%{y}\", \"legendgroup\": \"debit\", \"line\": {\"color\": \"#00cc96\", \"dash\": \"solid\"}, \"mode\": \"lines\", \"name\": \"debit\", \"showlegend\": true, \"type\": \"scatter\", \"x\": [\"2016-04-12\", \"2016-04-13\", \"2016-04-14\", \"2016-04-15\", \"2016-04-16\", \"2016-04-17\", \"2016-04-18\", \"2016-04-19\", \"2016-04-20\", \"2016-04-21\", \"2016-04-22\", \"2016-04-23\", \"2016-04-24\", \"2016-04-25\", \"2016-04-26\", \"2016-04-27\", \"2016-04-28\", \"2016-04-29\", \"2016-04-30\", \"2016-05-02\", \"2016-05-03\", \"2016-05-04\", \"2016-05-06\", \"2016-05-07\", \"2016-05-08\", \"2016-05-09\", \"2016-05-10\", \"2016-05-11\", \"2016-05-12\", \"2016-05-13\", \"2016-05-14\", \"2016-05-15\", \"2016-05-16\", \"2016-05-17\", \"2016-05-18\", \"2016-05-19\", \"2016-05-20\", \"2016-05-21\", \"2016-05-22\", \"2016-05-23\", \"2016-05-24\", \"2016-05-25\", \"2016-05-26\", \"2016-05-27\", \"2016-05-28\", \"2016-05-29\", \"2016-05-30\", \"2016-05-31\", \"2016-06-01\", \"2016-06-02\", \"2016-06-03\", \"2016-06-04\", \"2016-06-05\", \"2016-06-06\", \"2016-06-07\", \"2016-06-08\", \"2016-06-09\", \"2016-06-10\", \"2016-06-11\", \"2016-06-12\", \"2016-06-13\", \"2016-06-14\", \"2016-06-15\", \"2016-06-16\", \"2016-06-17\", \"2016-06-18\", \"2016-06-20\", \"2016-06-21\", \"2016-06-22\", \"2016-06-23\", \"2016-06-24\", \"2016-06-25\", \"2016-06-26\", \"2016-06-27\", \"2016-06-28\", \"2016-06-29\", \"2016-06-30\", \"2016-07-01\", \"2016-07-02\", \"2016-07-03\", \"2016-07-04\", \"2016-07-05\", \"2016-07-06\", \"2016-07-07\", \"2016-07-08\", \"2016-07-09\", \"2016-07-10\", \"2016-07-11\", \"2016-07-12\", \"2016-07-13\", \"2016-07-14\", \"2016-07-15\", \"2016-07-16\", \"2016-07-17\", \"2016-07-18\", \"2016-07-19\", \"2016-07-20\", \"2016-07-21\", \"2016-07-26\", \"2016-08-06\", \"2016-08-07\", \"2016-08-08\", \"2016-08-09\", \"2016-08-10\", \"2016-08-11\", \"2016-08-12\", \"2016-08-13\", \"2016-08-15\", \"2016-08-16\", \"2016-08-17\", \"2016-08-18\", \"2016-08-19\", \"2016-08-20\", \"2016-08-22\", \"2016-08-23\", \"2016-08-24\", \"2016-08-25\", \"2016-08-26\", \"2016-08-27\", \"2016-08-28\", \"2016-08-29\", \"2016-08-30\", \"2016-08-31\", \"2016-09-01\", \"2016-09-02\", \"2016-09-03\", \"2016-09-04\", \"2016-09-05\", \"2016-09-06\", \"2016-09-07\", \"2016-09-08\", \"2016-09-09\", \"2016-09-10\", \"2016-09-11\", \"2016-09-12\", \"2016-09-13\", \"2016-09-14\", \"2016-09-15\", \"2016-09-16\", \"2016-09-17\", \"2016-09-18\", \"2016-09-19\", \"2016-09-20\", \"2016-09-21\", \"2016-09-23\", \"2016-09-24\", \"2016-09-25\", \"2016-09-26\", \"2016-09-28\", \"2016-10-05\", \"2016-10-08\", \"2016-10-10\", \"2016-10-11\", \"2016-10-12\", \"2016-10-13\", \"2016-10-14\", \"2016-10-15\", \"2016-10-16\", \"2016-10-17\", \"2016-10-18\", \"2016-10-19\", \"2016-10-20\", \"2016-10-21\", \"2016-10-24\", \"2016-10-25\", \"2016-10-26\", \"2016-10-27\", \"2016-10-28\", \"2016-10-29\", \"2016-10-30\", \"2016-10-31\", \"2016-11-01\", \"2016-11-02\", \"2016-11-03\", \"2016-11-04\", \"2016-11-05\", \"2016-11-07\", \"2016-11-08\", \"2016-11-09\", \"2016-11-10\", \"2016-11-11\", \"2016-11-12\", \"2016-11-13\", \"2016-11-14\", \"2016-11-15\", \"2016-11-16\", \"2016-11-17\", \"2016-11-18\", \"2016-11-19\", \"2016-11-20\", \"2016-11-21\", \"2016-11-22\", \"2016-11-23\", \"2016-11-24\", \"2016-11-25\", \"2016-11-26\", \"2016-11-27\", \"2016-11-28\", \"2016-11-29\", \"2016-11-30\", \"2016-12-01\", \"2016-12-02\", \"2016-12-03\", \"2016-12-04\", \"2016-12-05\", \"2016-12-06\", \"2016-12-07\", \"2016-12-08\", \"2016-12-09\", \"2016-12-10\", \"2016-12-11\", \"2016-12-12\", \"2016-12-13\", \"2016-12-14\", \"2016-12-15\"], \"xaxis\": \"x\", \"y\": [44.44, 975.95, 97.34, 787.37, 83.34, 43.5, 130.88, 39.269999999999996, 729.65, 431.77, 327.66, 420.76, 14.28, 88.2, 265.37, 51.95, 42.55, 147.48000000000002, 346.16, 163.53, 115.33, 84.64, 2033.17, 140.9, 17.81, 38.26, 232.14999999999998, 784.5699999999999, 100.19, 670.0, 251.34, 82.44, 781.46, 103.33, 43.57, 310.03, 1902.0800000000002, 57.470000000000006, 40.0, 179.18, 236.12, 663.81, 298.55, 2310.51, 219.10999999999999, 165.2, 440.29999999999995, 339.94, 251.66, 168.09, 312.24, 13.39, 24.73, 35.1, 343.61, 64.17, 525.29, 45.79, 229.61999999999995, 58.42, 646.48, 434.05, 921.21, 417.63, 963.98, 293.77, 538.87, 906.98, 42.81, 143.25, 245.23000000000002, 68.43, 61.67, 330.96000000000004, 452.06, 276.43, 152.89, 139.11, 145.18, 74.7, 536.73, 2468.5699999999997, 240.19, 75.0, 70.94, 121.99, 54.87, 105.48, 62.61, 323.49, 81.68, 1331.99, 103.34, 89.36999999999999, 871.92, 160.99, 672.52, 377.95000000000005, 125.0, 86.5, 48.2, 27.939999999999998, 75.0, 109.87, 2428.86, 360.36999999999995, 112.67999999999999, 692.26, 1497.25, 475.29, 191.21, 455.16, 276.4, 553.3100000000001, 58.81, 102.68, 1114.3, 164.02, 50.0, 124.87, 234.01, 177.10000000000002, 54.68, 344.14, 178.65, 270.85, 45.71, 172.5, 189.72, 2102.41, 295.64, 114.29999999999998, 203.18, 68.84, 158.67, 179.07000000000002, 260.82000000000005, 615.71, 219.62, 266.75, 38.32, 824.1700000000001, 548.72, 246.13, 121.19, 135.3, 22.59, 393.4, 954.64, 160.0, 101.2, 158.3, 2704.98, 213.65, 29.3, 157.0, 174.01999999999998, 85.83, 653.1, 238.78, 426.0, 121.75, 266.0, 4.38, 1087.32, 947.17, 119.65, 341.22999999999996, 127.21, 92.64, 252.19, 389.89, 135.82999999999998, 387.58000000000004, 220.16, 22.33, 286.7, 417.83, 2413.1, 481.15999999999997, 118.56000000000002, 646.6, 203.22, 26925.500000000004, 692.3, 85.64, 640.1099999999999, 457.75, 41.71, 109.72, 658.02, 787.51, 269.62, 262.28, 412.96999999999997, 537.44, 51.19, 510.47, 547.03, 226.68, 247.04, 367.47999999999996, 252.51000000000002, 29.07, 291.09999999999997, 381.61, 20.0, 59.72, 281.39, 344.32, 42.519999999999996, 215.03, 662.83, 465.08000000000004, 620.29], \"yaxis\": \"y\"}],\n",
       "                        {\"legend\": {\"title\": {\"text\": \"transaction_type\"}, \"tracegroupgap\": 0}, \"template\": {\"data\": {\"bar\": [{\"error_x\": {\"color\": \"#2a3f5f\"}, \"error_y\": {\"color\": \"#2a3f5f\"}, \"marker\": {\"line\": {\"color\": \"#E5ECF6\", \"width\": 0.5}}, \"type\": \"bar\"}], \"barpolar\": [{\"marker\": {\"line\": {\"color\": \"#E5ECF6\", \"width\": 0.5}}, \"type\": \"barpolar\"}], \"carpet\": [{\"aaxis\": {\"endlinecolor\": \"#2a3f5f\", \"gridcolor\": \"white\", \"linecolor\": \"white\", \"minorgridcolor\": \"white\", \"startlinecolor\": \"#2a3f5f\"}, \"baxis\": {\"endlinecolor\": \"#2a3f5f\", \"gridcolor\": \"white\", \"linecolor\": \"white\", \"minorgridcolor\": \"white\", \"startlinecolor\": \"#2a3f5f\"}, \"type\": \"carpet\"}], \"choropleth\": [{\"colorbar\": {\"outlinewidth\": 0, \"ticks\": \"\"}, \"type\": \"choropleth\"}], \"contour\": [{\"colorbar\": {\"outlinewidth\": 0, \"ticks\": \"\"}, \"colorscale\": [[0.0, \"#0d0887\"], [0.1111111111111111, \"#46039f\"], [0.2222222222222222, \"#7201a8\"], [0.3333333333333333, \"#9c179e\"], [0.4444444444444444, \"#bd3786\"], [0.5555555555555556, \"#d8576b\"], [0.6666666666666666, \"#ed7953\"], [0.7777777777777778, \"#fb9f3a\"], [0.8888888888888888, \"#fdca26\"], [1.0, \"#f0f921\"]], \"type\": \"contour\"}], \"contourcarpet\": [{\"colorbar\": {\"outlinewidth\": 0, \"ticks\": \"\"}, \"type\": \"contourcarpet\"}], \"heatmap\": [{\"colorbar\": {\"outlinewidth\": 0, \"ticks\": \"\"}, \"colorscale\": [[0.0, \"#0d0887\"], [0.1111111111111111, \"#46039f\"], [0.2222222222222222, \"#7201a8\"], [0.3333333333333333, \"#9c179e\"], [0.4444444444444444, \"#bd3786\"], [0.5555555555555556, \"#d8576b\"], [0.6666666666666666, \"#ed7953\"], [0.7777777777777778, \"#fb9f3a\"], [0.8888888888888888, \"#fdca26\"], [1.0, \"#f0f921\"]], \"type\": \"heatmap\"}], \"heatmapgl\": [{\"colorbar\": {\"outlinewidth\": 0, \"ticks\": \"\"}, \"colorscale\": [[0.0, \"#0d0887\"], [0.1111111111111111, \"#46039f\"], [0.2222222222222222, \"#7201a8\"], [0.3333333333333333, \"#9c179e\"], [0.4444444444444444, \"#bd3786\"], [0.5555555555555556, \"#d8576b\"], [0.6666666666666666, \"#ed7953\"], [0.7777777777777778, \"#fb9f3a\"], [0.8888888888888888, \"#fdca26\"], [1.0, \"#f0f921\"]], \"type\": \"heatmapgl\"}], \"histogram\": [{\"marker\": {\"colorbar\": {\"outlinewidth\": 0, \"ticks\": \"\"}}, \"type\": \"histogram\"}], \"histogram2d\": [{\"colorbar\": {\"outlinewidth\": 0, \"ticks\": \"\"}, \"colorscale\": [[0.0, \"#0d0887\"], [0.1111111111111111, \"#46039f\"], [0.2222222222222222, \"#7201a8\"], [0.3333333333333333, \"#9c179e\"], [0.4444444444444444, \"#bd3786\"], [0.5555555555555556, \"#d8576b\"], [0.6666666666666666, \"#ed7953\"], [0.7777777777777778, \"#fb9f3a\"], [0.8888888888888888, \"#fdca26\"], [1.0, \"#f0f921\"]], \"type\": \"histogram2d\"}], \"histogram2dcontour\": [{\"colorbar\": {\"outlinewidth\": 0, \"ticks\": \"\"}, \"colorscale\": [[0.0, \"#0d0887\"], [0.1111111111111111, \"#46039f\"], [0.2222222222222222, \"#7201a8\"], [0.3333333333333333, \"#9c179e\"], [0.4444444444444444, \"#bd3786\"], [0.5555555555555556, \"#d8576b\"], [0.6666666666666666, \"#ed7953\"], [0.7777777777777778, \"#fb9f3a\"], [0.8888888888888888, \"#fdca26\"], [1.0, \"#f0f921\"]], \"type\": \"histogram2dcontour\"}], \"mesh3d\": [{\"colorbar\": {\"outlinewidth\": 0, \"ticks\": \"\"}, \"type\": \"mesh3d\"}], \"parcoords\": [{\"line\": {\"colorbar\": {\"outlinewidth\": 0, \"ticks\": \"\"}}, \"type\": \"parcoords\"}], \"pie\": [{\"automargin\": true, \"type\": \"pie\"}], \"scatter\": [{\"marker\": {\"colorbar\": {\"outlinewidth\": 0, \"ticks\": \"\"}}, \"type\": \"scatter\"}], \"scatter3d\": [{\"line\": {\"colorbar\": {\"outlinewidth\": 0, \"ticks\": \"\"}}, \"marker\": {\"colorbar\": {\"outlinewidth\": 0, \"ticks\": \"\"}}, \"type\": \"scatter3d\"}], \"scattercarpet\": [{\"marker\": {\"colorbar\": {\"outlinewidth\": 0, \"ticks\": \"\"}}, \"type\": \"scattercarpet\"}], \"scattergeo\": [{\"marker\": {\"colorbar\": {\"outlinewidth\": 0, \"ticks\": \"\"}}, \"type\": \"scattergeo\"}], \"scattergl\": [{\"marker\": {\"colorbar\": {\"outlinewidth\": 0, \"ticks\": \"\"}}, \"type\": \"scattergl\"}], \"scattermapbox\": [{\"marker\": {\"colorbar\": {\"outlinewidth\": 0, \"ticks\": \"\"}}, \"type\": \"scattermapbox\"}], \"scatterpolar\": [{\"marker\": {\"colorbar\": {\"outlinewidth\": 0, \"ticks\": \"\"}}, \"type\": \"scatterpolar\"}], \"scatterpolargl\": [{\"marker\": {\"colorbar\": {\"outlinewidth\": 0, \"ticks\": \"\"}}, \"type\": \"scatterpolargl\"}], \"scatterternary\": [{\"marker\": {\"colorbar\": {\"outlinewidth\": 0, \"ticks\": \"\"}}, \"type\": \"scatterternary\"}], \"surface\": [{\"colorbar\": {\"outlinewidth\": 0, \"ticks\": \"\"}, \"colorscale\": [[0.0, \"#0d0887\"], [0.1111111111111111, \"#46039f\"], [0.2222222222222222, \"#7201a8\"], [0.3333333333333333, \"#9c179e\"], [0.4444444444444444, \"#bd3786\"], [0.5555555555555556, \"#d8576b\"], [0.6666666666666666, \"#ed7953\"], [0.7777777777777778, \"#fb9f3a\"], [0.8888888888888888, \"#fdca26\"], [1.0, \"#f0f921\"]], \"type\": \"surface\"}], \"table\": [{\"cells\": {\"fill\": {\"color\": \"#EBF0F8\"}, \"line\": {\"color\": \"white\"}}, \"header\": {\"fill\": {\"color\": \"#C8D4E3\"}, \"line\": {\"color\": \"white\"}}, \"type\": \"table\"}]}, \"layout\": {\"annotationdefaults\": {\"arrowcolor\": \"#2a3f5f\", \"arrowhead\": 0, \"arrowwidth\": 1}, \"coloraxis\": {\"colorbar\": {\"outlinewidth\": 0, \"ticks\": \"\"}}, \"colorscale\": {\"diverging\": [[0, \"#8e0152\"], [0.1, \"#c51b7d\"], [0.2, \"#de77ae\"], [0.3, \"#f1b6da\"], [0.4, \"#fde0ef\"], [0.5, \"#f7f7f7\"], [0.6, \"#e6f5d0\"], [0.7, \"#b8e186\"], [0.8, \"#7fbc41\"], [0.9, \"#4d9221\"], [1, \"#276419\"]], \"sequential\": [[0.0, \"#0d0887\"], [0.1111111111111111, \"#46039f\"], [0.2222222222222222, \"#7201a8\"], [0.3333333333333333, \"#9c179e\"], [0.4444444444444444, \"#bd3786\"], [0.5555555555555556, \"#d8576b\"], [0.6666666666666666, \"#ed7953\"], [0.7777777777777778, \"#fb9f3a\"], [0.8888888888888888, \"#fdca26\"], [1.0, \"#f0f921\"]], \"sequentialminus\": [[0.0, \"#0d0887\"], [0.1111111111111111, \"#46039f\"], [0.2222222222222222, \"#7201a8\"], [0.3333333333333333, \"#9c179e\"], [0.4444444444444444, \"#bd3786\"], [0.5555555555555556, \"#d8576b\"], [0.6666666666666666, \"#ed7953\"], [0.7777777777777778, \"#fb9f3a\"], [0.8888888888888888, \"#fdca26\"], [1.0, \"#f0f921\"]]}, \"colorway\": [\"#636efa\", \"#EF553B\", \"#00cc96\", \"#ab63fa\", \"#FFA15A\", \"#19d3f3\", \"#FF6692\", \"#B6E880\", \"#FF97FF\", \"#FECB52\"], \"font\": {\"color\": \"#2a3f5f\"}, \"geo\": {\"bgcolor\": \"white\", \"lakecolor\": \"white\", \"landcolor\": \"#E5ECF6\", \"showlakes\": true, \"showland\": true, \"subunitcolor\": \"white\"}, \"hoverlabel\": {\"align\": \"left\"}, \"hovermode\": \"closest\", \"mapbox\": {\"style\": \"light\"}, \"paper_bgcolor\": \"white\", \"plot_bgcolor\": \"#E5ECF6\", \"polar\": {\"angularaxis\": {\"gridcolor\": \"white\", \"linecolor\": \"white\", \"ticks\": \"\"}, \"bgcolor\": \"#E5ECF6\", \"radialaxis\": {\"gridcolor\": \"white\", \"linecolor\": \"white\", \"ticks\": \"\"}}, \"scene\": {\"xaxis\": {\"backgroundcolor\": \"#E5ECF6\", \"gridcolor\": \"white\", \"gridwidth\": 2, \"linecolor\": \"white\", \"showbackground\": true, \"ticks\": \"\", \"zerolinecolor\": \"white\"}, \"yaxis\": {\"backgroundcolor\": \"#E5ECF6\", \"gridcolor\": \"white\", \"gridwidth\": 2, \"linecolor\": \"white\", \"showbackground\": true, \"ticks\": \"\", \"zerolinecolor\": \"white\"}, \"zaxis\": {\"backgroundcolor\": \"#E5ECF6\", \"gridcolor\": \"white\", \"gridwidth\": 2, \"linecolor\": \"white\", \"showbackground\": true, \"ticks\": \"\", \"zerolinecolor\": \"white\"}}, \"shapedefaults\": {\"line\": {\"color\": \"#2a3f5f\"}}, \"ternary\": {\"aaxis\": {\"gridcolor\": \"white\", \"linecolor\": \"white\", \"ticks\": \"\"}, \"baxis\": {\"gridcolor\": \"white\", \"linecolor\": \"white\", \"ticks\": \"\"}, \"bgcolor\": \"#E5ECF6\", \"caxis\": {\"gridcolor\": \"white\", \"linecolor\": \"white\", \"ticks\": \"\"}}, \"title\": {\"x\": 0.05}, \"xaxis\": {\"automargin\": true, \"gridcolor\": \"white\", \"linecolor\": \"white\", \"ticks\": \"\", \"title\": {\"standoff\": 15}, \"zerolinecolor\": \"white\", \"zerolinewidth\": 2}, \"yaxis\": {\"automargin\": true, \"gridcolor\": \"white\", \"linecolor\": \"white\", \"ticks\": \"\", \"title\": {\"standoff\": 15}, \"zerolinecolor\": \"white\", \"zerolinewidth\": 2}}}, \"title\": {\"text\": \"Lead ID=318465,bank_account_id=13419: Daily Time Series Plot\"}, \"xaxis\": {\"anchor\": \"y\", \"domain\": [0.0, 1.0], \"title\": {\"text\": \"date\"}}, \"yaxis\": {\"anchor\": \"x\", \"domain\": [0.0, 1.0], \"title\": {\"text\": \"amount\"}}},\n",
       "                        {\"responsive\": true}\n",
       "                    ).then(function(){\n",
       "                            \n",
       "var gd = document.getElementById('a3526f01-5fb9-47c2-909d-53313d6fef0e');\n",
       "var x = new MutationObserver(function (mutations, observer) {{\n",
       "        var display = window.getComputedStyle(gd).display;\n",
       "        if (!display || display === 'none') {{\n",
       "            console.log([gd, 'removed!']);\n",
       "            Plotly.purge(gd);\n",
       "            observer.disconnect();\n",
       "        }}\n",
       "}});\n",
       "\n",
       "// Listen for the removal of the full notebook cells\n",
       "var notebookContainer = gd.closest('#notebook-container');\n",
       "if (notebookContainer) {{\n",
       "    x.observe(notebookContainer, {childList: true});\n",
       "}}\n",
       "\n",
       "// Listen for the clearing of the current output cell\n",
       "var outputEl = gd.closest('.output');\n",
       "if (outputEl) {{\n",
       "    x.observe(outputEl, {childList: true});\n",
       "}}\n",
       "\n",
       "                        })\n",
       "                };\n",
       "                });\n",
       "            </script>\n",
       "        </div>"
      ]
     },
     "metadata": {},
     "output_type": "display_data"
    }
   ],
   "source": [
    "username = 'rravishankar'\n",
    "api_key = 'lLY6mbM1zktKBEQ3DGVo'\n",
    "\n",
    "chart_studio.tools.set_credentials_file(username = username, api_key = api_key)\n",
    "\n",
    "fig1 = px.line(df_final1, x=\"date\", y=\"amount\", color='transaction_type',\\\n",
    "              title=\"Lead ID=318465,bank_account_id=13419: Daily Time Series Plot\")\n",
    "\n",
    "py.plot(fig1,filename = 'TimeSeries_1',auto_open=False)\n",
    "fig1.show()"
   ]
  },
  {
   "cell_type": "markdown",
   "metadata": {},
   "source": [
    "######  Using Log scale for amounts as there is a spike on just one day which makes the plot not very intuitive."
   ]
  },
  {
   "cell_type": "code",
   "execution_count": 39,
   "metadata": {},
   "outputs": [
    {
     "data": {
      "application/vnd.plotly.v1+json": {
       "config": {
        "plotlyServerURL": "https://plotly.com"
       },
       "data": [
        {
         "hoverlabel": {
          "namelength": 0
         },
         "hovertemplate": "transaction_type=credit<br>date=%{x}<br>amount=%{y}",
         "legendgroup": "credit",
         "line": {
          "color": "#636efa",
          "dash": "solid"
         },
         "mode": "lines",
         "name": "credit",
         "showlegend": true,
         "type": "scatter",
         "x": [
          "2016-04-12",
          "2016-04-13",
          "2016-04-15",
          "2016-04-16",
          "2016-04-19",
          "2016-04-20",
          "2016-04-21",
          "2016-04-23",
          "2016-04-27",
          "2016-04-28",
          "2016-05-03",
          "2016-05-04",
          "2016-05-05",
          "2016-05-07",
          "2016-05-09",
          "2016-05-11",
          "2016-05-12",
          "2016-05-13",
          "2016-05-16",
          "2016-05-18",
          "2016-05-20",
          "2016-05-23",
          "2016-05-24",
          "2016-05-25",
          "2016-05-26",
          "2016-06-01",
          "2016-06-02",
          "2016-06-03",
          "2016-06-05",
          "2016-06-07",
          "2016-06-08",
          "2016-06-09",
          "2016-06-10",
          "2016-06-11",
          "2016-06-13",
          "2016-06-15",
          "2016-06-16",
          "2016-06-17",
          "2016-06-19",
          "2016-06-21",
          "2016-06-24",
          "2016-06-25",
          "2016-06-28",
          "2016-06-29",
          "2016-06-30",
          "2016-07-02",
          "2016-07-04",
          "2016-07-05",
          "2016-07-08",
          "2016-07-11",
          "2016-07-12",
          "2016-07-13",
          "2016-07-14",
          "2016-07-15",
          "2016-07-16",
          "2016-07-20",
          "2016-07-27",
          "2016-08-03",
          "2016-08-05",
          "2016-08-07",
          "2016-08-09",
          "2016-08-10",
          "2016-08-11",
          "2016-08-12",
          "2016-08-15",
          "2016-08-16",
          "2016-08-19",
          "2016-08-22",
          "2016-08-23",
          "2016-08-24",
          "2016-08-26",
          "2016-08-29",
          "2016-08-31",
          "2016-09-02",
          "2016-09-03",
          "2016-09-04",
          "2016-09-06",
          "2016-09-07",
          "2016-09-09",
          "2016-09-12",
          "2016-09-14",
          "2016-09-15",
          "2016-09-16",
          "2016-09-18",
          "2016-09-20",
          "2016-09-22",
          "2016-09-23",
          "2016-09-28",
          "2016-10-07",
          "2016-10-11",
          "2016-10-14",
          "2016-10-15",
          "2016-10-16",
          "2016-10-17",
          "2016-10-23",
          "2016-10-26",
          "2016-10-28",
          "2016-10-30",
          "2016-10-31",
          "2016-11-01",
          "2016-11-02",
          "2016-11-04",
          "2016-11-05",
          "2016-11-06",
          "2016-11-07",
          "2016-11-08",
          "2016-11-09",
          "2016-11-10",
          "2016-11-11",
          "2016-11-14",
          "2016-11-15",
          "2016-11-16",
          "2016-11-17",
          "2016-11-19",
          "2016-11-21",
          "2016-11-23",
          "2016-11-24",
          "2016-11-26",
          "2016-11-30",
          "2016-12-01",
          "2016-12-05",
          "2016-12-06",
          "2016-12-07",
          "2016-12-08",
          "2016-12-09",
          "2016-12-10",
          "2016-12-14",
          "2016-12-15"
         ],
         "xaxis": "x",
         "y": [
          793.26,
          737.3,
          600,
          501.49,
          146.26,
          819.26,
          1246,
          135,
          1720.79,
          195.12,
          163,
          403.26,
          140,
          250,
          323.59000000000003,
          762.26,
          3167.12,
          176.5,
          535.19,
          210.1,
          306.5,
          939.86,
          798.65,
          2462.92,
          533.9,
          500,
          164.21,
          33.9,
          40,
          648.9,
          288.94,
          125,
          1182.45,
          250,
          326.52,
          1198.46,
          1.26,
          1362.96,
          1210.04,
          6.58,
          882.85,
          135,
          882.45,
          1080.69,
          582.45,
          175,
          1069.8,
          582.45,
          70.15,
          635,
          146.46,
          20.88,
          498,
          2194.87,
          1.32,
          3.84,
          52.08,
          405.36,
          1024.0800000000002,
          194.5,
          1500,
          689.8,
          275.85,
          340.37,
          2718.2,
          680.3499999999999,
          379.55,
          500,
          135,
          737.69,
          250,
          1213.45,
          57.55,
          50,
          340.38,
          135,
          1853.64,
          776.5,
          242.45,
          211.1,
          854.47,
          751.92,
          1.43,
          1000,
          336.35,
          300,
          135,
          12.52,
          3907.08,
          778,
          253,
          36.96,
          0.75,
          1019.19,
          2193.87,
          957.91,
          437.62,
          204,
          380.05,
          400,
          166,
          426.75,
          194.5,
          34.04,
          1359.11,
          783.47,
          478.99,
          686.62,
          2008.23,
          26523.59,
          1359.11,
          1.36,
          35,
          115.39,
          467.90999999999997,
          2403.08,
          135,
          744.94,
          500,
          500,
          25,
          260,
          440.44,
          250,
          1648.25,
          194.5,
          1155.87,
          1359.1
         ],
         "yaxis": "y"
        },
        {
         "hoverlabel": {
          "namelength": 0
         },
         "hovertemplate": "transaction_type=running_balance<br>date=%{x}<br>amount=%{y}",
         "legendgroup": "running_balance",
         "line": {
          "color": "#EF553B",
          "dash": "solid"
         },
         "mode": "lines",
         "name": "running_balance",
         "showlegend": true,
         "type": "scatter",
         "x": [
          "2016-04-12",
          "2016-04-13",
          "2016-04-14",
          "2016-04-15",
          "2016-04-16",
          "2016-04-17",
          "2016-04-18",
          "2016-04-19",
          "2016-04-20",
          "2016-04-21",
          "2016-04-22",
          "2016-04-23",
          "2016-04-24",
          "2016-04-25",
          "2016-04-26",
          "2016-04-27",
          "2016-04-28",
          "2016-04-29",
          "2016-04-30",
          "2016-05-02",
          "2016-05-03",
          "2016-05-04",
          "2016-05-05",
          "2016-05-06",
          "2016-05-07",
          "2016-05-08",
          "2016-05-09",
          "2016-05-10",
          "2016-05-11",
          "2016-05-12",
          "2016-05-13",
          "2016-05-14",
          "2016-05-15",
          "2016-05-16",
          "2016-05-17",
          "2016-05-18",
          "2016-05-19",
          "2016-05-20",
          "2016-05-21",
          "2016-05-22",
          "2016-05-23",
          "2016-05-24",
          "2016-05-25",
          "2016-05-26",
          "2016-05-27",
          "2016-05-28",
          "2016-05-29",
          "2016-05-30",
          "2016-05-31",
          "2016-06-01",
          "2016-06-02",
          "2016-06-03",
          "2016-06-04",
          "2016-06-05",
          "2016-06-06",
          "2016-06-07",
          "2016-06-08",
          "2016-06-09",
          "2016-06-10",
          "2016-06-11",
          "2016-06-12",
          "2016-06-13",
          "2016-06-14",
          "2016-06-15",
          "2016-06-16",
          "2016-06-17",
          "2016-06-18",
          "2016-06-19",
          "2016-06-20",
          "2016-06-21",
          "2016-06-22",
          "2016-06-23",
          "2016-06-24",
          "2016-06-25",
          "2016-06-26",
          "2016-06-27",
          "2016-06-28",
          "2016-06-29",
          "2016-06-30",
          "2016-07-01",
          "2016-07-02",
          "2016-07-03",
          "2016-07-04",
          "2016-07-05",
          "2016-07-06",
          "2016-07-07",
          "2016-07-08",
          "2016-07-09",
          "2016-07-10",
          "2016-07-11",
          "2016-07-12",
          "2016-07-13",
          "2016-07-14",
          "2016-07-15",
          "2016-07-16",
          "2016-07-17",
          "2016-07-18",
          "2016-07-19",
          "2016-07-20",
          "2016-07-21",
          "2016-07-26",
          "2016-07-27",
          "2016-08-03",
          "2016-08-05",
          "2016-08-06",
          "2016-08-07",
          "2016-08-08",
          "2016-08-09",
          "2016-08-10",
          "2016-08-11",
          "2016-08-12",
          "2016-08-13",
          "2016-08-15",
          "2016-08-16",
          "2016-08-17",
          "2016-08-18",
          "2016-08-19",
          "2016-08-20",
          "2016-08-22",
          "2016-08-23",
          "2016-08-24",
          "2016-08-25",
          "2016-08-26",
          "2016-08-27",
          "2016-08-28",
          "2016-08-29",
          "2016-08-30",
          "2016-08-31",
          "2016-09-01",
          "2016-09-02",
          "2016-09-03",
          "2016-09-04",
          "2016-09-05",
          "2016-09-06",
          "2016-09-07",
          "2016-09-08",
          "2016-09-09",
          "2016-09-10",
          "2016-09-11",
          "2016-09-12",
          "2016-09-13",
          "2016-09-14",
          "2016-09-15",
          "2016-09-16",
          "2016-09-17",
          "2016-09-18",
          "2016-09-19",
          "2016-09-20",
          "2016-09-21",
          "2016-09-22",
          "2016-09-23",
          "2016-09-24",
          "2016-09-25",
          "2016-09-26",
          "2016-09-28",
          "2016-10-05",
          "2016-10-07",
          "2016-10-08",
          "2016-10-10",
          "2016-10-11",
          "2016-10-12",
          "2016-10-13",
          "2016-10-14",
          "2016-10-15",
          "2016-10-16",
          "2016-10-17",
          "2016-10-18",
          "2016-10-19",
          "2016-10-20",
          "2016-10-21",
          "2016-10-23",
          "2016-10-24",
          "2016-10-25",
          "2016-10-26",
          "2016-10-27",
          "2016-10-28",
          "2016-10-29",
          "2016-10-30",
          "2016-10-31",
          "2016-11-01",
          "2016-11-02",
          "2016-11-03",
          "2016-11-04",
          "2016-11-05",
          "2016-11-06",
          "2016-11-07",
          "2016-11-08",
          "2016-11-09",
          "2016-11-10",
          "2016-11-11",
          "2016-11-12",
          "2016-11-13",
          "2016-11-14",
          "2016-11-15",
          "2016-11-16",
          "2016-11-17",
          "2016-11-18",
          "2016-11-19",
          "2016-11-20",
          "2016-11-21",
          "2016-11-22",
          "2016-11-23",
          "2016-11-24",
          "2016-11-25",
          "2016-11-26",
          "2016-11-27",
          "2016-11-28",
          "2016-11-29",
          "2016-11-30",
          "2016-12-01",
          "2016-12-02",
          "2016-12-03",
          "2016-12-04",
          "2016-12-05",
          "2016-12-06",
          "2016-12-07",
          "2016-12-08",
          "2016-12-09",
          "2016-12-10",
          "2016-12-11",
          "2016-12-12",
          "2016-12-13",
          "2016-12-14",
          "2016-12-15"
         ],
         "xaxis": "x",
         "y": [
          587.52,
          348.87,
          251.53,
          64.16,
          482.31,
          438.81,
          307.93,
          414.92,
          504.53,
          1318.76,
          991.1,
          705.34,
          691.06,
          602.86,
          337.49,
          2006.33,
          2158.9,
          2011.42,
          1665.26,
          1501.73,
          1549.4,
          1868.02,
          2008.02,
          -25.15,
          83.95,
          66.14,
          351.47,
          119.32,
          97.01,
          3163.94,
          2670.44,
          2419.1,
          2336.66,
          2090.39,
          1987.06,
          2153.59,
          1843.56,
          247.98,
          190.51,
          150.51,
          911.19,
          1473.72,
          3272.83,
          3508.18,
          1197.67,
          978.56,
          813.36,
          373.06,
          33.12,
          281.46,
          277.58,
          -0.76,
          -14.15,
          1.12,
          -33.98,
          271.31,
          496.08,
          95.79,
          1232.45,
          1252.83,
          1194.41,
          874.45,
          440.4,
          717.65,
          301.28,
          700.26,
          406.49,
          1616.53,
          1077.66,
          177.26,
          134.45,
          -8.8,
          628.82,
          695.39,
          633.72,
          302.76,
          733.15,
          1537.41,
          1966.97,
          1827.86,
          1857.68,
          1782.98,
          2316.05,
          429.93,
          189.74,
          114.74,
          113.95,
          -8.04,
          -62.91,
          466.61,
          550.46,
          247.85,
          664.17,
          1527.05,
          1425.03,
          1335.66,
          463.74,
          302.75,
          -365.93,
          -743.88,
          -868.88,
          -816.8,
          -411.44,
          612.64,
          526.14,
          672.44,
          644.5,
          2069.5,
          2649.43,
          496.42,
          476.42,
          363.74,
          2389.68,
          1572.78,
          1097.49,
          906.28,
          830.67,
          554.27,
          500.96,
          577.15,
          1212.16,
          97.86,
          183.84,
          133.84,
          8.97,
          988.41,
          811.31,
          814.18,
          470.04,
          341.39,
          410.92,
          500.21,
          327.71,
          1991.63,
          665.72,
          370.08,
          498.23,
          295.05,
          226.21,
          278.64,
          99.57,
          693.22,
          829.43,
          611.24,
          344.49,
          1306.17,
          482,
          269.63,
          23.5,
          323.5,
          337.31,
          202.01,
          179.42,
          -213.98,
          -1156.1,
          -1316.1,
          2590.98,
          2489.78,
          2331.48,
          404.5,
          190.85,
          161.55,
          257.55,
          120.49,
          35.41,
          401.5,
          162.72,
          -263.28,
          -385.03,
          -651.03,
          1542.84,
          1538.46,
          451.14,
          461.88,
          342.23,
          438.62,
          311.41,
          422.77,
          619.02,
          629.13,
          659.3,
          271.72,
          478.31,
          650.48,
          684.52,
          1756.93,
          2122.57,
          188.46,
          393.92,
          2283.59,
          1636.99,
          1433.77,
          1031.86,
          1698.67,
          1614.39,
          1009.28,
          551.53,
          625.21,
          515.49,
          325.38,
          -462.13,
          1671.33,
          1544.05,
          1131.08,
          1338.58,
          1287.39,
          776.92,
          229.89,
          503.21,
          756.17,
          388.69,
          136.18,
          107.11,
          -158.99,
          -280.6,
          139.84,
          330.12,
          1696.98,
          1547.16,
          1504.64,
          1289.61,
          626.78,
          1317.57,
          2056.38
         ],
         "yaxis": "y"
        },
        {
         "hoverlabel": {
          "namelength": 0
         },
         "hovertemplate": "transaction_type=debit<br>date=%{x}<br>amount=%{y}",
         "legendgroup": "debit",
         "line": {
          "color": "#00cc96",
          "dash": "solid"
         },
         "mode": "lines",
         "name": "debit",
         "showlegend": true,
         "type": "scatter",
         "x": [
          "2016-04-12",
          "2016-04-13",
          "2016-04-14",
          "2016-04-15",
          "2016-04-16",
          "2016-04-17",
          "2016-04-18",
          "2016-04-19",
          "2016-04-20",
          "2016-04-21",
          "2016-04-22",
          "2016-04-23",
          "2016-04-24",
          "2016-04-25",
          "2016-04-26",
          "2016-04-27",
          "2016-04-28",
          "2016-04-29",
          "2016-04-30",
          "2016-05-02",
          "2016-05-03",
          "2016-05-04",
          "2016-05-06",
          "2016-05-07",
          "2016-05-08",
          "2016-05-09",
          "2016-05-10",
          "2016-05-11",
          "2016-05-12",
          "2016-05-13",
          "2016-05-14",
          "2016-05-15",
          "2016-05-16",
          "2016-05-17",
          "2016-05-18",
          "2016-05-19",
          "2016-05-20",
          "2016-05-21",
          "2016-05-22",
          "2016-05-23",
          "2016-05-24",
          "2016-05-25",
          "2016-05-26",
          "2016-05-27",
          "2016-05-28",
          "2016-05-29",
          "2016-05-30",
          "2016-05-31",
          "2016-06-01",
          "2016-06-02",
          "2016-06-03",
          "2016-06-04",
          "2016-06-05",
          "2016-06-06",
          "2016-06-07",
          "2016-06-08",
          "2016-06-09",
          "2016-06-10",
          "2016-06-11",
          "2016-06-12",
          "2016-06-13",
          "2016-06-14",
          "2016-06-15",
          "2016-06-16",
          "2016-06-17",
          "2016-06-18",
          "2016-06-20",
          "2016-06-21",
          "2016-06-22",
          "2016-06-23",
          "2016-06-24",
          "2016-06-25",
          "2016-06-26",
          "2016-06-27",
          "2016-06-28",
          "2016-06-29",
          "2016-06-30",
          "2016-07-01",
          "2016-07-02",
          "2016-07-03",
          "2016-07-04",
          "2016-07-05",
          "2016-07-06",
          "2016-07-07",
          "2016-07-08",
          "2016-07-09",
          "2016-07-10",
          "2016-07-11",
          "2016-07-12",
          "2016-07-13",
          "2016-07-14",
          "2016-07-15",
          "2016-07-16",
          "2016-07-17",
          "2016-07-18",
          "2016-07-19",
          "2016-07-20",
          "2016-07-21",
          "2016-07-26",
          "2016-08-06",
          "2016-08-07",
          "2016-08-08",
          "2016-08-09",
          "2016-08-10",
          "2016-08-11",
          "2016-08-12",
          "2016-08-13",
          "2016-08-15",
          "2016-08-16",
          "2016-08-17",
          "2016-08-18",
          "2016-08-19",
          "2016-08-20",
          "2016-08-22",
          "2016-08-23",
          "2016-08-24",
          "2016-08-25",
          "2016-08-26",
          "2016-08-27",
          "2016-08-28",
          "2016-08-29",
          "2016-08-30",
          "2016-08-31",
          "2016-09-01",
          "2016-09-02",
          "2016-09-03",
          "2016-09-04",
          "2016-09-05",
          "2016-09-06",
          "2016-09-07",
          "2016-09-08",
          "2016-09-09",
          "2016-09-10",
          "2016-09-11",
          "2016-09-12",
          "2016-09-13",
          "2016-09-14",
          "2016-09-15",
          "2016-09-16",
          "2016-09-17",
          "2016-09-18",
          "2016-09-19",
          "2016-09-20",
          "2016-09-21",
          "2016-09-23",
          "2016-09-24",
          "2016-09-25",
          "2016-09-26",
          "2016-09-28",
          "2016-10-05",
          "2016-10-08",
          "2016-10-10",
          "2016-10-11",
          "2016-10-12",
          "2016-10-13",
          "2016-10-14",
          "2016-10-15",
          "2016-10-16",
          "2016-10-17",
          "2016-10-18",
          "2016-10-19",
          "2016-10-20",
          "2016-10-21",
          "2016-10-24",
          "2016-10-25",
          "2016-10-26",
          "2016-10-27",
          "2016-10-28",
          "2016-10-29",
          "2016-10-30",
          "2016-10-31",
          "2016-11-01",
          "2016-11-02",
          "2016-11-03",
          "2016-11-04",
          "2016-11-05",
          "2016-11-07",
          "2016-11-08",
          "2016-11-09",
          "2016-11-10",
          "2016-11-11",
          "2016-11-12",
          "2016-11-13",
          "2016-11-14",
          "2016-11-15",
          "2016-11-16",
          "2016-11-17",
          "2016-11-18",
          "2016-11-19",
          "2016-11-20",
          "2016-11-21",
          "2016-11-22",
          "2016-11-23",
          "2016-11-24",
          "2016-11-25",
          "2016-11-26",
          "2016-11-27",
          "2016-11-28",
          "2016-11-29",
          "2016-11-30",
          "2016-12-01",
          "2016-12-02",
          "2016-12-03",
          "2016-12-04",
          "2016-12-05",
          "2016-12-06",
          "2016-12-07",
          "2016-12-08",
          "2016-12-09",
          "2016-12-10",
          "2016-12-11",
          "2016-12-12",
          "2016-12-13",
          "2016-12-14",
          "2016-12-15"
         ],
         "xaxis": "x",
         "y": [
          44.44,
          975.95,
          97.34,
          787.37,
          83.34,
          43.5,
          130.88,
          39.269999999999996,
          729.65,
          431.77,
          327.66,
          420.76,
          14.28,
          88.2,
          265.37,
          51.95,
          42.55,
          147.48000000000002,
          346.16,
          163.53,
          115.33,
          84.64,
          2033.17,
          140.9,
          17.81,
          38.26,
          232.14999999999998,
          784.5699999999999,
          100.19,
          670,
          251.34,
          82.44,
          781.46,
          103.33,
          43.57,
          310.03,
          1902.0800000000002,
          57.470000000000006,
          40,
          179.18,
          236.12,
          663.81,
          298.55,
          2310.51,
          219.10999999999999,
          165.2,
          440.29999999999995,
          339.94,
          251.66,
          168.09,
          312.24,
          13.39,
          24.73,
          35.1,
          343.61,
          64.17,
          525.29,
          45.79,
          229.61999999999995,
          58.42,
          646.48,
          434.05,
          921.21,
          417.63,
          963.98,
          293.77,
          538.87,
          906.98,
          42.81,
          143.25,
          245.23000000000002,
          68.43,
          61.67,
          330.96000000000004,
          452.06,
          276.43,
          152.89,
          139.11,
          145.18,
          74.7,
          536.73,
          2468.5699999999997,
          240.19,
          75,
          70.94,
          121.99,
          54.87,
          105.48,
          62.61,
          323.49,
          81.68,
          1331.99,
          103.34,
          89.36999999999999,
          871.92,
          160.99,
          672.52,
          377.95000000000005,
          125,
          86.5,
          48.2,
          27.939999999999998,
          75,
          109.87,
          2428.86,
          360.36999999999995,
          112.67999999999999,
          692.26,
          1497.25,
          475.29,
          191.21,
          455.16,
          276.4,
          553.3100000000001,
          58.81,
          102.68,
          1114.3,
          164.02,
          50,
          124.87,
          234.01,
          177.10000000000002,
          54.68,
          344.14,
          178.65,
          270.85,
          45.71,
          172.5,
          189.72,
          2102.41,
          295.64,
          114.29999999999998,
          203.18,
          68.84,
          158.67,
          179.07000000000002,
          260.82000000000005,
          615.71,
          219.62,
          266.75,
          38.32,
          824.1700000000001,
          548.72,
          246.13,
          121.19,
          135.3,
          22.59,
          393.4,
          954.64,
          160,
          101.2,
          158.3,
          2704.98,
          213.65,
          29.3,
          157,
          174.01999999999998,
          85.83,
          653.1,
          238.78,
          426,
          121.75,
          266,
          4.38,
          1087.32,
          947.17,
          119.65,
          341.22999999999996,
          127.21,
          92.64,
          252.19,
          389.89,
          135.82999999999998,
          387.58000000000004,
          220.16,
          22.33,
          286.7,
          417.83,
          2413.1,
          481.15999999999997,
          118.56000000000002,
          646.6,
          203.22,
          26925.500000000004,
          692.3,
          85.64,
          640.1099999999999,
          457.75,
          41.71,
          109.72,
          658.02,
          787.51,
          269.62,
          262.28,
          412.96999999999997,
          537.44,
          51.19,
          510.47,
          547.03,
          226.68,
          247.04,
          367.47999999999996,
          252.51000000000002,
          29.07,
          291.09999999999997,
          381.61,
          20,
          59.72,
          281.39,
          344.32,
          42.519999999999996,
          215.03,
          662.83,
          465.08000000000004,
          620.29
         ],
         "yaxis": "y"
        }
       ],
       "layout": {
        "legend": {
         "title": {
          "text": "transaction_type"
         },
         "tracegroupgap": 0
        },
        "template": {
         "data": {
          "bar": [
           {
            "error_x": {
             "color": "#2a3f5f"
            },
            "error_y": {
             "color": "#2a3f5f"
            },
            "marker": {
             "line": {
              "color": "#E5ECF6",
              "width": 0.5
             }
            },
            "type": "bar"
           }
          ],
          "barpolar": [
           {
            "marker": {
             "line": {
              "color": "#E5ECF6",
              "width": 0.5
             }
            },
            "type": "barpolar"
           }
          ],
          "carpet": [
           {
            "aaxis": {
             "endlinecolor": "#2a3f5f",
             "gridcolor": "white",
             "linecolor": "white",
             "minorgridcolor": "white",
             "startlinecolor": "#2a3f5f"
            },
            "baxis": {
             "endlinecolor": "#2a3f5f",
             "gridcolor": "white",
             "linecolor": "white",
             "minorgridcolor": "white",
             "startlinecolor": "#2a3f5f"
            },
            "type": "carpet"
           }
          ],
          "choropleth": [
           {
            "colorbar": {
             "outlinewidth": 0,
             "ticks": ""
            },
            "type": "choropleth"
           }
          ],
          "contour": [
           {
            "colorbar": {
             "outlinewidth": 0,
             "ticks": ""
            },
            "colorscale": [
             [
              0,
              "#0d0887"
             ],
             [
              0.1111111111111111,
              "#46039f"
             ],
             [
              0.2222222222222222,
              "#7201a8"
             ],
             [
              0.3333333333333333,
              "#9c179e"
             ],
             [
              0.4444444444444444,
              "#bd3786"
             ],
             [
              0.5555555555555556,
              "#d8576b"
             ],
             [
              0.6666666666666666,
              "#ed7953"
             ],
             [
              0.7777777777777778,
              "#fb9f3a"
             ],
             [
              0.8888888888888888,
              "#fdca26"
             ],
             [
              1,
              "#f0f921"
             ]
            ],
            "type": "contour"
           }
          ],
          "contourcarpet": [
           {
            "colorbar": {
             "outlinewidth": 0,
             "ticks": ""
            },
            "type": "contourcarpet"
           }
          ],
          "heatmap": [
           {
            "colorbar": {
             "outlinewidth": 0,
             "ticks": ""
            },
            "colorscale": [
             [
              0,
              "#0d0887"
             ],
             [
              0.1111111111111111,
              "#46039f"
             ],
             [
              0.2222222222222222,
              "#7201a8"
             ],
             [
              0.3333333333333333,
              "#9c179e"
             ],
             [
              0.4444444444444444,
              "#bd3786"
             ],
             [
              0.5555555555555556,
              "#d8576b"
             ],
             [
              0.6666666666666666,
              "#ed7953"
             ],
             [
              0.7777777777777778,
              "#fb9f3a"
             ],
             [
              0.8888888888888888,
              "#fdca26"
             ],
             [
              1,
              "#f0f921"
             ]
            ],
            "type": "heatmap"
           }
          ],
          "heatmapgl": [
           {
            "colorbar": {
             "outlinewidth": 0,
             "ticks": ""
            },
            "colorscale": [
             [
              0,
              "#0d0887"
             ],
             [
              0.1111111111111111,
              "#46039f"
             ],
             [
              0.2222222222222222,
              "#7201a8"
             ],
             [
              0.3333333333333333,
              "#9c179e"
             ],
             [
              0.4444444444444444,
              "#bd3786"
             ],
             [
              0.5555555555555556,
              "#d8576b"
             ],
             [
              0.6666666666666666,
              "#ed7953"
             ],
             [
              0.7777777777777778,
              "#fb9f3a"
             ],
             [
              0.8888888888888888,
              "#fdca26"
             ],
             [
              1,
              "#f0f921"
             ]
            ],
            "type": "heatmapgl"
           }
          ],
          "histogram": [
           {
            "marker": {
             "colorbar": {
              "outlinewidth": 0,
              "ticks": ""
             }
            },
            "type": "histogram"
           }
          ],
          "histogram2d": [
           {
            "colorbar": {
             "outlinewidth": 0,
             "ticks": ""
            },
            "colorscale": [
             [
              0,
              "#0d0887"
             ],
             [
              0.1111111111111111,
              "#46039f"
             ],
             [
              0.2222222222222222,
              "#7201a8"
             ],
             [
              0.3333333333333333,
              "#9c179e"
             ],
             [
              0.4444444444444444,
              "#bd3786"
             ],
             [
              0.5555555555555556,
              "#d8576b"
             ],
             [
              0.6666666666666666,
              "#ed7953"
             ],
             [
              0.7777777777777778,
              "#fb9f3a"
             ],
             [
              0.8888888888888888,
              "#fdca26"
             ],
             [
              1,
              "#f0f921"
             ]
            ],
            "type": "histogram2d"
           }
          ],
          "histogram2dcontour": [
           {
            "colorbar": {
             "outlinewidth": 0,
             "ticks": ""
            },
            "colorscale": [
             [
              0,
              "#0d0887"
             ],
             [
              0.1111111111111111,
              "#46039f"
             ],
             [
              0.2222222222222222,
              "#7201a8"
             ],
             [
              0.3333333333333333,
              "#9c179e"
             ],
             [
              0.4444444444444444,
              "#bd3786"
             ],
             [
              0.5555555555555556,
              "#d8576b"
             ],
             [
              0.6666666666666666,
              "#ed7953"
             ],
             [
              0.7777777777777778,
              "#fb9f3a"
             ],
             [
              0.8888888888888888,
              "#fdca26"
             ],
             [
              1,
              "#f0f921"
             ]
            ],
            "type": "histogram2dcontour"
           }
          ],
          "mesh3d": [
           {
            "colorbar": {
             "outlinewidth": 0,
             "ticks": ""
            },
            "type": "mesh3d"
           }
          ],
          "parcoords": [
           {
            "line": {
             "colorbar": {
              "outlinewidth": 0,
              "ticks": ""
             }
            },
            "type": "parcoords"
           }
          ],
          "pie": [
           {
            "automargin": true,
            "type": "pie"
           }
          ],
          "scatter": [
           {
            "marker": {
             "colorbar": {
              "outlinewidth": 0,
              "ticks": ""
             }
            },
            "type": "scatter"
           }
          ],
          "scatter3d": [
           {
            "line": {
             "colorbar": {
              "outlinewidth": 0,
              "ticks": ""
             }
            },
            "marker": {
             "colorbar": {
              "outlinewidth": 0,
              "ticks": ""
             }
            },
            "type": "scatter3d"
           }
          ],
          "scattercarpet": [
           {
            "marker": {
             "colorbar": {
              "outlinewidth": 0,
              "ticks": ""
             }
            },
            "type": "scattercarpet"
           }
          ],
          "scattergeo": [
           {
            "marker": {
             "colorbar": {
              "outlinewidth": 0,
              "ticks": ""
             }
            },
            "type": "scattergeo"
           }
          ],
          "scattergl": [
           {
            "marker": {
             "colorbar": {
              "outlinewidth": 0,
              "ticks": ""
             }
            },
            "type": "scattergl"
           }
          ],
          "scattermapbox": [
           {
            "marker": {
             "colorbar": {
              "outlinewidth": 0,
              "ticks": ""
             }
            },
            "type": "scattermapbox"
           }
          ],
          "scatterpolar": [
           {
            "marker": {
             "colorbar": {
              "outlinewidth": 0,
              "ticks": ""
             }
            },
            "type": "scatterpolar"
           }
          ],
          "scatterpolargl": [
           {
            "marker": {
             "colorbar": {
              "outlinewidth": 0,
              "ticks": ""
             }
            },
            "type": "scatterpolargl"
           }
          ],
          "scatterternary": [
           {
            "marker": {
             "colorbar": {
              "outlinewidth": 0,
              "ticks": ""
             }
            },
            "type": "scatterternary"
           }
          ],
          "surface": [
           {
            "colorbar": {
             "outlinewidth": 0,
             "ticks": ""
            },
            "colorscale": [
             [
              0,
              "#0d0887"
             ],
             [
              0.1111111111111111,
              "#46039f"
             ],
             [
              0.2222222222222222,
              "#7201a8"
             ],
             [
              0.3333333333333333,
              "#9c179e"
             ],
             [
              0.4444444444444444,
              "#bd3786"
             ],
             [
              0.5555555555555556,
              "#d8576b"
             ],
             [
              0.6666666666666666,
              "#ed7953"
             ],
             [
              0.7777777777777778,
              "#fb9f3a"
             ],
             [
              0.8888888888888888,
              "#fdca26"
             ],
             [
              1,
              "#f0f921"
             ]
            ],
            "type": "surface"
           }
          ],
          "table": [
           {
            "cells": {
             "fill": {
              "color": "#EBF0F8"
             },
             "line": {
              "color": "white"
             }
            },
            "header": {
             "fill": {
              "color": "#C8D4E3"
             },
             "line": {
              "color": "white"
             }
            },
            "type": "table"
           }
          ]
         },
         "layout": {
          "annotationdefaults": {
           "arrowcolor": "#2a3f5f",
           "arrowhead": 0,
           "arrowwidth": 1
          },
          "coloraxis": {
           "colorbar": {
            "outlinewidth": 0,
            "ticks": ""
           }
          },
          "colorscale": {
           "diverging": [
            [
             0,
             "#8e0152"
            ],
            [
             0.1,
             "#c51b7d"
            ],
            [
             0.2,
             "#de77ae"
            ],
            [
             0.3,
             "#f1b6da"
            ],
            [
             0.4,
             "#fde0ef"
            ],
            [
             0.5,
             "#f7f7f7"
            ],
            [
             0.6,
             "#e6f5d0"
            ],
            [
             0.7,
             "#b8e186"
            ],
            [
             0.8,
             "#7fbc41"
            ],
            [
             0.9,
             "#4d9221"
            ],
            [
             1,
             "#276419"
            ]
           ],
           "sequential": [
            [
             0,
             "#0d0887"
            ],
            [
             0.1111111111111111,
             "#46039f"
            ],
            [
             0.2222222222222222,
             "#7201a8"
            ],
            [
             0.3333333333333333,
             "#9c179e"
            ],
            [
             0.4444444444444444,
             "#bd3786"
            ],
            [
             0.5555555555555556,
             "#d8576b"
            ],
            [
             0.6666666666666666,
             "#ed7953"
            ],
            [
             0.7777777777777778,
             "#fb9f3a"
            ],
            [
             0.8888888888888888,
             "#fdca26"
            ],
            [
             1,
             "#f0f921"
            ]
           ],
           "sequentialminus": [
            [
             0,
             "#0d0887"
            ],
            [
             0.1111111111111111,
             "#46039f"
            ],
            [
             0.2222222222222222,
             "#7201a8"
            ],
            [
             0.3333333333333333,
             "#9c179e"
            ],
            [
             0.4444444444444444,
             "#bd3786"
            ],
            [
             0.5555555555555556,
             "#d8576b"
            ],
            [
             0.6666666666666666,
             "#ed7953"
            ],
            [
             0.7777777777777778,
             "#fb9f3a"
            ],
            [
             0.8888888888888888,
             "#fdca26"
            ],
            [
             1,
             "#f0f921"
            ]
           ]
          },
          "colorway": [
           "#636efa",
           "#EF553B",
           "#00cc96",
           "#ab63fa",
           "#FFA15A",
           "#19d3f3",
           "#FF6692",
           "#B6E880",
           "#FF97FF",
           "#FECB52"
          ],
          "font": {
           "color": "#2a3f5f"
          },
          "geo": {
           "bgcolor": "white",
           "lakecolor": "white",
           "landcolor": "#E5ECF6",
           "showlakes": true,
           "showland": true,
           "subunitcolor": "white"
          },
          "hoverlabel": {
           "align": "left"
          },
          "hovermode": "closest",
          "mapbox": {
           "style": "light"
          },
          "paper_bgcolor": "white",
          "plot_bgcolor": "#E5ECF6",
          "polar": {
           "angularaxis": {
            "gridcolor": "white",
            "linecolor": "white",
            "ticks": ""
           },
           "bgcolor": "#E5ECF6",
           "radialaxis": {
            "gridcolor": "white",
            "linecolor": "white",
            "ticks": ""
           }
          },
          "scene": {
           "xaxis": {
            "backgroundcolor": "#E5ECF6",
            "gridcolor": "white",
            "gridwidth": 2,
            "linecolor": "white",
            "showbackground": true,
            "ticks": "",
            "zerolinecolor": "white"
           },
           "yaxis": {
            "backgroundcolor": "#E5ECF6",
            "gridcolor": "white",
            "gridwidth": 2,
            "linecolor": "white",
            "showbackground": true,
            "ticks": "",
            "zerolinecolor": "white"
           },
           "zaxis": {
            "backgroundcolor": "#E5ECF6",
            "gridcolor": "white",
            "gridwidth": 2,
            "linecolor": "white",
            "showbackground": true,
            "ticks": "",
            "zerolinecolor": "white"
           }
          },
          "shapedefaults": {
           "line": {
            "color": "#2a3f5f"
           }
          },
          "ternary": {
           "aaxis": {
            "gridcolor": "white",
            "linecolor": "white",
            "ticks": ""
           },
           "baxis": {
            "gridcolor": "white",
            "linecolor": "white",
            "ticks": ""
           },
           "bgcolor": "#E5ECF6",
           "caxis": {
            "gridcolor": "white",
            "linecolor": "white",
            "ticks": ""
           }
          },
          "title": {
           "x": 0.05
          },
          "xaxis": {
           "automargin": true,
           "gridcolor": "white",
           "linecolor": "white",
           "ticks": "",
           "title": {
            "standoff": 15
           },
           "zerolinecolor": "white",
           "zerolinewidth": 2
          },
          "yaxis": {
           "automargin": true,
           "gridcolor": "white",
           "linecolor": "white",
           "ticks": "",
           "title": {
            "standoff": 15
           },
           "zerolinecolor": "white",
           "zerolinewidth": 2
          }
         }
        },
        "title": {
         "text": "Lead ID=318465,bank_account_id=13419: Daily Time Series Plot"
        },
        "xaxis": {
         "anchor": "y",
         "domain": [
          0,
          1
         ],
         "title": {
          "text": "date"
         }
        },
        "yaxis": {
         "anchor": "x",
         "domain": [
          0,
          1
         ],
         "title": {
          "text": "amount"
         },
         "type": "log"
        }
       }
      },
      "text/html": [
       "<div>\n",
       "        \n",
       "        \n",
       "            <div id=\"3a08ea6f-8879-49b0-a1f7-5e65835d5d5c\" class=\"plotly-graph-div\" style=\"height:525px; width:100%;\"></div>\n",
       "            <script type=\"text/javascript\">\n",
       "                require([\"plotly\"], function(Plotly) {\n",
       "                    window.PLOTLYENV=window.PLOTLYENV || {};\n",
       "                    \n",
       "                if (document.getElementById(\"3a08ea6f-8879-49b0-a1f7-5e65835d5d5c\")) {\n",
       "                    Plotly.newPlot(\n",
       "                        '3a08ea6f-8879-49b0-a1f7-5e65835d5d5c',\n",
       "                        [{\"hoverlabel\": {\"namelength\": 0}, \"hovertemplate\": \"transaction_type=credit<br>date=%{x}<br>amount=%{y}\", \"legendgroup\": \"credit\", \"line\": {\"color\": \"#636efa\", \"dash\": \"solid\"}, \"mode\": \"lines\", \"name\": \"credit\", \"showlegend\": true, \"type\": \"scatter\", \"x\": [\"2016-04-12\", \"2016-04-13\", \"2016-04-15\", \"2016-04-16\", \"2016-04-19\", \"2016-04-20\", \"2016-04-21\", \"2016-04-23\", \"2016-04-27\", \"2016-04-28\", \"2016-05-03\", \"2016-05-04\", \"2016-05-05\", \"2016-05-07\", \"2016-05-09\", \"2016-05-11\", \"2016-05-12\", \"2016-05-13\", \"2016-05-16\", \"2016-05-18\", \"2016-05-20\", \"2016-05-23\", \"2016-05-24\", \"2016-05-25\", \"2016-05-26\", \"2016-06-01\", \"2016-06-02\", \"2016-06-03\", \"2016-06-05\", \"2016-06-07\", \"2016-06-08\", \"2016-06-09\", \"2016-06-10\", \"2016-06-11\", \"2016-06-13\", \"2016-06-15\", \"2016-06-16\", \"2016-06-17\", \"2016-06-19\", \"2016-06-21\", \"2016-06-24\", \"2016-06-25\", \"2016-06-28\", \"2016-06-29\", \"2016-06-30\", \"2016-07-02\", \"2016-07-04\", \"2016-07-05\", \"2016-07-08\", \"2016-07-11\", \"2016-07-12\", \"2016-07-13\", \"2016-07-14\", \"2016-07-15\", \"2016-07-16\", \"2016-07-20\", \"2016-07-27\", \"2016-08-03\", \"2016-08-05\", \"2016-08-07\", \"2016-08-09\", \"2016-08-10\", \"2016-08-11\", \"2016-08-12\", \"2016-08-15\", \"2016-08-16\", \"2016-08-19\", \"2016-08-22\", \"2016-08-23\", \"2016-08-24\", \"2016-08-26\", \"2016-08-29\", \"2016-08-31\", \"2016-09-02\", \"2016-09-03\", \"2016-09-04\", \"2016-09-06\", \"2016-09-07\", \"2016-09-09\", \"2016-09-12\", \"2016-09-14\", \"2016-09-15\", \"2016-09-16\", \"2016-09-18\", \"2016-09-20\", \"2016-09-22\", \"2016-09-23\", \"2016-09-28\", \"2016-10-07\", \"2016-10-11\", \"2016-10-14\", \"2016-10-15\", \"2016-10-16\", \"2016-10-17\", \"2016-10-23\", \"2016-10-26\", \"2016-10-28\", \"2016-10-30\", \"2016-10-31\", \"2016-11-01\", \"2016-11-02\", \"2016-11-04\", \"2016-11-05\", \"2016-11-06\", \"2016-11-07\", \"2016-11-08\", \"2016-11-09\", \"2016-11-10\", \"2016-11-11\", \"2016-11-14\", \"2016-11-15\", \"2016-11-16\", \"2016-11-17\", \"2016-11-19\", \"2016-11-21\", \"2016-11-23\", \"2016-11-24\", \"2016-11-26\", \"2016-11-30\", \"2016-12-01\", \"2016-12-05\", \"2016-12-06\", \"2016-12-07\", \"2016-12-08\", \"2016-12-09\", \"2016-12-10\", \"2016-12-14\", \"2016-12-15\"], \"xaxis\": \"x\", \"y\": [793.26, 737.3, 600.0, 501.49, 146.26, 819.26, 1246.0, 135.0, 1720.79, 195.12, 163.0, 403.26, 140.0, 250.0, 323.59000000000003, 762.26, 3167.12, 176.5, 535.19, 210.1, 306.5, 939.86, 798.65, 2462.92, 533.9, 500.0, 164.21, 33.9, 40.0, 648.9, 288.94, 125.0, 1182.45, 250.0, 326.52, 1198.46, 1.26, 1362.96, 1210.04, 6.58, 882.85, 135.0, 882.45, 1080.69, 582.45, 175.0, 1069.8, 582.45, 70.15, 635.0, 146.46, 20.88, 498.0, 2194.87, 1.32, 3.84, 52.08, 405.36, 1024.0800000000002, 194.5, 1500.0, 689.8, 275.85, 340.37, 2718.2, 680.3499999999999, 379.55, 500.0, 135.0, 737.69, 250.0, 1213.45, 57.55, 50.0, 340.38, 135.0, 1853.64, 776.5, 242.45, 211.1, 854.47, 751.92, 1.43, 1000.0, 336.35, 300.0, 135.0, 12.52, 3907.08, 778.0, 253.0, 36.96, 0.75, 1019.19, 2193.87, 957.91, 437.62, 204.0, 380.05, 400.0, 166.0, 426.75, 194.5, 34.04, 1359.11, 783.47, 478.99, 686.62, 2008.23, 26523.59, 1359.11, 1.36, 35.0, 115.39, 467.90999999999997, 2403.08, 135.0, 744.94, 500.0, 500.0, 25.0, 260.0, 440.44, 250.0, 1648.25, 194.5, 1155.87, 1359.1], \"yaxis\": \"y\"}, {\"hoverlabel\": {\"namelength\": 0}, \"hovertemplate\": \"transaction_type=running_balance<br>date=%{x}<br>amount=%{y}\", \"legendgroup\": \"running_balance\", \"line\": {\"color\": \"#EF553B\", \"dash\": \"solid\"}, \"mode\": \"lines\", \"name\": \"running_balance\", \"showlegend\": true, \"type\": \"scatter\", \"x\": [\"2016-04-12\", \"2016-04-13\", \"2016-04-14\", \"2016-04-15\", \"2016-04-16\", \"2016-04-17\", \"2016-04-18\", \"2016-04-19\", \"2016-04-20\", \"2016-04-21\", \"2016-04-22\", \"2016-04-23\", \"2016-04-24\", \"2016-04-25\", \"2016-04-26\", \"2016-04-27\", \"2016-04-28\", \"2016-04-29\", \"2016-04-30\", \"2016-05-02\", \"2016-05-03\", \"2016-05-04\", \"2016-05-05\", \"2016-05-06\", \"2016-05-07\", \"2016-05-08\", \"2016-05-09\", \"2016-05-10\", \"2016-05-11\", \"2016-05-12\", \"2016-05-13\", \"2016-05-14\", \"2016-05-15\", \"2016-05-16\", \"2016-05-17\", \"2016-05-18\", \"2016-05-19\", \"2016-05-20\", \"2016-05-21\", \"2016-05-22\", \"2016-05-23\", \"2016-05-24\", \"2016-05-25\", \"2016-05-26\", \"2016-05-27\", \"2016-05-28\", \"2016-05-29\", \"2016-05-30\", \"2016-05-31\", \"2016-06-01\", \"2016-06-02\", \"2016-06-03\", \"2016-06-04\", \"2016-06-05\", \"2016-06-06\", \"2016-06-07\", \"2016-06-08\", \"2016-06-09\", \"2016-06-10\", \"2016-06-11\", \"2016-06-12\", \"2016-06-13\", \"2016-06-14\", \"2016-06-15\", \"2016-06-16\", \"2016-06-17\", \"2016-06-18\", \"2016-06-19\", \"2016-06-20\", \"2016-06-21\", \"2016-06-22\", \"2016-06-23\", \"2016-06-24\", \"2016-06-25\", \"2016-06-26\", \"2016-06-27\", \"2016-06-28\", \"2016-06-29\", \"2016-06-30\", \"2016-07-01\", \"2016-07-02\", \"2016-07-03\", \"2016-07-04\", \"2016-07-05\", \"2016-07-06\", \"2016-07-07\", \"2016-07-08\", \"2016-07-09\", \"2016-07-10\", \"2016-07-11\", \"2016-07-12\", \"2016-07-13\", \"2016-07-14\", \"2016-07-15\", \"2016-07-16\", \"2016-07-17\", \"2016-07-18\", \"2016-07-19\", \"2016-07-20\", \"2016-07-21\", \"2016-07-26\", \"2016-07-27\", \"2016-08-03\", \"2016-08-05\", \"2016-08-06\", \"2016-08-07\", \"2016-08-08\", \"2016-08-09\", \"2016-08-10\", \"2016-08-11\", \"2016-08-12\", \"2016-08-13\", \"2016-08-15\", \"2016-08-16\", \"2016-08-17\", \"2016-08-18\", \"2016-08-19\", \"2016-08-20\", \"2016-08-22\", \"2016-08-23\", \"2016-08-24\", \"2016-08-25\", \"2016-08-26\", \"2016-08-27\", \"2016-08-28\", \"2016-08-29\", \"2016-08-30\", \"2016-08-31\", \"2016-09-01\", \"2016-09-02\", \"2016-09-03\", \"2016-09-04\", \"2016-09-05\", \"2016-09-06\", \"2016-09-07\", \"2016-09-08\", \"2016-09-09\", \"2016-09-10\", \"2016-09-11\", \"2016-09-12\", \"2016-09-13\", \"2016-09-14\", \"2016-09-15\", \"2016-09-16\", \"2016-09-17\", \"2016-09-18\", \"2016-09-19\", \"2016-09-20\", \"2016-09-21\", \"2016-09-22\", \"2016-09-23\", \"2016-09-24\", \"2016-09-25\", \"2016-09-26\", \"2016-09-28\", \"2016-10-05\", \"2016-10-07\", \"2016-10-08\", \"2016-10-10\", \"2016-10-11\", \"2016-10-12\", \"2016-10-13\", \"2016-10-14\", \"2016-10-15\", \"2016-10-16\", \"2016-10-17\", \"2016-10-18\", \"2016-10-19\", \"2016-10-20\", \"2016-10-21\", \"2016-10-23\", \"2016-10-24\", \"2016-10-25\", \"2016-10-26\", \"2016-10-27\", \"2016-10-28\", \"2016-10-29\", \"2016-10-30\", \"2016-10-31\", \"2016-11-01\", \"2016-11-02\", \"2016-11-03\", \"2016-11-04\", \"2016-11-05\", \"2016-11-06\", \"2016-11-07\", \"2016-11-08\", \"2016-11-09\", \"2016-11-10\", \"2016-11-11\", \"2016-11-12\", \"2016-11-13\", \"2016-11-14\", \"2016-11-15\", \"2016-11-16\", \"2016-11-17\", \"2016-11-18\", \"2016-11-19\", \"2016-11-20\", \"2016-11-21\", \"2016-11-22\", \"2016-11-23\", \"2016-11-24\", \"2016-11-25\", \"2016-11-26\", \"2016-11-27\", \"2016-11-28\", \"2016-11-29\", \"2016-11-30\", \"2016-12-01\", \"2016-12-02\", \"2016-12-03\", \"2016-12-04\", \"2016-12-05\", \"2016-12-06\", \"2016-12-07\", \"2016-12-08\", \"2016-12-09\", \"2016-12-10\", \"2016-12-11\", \"2016-12-12\", \"2016-12-13\", \"2016-12-14\", \"2016-12-15\"], \"xaxis\": \"x\", \"y\": [587.52, 348.87, 251.53, 64.16, 482.31, 438.81, 307.93, 414.92, 504.53, 1318.76, 991.1, 705.34, 691.06, 602.86, 337.49, 2006.33, 2158.9, 2011.42, 1665.26, 1501.73, 1549.4, 1868.02, 2008.02, -25.15, 83.95, 66.14, 351.47, 119.32, 97.01, 3163.94, 2670.44, 2419.1, 2336.66, 2090.39, 1987.06, 2153.59, 1843.56, 247.98, 190.51, 150.51, 911.19, 1473.72, 3272.83, 3508.18, 1197.67, 978.56, 813.36, 373.06, 33.12, 281.46, 277.58, -0.76, -14.15, 1.12, -33.98, 271.31, 496.08, 95.79, 1232.45, 1252.83, 1194.41, 874.45, 440.4, 717.65, 301.28, 700.26, 406.49, 1616.53, 1077.66, 177.26, 134.45, -8.8, 628.82, 695.39, 633.72, 302.76, 733.15, 1537.41, 1966.97, 1827.86, 1857.68, 1782.98, 2316.05, 429.93, 189.74, 114.74, 113.95, -8.04, -62.91, 466.61, 550.46, 247.85, 664.17, 1527.05, 1425.03, 1335.66, 463.74, 302.75, -365.93, -743.88, -868.88, -816.8, -411.44, 612.64, 526.14, 672.44, 644.5, 2069.5, 2649.43, 496.42, 476.42, 363.74, 2389.68, 1572.78, 1097.49, 906.28, 830.67, 554.27, 500.96, 577.15, 1212.16, 97.86, 183.84, 133.84, 8.97, 988.41, 811.31, 814.18, 470.04, 341.39, 410.92, 500.21, 327.71, 1991.63, 665.72, 370.08, 498.23, 295.05, 226.21, 278.64, 99.57, 693.22, 829.43, 611.24, 344.49, 1306.17, 482.0, 269.63, 23.5, 323.5, 337.31, 202.01, 179.42, -213.98, -1156.1, -1316.1, 2590.98, 2489.78, 2331.48, 404.5, 190.85, 161.55, 257.55, 120.49, 35.41, 401.5, 162.72, -263.28, -385.03, -651.03, 1542.84, 1538.46, 451.14, 461.88, 342.23, 438.62, 311.41, 422.77, 619.02, 629.13, 659.3, 271.72, 478.31, 650.48, 684.52, 1756.93, 2122.57, 188.46, 393.92, 2283.59, 1636.99, 1433.77, 1031.86, 1698.67, 1614.39, 1009.28, 551.53, 625.21, 515.49, 325.38, -462.13, 1671.33, 1544.05, 1131.08, 1338.58, 1287.39, 776.92, 229.89, 503.21, 756.17, 388.69, 136.18, 107.11, -158.99, -280.6, 139.84, 330.12, 1696.98, 1547.16, 1504.64, 1289.61, 626.78, 1317.57, 2056.38], \"yaxis\": \"y\"}, {\"hoverlabel\": {\"namelength\": 0}, \"hovertemplate\": \"transaction_type=debit<br>date=%{x}<br>amount=%{y}\", \"legendgroup\": \"debit\", \"line\": {\"color\": \"#00cc96\", \"dash\": \"solid\"}, \"mode\": \"lines\", \"name\": \"debit\", \"showlegend\": true, \"type\": \"scatter\", \"x\": [\"2016-04-12\", \"2016-04-13\", \"2016-04-14\", \"2016-04-15\", \"2016-04-16\", \"2016-04-17\", \"2016-04-18\", \"2016-04-19\", \"2016-04-20\", \"2016-04-21\", \"2016-04-22\", \"2016-04-23\", \"2016-04-24\", \"2016-04-25\", \"2016-04-26\", \"2016-04-27\", \"2016-04-28\", \"2016-04-29\", \"2016-04-30\", \"2016-05-02\", \"2016-05-03\", \"2016-05-04\", \"2016-05-06\", \"2016-05-07\", \"2016-05-08\", \"2016-05-09\", \"2016-05-10\", \"2016-05-11\", \"2016-05-12\", \"2016-05-13\", \"2016-05-14\", \"2016-05-15\", \"2016-05-16\", \"2016-05-17\", \"2016-05-18\", \"2016-05-19\", \"2016-05-20\", \"2016-05-21\", \"2016-05-22\", \"2016-05-23\", \"2016-05-24\", \"2016-05-25\", \"2016-05-26\", \"2016-05-27\", \"2016-05-28\", \"2016-05-29\", \"2016-05-30\", \"2016-05-31\", \"2016-06-01\", \"2016-06-02\", \"2016-06-03\", \"2016-06-04\", \"2016-06-05\", \"2016-06-06\", \"2016-06-07\", \"2016-06-08\", \"2016-06-09\", \"2016-06-10\", \"2016-06-11\", \"2016-06-12\", \"2016-06-13\", \"2016-06-14\", \"2016-06-15\", \"2016-06-16\", \"2016-06-17\", \"2016-06-18\", \"2016-06-20\", \"2016-06-21\", \"2016-06-22\", \"2016-06-23\", \"2016-06-24\", \"2016-06-25\", \"2016-06-26\", \"2016-06-27\", \"2016-06-28\", \"2016-06-29\", \"2016-06-30\", \"2016-07-01\", \"2016-07-02\", \"2016-07-03\", \"2016-07-04\", \"2016-07-05\", \"2016-07-06\", \"2016-07-07\", \"2016-07-08\", \"2016-07-09\", \"2016-07-10\", \"2016-07-11\", \"2016-07-12\", \"2016-07-13\", \"2016-07-14\", \"2016-07-15\", \"2016-07-16\", \"2016-07-17\", \"2016-07-18\", \"2016-07-19\", \"2016-07-20\", \"2016-07-21\", \"2016-07-26\", \"2016-08-06\", \"2016-08-07\", \"2016-08-08\", \"2016-08-09\", \"2016-08-10\", \"2016-08-11\", \"2016-08-12\", \"2016-08-13\", \"2016-08-15\", \"2016-08-16\", \"2016-08-17\", \"2016-08-18\", \"2016-08-19\", \"2016-08-20\", \"2016-08-22\", \"2016-08-23\", \"2016-08-24\", \"2016-08-25\", \"2016-08-26\", \"2016-08-27\", \"2016-08-28\", \"2016-08-29\", \"2016-08-30\", \"2016-08-31\", \"2016-09-01\", \"2016-09-02\", \"2016-09-03\", \"2016-09-04\", \"2016-09-05\", \"2016-09-06\", \"2016-09-07\", \"2016-09-08\", \"2016-09-09\", \"2016-09-10\", \"2016-09-11\", \"2016-09-12\", \"2016-09-13\", \"2016-09-14\", \"2016-09-15\", \"2016-09-16\", \"2016-09-17\", \"2016-09-18\", \"2016-09-19\", \"2016-09-20\", \"2016-09-21\", \"2016-09-23\", \"2016-09-24\", \"2016-09-25\", \"2016-09-26\", \"2016-09-28\", \"2016-10-05\", \"2016-10-08\", \"2016-10-10\", \"2016-10-11\", \"2016-10-12\", \"2016-10-13\", \"2016-10-14\", \"2016-10-15\", \"2016-10-16\", \"2016-10-17\", \"2016-10-18\", \"2016-10-19\", \"2016-10-20\", \"2016-10-21\", \"2016-10-24\", \"2016-10-25\", \"2016-10-26\", \"2016-10-27\", \"2016-10-28\", \"2016-10-29\", \"2016-10-30\", \"2016-10-31\", \"2016-11-01\", \"2016-11-02\", \"2016-11-03\", \"2016-11-04\", \"2016-11-05\", \"2016-11-07\", \"2016-11-08\", \"2016-11-09\", \"2016-11-10\", \"2016-11-11\", \"2016-11-12\", \"2016-11-13\", \"2016-11-14\", \"2016-11-15\", \"2016-11-16\", \"2016-11-17\", \"2016-11-18\", \"2016-11-19\", \"2016-11-20\", \"2016-11-21\", \"2016-11-22\", \"2016-11-23\", \"2016-11-24\", \"2016-11-25\", \"2016-11-26\", \"2016-11-27\", \"2016-11-28\", \"2016-11-29\", \"2016-11-30\", \"2016-12-01\", \"2016-12-02\", \"2016-12-03\", \"2016-12-04\", \"2016-12-05\", \"2016-12-06\", \"2016-12-07\", \"2016-12-08\", \"2016-12-09\", \"2016-12-10\", \"2016-12-11\", \"2016-12-12\", \"2016-12-13\", \"2016-12-14\", \"2016-12-15\"], \"xaxis\": \"x\", \"y\": [44.44, 975.95, 97.34, 787.37, 83.34, 43.5, 130.88, 39.269999999999996, 729.65, 431.77, 327.66, 420.76, 14.28, 88.2, 265.37, 51.95, 42.55, 147.48000000000002, 346.16, 163.53, 115.33, 84.64, 2033.17, 140.9, 17.81, 38.26, 232.14999999999998, 784.5699999999999, 100.19, 670.0, 251.34, 82.44, 781.46, 103.33, 43.57, 310.03, 1902.0800000000002, 57.470000000000006, 40.0, 179.18, 236.12, 663.81, 298.55, 2310.51, 219.10999999999999, 165.2, 440.29999999999995, 339.94, 251.66, 168.09, 312.24, 13.39, 24.73, 35.1, 343.61, 64.17, 525.29, 45.79, 229.61999999999995, 58.42, 646.48, 434.05, 921.21, 417.63, 963.98, 293.77, 538.87, 906.98, 42.81, 143.25, 245.23000000000002, 68.43, 61.67, 330.96000000000004, 452.06, 276.43, 152.89, 139.11, 145.18, 74.7, 536.73, 2468.5699999999997, 240.19, 75.0, 70.94, 121.99, 54.87, 105.48, 62.61, 323.49, 81.68, 1331.99, 103.34, 89.36999999999999, 871.92, 160.99, 672.52, 377.95000000000005, 125.0, 86.5, 48.2, 27.939999999999998, 75.0, 109.87, 2428.86, 360.36999999999995, 112.67999999999999, 692.26, 1497.25, 475.29, 191.21, 455.16, 276.4, 553.3100000000001, 58.81, 102.68, 1114.3, 164.02, 50.0, 124.87, 234.01, 177.10000000000002, 54.68, 344.14, 178.65, 270.85, 45.71, 172.5, 189.72, 2102.41, 295.64, 114.29999999999998, 203.18, 68.84, 158.67, 179.07000000000002, 260.82000000000005, 615.71, 219.62, 266.75, 38.32, 824.1700000000001, 548.72, 246.13, 121.19, 135.3, 22.59, 393.4, 954.64, 160.0, 101.2, 158.3, 2704.98, 213.65, 29.3, 157.0, 174.01999999999998, 85.83, 653.1, 238.78, 426.0, 121.75, 266.0, 4.38, 1087.32, 947.17, 119.65, 341.22999999999996, 127.21, 92.64, 252.19, 389.89, 135.82999999999998, 387.58000000000004, 220.16, 22.33, 286.7, 417.83, 2413.1, 481.15999999999997, 118.56000000000002, 646.6, 203.22, 26925.500000000004, 692.3, 85.64, 640.1099999999999, 457.75, 41.71, 109.72, 658.02, 787.51, 269.62, 262.28, 412.96999999999997, 537.44, 51.19, 510.47, 547.03, 226.68, 247.04, 367.47999999999996, 252.51000000000002, 29.07, 291.09999999999997, 381.61, 20.0, 59.72, 281.39, 344.32, 42.519999999999996, 215.03, 662.83, 465.08000000000004, 620.29], \"yaxis\": \"y\"}],\n",
       "                        {\"legend\": {\"title\": {\"text\": \"transaction_type\"}, \"tracegroupgap\": 0}, \"template\": {\"data\": {\"bar\": [{\"error_x\": {\"color\": \"#2a3f5f\"}, \"error_y\": {\"color\": \"#2a3f5f\"}, \"marker\": {\"line\": {\"color\": \"#E5ECF6\", \"width\": 0.5}}, \"type\": \"bar\"}], \"barpolar\": [{\"marker\": {\"line\": {\"color\": \"#E5ECF6\", \"width\": 0.5}}, \"type\": \"barpolar\"}], \"carpet\": [{\"aaxis\": {\"endlinecolor\": \"#2a3f5f\", \"gridcolor\": \"white\", \"linecolor\": \"white\", \"minorgridcolor\": \"white\", \"startlinecolor\": \"#2a3f5f\"}, \"baxis\": {\"endlinecolor\": \"#2a3f5f\", \"gridcolor\": \"white\", \"linecolor\": \"white\", \"minorgridcolor\": \"white\", \"startlinecolor\": \"#2a3f5f\"}, \"type\": \"carpet\"}], \"choropleth\": [{\"colorbar\": {\"outlinewidth\": 0, \"ticks\": \"\"}, \"type\": \"choropleth\"}], \"contour\": [{\"colorbar\": {\"outlinewidth\": 0, \"ticks\": \"\"}, \"colorscale\": [[0.0, \"#0d0887\"], [0.1111111111111111, \"#46039f\"], [0.2222222222222222, \"#7201a8\"], [0.3333333333333333, \"#9c179e\"], [0.4444444444444444, \"#bd3786\"], [0.5555555555555556, \"#d8576b\"], [0.6666666666666666, \"#ed7953\"], [0.7777777777777778, \"#fb9f3a\"], [0.8888888888888888, \"#fdca26\"], [1.0, \"#f0f921\"]], \"type\": \"contour\"}], \"contourcarpet\": [{\"colorbar\": {\"outlinewidth\": 0, \"ticks\": \"\"}, \"type\": \"contourcarpet\"}], \"heatmap\": [{\"colorbar\": {\"outlinewidth\": 0, \"ticks\": \"\"}, \"colorscale\": [[0.0, \"#0d0887\"], [0.1111111111111111, \"#46039f\"], [0.2222222222222222, \"#7201a8\"], [0.3333333333333333, \"#9c179e\"], [0.4444444444444444, \"#bd3786\"], [0.5555555555555556, \"#d8576b\"], [0.6666666666666666, \"#ed7953\"], [0.7777777777777778, \"#fb9f3a\"], [0.8888888888888888, \"#fdca26\"], [1.0, \"#f0f921\"]], \"type\": \"heatmap\"}], \"heatmapgl\": [{\"colorbar\": {\"outlinewidth\": 0, \"ticks\": \"\"}, \"colorscale\": [[0.0, \"#0d0887\"], [0.1111111111111111, \"#46039f\"], [0.2222222222222222, \"#7201a8\"], [0.3333333333333333, \"#9c179e\"], [0.4444444444444444, \"#bd3786\"], [0.5555555555555556, \"#d8576b\"], [0.6666666666666666, \"#ed7953\"], [0.7777777777777778, \"#fb9f3a\"], [0.8888888888888888, \"#fdca26\"], [1.0, \"#f0f921\"]], \"type\": \"heatmapgl\"}], \"histogram\": [{\"marker\": {\"colorbar\": {\"outlinewidth\": 0, \"ticks\": \"\"}}, \"type\": \"histogram\"}], \"histogram2d\": [{\"colorbar\": {\"outlinewidth\": 0, \"ticks\": \"\"}, \"colorscale\": [[0.0, \"#0d0887\"], [0.1111111111111111, \"#46039f\"], [0.2222222222222222, \"#7201a8\"], [0.3333333333333333, \"#9c179e\"], [0.4444444444444444, \"#bd3786\"], [0.5555555555555556, \"#d8576b\"], [0.6666666666666666, \"#ed7953\"], [0.7777777777777778, \"#fb9f3a\"], [0.8888888888888888, \"#fdca26\"], [1.0, \"#f0f921\"]], \"type\": \"histogram2d\"}], \"histogram2dcontour\": [{\"colorbar\": {\"outlinewidth\": 0, \"ticks\": \"\"}, \"colorscale\": [[0.0, \"#0d0887\"], [0.1111111111111111, \"#46039f\"], [0.2222222222222222, \"#7201a8\"], [0.3333333333333333, \"#9c179e\"], [0.4444444444444444, \"#bd3786\"], [0.5555555555555556, \"#d8576b\"], [0.6666666666666666, \"#ed7953\"], [0.7777777777777778, \"#fb9f3a\"], [0.8888888888888888, \"#fdca26\"], [1.0, \"#f0f921\"]], \"type\": \"histogram2dcontour\"}], \"mesh3d\": [{\"colorbar\": {\"outlinewidth\": 0, \"ticks\": \"\"}, \"type\": \"mesh3d\"}], \"parcoords\": [{\"line\": {\"colorbar\": {\"outlinewidth\": 0, \"ticks\": \"\"}}, \"type\": \"parcoords\"}], \"pie\": [{\"automargin\": true, \"type\": \"pie\"}], \"scatter\": [{\"marker\": {\"colorbar\": {\"outlinewidth\": 0, \"ticks\": \"\"}}, \"type\": \"scatter\"}], \"scatter3d\": [{\"line\": {\"colorbar\": {\"outlinewidth\": 0, \"ticks\": \"\"}}, \"marker\": {\"colorbar\": {\"outlinewidth\": 0, \"ticks\": \"\"}}, \"type\": \"scatter3d\"}], \"scattercarpet\": [{\"marker\": {\"colorbar\": {\"outlinewidth\": 0, \"ticks\": \"\"}}, \"type\": \"scattercarpet\"}], \"scattergeo\": [{\"marker\": {\"colorbar\": {\"outlinewidth\": 0, \"ticks\": \"\"}}, \"type\": \"scattergeo\"}], \"scattergl\": [{\"marker\": {\"colorbar\": {\"outlinewidth\": 0, \"ticks\": \"\"}}, \"type\": \"scattergl\"}], \"scattermapbox\": [{\"marker\": {\"colorbar\": {\"outlinewidth\": 0, \"ticks\": \"\"}}, \"type\": \"scattermapbox\"}], \"scatterpolar\": [{\"marker\": {\"colorbar\": {\"outlinewidth\": 0, \"ticks\": \"\"}}, \"type\": \"scatterpolar\"}], \"scatterpolargl\": [{\"marker\": {\"colorbar\": {\"outlinewidth\": 0, \"ticks\": \"\"}}, \"type\": \"scatterpolargl\"}], \"scatterternary\": [{\"marker\": {\"colorbar\": {\"outlinewidth\": 0, \"ticks\": \"\"}}, \"type\": \"scatterternary\"}], \"surface\": [{\"colorbar\": {\"outlinewidth\": 0, \"ticks\": \"\"}, \"colorscale\": [[0.0, \"#0d0887\"], [0.1111111111111111, \"#46039f\"], [0.2222222222222222, \"#7201a8\"], [0.3333333333333333, \"#9c179e\"], [0.4444444444444444, \"#bd3786\"], [0.5555555555555556, \"#d8576b\"], [0.6666666666666666, \"#ed7953\"], [0.7777777777777778, \"#fb9f3a\"], [0.8888888888888888, \"#fdca26\"], [1.0, \"#f0f921\"]], \"type\": \"surface\"}], \"table\": [{\"cells\": {\"fill\": {\"color\": \"#EBF0F8\"}, \"line\": {\"color\": \"white\"}}, \"header\": {\"fill\": {\"color\": \"#C8D4E3\"}, \"line\": {\"color\": \"white\"}}, \"type\": \"table\"}]}, \"layout\": {\"annotationdefaults\": {\"arrowcolor\": \"#2a3f5f\", \"arrowhead\": 0, \"arrowwidth\": 1}, \"coloraxis\": {\"colorbar\": {\"outlinewidth\": 0, \"ticks\": \"\"}}, \"colorscale\": {\"diverging\": [[0, \"#8e0152\"], [0.1, \"#c51b7d\"], [0.2, \"#de77ae\"], [0.3, \"#f1b6da\"], [0.4, \"#fde0ef\"], [0.5, \"#f7f7f7\"], [0.6, \"#e6f5d0\"], [0.7, \"#b8e186\"], [0.8, \"#7fbc41\"], [0.9, \"#4d9221\"], [1, \"#276419\"]], \"sequential\": [[0.0, \"#0d0887\"], [0.1111111111111111, \"#46039f\"], [0.2222222222222222, \"#7201a8\"], [0.3333333333333333, \"#9c179e\"], [0.4444444444444444, \"#bd3786\"], [0.5555555555555556, \"#d8576b\"], [0.6666666666666666, \"#ed7953\"], [0.7777777777777778, \"#fb9f3a\"], [0.8888888888888888, \"#fdca26\"], [1.0, \"#f0f921\"]], \"sequentialminus\": [[0.0, \"#0d0887\"], [0.1111111111111111, \"#46039f\"], [0.2222222222222222, \"#7201a8\"], [0.3333333333333333, \"#9c179e\"], [0.4444444444444444, \"#bd3786\"], [0.5555555555555556, \"#d8576b\"], [0.6666666666666666, \"#ed7953\"], [0.7777777777777778, \"#fb9f3a\"], [0.8888888888888888, \"#fdca26\"], [1.0, \"#f0f921\"]]}, \"colorway\": [\"#636efa\", \"#EF553B\", \"#00cc96\", \"#ab63fa\", \"#FFA15A\", \"#19d3f3\", \"#FF6692\", \"#B6E880\", \"#FF97FF\", \"#FECB52\"], \"font\": {\"color\": \"#2a3f5f\"}, \"geo\": {\"bgcolor\": \"white\", \"lakecolor\": \"white\", \"landcolor\": \"#E5ECF6\", \"showlakes\": true, \"showland\": true, \"subunitcolor\": \"white\"}, \"hoverlabel\": {\"align\": \"left\"}, \"hovermode\": \"closest\", \"mapbox\": {\"style\": \"light\"}, \"paper_bgcolor\": \"white\", \"plot_bgcolor\": \"#E5ECF6\", \"polar\": {\"angularaxis\": {\"gridcolor\": \"white\", \"linecolor\": \"white\", \"ticks\": \"\"}, \"bgcolor\": \"#E5ECF6\", \"radialaxis\": {\"gridcolor\": \"white\", \"linecolor\": \"white\", \"ticks\": \"\"}}, \"scene\": {\"xaxis\": {\"backgroundcolor\": \"#E5ECF6\", \"gridcolor\": \"white\", \"gridwidth\": 2, \"linecolor\": \"white\", \"showbackground\": true, \"ticks\": \"\", \"zerolinecolor\": \"white\"}, \"yaxis\": {\"backgroundcolor\": \"#E5ECF6\", \"gridcolor\": \"white\", \"gridwidth\": 2, \"linecolor\": \"white\", \"showbackground\": true, \"ticks\": \"\", \"zerolinecolor\": \"white\"}, \"zaxis\": {\"backgroundcolor\": \"#E5ECF6\", \"gridcolor\": \"white\", \"gridwidth\": 2, \"linecolor\": \"white\", \"showbackground\": true, \"ticks\": \"\", \"zerolinecolor\": \"white\"}}, \"shapedefaults\": {\"line\": {\"color\": \"#2a3f5f\"}}, \"ternary\": {\"aaxis\": {\"gridcolor\": \"white\", \"linecolor\": \"white\", \"ticks\": \"\"}, \"baxis\": {\"gridcolor\": \"white\", \"linecolor\": \"white\", \"ticks\": \"\"}, \"bgcolor\": \"#E5ECF6\", \"caxis\": {\"gridcolor\": \"white\", \"linecolor\": \"white\", \"ticks\": \"\"}}, \"title\": {\"x\": 0.05}, \"xaxis\": {\"automargin\": true, \"gridcolor\": \"white\", \"linecolor\": \"white\", \"ticks\": \"\", \"title\": {\"standoff\": 15}, \"zerolinecolor\": \"white\", \"zerolinewidth\": 2}, \"yaxis\": {\"automargin\": true, \"gridcolor\": \"white\", \"linecolor\": \"white\", \"ticks\": \"\", \"title\": {\"standoff\": 15}, \"zerolinecolor\": \"white\", \"zerolinewidth\": 2}}}, \"title\": {\"text\": \"Lead ID=318465,bank_account_id=13419: Daily Time Series Plot\"}, \"xaxis\": {\"anchor\": \"y\", \"domain\": [0.0, 1.0], \"title\": {\"text\": \"date\"}}, \"yaxis\": {\"anchor\": \"x\", \"domain\": [0.0, 1.0], \"title\": {\"text\": \"amount\"}, \"type\": \"log\"}},\n",
       "                        {\"responsive\": true}\n",
       "                    ).then(function(){\n",
       "                            \n",
       "var gd = document.getElementById('3a08ea6f-8879-49b0-a1f7-5e65835d5d5c');\n",
       "var x = new MutationObserver(function (mutations, observer) {{\n",
       "        var display = window.getComputedStyle(gd).display;\n",
       "        if (!display || display === 'none') {{\n",
       "            console.log([gd, 'removed!']);\n",
       "            Plotly.purge(gd);\n",
       "            observer.disconnect();\n",
       "        }}\n",
       "}});\n",
       "\n",
       "// Listen for the removal of the full notebook cells\n",
       "var notebookContainer = gd.closest('#notebook-container');\n",
       "if (notebookContainer) {{\n",
       "    x.observe(notebookContainer, {childList: true});\n",
       "}}\n",
       "\n",
       "// Listen for the clearing of the current output cell\n",
       "var outputEl = gd.closest('.output');\n",
       "if (outputEl) {{\n",
       "    x.observe(outputEl, {childList: true});\n",
       "}}\n",
       "\n",
       "                        })\n",
       "                };\n",
       "                });\n",
       "            </script>\n",
       "        </div>"
      ]
     },
     "metadata": {},
     "output_type": "display_data"
    }
   ],
   "source": [
    "\n",
    "fig11 = px.line(df_final1, x=\"date\", y=\"amount\", color='transaction_type',\\\n",
    "              title=\"Lead ID=318465,bank_account_id=13419: Daily Time Series Plot\")\n",
    "\n",
    "fig11.update_layout(yaxis_type=\"log\")\n",
    "\n",
    "py.plot(fig11,filename = 'TimeSeries_11',auto_open=False)\n",
    "\n",
    "fig11.show()"
   ]
  },
  {
   "cell_type": "markdown",
   "metadata": {},
   "source": [
    "Question : \n",
    "\n",
    "###### 2.1)  Plot daily time series data for Lead ID: 326062, bank_account_id : 14046\n",
    "\n",
    "Following the same procedure as above\n"
   ]
  },
  {
   "cell_type": "code",
   "execution_count": 40,
   "metadata": {},
   "outputs": [],
   "source": [
    " # extract the LeadId and bank account ID\n",
    "\n",
    "df_filter2 = df[(df['Lead ID']==326062) & (df.bank_account_id==14046)]"
   ]
  },
  {
   "cell_type": "code",
   "execution_count": 41,
   "metadata": {},
   "outputs": [],
   "source": [
    "df_filter2 = df_filter2.sort_values(['date','trans_order'],ascending = True)"
   ]
  },
  {
   "cell_type": "code",
   "execution_count": 42,
   "metadata": {},
   "outputs": [],
   "source": [
    "df_trans2 = pd.DataFrame(df_filter2.groupby(['date','transaction_type'])['amount'].sum().reset_index())"
   ]
  },
  {
   "cell_type": "code",
   "execution_count": 43,
   "metadata": {},
   "outputs": [
    {
     "data": {
      "text/html": [
       "<div>\n",
       "<style scoped>\n",
       "    .dataframe tbody tr th:only-of-type {\n",
       "        vertical-align: middle;\n",
       "    }\n",
       "\n",
       "    .dataframe tbody tr th {\n",
       "        vertical-align: top;\n",
       "    }\n",
       "\n",
       "    .dataframe thead th {\n",
       "        text-align: right;\n",
       "    }\n",
       "</style>\n",
       "<table border=\"1\" class=\"dataframe\">\n",
       "  <thead>\n",
       "    <tr style=\"text-align: right;\">\n",
       "      <th></th>\n",
       "      <th>date</th>\n",
       "      <th>transaction_type</th>\n",
       "      <th>amount</th>\n",
       "    </tr>\n",
       "  </thead>\n",
       "  <tbody>\n",
       "    <tr>\n",
       "      <td>0</td>\n",
       "      <td>2016-07-08</td>\n",
       "      <td>credit</td>\n",
       "      <td>1019.38</td>\n",
       "    </tr>\n",
       "    <tr>\n",
       "      <td>1</td>\n",
       "      <td>2016-07-11</td>\n",
       "      <td>credit</td>\n",
       "      <td>2867.82</td>\n",
       "    </tr>\n",
       "    <tr>\n",
       "      <td>2</td>\n",
       "      <td>2016-07-11</td>\n",
       "      <td>debit</td>\n",
       "      <td>2455.36</td>\n",
       "    </tr>\n",
       "    <tr>\n",
       "      <td>3</td>\n",
       "      <td>2016-07-12</td>\n",
       "      <td>credit</td>\n",
       "      <td>6486.36</td>\n",
       "    </tr>\n",
       "    <tr>\n",
       "      <td>4</td>\n",
       "      <td>2016-07-12</td>\n",
       "      <td>debit</td>\n",
       "      <td>4680.34</td>\n",
       "    </tr>\n",
       "  </tbody>\n",
       "</table>\n",
       "</div>"
      ],
      "text/plain": [
       "         date transaction_type   amount\n",
       "0  2016-07-08           credit  1019.38\n",
       "1  2016-07-11           credit  2867.82\n",
       "2  2016-07-11            debit  2455.36\n",
       "3  2016-07-12           credit  6486.36\n",
       "4  2016-07-12            debit  4680.34"
      ]
     },
     "execution_count": 43,
     "metadata": {},
     "output_type": "execute_result"
    }
   ],
   "source": [
    "df_trans2.head()"
   ]
  },
  {
   "cell_type": "code",
   "execution_count": 44,
   "metadata": {},
   "outputs": [],
   "source": [
    "df_temp2 = pd.DataFrame(df_filter2.groupby(['date'])['trans_order'].max().reset_index())"
   ]
  },
  {
   "cell_type": "code",
   "execution_count": 45,
   "metadata": {},
   "outputs": [
    {
     "data": {
      "text/html": [
       "<div>\n",
       "<style scoped>\n",
       "    .dataframe tbody tr th:only-of-type {\n",
       "        vertical-align: middle;\n",
       "    }\n",
       "\n",
       "    .dataframe tbody tr th {\n",
       "        vertical-align: top;\n",
       "    }\n",
       "\n",
       "    .dataframe thead th {\n",
       "        text-align: right;\n",
       "    }\n",
       "</style>\n",
       "<table border=\"1\" class=\"dataframe\">\n",
       "  <thead>\n",
       "    <tr style=\"text-align: right;\">\n",
       "      <th></th>\n",
       "      <th>date</th>\n",
       "      <th>trans_order</th>\n",
       "    </tr>\n",
       "  </thead>\n",
       "  <tbody>\n",
       "    <tr>\n",
       "      <td>0</td>\n",
       "      <td>2016-07-08</td>\n",
       "      <td>1</td>\n",
       "    </tr>\n",
       "    <tr>\n",
       "      <td>1</td>\n",
       "      <td>2016-07-11</td>\n",
       "      <td>12</td>\n",
       "    </tr>\n",
       "    <tr>\n",
       "      <td>2</td>\n",
       "      <td>2016-07-12</td>\n",
       "      <td>8</td>\n",
       "    </tr>\n",
       "    <tr>\n",
       "      <td>3</td>\n",
       "      <td>2016-07-13</td>\n",
       "      <td>7</td>\n",
       "    </tr>\n",
       "    <tr>\n",
       "      <td>4</td>\n",
       "      <td>2016-07-14</td>\n",
       "      <td>6</td>\n",
       "    </tr>\n",
       "  </tbody>\n",
       "</table>\n",
       "</div>"
      ],
      "text/plain": [
       "         date  trans_order\n",
       "0  2016-07-08            1\n",
       "1  2016-07-11           12\n",
       "2  2016-07-12            8\n",
       "3  2016-07-13            7\n",
       "4  2016-07-14            6"
      ]
     },
     "execution_count": 45,
     "metadata": {},
     "output_type": "execute_result"
    }
   ],
   "source": [
    "df_temp2.head()"
   ]
  },
  {
   "cell_type": "code",
   "execution_count": 46,
   "metadata": {},
   "outputs": [],
   "source": [
    "xyz2 = pd.merge(df_filter2, df_temp2,  how='inner', on=['date','trans_order'])[['date','running_balance']]"
   ]
  },
  {
   "cell_type": "code",
   "execution_count": 47,
   "metadata": {},
   "outputs": [],
   "source": [
    "xyz2 = xyz2.rename(columns = {'running_balance':'amount'})"
   ]
  },
  {
   "cell_type": "code",
   "execution_count": 48,
   "metadata": {},
   "outputs": [],
   "source": [
    "xyz2['transaction_type'] = 'running_balance'"
   ]
  },
  {
   "cell_type": "code",
   "execution_count": 49,
   "metadata": {},
   "outputs": [],
   "source": [
    "xyz2 = xyz2[['date','transaction_type','amount']]"
   ]
  },
  {
   "cell_type": "code",
   "execution_count": 50,
   "metadata": {},
   "outputs": [],
   "source": [
    "df_final2 = pd.concat([df_trans2,xyz2],ignore_index = False).sort_values(['date'],ascending = True)"
   ]
  },
  {
   "cell_type": "code",
   "execution_count": 51,
   "metadata": {},
   "outputs": [
    {
     "data": {
      "text/html": [
       "<div>\n",
       "<style scoped>\n",
       "    .dataframe tbody tr th:only-of-type {\n",
       "        vertical-align: middle;\n",
       "    }\n",
       "\n",
       "    .dataframe tbody tr th {\n",
       "        vertical-align: top;\n",
       "    }\n",
       "\n",
       "    .dataframe thead th {\n",
       "        text-align: right;\n",
       "    }\n",
       "</style>\n",
       "<table border=\"1\" class=\"dataframe\">\n",
       "  <thead>\n",
       "    <tr style=\"text-align: right;\">\n",
       "      <th></th>\n",
       "      <th>date</th>\n",
       "      <th>transaction_type</th>\n",
       "      <th>amount</th>\n",
       "    </tr>\n",
       "  </thead>\n",
       "  <tbody>\n",
       "    <tr>\n",
       "      <td>0</td>\n",
       "      <td>2016-07-08</td>\n",
       "      <td>credit</td>\n",
       "      <td>1019.38</td>\n",
       "    </tr>\n",
       "    <tr>\n",
       "      <td>0</td>\n",
       "      <td>2016-07-08</td>\n",
       "      <td>running_balance</td>\n",
       "      <td>1110.16</td>\n",
       "    </tr>\n",
       "    <tr>\n",
       "      <td>1</td>\n",
       "      <td>2016-07-11</td>\n",
       "      <td>credit</td>\n",
       "      <td>2867.82</td>\n",
       "    </tr>\n",
       "    <tr>\n",
       "      <td>2</td>\n",
       "      <td>2016-07-11</td>\n",
       "      <td>debit</td>\n",
       "      <td>2455.36</td>\n",
       "    </tr>\n",
       "    <tr>\n",
       "      <td>1</td>\n",
       "      <td>2016-07-11</td>\n",
       "      <td>running_balance</td>\n",
       "      <td>1522.62</td>\n",
       "    </tr>\n",
       "  </tbody>\n",
       "</table>\n",
       "</div>"
      ],
      "text/plain": [
       "         date transaction_type   amount\n",
       "0  2016-07-08           credit  1019.38\n",
       "0  2016-07-08  running_balance  1110.16\n",
       "1  2016-07-11           credit  2867.82\n",
       "2  2016-07-11            debit  2455.36\n",
       "1  2016-07-11  running_balance  1522.62"
      ]
     },
     "execution_count": 51,
     "metadata": {},
     "output_type": "execute_result"
    }
   ],
   "source": [
    "df_final2.head()"
   ]
  },
  {
   "cell_type": "markdown",
   "metadata": {},
   "source": [
    "###### [ans] Creating interactive plot using plot.ly\n"
   ]
  },
  {
   "cell_type": "code",
   "execution_count": 52,
   "metadata": {},
   "outputs": [
    {
     "data": {
      "application/vnd.plotly.v1+json": {
       "config": {
        "plotlyServerURL": "https://plotly.com"
       },
       "data": [
        {
         "hoverlabel": {
          "namelength": 0
         },
         "hovertemplate": "transaction_type=credit<br>date=%{x}<br>amount=%{y}",
         "legendgroup": "credit",
         "line": {
          "color": "#636efa",
          "dash": "solid"
         },
         "mode": "lines",
         "name": "credit",
         "showlegend": true,
         "type": "scatter",
         "x": [
          "2016-07-08",
          "2016-07-11",
          "2016-07-12",
          "2016-07-13",
          "2016-07-14",
          "2016-07-15",
          "2016-07-18",
          "2016-07-19",
          "2016-07-20",
          "2016-07-21",
          "2016-07-22",
          "2016-07-25",
          "2016-07-26",
          "2016-07-27",
          "2016-07-28",
          "2016-07-29",
          "2016-08-01",
          "2016-08-02",
          "2016-08-03",
          "2016-08-04",
          "2016-08-05",
          "2016-08-08",
          "2016-08-09",
          "2016-08-10",
          "2016-08-11",
          "2016-08-12",
          "2016-08-15",
          "2016-08-16",
          "2016-08-17",
          "2016-08-18",
          "2016-08-19",
          "2016-08-22",
          "2016-08-23",
          "2016-08-24",
          "2016-08-25",
          "2016-08-26",
          "2016-08-29",
          "2016-08-30",
          "2016-08-31",
          "2016-09-01",
          "2016-09-02",
          "2016-09-06",
          "2016-09-07",
          "2016-09-09",
          "2016-09-12",
          "2016-09-13",
          "2016-09-14",
          "2016-09-15",
          "2016-09-16",
          "2016-09-19",
          "2016-09-20",
          "2016-09-21",
          "2016-09-22",
          "2016-09-23",
          "2016-09-26",
          "2016-09-27",
          "2016-09-28",
          "2016-09-29",
          "2016-09-30",
          "2016-10-03",
          "2016-10-04",
          "2016-10-05",
          "2016-10-06",
          "2016-10-07",
          "2016-10-11",
          "2016-10-12",
          "2016-10-13",
          "2016-10-14",
          "2016-10-17",
          "2016-10-18",
          "2016-10-19",
          "2016-10-20",
          "2016-10-21",
          "2016-10-24",
          "2016-10-25",
          "2016-10-26",
          "2016-10-27",
          "2016-10-28",
          "2016-10-31",
          "2016-11-01",
          "2016-11-02",
          "2016-11-03",
          "2016-11-04",
          "2016-11-07",
          "2016-11-08",
          "2016-11-09",
          "2016-11-14",
          "2016-11-15",
          "2016-11-16",
          "2016-11-17",
          "2016-11-18",
          "2016-11-21",
          "2016-11-22",
          "2016-11-23",
          "2016-11-25",
          "2016-11-28",
          "2016-11-29",
          "2016-11-30",
          "2016-12-01",
          "2016-12-02",
          "2016-12-05",
          "2016-12-06",
          "2016-12-07",
          "2016-12-08",
          "2016-12-09",
          "2016-12-12",
          "2016-12-13",
          "2016-12-14",
          "2016-12-15",
          "2016-12-16",
          "2016-12-19",
          "2016-12-20",
          "2016-12-21",
          "2016-12-22",
          "2016-12-23",
          "2016-12-27",
          "2016-12-28",
          "2016-12-29",
          "2016-12-30",
          "2017-01-03",
          "2017-01-04",
          "2017-01-05",
          "2017-01-06",
          "2017-01-09",
          "2017-01-10",
          "2017-01-11",
          "2017-01-12",
          "2017-01-13",
          "2017-01-17",
          "2017-01-18",
          "2017-01-19",
          "2017-01-20",
          "2017-01-23",
          "2017-01-24",
          "2017-01-25",
          "2017-01-26",
          "2017-01-27",
          "2017-01-30",
          "2017-01-31",
          "2017-02-01",
          "2017-02-02",
          "2017-02-03",
          "2017-02-06",
          "2017-02-07",
          "2017-02-08",
          "2017-02-09",
          "2017-02-10",
          "2017-02-13",
          "2017-02-14",
          "2017-02-15",
          "2017-02-16",
          "2017-02-17",
          "2017-02-21",
          "2017-02-22",
          "2017-02-23"
         ],
         "xaxis": "x",
         "y": [
          1019.38,
          2867.82,
          6486.360000000001,
          2066.49,
          1733.79,
          1698.1,
          2888.24,
          5923.42,
          1565.63,
          1489.73,
          2027.77,
          3129.04,
          6123.45,
          1818.63,
          1218.44,
          1819.93,
          2967.65,
          3725.1800000000003,
          4548.42,
          1627.1,
          2384.84,
          3034.98,
          5574.09,
          2490.21,
          1526.61,
          1579.56,
          3519.74,
          6211.91,
          2066.21,
          1737.56,
          1766.81,
          2617.81,
          6616.1,
          2808.24,
          2031.83,
          2056.98,
          3972.8900000000003,
          6361.039999999999,
          2197.73,
          1824.25,
          1393.3,
          3470.83,
          7766.310000000001,
          1024.14,
          3319.06,
          4897.49,
          2173.05,
          1284.97,
          1769.36,
          4281.77,
          4748.4800000000005,
          2206.4700000000003,
          1558.1100000000001,
          1453.51,
          7640.38,
          4628.08,
          2030.82,
          4545.54,
          1433.79,
          2437.2799999999997,
          6237.1900000000005,
          2251.64,
          731.97,
          1437.93,
          2764.95,
          6473.289999999999,
          1070.9299999999998,
          2087.44,
          2225.7799999999997,
          6147.32,
          1986.76,
          1101.53,
          1657.02,
          2270.33,
          5077.24,
          1590.39,
          1012.04,
          1178.71,
          2508.92,
          6014.279999999999,
          2127.7,
          1233.82,
          1080.81,
          1236.56,
          6173.62,
          1856.52,
          4223.860000000001,
          5734.03,
          5013.62,
          1016.19,
          941.48,
          2879.4300000000003,
          5247.110000000001,
          2336.26,
          1260.57,
          3910.59,
          3644.58,
          1664.39,
          1805.12,
          1109.4299999999998,
          2972.83,
          5907.57,
          1716.39,
          544.74,
          1750.23,
          2782.31,
          4841.22,
          2317.1099999999997,
          1655.02,
          1645,
          2641.55,
          5387.469999999999,
          2168.95,
          1208.7,
          1566.56,
          2078.12,
          5539.11,
          510,
          2752.73,
          2825.03,
          5614.96,
          1389.09,
          1892.45,
          4340.48,
          12022.18,
          2572.05,
          1022.25,
          795.37,
          2592.01,
          7076.01,
          7371.35,
          1453.41,
          1746.3,
          6077.790000000001,
          1761.6299999999999,
          1157.24,
          1170.09,
          3133.9,
          5589.39,
          2550.67,
          1226.0900000000001,
          4061.81,
          2209.19,
          4819.63,
          889.04,
          1035.53,
          2233.11,
          1710.62,
          7037.18,
          2387.73,
          1004.53,
          1606.22,
          2767.1,
          7012.81,
          1926.29
         ],
         "yaxis": "y"
        },
        {
         "hoverlabel": {
          "namelength": 0
         },
         "hovertemplate": "transaction_type=running_balance<br>date=%{x}<br>amount=%{y}",
         "legendgroup": "running_balance",
         "line": {
          "color": "#EF553B",
          "dash": "solid"
         },
         "mode": "lines",
         "name": "running_balance",
         "showlegend": true,
         "type": "scatter",
         "x": [
          "2016-07-08",
          "2016-07-11",
          "2016-07-12",
          "2016-07-13",
          "2016-07-14",
          "2016-07-15",
          "2016-07-18",
          "2016-07-19",
          "2016-07-20",
          "2016-07-21",
          "2016-07-22",
          "2016-07-25",
          "2016-07-26",
          "2016-07-27",
          "2016-07-28",
          "2016-07-29",
          "2016-08-01",
          "2016-08-02",
          "2016-08-03",
          "2016-08-04",
          "2016-08-05",
          "2016-08-08",
          "2016-08-09",
          "2016-08-10",
          "2016-08-11",
          "2016-08-12",
          "2016-08-15",
          "2016-08-16",
          "2016-08-17",
          "2016-08-18",
          "2016-08-19",
          "2016-08-22",
          "2016-08-23",
          "2016-08-24",
          "2016-08-25",
          "2016-08-26",
          "2016-08-29",
          "2016-08-30",
          "2016-08-31",
          "2016-09-01",
          "2016-09-02",
          "2016-09-06",
          "2016-09-07",
          "2016-09-08",
          "2016-09-09",
          "2016-09-12",
          "2016-09-13",
          "2016-09-14",
          "2016-09-15",
          "2016-09-16",
          "2016-09-19",
          "2016-09-20",
          "2016-09-21",
          "2016-09-22",
          "2016-09-23",
          "2016-09-26",
          "2016-09-27",
          "2016-09-28",
          "2016-09-29",
          "2016-09-30",
          "2016-10-03",
          "2016-10-04",
          "2016-10-05",
          "2016-10-06",
          "2016-10-07",
          "2016-10-11",
          "2016-10-12",
          "2016-10-13",
          "2016-10-14",
          "2016-10-17",
          "2016-10-18",
          "2016-10-19",
          "2016-10-20",
          "2016-10-21",
          "2016-10-24",
          "2016-10-25",
          "2016-10-26",
          "2016-10-27",
          "2016-10-28",
          "2016-10-31",
          "2016-11-01",
          "2016-11-02",
          "2016-11-03",
          "2016-11-04",
          "2016-11-07",
          "2016-11-08",
          "2016-11-09",
          "2016-11-10",
          "2016-11-14",
          "2016-11-15",
          "2016-11-16",
          "2016-11-17",
          "2016-11-18",
          "2016-11-21",
          "2016-11-22",
          "2016-11-23",
          "2016-11-25",
          "2016-11-28",
          "2016-11-29",
          "2016-11-30",
          "2016-12-01",
          "2016-12-02",
          "2016-12-05",
          "2016-12-06",
          "2016-12-07",
          "2016-12-08",
          "2016-12-09",
          "2016-12-12",
          "2016-12-13",
          "2016-12-14",
          "2016-12-15",
          "2016-12-16",
          "2016-12-19",
          "2016-12-20",
          "2016-12-21",
          "2016-12-22",
          "2016-12-23",
          "2016-12-27",
          "2016-12-28",
          "2016-12-29",
          "2016-12-30",
          "2017-01-03",
          "2017-01-04",
          "2017-01-05",
          "2017-01-06",
          "2017-01-09",
          "2017-01-10",
          "2017-01-11",
          "2017-01-12",
          "2017-01-13",
          "2017-01-17",
          "2017-01-18",
          "2017-01-19",
          "2017-01-20",
          "2017-01-23",
          "2017-01-24",
          "2017-01-25",
          "2017-01-26",
          "2017-01-27",
          "2017-01-30",
          "2017-01-31",
          "2017-02-01",
          "2017-02-02",
          "2017-02-03",
          "2017-02-06",
          "2017-02-07",
          "2017-02-08",
          "2017-02-09",
          "2017-02-10",
          "2017-02-13",
          "2017-02-14",
          "2017-02-15",
          "2017-02-16",
          "2017-02-17",
          "2017-02-21",
          "2017-02-22",
          "2017-02-23"
         ],
         "xaxis": "x",
         "y": [
          1110.16,
          1522.62,
          3328.64,
          3695.57,
          3890.37,
          5588.47,
          2064.39,
          2963.65,
          4069.84,
          5349.77,
          3826.82,
          3683.18,
          2308.04,
          1794.1,
          2971.79,
          4776.72,
          6440.07,
          5635.33,
          8899.77,
          10486.35,
          9162.06,
          5927.41,
          6937.27,
          4476.75,
          5975.16,
          7046.78,
          3500.48,
          5892.02,
          7745.54,
          9483.1,
          5985.92,
          3426.25,
          3799.29,
          5245.41,
          5212.56,
          6789.63,
          6958.46,
          8693.66,
          10641.15,
          11403.34,
          9147.22,
          3801.22,
          5503.12,
          5453.99,
          4376.18,
          1748.25,
          1790.39,
          2303.64,
          3428.61,
          1042.12,
          2102.76,
          4862.29,
          2123.45,
          1644.81,
          2291.05,
          9200.8,
          4674.46,
          1913.73,
          6459.27,
          4406.73,
          3447.29,
          6612.37,
          3184.54,
          3916.51,
          5299.48,
          733.56,
          7168.93,
          3455.09,
          1456.32,
          -254.15,
          4295.37,
          2101.62,
          3203.15,
          2975.54,
          4315.09,
          9254.35,
          10730.22,
          7199.79,
          5124.77,
          2519.49,
          6405.43,
          4293.35,
          4339.69,
          5400.55,
          5982.79,
          7509.14,
          9323.63,
          5995.14,
          4400.71,
          8796.11,
          650.25,
          1105.74,
          1504.72,
          4219.44,
          5806.64,
          7080.67,
          3792.04,
          3603.3,
          5117.37,
          174.59,
          1869.71,
          2979.14,
          3598.82,
          4899.36,
          6298.27,
          6163.12,
          2992.41,
          1592.73,
          1772.05,
          3157.43,
          4793.05,
          6314.49,
          7864.45,
          9391.2,
          10878.36,
          9885.58,
          6421.55,
          165.39,
          460.74,
          707.26,
          3370.29,
          1990.51,
          6211.96,
          6104.72,
          3870.45,
          -1176.66,
          9206.65,
          7342.38,
          585.33,
          1361.7,
          2174.24,
          9139.1,
          15750.95,
          3354.93,
          727.8,
          6609.36,
          2809.44,
          2631.25,
          3160.25,
          5839.5,
          6637.94,
          3834.55,
          3407.26,
          2609.52,
          580.41,
          3766.3,
          465.61,
          1046.76,
          2220.21,
          3739,
          5696.41,
          6610.89,
          7436.62,
          2458.29,
          1214.64,
          1820.93,
          3114.45
         ],
         "yaxis": "y"
        },
        {
         "hoverlabel": {
          "namelength": 0
         },
         "hovertemplate": "transaction_type=debit<br>date=%{x}<br>amount=%{y}",
         "legendgroup": "debit",
         "line": {
          "color": "#00cc96",
          "dash": "solid"
         },
         "mode": "lines",
         "name": "debit",
         "showlegend": true,
         "type": "scatter",
         "x": [
          "2016-07-11",
          "2016-07-12",
          "2016-07-13",
          "2016-07-14",
          "2016-07-18",
          "2016-07-19",
          "2016-07-20",
          "2016-07-21",
          "2016-07-22",
          "2016-07-25",
          "2016-07-26",
          "2016-07-27",
          "2016-07-28",
          "2016-07-29",
          "2016-08-01",
          "2016-08-02",
          "2016-08-03",
          "2016-08-04",
          "2016-08-05",
          "2016-08-08",
          "2016-08-09",
          "2016-08-10",
          "2016-08-11",
          "2016-08-12",
          "2016-08-15",
          "2016-08-16",
          "2016-08-17",
          "2016-08-19",
          "2016-08-22",
          "2016-08-23",
          "2016-08-24",
          "2016-08-25",
          "2016-08-26",
          "2016-08-29",
          "2016-08-30",
          "2016-08-31",
          "2016-09-01",
          "2016-09-02",
          "2016-09-06",
          "2016-09-07",
          "2016-09-08",
          "2016-09-09",
          "2016-09-12",
          "2016-09-13",
          "2016-09-14",
          "2016-09-15",
          "2016-09-16",
          "2016-09-19",
          "2016-09-20",
          "2016-09-21",
          "2016-09-22",
          "2016-09-23",
          "2016-09-26",
          "2016-09-27",
          "2016-09-28",
          "2016-09-30",
          "2016-10-03",
          "2016-10-04",
          "2016-10-05",
          "2016-10-07",
          "2016-10-11",
          "2016-10-12",
          "2016-10-13",
          "2016-10-14",
          "2016-10-17",
          "2016-10-18",
          "2016-10-19",
          "2016-10-21",
          "2016-10-24",
          "2016-10-25",
          "2016-10-26",
          "2016-10-27",
          "2016-10-28",
          "2016-10-31",
          "2016-11-01",
          "2016-11-02",
          "2016-11-03",
          "2016-11-04",
          "2016-11-07",
          "2016-11-08",
          "2016-11-09",
          "2016-11-10",
          "2016-11-14",
          "2016-11-15",
          "2016-11-16",
          "2016-11-17",
          "2016-11-18",
          "2016-11-21",
          "2016-11-22",
          "2016-11-23",
          "2016-11-25",
          "2016-11-28",
          "2016-11-29",
          "2016-11-30",
          "2016-12-01",
          "2016-12-05",
          "2016-12-06",
          "2016-12-07",
          "2016-12-08",
          "2016-12-09",
          "2016-12-12",
          "2016-12-13",
          "2016-12-14",
          "2016-12-15",
          "2016-12-16",
          "2016-12-19",
          "2016-12-20",
          "2016-12-21",
          "2016-12-22",
          "2016-12-23",
          "2016-12-27",
          "2016-12-28",
          "2016-12-29",
          "2016-12-30",
          "2017-01-03",
          "2017-01-04",
          "2017-01-05",
          "2017-01-06",
          "2017-01-09",
          "2017-01-10",
          "2017-01-11",
          "2017-01-12",
          "2017-01-13",
          "2017-01-17",
          "2017-01-18",
          "2017-01-19",
          "2017-01-20",
          "2017-01-23",
          "2017-01-24",
          "2017-01-25",
          "2017-01-26",
          "2017-01-27",
          "2017-01-30",
          "2017-01-31",
          "2017-02-01",
          "2017-02-02",
          "2017-02-03",
          "2017-02-06",
          "2017-02-07",
          "2017-02-08",
          "2017-02-09",
          "2017-02-10",
          "2017-02-13",
          "2017-02-14",
          "2017-02-15",
          "2017-02-16",
          "2017-02-17",
          "2017-02-21",
          "2017-02-22",
          "2017-02-23"
         ],
         "xaxis": "x",
         "y": [
          2455.36,
          4680.34,
          1699.56,
          1538.9899999999998,
          6412.319999999999,
          5024.16,
          459.44,
          209.8,
          3550.72,
          3272.6800000000003,
          7498.59,
          2332.5699999999997,
          40.75,
          15,
          1304.3,
          4529.92,
          1283.9800000000002,
          40.519999999999996,
          3709.13,
          6269.630000000001,
          4564.23,
          4950.7300000000005,
          28.2,
          507.94,
          7066.04,
          3820.3700000000003,
          212.69,
          5263.99,
          5177.4800000000005,
          6243.06,
          1362.12,
          2064.68,
          479.91,
          3804.06,
          4625.84,
          250.24,
          1062.06,
          3649.42,
          8816.829999999998,
          6064.410000000001,
          49.129999999999995,
          2101.95,
          5946.99,
          4855.349999999999,
          1659.8000000000002,
          160,
          4155.85,
          3221.13,
          1988.95,
          4945.31,
          2036.7499999999998,
          807.27,
          730.6299999999999,
          9154.42,
          4791.55,
          3486.33,
          3396.7200000000003,
          3072.11,
          5679.47,
          54.96,
          7330.870000000001,
          37.92,
          4784.77,
          4086.21,
          3936.2499999999995,
          1597.8,
          4180.51,
          1884.63,
          930.78,
          137.98,
          114.52,
          4542.47,
          3253.73,
          5114.2,
          2128.3399999999997,
          4239.78,
          1187.48,
          19.95,
          654.3199999999999,
          4647.27,
          42.03,
          3328.49,
          5818.290000000001,
          1338.63,
          13159.48,
          560.7,
          542.5,
          164.71,
          3659.91,
          1062.23,
          4549.2,
          4099.329999999999,
          2130.5099999999998,
          6607.17,
          110,
          2353.15,
          4607.030000000001,
          317.47999999999996,
          679.89,
          4920.9400000000005,
          4181.99,
          4661.9,
          931.73,
          19.4,
          123.56,
          1091.59,
          3860.7200000000003,
          681.79,
          2201.48,
          5030.59,
          8334.279999999999,
          5243.759999999999,
          263.48,
          89.69999999999999,
          4204.81,
          1393.5100000000002,
          1496.33,
          4126.720000000001,
          9387.59,
          1638.8700000000001,
          4436.32,
          7779.299999999999,
          19,
          1779.47,
          111.15,
          759.5,
          13849.430000000002,
          4373.429999999999,
          196.23000000000002,
          5561.55,
          1335.43,
          641.09,
          454.65000000000003,
          4790.95,
          5354.06,
          1653.38,
          4859.55,
          4238.3,
          1633.7400000000002,
          4189.7300000000005,
          454.38,
          1059.66,
          191.82999999999998,
          5079.77,
          1473.25,
          178.8,
          6584.55,
          4010.75,
          6406.52,
          632.7699999999999
         ],
         "yaxis": "y"
        }
       ],
       "layout": {
        "legend": {
         "title": {
          "text": "transaction_type"
         },
         "tracegroupgap": 0
        },
        "template": {
         "data": {
          "bar": [
           {
            "error_x": {
             "color": "#2a3f5f"
            },
            "error_y": {
             "color": "#2a3f5f"
            },
            "marker": {
             "line": {
              "color": "#E5ECF6",
              "width": 0.5
             }
            },
            "type": "bar"
           }
          ],
          "barpolar": [
           {
            "marker": {
             "line": {
              "color": "#E5ECF6",
              "width": 0.5
             }
            },
            "type": "barpolar"
           }
          ],
          "carpet": [
           {
            "aaxis": {
             "endlinecolor": "#2a3f5f",
             "gridcolor": "white",
             "linecolor": "white",
             "minorgridcolor": "white",
             "startlinecolor": "#2a3f5f"
            },
            "baxis": {
             "endlinecolor": "#2a3f5f",
             "gridcolor": "white",
             "linecolor": "white",
             "minorgridcolor": "white",
             "startlinecolor": "#2a3f5f"
            },
            "type": "carpet"
           }
          ],
          "choropleth": [
           {
            "colorbar": {
             "outlinewidth": 0,
             "ticks": ""
            },
            "type": "choropleth"
           }
          ],
          "contour": [
           {
            "colorbar": {
             "outlinewidth": 0,
             "ticks": ""
            },
            "colorscale": [
             [
              0,
              "#0d0887"
             ],
             [
              0.1111111111111111,
              "#46039f"
             ],
             [
              0.2222222222222222,
              "#7201a8"
             ],
             [
              0.3333333333333333,
              "#9c179e"
             ],
             [
              0.4444444444444444,
              "#bd3786"
             ],
             [
              0.5555555555555556,
              "#d8576b"
             ],
             [
              0.6666666666666666,
              "#ed7953"
             ],
             [
              0.7777777777777778,
              "#fb9f3a"
             ],
             [
              0.8888888888888888,
              "#fdca26"
             ],
             [
              1,
              "#f0f921"
             ]
            ],
            "type": "contour"
           }
          ],
          "contourcarpet": [
           {
            "colorbar": {
             "outlinewidth": 0,
             "ticks": ""
            },
            "type": "contourcarpet"
           }
          ],
          "heatmap": [
           {
            "colorbar": {
             "outlinewidth": 0,
             "ticks": ""
            },
            "colorscale": [
             [
              0,
              "#0d0887"
             ],
             [
              0.1111111111111111,
              "#46039f"
             ],
             [
              0.2222222222222222,
              "#7201a8"
             ],
             [
              0.3333333333333333,
              "#9c179e"
             ],
             [
              0.4444444444444444,
              "#bd3786"
             ],
             [
              0.5555555555555556,
              "#d8576b"
             ],
             [
              0.6666666666666666,
              "#ed7953"
             ],
             [
              0.7777777777777778,
              "#fb9f3a"
             ],
             [
              0.8888888888888888,
              "#fdca26"
             ],
             [
              1,
              "#f0f921"
             ]
            ],
            "type": "heatmap"
           }
          ],
          "heatmapgl": [
           {
            "colorbar": {
             "outlinewidth": 0,
             "ticks": ""
            },
            "colorscale": [
             [
              0,
              "#0d0887"
             ],
             [
              0.1111111111111111,
              "#46039f"
             ],
             [
              0.2222222222222222,
              "#7201a8"
             ],
             [
              0.3333333333333333,
              "#9c179e"
             ],
             [
              0.4444444444444444,
              "#bd3786"
             ],
             [
              0.5555555555555556,
              "#d8576b"
             ],
             [
              0.6666666666666666,
              "#ed7953"
             ],
             [
              0.7777777777777778,
              "#fb9f3a"
             ],
             [
              0.8888888888888888,
              "#fdca26"
             ],
             [
              1,
              "#f0f921"
             ]
            ],
            "type": "heatmapgl"
           }
          ],
          "histogram": [
           {
            "marker": {
             "colorbar": {
              "outlinewidth": 0,
              "ticks": ""
             }
            },
            "type": "histogram"
           }
          ],
          "histogram2d": [
           {
            "colorbar": {
             "outlinewidth": 0,
             "ticks": ""
            },
            "colorscale": [
             [
              0,
              "#0d0887"
             ],
             [
              0.1111111111111111,
              "#46039f"
             ],
             [
              0.2222222222222222,
              "#7201a8"
             ],
             [
              0.3333333333333333,
              "#9c179e"
             ],
             [
              0.4444444444444444,
              "#bd3786"
             ],
             [
              0.5555555555555556,
              "#d8576b"
             ],
             [
              0.6666666666666666,
              "#ed7953"
             ],
             [
              0.7777777777777778,
              "#fb9f3a"
             ],
             [
              0.8888888888888888,
              "#fdca26"
             ],
             [
              1,
              "#f0f921"
             ]
            ],
            "type": "histogram2d"
           }
          ],
          "histogram2dcontour": [
           {
            "colorbar": {
             "outlinewidth": 0,
             "ticks": ""
            },
            "colorscale": [
             [
              0,
              "#0d0887"
             ],
             [
              0.1111111111111111,
              "#46039f"
             ],
             [
              0.2222222222222222,
              "#7201a8"
             ],
             [
              0.3333333333333333,
              "#9c179e"
             ],
             [
              0.4444444444444444,
              "#bd3786"
             ],
             [
              0.5555555555555556,
              "#d8576b"
             ],
             [
              0.6666666666666666,
              "#ed7953"
             ],
             [
              0.7777777777777778,
              "#fb9f3a"
             ],
             [
              0.8888888888888888,
              "#fdca26"
             ],
             [
              1,
              "#f0f921"
             ]
            ],
            "type": "histogram2dcontour"
           }
          ],
          "mesh3d": [
           {
            "colorbar": {
             "outlinewidth": 0,
             "ticks": ""
            },
            "type": "mesh3d"
           }
          ],
          "parcoords": [
           {
            "line": {
             "colorbar": {
              "outlinewidth": 0,
              "ticks": ""
             }
            },
            "type": "parcoords"
           }
          ],
          "pie": [
           {
            "automargin": true,
            "type": "pie"
           }
          ],
          "scatter": [
           {
            "marker": {
             "colorbar": {
              "outlinewidth": 0,
              "ticks": ""
             }
            },
            "type": "scatter"
           }
          ],
          "scatter3d": [
           {
            "line": {
             "colorbar": {
              "outlinewidth": 0,
              "ticks": ""
             }
            },
            "marker": {
             "colorbar": {
              "outlinewidth": 0,
              "ticks": ""
             }
            },
            "type": "scatter3d"
           }
          ],
          "scattercarpet": [
           {
            "marker": {
             "colorbar": {
              "outlinewidth": 0,
              "ticks": ""
             }
            },
            "type": "scattercarpet"
           }
          ],
          "scattergeo": [
           {
            "marker": {
             "colorbar": {
              "outlinewidth": 0,
              "ticks": ""
             }
            },
            "type": "scattergeo"
           }
          ],
          "scattergl": [
           {
            "marker": {
             "colorbar": {
              "outlinewidth": 0,
              "ticks": ""
             }
            },
            "type": "scattergl"
           }
          ],
          "scattermapbox": [
           {
            "marker": {
             "colorbar": {
              "outlinewidth": 0,
              "ticks": ""
             }
            },
            "type": "scattermapbox"
           }
          ],
          "scatterpolar": [
           {
            "marker": {
             "colorbar": {
              "outlinewidth": 0,
              "ticks": ""
             }
            },
            "type": "scatterpolar"
           }
          ],
          "scatterpolargl": [
           {
            "marker": {
             "colorbar": {
              "outlinewidth": 0,
              "ticks": ""
             }
            },
            "type": "scatterpolargl"
           }
          ],
          "scatterternary": [
           {
            "marker": {
             "colorbar": {
              "outlinewidth": 0,
              "ticks": ""
             }
            },
            "type": "scatterternary"
           }
          ],
          "surface": [
           {
            "colorbar": {
             "outlinewidth": 0,
             "ticks": ""
            },
            "colorscale": [
             [
              0,
              "#0d0887"
             ],
             [
              0.1111111111111111,
              "#46039f"
             ],
             [
              0.2222222222222222,
              "#7201a8"
             ],
             [
              0.3333333333333333,
              "#9c179e"
             ],
             [
              0.4444444444444444,
              "#bd3786"
             ],
             [
              0.5555555555555556,
              "#d8576b"
             ],
             [
              0.6666666666666666,
              "#ed7953"
             ],
             [
              0.7777777777777778,
              "#fb9f3a"
             ],
             [
              0.8888888888888888,
              "#fdca26"
             ],
             [
              1,
              "#f0f921"
             ]
            ],
            "type": "surface"
           }
          ],
          "table": [
           {
            "cells": {
             "fill": {
              "color": "#EBF0F8"
             },
             "line": {
              "color": "white"
             }
            },
            "header": {
             "fill": {
              "color": "#C8D4E3"
             },
             "line": {
              "color": "white"
             }
            },
            "type": "table"
           }
          ]
         },
         "layout": {
          "annotationdefaults": {
           "arrowcolor": "#2a3f5f",
           "arrowhead": 0,
           "arrowwidth": 1
          },
          "coloraxis": {
           "colorbar": {
            "outlinewidth": 0,
            "ticks": ""
           }
          },
          "colorscale": {
           "diverging": [
            [
             0,
             "#8e0152"
            ],
            [
             0.1,
             "#c51b7d"
            ],
            [
             0.2,
             "#de77ae"
            ],
            [
             0.3,
             "#f1b6da"
            ],
            [
             0.4,
             "#fde0ef"
            ],
            [
             0.5,
             "#f7f7f7"
            ],
            [
             0.6,
             "#e6f5d0"
            ],
            [
             0.7,
             "#b8e186"
            ],
            [
             0.8,
             "#7fbc41"
            ],
            [
             0.9,
             "#4d9221"
            ],
            [
             1,
             "#276419"
            ]
           ],
           "sequential": [
            [
             0,
             "#0d0887"
            ],
            [
             0.1111111111111111,
             "#46039f"
            ],
            [
             0.2222222222222222,
             "#7201a8"
            ],
            [
             0.3333333333333333,
             "#9c179e"
            ],
            [
             0.4444444444444444,
             "#bd3786"
            ],
            [
             0.5555555555555556,
             "#d8576b"
            ],
            [
             0.6666666666666666,
             "#ed7953"
            ],
            [
             0.7777777777777778,
             "#fb9f3a"
            ],
            [
             0.8888888888888888,
             "#fdca26"
            ],
            [
             1,
             "#f0f921"
            ]
           ],
           "sequentialminus": [
            [
             0,
             "#0d0887"
            ],
            [
             0.1111111111111111,
             "#46039f"
            ],
            [
             0.2222222222222222,
             "#7201a8"
            ],
            [
             0.3333333333333333,
             "#9c179e"
            ],
            [
             0.4444444444444444,
             "#bd3786"
            ],
            [
             0.5555555555555556,
             "#d8576b"
            ],
            [
             0.6666666666666666,
             "#ed7953"
            ],
            [
             0.7777777777777778,
             "#fb9f3a"
            ],
            [
             0.8888888888888888,
             "#fdca26"
            ],
            [
             1,
             "#f0f921"
            ]
           ]
          },
          "colorway": [
           "#636efa",
           "#EF553B",
           "#00cc96",
           "#ab63fa",
           "#FFA15A",
           "#19d3f3",
           "#FF6692",
           "#B6E880",
           "#FF97FF",
           "#FECB52"
          ],
          "font": {
           "color": "#2a3f5f"
          },
          "geo": {
           "bgcolor": "white",
           "lakecolor": "white",
           "landcolor": "#E5ECF6",
           "showlakes": true,
           "showland": true,
           "subunitcolor": "white"
          },
          "hoverlabel": {
           "align": "left"
          },
          "hovermode": "closest",
          "mapbox": {
           "style": "light"
          },
          "paper_bgcolor": "white",
          "plot_bgcolor": "#E5ECF6",
          "polar": {
           "angularaxis": {
            "gridcolor": "white",
            "linecolor": "white",
            "ticks": ""
           },
           "bgcolor": "#E5ECF6",
           "radialaxis": {
            "gridcolor": "white",
            "linecolor": "white",
            "ticks": ""
           }
          },
          "scene": {
           "xaxis": {
            "backgroundcolor": "#E5ECF6",
            "gridcolor": "white",
            "gridwidth": 2,
            "linecolor": "white",
            "showbackground": true,
            "ticks": "",
            "zerolinecolor": "white"
           },
           "yaxis": {
            "backgroundcolor": "#E5ECF6",
            "gridcolor": "white",
            "gridwidth": 2,
            "linecolor": "white",
            "showbackground": true,
            "ticks": "",
            "zerolinecolor": "white"
           },
           "zaxis": {
            "backgroundcolor": "#E5ECF6",
            "gridcolor": "white",
            "gridwidth": 2,
            "linecolor": "white",
            "showbackground": true,
            "ticks": "",
            "zerolinecolor": "white"
           }
          },
          "shapedefaults": {
           "line": {
            "color": "#2a3f5f"
           }
          },
          "ternary": {
           "aaxis": {
            "gridcolor": "white",
            "linecolor": "white",
            "ticks": ""
           },
           "baxis": {
            "gridcolor": "white",
            "linecolor": "white",
            "ticks": ""
           },
           "bgcolor": "#E5ECF6",
           "caxis": {
            "gridcolor": "white",
            "linecolor": "white",
            "ticks": ""
           }
          },
          "title": {
           "x": 0.05
          },
          "xaxis": {
           "automargin": true,
           "gridcolor": "white",
           "linecolor": "white",
           "ticks": "",
           "title": {
            "standoff": 15
           },
           "zerolinecolor": "white",
           "zerolinewidth": 2
          },
          "yaxis": {
           "automargin": true,
           "gridcolor": "white",
           "linecolor": "white",
           "ticks": "",
           "title": {
            "standoff": 15
           },
           "zerolinecolor": "white",
           "zerolinewidth": 2
          }
         }
        },
        "title": {
         "text": "Lead ID=326062,bank_account_id=14046: Daily Time Series Plot"
        },
        "xaxis": {
         "anchor": "y",
         "domain": [
          0,
          1
         ],
         "title": {
          "text": "date"
         }
        },
        "yaxis": {
         "anchor": "x",
         "domain": [
          0,
          1
         ],
         "title": {
          "text": "amount"
         }
        }
       }
      },
      "text/html": [
       "<div>\n",
       "        \n",
       "        \n",
       "            <div id=\"0fa50e8d-696a-4494-a2b8-65a6d60ad073\" class=\"plotly-graph-div\" style=\"height:525px; width:100%;\"></div>\n",
       "            <script type=\"text/javascript\">\n",
       "                require([\"plotly\"], function(Plotly) {\n",
       "                    window.PLOTLYENV=window.PLOTLYENV || {};\n",
       "                    \n",
       "                if (document.getElementById(\"0fa50e8d-696a-4494-a2b8-65a6d60ad073\")) {\n",
       "                    Plotly.newPlot(\n",
       "                        '0fa50e8d-696a-4494-a2b8-65a6d60ad073',\n",
       "                        [{\"hoverlabel\": {\"namelength\": 0}, \"hovertemplate\": \"transaction_type=credit<br>date=%{x}<br>amount=%{y}\", \"legendgroup\": \"credit\", \"line\": {\"color\": \"#636efa\", \"dash\": \"solid\"}, \"mode\": \"lines\", \"name\": \"credit\", \"showlegend\": true, \"type\": \"scatter\", \"x\": [\"2016-07-08\", \"2016-07-11\", \"2016-07-12\", \"2016-07-13\", \"2016-07-14\", \"2016-07-15\", \"2016-07-18\", \"2016-07-19\", \"2016-07-20\", \"2016-07-21\", \"2016-07-22\", \"2016-07-25\", \"2016-07-26\", \"2016-07-27\", \"2016-07-28\", \"2016-07-29\", \"2016-08-01\", \"2016-08-02\", \"2016-08-03\", \"2016-08-04\", \"2016-08-05\", \"2016-08-08\", \"2016-08-09\", \"2016-08-10\", \"2016-08-11\", \"2016-08-12\", \"2016-08-15\", \"2016-08-16\", \"2016-08-17\", \"2016-08-18\", \"2016-08-19\", \"2016-08-22\", \"2016-08-23\", \"2016-08-24\", \"2016-08-25\", \"2016-08-26\", \"2016-08-29\", \"2016-08-30\", \"2016-08-31\", \"2016-09-01\", \"2016-09-02\", \"2016-09-06\", \"2016-09-07\", \"2016-09-09\", \"2016-09-12\", \"2016-09-13\", \"2016-09-14\", \"2016-09-15\", \"2016-09-16\", \"2016-09-19\", \"2016-09-20\", \"2016-09-21\", \"2016-09-22\", \"2016-09-23\", \"2016-09-26\", \"2016-09-27\", \"2016-09-28\", \"2016-09-29\", \"2016-09-30\", \"2016-10-03\", \"2016-10-04\", \"2016-10-05\", \"2016-10-06\", \"2016-10-07\", \"2016-10-11\", \"2016-10-12\", \"2016-10-13\", \"2016-10-14\", \"2016-10-17\", \"2016-10-18\", \"2016-10-19\", \"2016-10-20\", \"2016-10-21\", \"2016-10-24\", \"2016-10-25\", \"2016-10-26\", \"2016-10-27\", \"2016-10-28\", \"2016-10-31\", \"2016-11-01\", \"2016-11-02\", \"2016-11-03\", \"2016-11-04\", \"2016-11-07\", \"2016-11-08\", \"2016-11-09\", \"2016-11-14\", \"2016-11-15\", \"2016-11-16\", \"2016-11-17\", \"2016-11-18\", \"2016-11-21\", \"2016-11-22\", \"2016-11-23\", \"2016-11-25\", \"2016-11-28\", \"2016-11-29\", \"2016-11-30\", \"2016-12-01\", \"2016-12-02\", \"2016-12-05\", \"2016-12-06\", \"2016-12-07\", \"2016-12-08\", \"2016-12-09\", \"2016-12-12\", \"2016-12-13\", \"2016-12-14\", \"2016-12-15\", \"2016-12-16\", \"2016-12-19\", \"2016-12-20\", \"2016-12-21\", \"2016-12-22\", \"2016-12-23\", \"2016-12-27\", \"2016-12-28\", \"2016-12-29\", \"2016-12-30\", \"2017-01-03\", \"2017-01-04\", \"2017-01-05\", \"2017-01-06\", \"2017-01-09\", \"2017-01-10\", \"2017-01-11\", \"2017-01-12\", \"2017-01-13\", \"2017-01-17\", \"2017-01-18\", \"2017-01-19\", \"2017-01-20\", \"2017-01-23\", \"2017-01-24\", \"2017-01-25\", \"2017-01-26\", \"2017-01-27\", \"2017-01-30\", \"2017-01-31\", \"2017-02-01\", \"2017-02-02\", \"2017-02-03\", \"2017-02-06\", \"2017-02-07\", \"2017-02-08\", \"2017-02-09\", \"2017-02-10\", \"2017-02-13\", \"2017-02-14\", \"2017-02-15\", \"2017-02-16\", \"2017-02-17\", \"2017-02-21\", \"2017-02-22\", \"2017-02-23\"], \"xaxis\": \"x\", \"y\": [1019.38, 2867.82, 6486.360000000001, 2066.49, 1733.79, 1698.1, 2888.24, 5923.42, 1565.63, 1489.73, 2027.77, 3129.04, 6123.45, 1818.63, 1218.44, 1819.93, 2967.65, 3725.1800000000003, 4548.42, 1627.1, 2384.84, 3034.98, 5574.09, 2490.21, 1526.61, 1579.56, 3519.74, 6211.91, 2066.21, 1737.56, 1766.81, 2617.81, 6616.1, 2808.24, 2031.83, 2056.98, 3972.8900000000003, 6361.039999999999, 2197.73, 1824.25, 1393.3, 3470.83, 7766.310000000001, 1024.14, 3319.06, 4897.49, 2173.05, 1284.97, 1769.36, 4281.77, 4748.4800000000005, 2206.4700000000003, 1558.1100000000001, 1453.51, 7640.38, 4628.08, 2030.82, 4545.54, 1433.79, 2437.2799999999997, 6237.1900000000005, 2251.64, 731.97, 1437.93, 2764.95, 6473.289999999999, 1070.9299999999998, 2087.44, 2225.7799999999997, 6147.32, 1986.76, 1101.53, 1657.02, 2270.33, 5077.24, 1590.39, 1012.04, 1178.71, 2508.92, 6014.279999999999, 2127.7, 1233.82, 1080.81, 1236.56, 6173.62, 1856.52, 4223.860000000001, 5734.03, 5013.62, 1016.19, 941.48, 2879.4300000000003, 5247.110000000001, 2336.26, 1260.57, 3910.59, 3644.58, 1664.39, 1805.12, 1109.4299999999998, 2972.83, 5907.57, 1716.39, 544.74, 1750.23, 2782.31, 4841.22, 2317.1099999999997, 1655.02, 1645.0, 2641.55, 5387.469999999999, 2168.95, 1208.7, 1566.56, 2078.12, 5539.11, 510.0, 2752.73, 2825.03, 5614.96, 1389.09, 1892.45, 4340.48, 12022.18, 2572.05, 1022.25, 795.37, 2592.01, 7076.01, 7371.35, 1453.41, 1746.3, 6077.790000000001, 1761.6299999999999, 1157.24, 1170.09, 3133.9, 5589.39, 2550.67, 1226.0900000000001, 4061.81, 2209.19, 4819.63, 889.04, 1035.53, 2233.11, 1710.62, 7037.18, 2387.73, 1004.53, 1606.22, 2767.1, 7012.81, 1926.29], \"yaxis\": \"y\"}, {\"hoverlabel\": {\"namelength\": 0}, \"hovertemplate\": \"transaction_type=running_balance<br>date=%{x}<br>amount=%{y}\", \"legendgroup\": \"running_balance\", \"line\": {\"color\": \"#EF553B\", \"dash\": \"solid\"}, \"mode\": \"lines\", \"name\": \"running_balance\", \"showlegend\": true, \"type\": \"scatter\", \"x\": [\"2016-07-08\", \"2016-07-11\", \"2016-07-12\", \"2016-07-13\", \"2016-07-14\", \"2016-07-15\", \"2016-07-18\", \"2016-07-19\", \"2016-07-20\", \"2016-07-21\", \"2016-07-22\", \"2016-07-25\", \"2016-07-26\", \"2016-07-27\", \"2016-07-28\", \"2016-07-29\", \"2016-08-01\", \"2016-08-02\", \"2016-08-03\", \"2016-08-04\", \"2016-08-05\", \"2016-08-08\", \"2016-08-09\", \"2016-08-10\", \"2016-08-11\", \"2016-08-12\", \"2016-08-15\", \"2016-08-16\", \"2016-08-17\", \"2016-08-18\", \"2016-08-19\", \"2016-08-22\", \"2016-08-23\", \"2016-08-24\", \"2016-08-25\", \"2016-08-26\", \"2016-08-29\", \"2016-08-30\", \"2016-08-31\", \"2016-09-01\", \"2016-09-02\", \"2016-09-06\", \"2016-09-07\", \"2016-09-08\", \"2016-09-09\", \"2016-09-12\", \"2016-09-13\", \"2016-09-14\", \"2016-09-15\", \"2016-09-16\", \"2016-09-19\", \"2016-09-20\", \"2016-09-21\", \"2016-09-22\", \"2016-09-23\", \"2016-09-26\", \"2016-09-27\", \"2016-09-28\", \"2016-09-29\", \"2016-09-30\", \"2016-10-03\", \"2016-10-04\", \"2016-10-05\", \"2016-10-06\", \"2016-10-07\", \"2016-10-11\", \"2016-10-12\", \"2016-10-13\", \"2016-10-14\", \"2016-10-17\", \"2016-10-18\", \"2016-10-19\", \"2016-10-20\", \"2016-10-21\", \"2016-10-24\", \"2016-10-25\", \"2016-10-26\", \"2016-10-27\", \"2016-10-28\", \"2016-10-31\", \"2016-11-01\", \"2016-11-02\", \"2016-11-03\", \"2016-11-04\", \"2016-11-07\", \"2016-11-08\", \"2016-11-09\", \"2016-11-10\", \"2016-11-14\", \"2016-11-15\", \"2016-11-16\", \"2016-11-17\", \"2016-11-18\", \"2016-11-21\", \"2016-11-22\", \"2016-11-23\", \"2016-11-25\", \"2016-11-28\", \"2016-11-29\", \"2016-11-30\", \"2016-12-01\", \"2016-12-02\", \"2016-12-05\", \"2016-12-06\", \"2016-12-07\", \"2016-12-08\", \"2016-12-09\", \"2016-12-12\", \"2016-12-13\", \"2016-12-14\", \"2016-12-15\", \"2016-12-16\", \"2016-12-19\", \"2016-12-20\", \"2016-12-21\", \"2016-12-22\", \"2016-12-23\", \"2016-12-27\", \"2016-12-28\", \"2016-12-29\", \"2016-12-30\", \"2017-01-03\", \"2017-01-04\", \"2017-01-05\", \"2017-01-06\", \"2017-01-09\", \"2017-01-10\", \"2017-01-11\", \"2017-01-12\", \"2017-01-13\", \"2017-01-17\", \"2017-01-18\", \"2017-01-19\", \"2017-01-20\", \"2017-01-23\", \"2017-01-24\", \"2017-01-25\", \"2017-01-26\", \"2017-01-27\", \"2017-01-30\", \"2017-01-31\", \"2017-02-01\", \"2017-02-02\", \"2017-02-03\", \"2017-02-06\", \"2017-02-07\", \"2017-02-08\", \"2017-02-09\", \"2017-02-10\", \"2017-02-13\", \"2017-02-14\", \"2017-02-15\", \"2017-02-16\", \"2017-02-17\", \"2017-02-21\", \"2017-02-22\", \"2017-02-23\"], \"xaxis\": \"x\", \"y\": [1110.16, 1522.62, 3328.64, 3695.57, 3890.37, 5588.47, 2064.39, 2963.65, 4069.84, 5349.77, 3826.82, 3683.18, 2308.04, 1794.1, 2971.79, 4776.72, 6440.07, 5635.33, 8899.77, 10486.35, 9162.06, 5927.41, 6937.27, 4476.75, 5975.16, 7046.78, 3500.48, 5892.02, 7745.54, 9483.1, 5985.92, 3426.25, 3799.29, 5245.41, 5212.56, 6789.63, 6958.46, 8693.66, 10641.15, 11403.34, 9147.22, 3801.22, 5503.12, 5453.99, 4376.18, 1748.25, 1790.39, 2303.64, 3428.61, 1042.12, 2102.76, 4862.29, 2123.45, 1644.81, 2291.05, 9200.8, 4674.46, 1913.73, 6459.27, 4406.73, 3447.29, 6612.37, 3184.54, 3916.51, 5299.48, 733.56, 7168.93, 3455.09, 1456.32, -254.15, 4295.37, 2101.62, 3203.15, 2975.54, 4315.09, 9254.35, 10730.22, 7199.79, 5124.77, 2519.49, 6405.43, 4293.35, 4339.69, 5400.55, 5982.79, 7509.14, 9323.63, 5995.14, 4400.71, 8796.11, 650.25, 1105.74, 1504.72, 4219.44, 5806.64, 7080.67, 3792.04, 3603.3, 5117.37, 174.59, 1869.71, 2979.14, 3598.82, 4899.36, 6298.27, 6163.12, 2992.41, 1592.73, 1772.05, 3157.43, 4793.05, 6314.49, 7864.45, 9391.2, 10878.36, 9885.58, 6421.55, 165.39, 460.74, 707.26, 3370.29, 1990.51, 6211.96, 6104.72, 3870.45, -1176.66, 9206.65, 7342.38, 585.33, 1361.7, 2174.24, 9139.1, 15750.95, 3354.93, 727.8, 6609.36, 2809.44, 2631.25, 3160.25, 5839.5, 6637.94, 3834.55, 3407.26, 2609.52, 580.41, 3766.3, 465.61, 1046.76, 2220.21, 3739.0, 5696.41, 6610.89, 7436.62, 2458.29, 1214.64, 1820.93, 3114.45], \"yaxis\": \"y\"}, {\"hoverlabel\": {\"namelength\": 0}, \"hovertemplate\": \"transaction_type=debit<br>date=%{x}<br>amount=%{y}\", \"legendgroup\": \"debit\", \"line\": {\"color\": \"#00cc96\", \"dash\": \"solid\"}, \"mode\": \"lines\", \"name\": \"debit\", \"showlegend\": true, \"type\": \"scatter\", \"x\": [\"2016-07-11\", \"2016-07-12\", \"2016-07-13\", \"2016-07-14\", \"2016-07-18\", \"2016-07-19\", \"2016-07-20\", \"2016-07-21\", \"2016-07-22\", \"2016-07-25\", \"2016-07-26\", \"2016-07-27\", \"2016-07-28\", \"2016-07-29\", \"2016-08-01\", \"2016-08-02\", \"2016-08-03\", \"2016-08-04\", \"2016-08-05\", \"2016-08-08\", \"2016-08-09\", \"2016-08-10\", \"2016-08-11\", \"2016-08-12\", \"2016-08-15\", \"2016-08-16\", \"2016-08-17\", \"2016-08-19\", \"2016-08-22\", \"2016-08-23\", \"2016-08-24\", \"2016-08-25\", \"2016-08-26\", \"2016-08-29\", \"2016-08-30\", \"2016-08-31\", \"2016-09-01\", \"2016-09-02\", \"2016-09-06\", \"2016-09-07\", \"2016-09-08\", \"2016-09-09\", \"2016-09-12\", \"2016-09-13\", \"2016-09-14\", \"2016-09-15\", \"2016-09-16\", \"2016-09-19\", \"2016-09-20\", \"2016-09-21\", \"2016-09-22\", \"2016-09-23\", \"2016-09-26\", \"2016-09-27\", \"2016-09-28\", \"2016-09-30\", \"2016-10-03\", \"2016-10-04\", \"2016-10-05\", \"2016-10-07\", \"2016-10-11\", \"2016-10-12\", \"2016-10-13\", \"2016-10-14\", \"2016-10-17\", \"2016-10-18\", \"2016-10-19\", \"2016-10-21\", \"2016-10-24\", \"2016-10-25\", \"2016-10-26\", \"2016-10-27\", \"2016-10-28\", \"2016-10-31\", \"2016-11-01\", \"2016-11-02\", \"2016-11-03\", \"2016-11-04\", \"2016-11-07\", \"2016-11-08\", \"2016-11-09\", \"2016-11-10\", \"2016-11-14\", \"2016-11-15\", \"2016-11-16\", \"2016-11-17\", \"2016-11-18\", \"2016-11-21\", \"2016-11-22\", \"2016-11-23\", \"2016-11-25\", \"2016-11-28\", \"2016-11-29\", \"2016-11-30\", \"2016-12-01\", \"2016-12-05\", \"2016-12-06\", \"2016-12-07\", \"2016-12-08\", \"2016-12-09\", \"2016-12-12\", \"2016-12-13\", \"2016-12-14\", \"2016-12-15\", \"2016-12-16\", \"2016-12-19\", \"2016-12-20\", \"2016-12-21\", \"2016-12-22\", \"2016-12-23\", \"2016-12-27\", \"2016-12-28\", \"2016-12-29\", \"2016-12-30\", \"2017-01-03\", \"2017-01-04\", \"2017-01-05\", \"2017-01-06\", \"2017-01-09\", \"2017-01-10\", \"2017-01-11\", \"2017-01-12\", \"2017-01-13\", \"2017-01-17\", \"2017-01-18\", \"2017-01-19\", \"2017-01-20\", \"2017-01-23\", \"2017-01-24\", \"2017-01-25\", \"2017-01-26\", \"2017-01-27\", \"2017-01-30\", \"2017-01-31\", \"2017-02-01\", \"2017-02-02\", \"2017-02-03\", \"2017-02-06\", \"2017-02-07\", \"2017-02-08\", \"2017-02-09\", \"2017-02-10\", \"2017-02-13\", \"2017-02-14\", \"2017-02-15\", \"2017-02-16\", \"2017-02-17\", \"2017-02-21\", \"2017-02-22\", \"2017-02-23\"], \"xaxis\": \"x\", \"y\": [2455.36, 4680.34, 1699.56, 1538.9899999999998, 6412.319999999999, 5024.16, 459.44, 209.8, 3550.72, 3272.6800000000003, 7498.59, 2332.5699999999997, 40.75, 15.0, 1304.3, 4529.92, 1283.9800000000002, 40.519999999999996, 3709.13, 6269.630000000001, 4564.23, 4950.7300000000005, 28.2, 507.94, 7066.04, 3820.3700000000003, 212.69, 5263.99, 5177.4800000000005, 6243.06, 1362.12, 2064.68, 479.91, 3804.06, 4625.84, 250.24, 1062.06, 3649.42, 8816.829999999998, 6064.410000000001, 49.129999999999995, 2101.95, 5946.99, 4855.349999999999, 1659.8000000000002, 160.0, 4155.85, 3221.13, 1988.95, 4945.31, 2036.7499999999998, 807.27, 730.6299999999999, 9154.42, 4791.55, 3486.33, 3396.7200000000003, 3072.11, 5679.47, 54.96, 7330.870000000001, 37.92, 4784.77, 4086.21, 3936.2499999999995, 1597.8, 4180.51, 1884.63, 930.78, 137.98, 114.52, 4542.47, 3253.73, 5114.2, 2128.3399999999997, 4239.78, 1187.48, 19.95, 654.3199999999999, 4647.27, 42.03, 3328.49, 5818.290000000001, 1338.63, 13159.48, 560.7, 542.5, 164.71, 3659.91, 1062.23, 4549.2, 4099.329999999999, 2130.5099999999998, 6607.17, 110.0, 2353.15, 4607.030000000001, 317.47999999999996, 679.89, 4920.9400000000005, 4181.99, 4661.9, 931.73, 19.4, 123.56, 1091.59, 3860.7200000000003, 681.79, 2201.48, 5030.59, 8334.279999999999, 5243.759999999999, 263.48, 89.69999999999999, 4204.81, 1393.5100000000002, 1496.33, 4126.720000000001, 9387.59, 1638.8700000000001, 4436.32, 7779.299999999999, 19.0, 1779.47, 111.15, 759.5, 13849.430000000002, 4373.429999999999, 196.23000000000002, 5561.55, 1335.43, 641.09, 454.65000000000003, 4790.95, 5354.06, 1653.38, 4859.55, 4238.3, 1633.7400000000002, 4189.7300000000005, 454.38, 1059.66, 191.82999999999998, 5079.77, 1473.25, 178.8, 6584.55, 4010.75, 6406.52, 632.7699999999999], \"yaxis\": \"y\"}],\n",
       "                        {\"legend\": {\"title\": {\"text\": \"transaction_type\"}, \"tracegroupgap\": 0}, \"template\": {\"data\": {\"bar\": [{\"error_x\": {\"color\": \"#2a3f5f\"}, \"error_y\": {\"color\": \"#2a3f5f\"}, \"marker\": {\"line\": {\"color\": \"#E5ECF6\", \"width\": 0.5}}, \"type\": \"bar\"}], \"barpolar\": [{\"marker\": {\"line\": {\"color\": \"#E5ECF6\", \"width\": 0.5}}, \"type\": \"barpolar\"}], \"carpet\": [{\"aaxis\": {\"endlinecolor\": \"#2a3f5f\", \"gridcolor\": \"white\", \"linecolor\": \"white\", \"minorgridcolor\": \"white\", \"startlinecolor\": \"#2a3f5f\"}, \"baxis\": {\"endlinecolor\": \"#2a3f5f\", \"gridcolor\": \"white\", \"linecolor\": \"white\", \"minorgridcolor\": \"white\", \"startlinecolor\": \"#2a3f5f\"}, \"type\": \"carpet\"}], \"choropleth\": [{\"colorbar\": {\"outlinewidth\": 0, \"ticks\": \"\"}, \"type\": \"choropleth\"}], \"contour\": [{\"colorbar\": {\"outlinewidth\": 0, \"ticks\": \"\"}, \"colorscale\": [[0.0, \"#0d0887\"], [0.1111111111111111, \"#46039f\"], [0.2222222222222222, \"#7201a8\"], [0.3333333333333333, \"#9c179e\"], [0.4444444444444444, \"#bd3786\"], [0.5555555555555556, \"#d8576b\"], [0.6666666666666666, \"#ed7953\"], [0.7777777777777778, \"#fb9f3a\"], [0.8888888888888888, \"#fdca26\"], [1.0, \"#f0f921\"]], \"type\": \"contour\"}], \"contourcarpet\": [{\"colorbar\": {\"outlinewidth\": 0, \"ticks\": \"\"}, \"type\": \"contourcarpet\"}], \"heatmap\": [{\"colorbar\": {\"outlinewidth\": 0, \"ticks\": \"\"}, \"colorscale\": [[0.0, \"#0d0887\"], [0.1111111111111111, \"#46039f\"], [0.2222222222222222, \"#7201a8\"], [0.3333333333333333, \"#9c179e\"], [0.4444444444444444, \"#bd3786\"], [0.5555555555555556, \"#d8576b\"], [0.6666666666666666, \"#ed7953\"], [0.7777777777777778, \"#fb9f3a\"], [0.8888888888888888, \"#fdca26\"], [1.0, \"#f0f921\"]], \"type\": \"heatmap\"}], \"heatmapgl\": [{\"colorbar\": {\"outlinewidth\": 0, \"ticks\": \"\"}, \"colorscale\": [[0.0, \"#0d0887\"], [0.1111111111111111, \"#46039f\"], [0.2222222222222222, \"#7201a8\"], [0.3333333333333333, \"#9c179e\"], [0.4444444444444444, \"#bd3786\"], [0.5555555555555556, \"#d8576b\"], [0.6666666666666666, \"#ed7953\"], [0.7777777777777778, \"#fb9f3a\"], [0.8888888888888888, \"#fdca26\"], [1.0, \"#f0f921\"]], \"type\": \"heatmapgl\"}], \"histogram\": [{\"marker\": {\"colorbar\": {\"outlinewidth\": 0, \"ticks\": \"\"}}, \"type\": \"histogram\"}], \"histogram2d\": [{\"colorbar\": {\"outlinewidth\": 0, \"ticks\": \"\"}, \"colorscale\": [[0.0, \"#0d0887\"], [0.1111111111111111, \"#46039f\"], [0.2222222222222222, \"#7201a8\"], [0.3333333333333333, \"#9c179e\"], [0.4444444444444444, \"#bd3786\"], [0.5555555555555556, \"#d8576b\"], [0.6666666666666666, \"#ed7953\"], [0.7777777777777778, \"#fb9f3a\"], [0.8888888888888888, \"#fdca26\"], [1.0, \"#f0f921\"]], \"type\": \"histogram2d\"}], \"histogram2dcontour\": [{\"colorbar\": {\"outlinewidth\": 0, \"ticks\": \"\"}, \"colorscale\": [[0.0, \"#0d0887\"], [0.1111111111111111, \"#46039f\"], [0.2222222222222222, \"#7201a8\"], [0.3333333333333333, \"#9c179e\"], [0.4444444444444444, \"#bd3786\"], [0.5555555555555556, \"#d8576b\"], [0.6666666666666666, \"#ed7953\"], [0.7777777777777778, \"#fb9f3a\"], [0.8888888888888888, \"#fdca26\"], [1.0, \"#f0f921\"]], \"type\": \"histogram2dcontour\"}], \"mesh3d\": [{\"colorbar\": {\"outlinewidth\": 0, \"ticks\": \"\"}, \"type\": \"mesh3d\"}], \"parcoords\": [{\"line\": {\"colorbar\": {\"outlinewidth\": 0, \"ticks\": \"\"}}, \"type\": \"parcoords\"}], \"pie\": [{\"automargin\": true, \"type\": \"pie\"}], \"scatter\": [{\"marker\": {\"colorbar\": {\"outlinewidth\": 0, \"ticks\": \"\"}}, \"type\": \"scatter\"}], \"scatter3d\": [{\"line\": {\"colorbar\": {\"outlinewidth\": 0, \"ticks\": \"\"}}, \"marker\": {\"colorbar\": {\"outlinewidth\": 0, \"ticks\": \"\"}}, \"type\": \"scatter3d\"}], \"scattercarpet\": [{\"marker\": {\"colorbar\": {\"outlinewidth\": 0, \"ticks\": \"\"}}, \"type\": \"scattercarpet\"}], \"scattergeo\": [{\"marker\": {\"colorbar\": {\"outlinewidth\": 0, \"ticks\": \"\"}}, \"type\": \"scattergeo\"}], \"scattergl\": [{\"marker\": {\"colorbar\": {\"outlinewidth\": 0, \"ticks\": \"\"}}, \"type\": \"scattergl\"}], \"scattermapbox\": [{\"marker\": {\"colorbar\": {\"outlinewidth\": 0, \"ticks\": \"\"}}, \"type\": \"scattermapbox\"}], \"scatterpolar\": [{\"marker\": {\"colorbar\": {\"outlinewidth\": 0, \"ticks\": \"\"}}, \"type\": \"scatterpolar\"}], \"scatterpolargl\": [{\"marker\": {\"colorbar\": {\"outlinewidth\": 0, \"ticks\": \"\"}}, \"type\": \"scatterpolargl\"}], \"scatterternary\": [{\"marker\": {\"colorbar\": {\"outlinewidth\": 0, \"ticks\": \"\"}}, \"type\": \"scatterternary\"}], \"surface\": [{\"colorbar\": {\"outlinewidth\": 0, \"ticks\": \"\"}, \"colorscale\": [[0.0, \"#0d0887\"], [0.1111111111111111, \"#46039f\"], [0.2222222222222222, \"#7201a8\"], [0.3333333333333333, \"#9c179e\"], [0.4444444444444444, \"#bd3786\"], [0.5555555555555556, \"#d8576b\"], [0.6666666666666666, \"#ed7953\"], [0.7777777777777778, \"#fb9f3a\"], [0.8888888888888888, \"#fdca26\"], [1.0, \"#f0f921\"]], \"type\": \"surface\"}], \"table\": [{\"cells\": {\"fill\": {\"color\": \"#EBF0F8\"}, \"line\": {\"color\": \"white\"}}, \"header\": {\"fill\": {\"color\": \"#C8D4E3\"}, \"line\": {\"color\": \"white\"}}, \"type\": \"table\"}]}, \"layout\": {\"annotationdefaults\": {\"arrowcolor\": \"#2a3f5f\", \"arrowhead\": 0, \"arrowwidth\": 1}, \"coloraxis\": {\"colorbar\": {\"outlinewidth\": 0, \"ticks\": \"\"}}, \"colorscale\": {\"diverging\": [[0, \"#8e0152\"], [0.1, \"#c51b7d\"], [0.2, \"#de77ae\"], [0.3, \"#f1b6da\"], [0.4, \"#fde0ef\"], [0.5, \"#f7f7f7\"], [0.6, \"#e6f5d0\"], [0.7, \"#b8e186\"], [0.8, \"#7fbc41\"], [0.9, \"#4d9221\"], [1, \"#276419\"]], \"sequential\": [[0.0, \"#0d0887\"], [0.1111111111111111, \"#46039f\"], [0.2222222222222222, \"#7201a8\"], [0.3333333333333333, \"#9c179e\"], [0.4444444444444444, \"#bd3786\"], [0.5555555555555556, \"#d8576b\"], [0.6666666666666666, \"#ed7953\"], [0.7777777777777778, \"#fb9f3a\"], [0.8888888888888888, \"#fdca26\"], [1.0, \"#f0f921\"]], \"sequentialminus\": [[0.0, \"#0d0887\"], [0.1111111111111111, \"#46039f\"], [0.2222222222222222, \"#7201a8\"], [0.3333333333333333, \"#9c179e\"], [0.4444444444444444, \"#bd3786\"], [0.5555555555555556, \"#d8576b\"], [0.6666666666666666, \"#ed7953\"], [0.7777777777777778, \"#fb9f3a\"], [0.8888888888888888, \"#fdca26\"], [1.0, \"#f0f921\"]]}, \"colorway\": [\"#636efa\", \"#EF553B\", \"#00cc96\", \"#ab63fa\", \"#FFA15A\", \"#19d3f3\", \"#FF6692\", \"#B6E880\", \"#FF97FF\", \"#FECB52\"], \"font\": {\"color\": \"#2a3f5f\"}, \"geo\": {\"bgcolor\": \"white\", \"lakecolor\": \"white\", \"landcolor\": \"#E5ECF6\", \"showlakes\": true, \"showland\": true, \"subunitcolor\": \"white\"}, \"hoverlabel\": {\"align\": \"left\"}, \"hovermode\": \"closest\", \"mapbox\": {\"style\": \"light\"}, \"paper_bgcolor\": \"white\", \"plot_bgcolor\": \"#E5ECF6\", \"polar\": {\"angularaxis\": {\"gridcolor\": \"white\", \"linecolor\": \"white\", \"ticks\": \"\"}, \"bgcolor\": \"#E5ECF6\", \"radialaxis\": {\"gridcolor\": \"white\", \"linecolor\": \"white\", \"ticks\": \"\"}}, \"scene\": {\"xaxis\": {\"backgroundcolor\": \"#E5ECF6\", \"gridcolor\": \"white\", \"gridwidth\": 2, \"linecolor\": \"white\", \"showbackground\": true, \"ticks\": \"\", \"zerolinecolor\": \"white\"}, \"yaxis\": {\"backgroundcolor\": \"#E5ECF6\", \"gridcolor\": \"white\", \"gridwidth\": 2, \"linecolor\": \"white\", \"showbackground\": true, \"ticks\": \"\", \"zerolinecolor\": \"white\"}, \"zaxis\": {\"backgroundcolor\": \"#E5ECF6\", \"gridcolor\": \"white\", \"gridwidth\": 2, \"linecolor\": \"white\", \"showbackground\": true, \"ticks\": \"\", \"zerolinecolor\": \"white\"}}, \"shapedefaults\": {\"line\": {\"color\": \"#2a3f5f\"}}, \"ternary\": {\"aaxis\": {\"gridcolor\": \"white\", \"linecolor\": \"white\", \"ticks\": \"\"}, \"baxis\": {\"gridcolor\": \"white\", \"linecolor\": \"white\", \"ticks\": \"\"}, \"bgcolor\": \"#E5ECF6\", \"caxis\": {\"gridcolor\": \"white\", \"linecolor\": \"white\", \"ticks\": \"\"}}, \"title\": {\"x\": 0.05}, \"xaxis\": {\"automargin\": true, \"gridcolor\": \"white\", \"linecolor\": \"white\", \"ticks\": \"\", \"title\": {\"standoff\": 15}, \"zerolinecolor\": \"white\", \"zerolinewidth\": 2}, \"yaxis\": {\"automargin\": true, \"gridcolor\": \"white\", \"linecolor\": \"white\", \"ticks\": \"\", \"title\": {\"standoff\": 15}, \"zerolinecolor\": \"white\", \"zerolinewidth\": 2}}}, \"title\": {\"text\": \"Lead ID=326062,bank_account_id=14046: Daily Time Series Plot\"}, \"xaxis\": {\"anchor\": \"y\", \"domain\": [0.0, 1.0], \"title\": {\"text\": \"date\"}}, \"yaxis\": {\"anchor\": \"x\", \"domain\": [0.0, 1.0], \"title\": {\"text\": \"amount\"}}},\n",
       "                        {\"responsive\": true}\n",
       "                    ).then(function(){\n",
       "                            \n",
       "var gd = document.getElementById('0fa50e8d-696a-4494-a2b8-65a6d60ad073');\n",
       "var x = new MutationObserver(function (mutations, observer) {{\n",
       "        var display = window.getComputedStyle(gd).display;\n",
       "        if (!display || display === 'none') {{\n",
       "            console.log([gd, 'removed!']);\n",
       "            Plotly.purge(gd);\n",
       "            observer.disconnect();\n",
       "        }}\n",
       "}});\n",
       "\n",
       "// Listen for the removal of the full notebook cells\n",
       "var notebookContainer = gd.closest('#notebook-container');\n",
       "if (notebookContainer) {{\n",
       "    x.observe(notebookContainer, {childList: true});\n",
       "}}\n",
       "\n",
       "// Listen for the clearing of the current output cell\n",
       "var outputEl = gd.closest('.output');\n",
       "if (outputEl) {{\n",
       "    x.observe(outputEl, {childList: true});\n",
       "}}\n",
       "\n",
       "                        })\n",
       "                };\n",
       "                });\n",
       "            </script>\n",
       "        </div>"
      ]
     },
     "metadata": {},
     "output_type": "display_data"
    }
   ],
   "source": [
    "username = 'rravishankar'\n",
    "api_key = 'lLY6mbM1zktKBEQ3DGVo'\n",
    "\n",
    "chart_studio.tools.set_credentials_file(username = username, api_key = api_key)\n",
    "\n",
    "fig2 = px.line(df_final2, x=\"date\", y=\"amount\", color='transaction_type',\\\n",
    "              title=\"Lead ID=326062,bank_account_id=14046: Daily Time Series Plot\")\n",
    "\n",
    "py.plot(fig2,filename = 'TimeSeries_2',auto_open=False)\n",
    "fig2.show()"
   ]
  },
  {
   "cell_type": "markdown",
   "metadata": {},
   "source": [
    "Question 3 : \n",
    "\n",
    "###### For the merchants with the above Lead IDs, plot the withdrawals, deposits and daily balance as a daily time series \n",
    "(aggregate over all their bank accounts)"
   ]
  },
  {
   "cell_type": "code",
   "execution_count": 54,
   "metadata": {},
   "outputs": [],
   "source": [
    "# extract the lead ID : 318465\n",
    "df_merchant = df[(df['Lead ID']==318465)]"
   ]
  },
  {
   "cell_type": "code",
   "execution_count": 55,
   "metadata": {},
   "outputs": [],
   "source": [
    "# sort by date and trans order\n",
    "\n",
    "df_merchant = df_merchant.sort_values(['date','trans_order'],ascending = True)"
   ]
  },
  {
   "cell_type": "code",
   "execution_count": 56,
   "metadata": {},
   "outputs": [],
   "source": [
    "# sum of credit and debit amounts aggregated to all bank accounts\n",
    "\n",
    "df_trans3 = pd.DataFrame(df_merchant.groupby(['date','transaction_type'])['amount'].sum().reset_index())"
   ]
  },
  {
   "cell_type": "code",
   "execution_count": 57,
   "metadata": {},
   "outputs": [
    {
     "data": {
      "text/html": [
       "<div>\n",
       "<style scoped>\n",
       "    .dataframe tbody tr th:only-of-type {\n",
       "        vertical-align: middle;\n",
       "    }\n",
       "\n",
       "    .dataframe tbody tr th {\n",
       "        vertical-align: top;\n",
       "    }\n",
       "\n",
       "    .dataframe thead th {\n",
       "        text-align: right;\n",
       "    }\n",
       "</style>\n",
       "<table border=\"1\" class=\"dataframe\">\n",
       "  <thead>\n",
       "    <tr style=\"text-align: right;\">\n",
       "      <th></th>\n",
       "      <th>date</th>\n",
       "      <th>transaction_type</th>\n",
       "      <th>amount</th>\n",
       "    </tr>\n",
       "  </thead>\n",
       "  <tbody>\n",
       "    <tr>\n",
       "      <td>0</td>\n",
       "      <td>2016-04-12</td>\n",
       "      <td>credit</td>\n",
       "      <td>793.26</td>\n",
       "    </tr>\n",
       "    <tr>\n",
       "      <td>1</td>\n",
       "      <td>2016-04-12</td>\n",
       "      <td>debit</td>\n",
       "      <td>44.44</td>\n",
       "    </tr>\n",
       "    <tr>\n",
       "      <td>2</td>\n",
       "      <td>2016-04-13</td>\n",
       "      <td>credit</td>\n",
       "      <td>737.30</td>\n",
       "    </tr>\n",
       "    <tr>\n",
       "      <td>3</td>\n",
       "      <td>2016-04-13</td>\n",
       "      <td>debit</td>\n",
       "      <td>975.95</td>\n",
       "    </tr>\n",
       "    <tr>\n",
       "      <td>4</td>\n",
       "      <td>2016-04-14</td>\n",
       "      <td>debit</td>\n",
       "      <td>97.34</td>\n",
       "    </tr>\n",
       "  </tbody>\n",
       "</table>\n",
       "</div>"
      ],
      "text/plain": [
       "         date transaction_type  amount\n",
       "0  2016-04-12           credit  793.26\n",
       "1  2016-04-12            debit   44.44\n",
       "2  2016-04-13           credit  737.30\n",
       "3  2016-04-13            debit  975.95\n",
       "4  2016-04-14            debit   97.34"
      ]
     },
     "execution_count": 57,
     "metadata": {},
     "output_type": "execute_result"
    }
   ],
   "source": [
    "df_trans3.head()"
   ]
  },
  {
   "cell_type": "code",
   "execution_count": 58,
   "metadata": {},
   "outputs": [],
   "source": [
    "# find the max of trans order\n",
    "\n",
    "df_temp3 = pd.DataFrame(df_merchant.groupby(['date','bank_account_id'])['trans_order'].max().reset_index())"
   ]
  },
  {
   "cell_type": "code",
   "execution_count": 59,
   "metadata": {},
   "outputs": [
    {
     "data": {
      "text/html": [
       "<div>\n",
       "<style scoped>\n",
       "    .dataframe tbody tr th:only-of-type {\n",
       "        vertical-align: middle;\n",
       "    }\n",
       "\n",
       "    .dataframe tbody tr th {\n",
       "        vertical-align: top;\n",
       "    }\n",
       "\n",
       "    .dataframe thead th {\n",
       "        text-align: right;\n",
       "    }\n",
       "</style>\n",
       "<table border=\"1\" class=\"dataframe\">\n",
       "  <thead>\n",
       "    <tr style=\"text-align: right;\">\n",
       "      <th></th>\n",
       "      <th>date</th>\n",
       "      <th>bank_account_id</th>\n",
       "      <th>trans_order</th>\n",
       "    </tr>\n",
       "  </thead>\n",
       "  <tbody>\n",
       "    <tr>\n",
       "      <td>0</td>\n",
       "      <td>2016-04-12</td>\n",
       "      <td>13419</td>\n",
       "      <td>5</td>\n",
       "    </tr>\n",
       "    <tr>\n",
       "      <td>1</td>\n",
       "      <td>2016-04-13</td>\n",
       "      <td>13419</td>\n",
       "      <td>8</td>\n",
       "    </tr>\n",
       "    <tr>\n",
       "      <td>2</td>\n",
       "      <td>2016-04-14</td>\n",
       "      <td>13419</td>\n",
       "      <td>4</td>\n",
       "    </tr>\n",
       "    <tr>\n",
       "      <td>3</td>\n",
       "      <td>2016-04-15</td>\n",
       "      <td>13419</td>\n",
       "      <td>7</td>\n",
       "    </tr>\n",
       "    <tr>\n",
       "      <td>4</td>\n",
       "      <td>2016-04-16</td>\n",
       "      <td>13419</td>\n",
       "      <td>7</td>\n",
       "    </tr>\n",
       "  </tbody>\n",
       "</table>\n",
       "</div>"
      ],
      "text/plain": [
       "         date  bank_account_id  trans_order\n",
       "0  2016-04-12            13419            5\n",
       "1  2016-04-13            13419            8\n",
       "2  2016-04-14            13419            4\n",
       "3  2016-04-15            13419            7\n",
       "4  2016-04-16            13419            7"
      ]
     },
     "execution_count": 59,
     "metadata": {},
     "output_type": "execute_result"
    }
   ],
   "source": [
    "df_temp3.head()"
   ]
  },
  {
   "cell_type": "code",
   "execution_count": 60,
   "metadata": {},
   "outputs": [],
   "source": [
    "# to aggregate on all bank accounts, extract the running balance at the end of the day for \n",
    "# each bank account and sum all of it together\n",
    "\n",
    "\n",
    "xyz3 = pd.merge(df_merchant, df_temp3,  how='inner', on=['date','bank_account_id','trans_order'])\\\n",
    "[['date','bank_account_id','running_balance']]"
   ]
  },
  {
   "cell_type": "code",
   "execution_count": 61,
   "metadata": {},
   "outputs": [
    {
     "data": {
      "text/html": [
       "<div>\n",
       "<style scoped>\n",
       "    .dataframe tbody tr th:only-of-type {\n",
       "        vertical-align: middle;\n",
       "    }\n",
       "\n",
       "    .dataframe tbody tr th {\n",
       "        vertical-align: top;\n",
       "    }\n",
       "\n",
       "    .dataframe thead th {\n",
       "        text-align: right;\n",
       "    }\n",
       "</style>\n",
       "<table border=\"1\" class=\"dataframe\">\n",
       "  <thead>\n",
       "    <tr style=\"text-align: right;\">\n",
       "      <th></th>\n",
       "      <th>date</th>\n",
       "      <th>bank_account_id</th>\n",
       "      <th>running_balance</th>\n",
       "    </tr>\n",
       "  </thead>\n",
       "  <tbody>\n",
       "    <tr>\n",
       "      <td>0</td>\n",
       "      <td>2016-04-12</td>\n",
       "      <td>13419</td>\n",
       "      <td>587.52</td>\n",
       "    </tr>\n",
       "    <tr>\n",
       "      <td>1</td>\n",
       "      <td>2016-04-13</td>\n",
       "      <td>13419</td>\n",
       "      <td>348.87</td>\n",
       "    </tr>\n",
       "    <tr>\n",
       "      <td>2</td>\n",
       "      <td>2016-04-14</td>\n",
       "      <td>13419</td>\n",
       "      <td>251.53</td>\n",
       "    </tr>\n",
       "    <tr>\n",
       "      <td>3</td>\n",
       "      <td>2016-04-15</td>\n",
       "      <td>13419</td>\n",
       "      <td>64.16</td>\n",
       "    </tr>\n",
       "    <tr>\n",
       "      <td>4</td>\n",
       "      <td>2016-04-16</td>\n",
       "      <td>13419</td>\n",
       "      <td>482.31</td>\n",
       "    </tr>\n",
       "  </tbody>\n",
       "</table>\n",
       "</div>"
      ],
      "text/plain": [
       "         date  bank_account_id  running_balance\n",
       "0  2016-04-12            13419           587.52\n",
       "1  2016-04-13            13419           348.87\n",
       "2  2016-04-14            13419           251.53\n",
       "3  2016-04-15            13419            64.16\n",
       "4  2016-04-16            13419           482.31"
      ]
     },
     "execution_count": 61,
     "metadata": {},
     "output_type": "execute_result"
    }
   ],
   "source": [
    "xyz3.head()"
   ]
  },
  {
   "cell_type": "code",
   "execution_count": 62,
   "metadata": {},
   "outputs": [],
   "source": [
    "# sum the running balance for all bank accounts at the end of day.\n",
    "\n",
    "xyz_grouped = xyz3.groupby(['date'])[['running_balance']].sum().reset_index()"
   ]
  },
  {
   "cell_type": "code",
   "execution_count": 63,
   "metadata": {},
   "outputs": [],
   "source": [
    "xyz_grouped = xyz_grouped.rename(columns = {'running_balance':'amount'})"
   ]
  },
  {
   "cell_type": "code",
   "execution_count": 64,
   "metadata": {},
   "outputs": [
    {
     "data": {
      "text/html": [
       "<div>\n",
       "<style scoped>\n",
       "    .dataframe tbody tr th:only-of-type {\n",
       "        vertical-align: middle;\n",
       "    }\n",
       "\n",
       "    .dataframe tbody tr th {\n",
       "        vertical-align: top;\n",
       "    }\n",
       "\n",
       "    .dataframe thead th {\n",
       "        text-align: right;\n",
       "    }\n",
       "</style>\n",
       "<table border=\"1\" class=\"dataframe\">\n",
       "  <thead>\n",
       "    <tr style=\"text-align: right;\">\n",
       "      <th></th>\n",
       "      <th>date</th>\n",
       "      <th>amount</th>\n",
       "    </tr>\n",
       "  </thead>\n",
       "  <tbody>\n",
       "    <tr>\n",
       "      <td>0</td>\n",
       "      <td>2016-04-12</td>\n",
       "      <td>587.52</td>\n",
       "    </tr>\n",
       "    <tr>\n",
       "      <td>1</td>\n",
       "      <td>2016-04-13</td>\n",
       "      <td>348.87</td>\n",
       "    </tr>\n",
       "    <tr>\n",
       "      <td>2</td>\n",
       "      <td>2016-04-14</td>\n",
       "      <td>251.53</td>\n",
       "    </tr>\n",
       "    <tr>\n",
       "      <td>3</td>\n",
       "      <td>2016-04-15</td>\n",
       "      <td>64.16</td>\n",
       "    </tr>\n",
       "    <tr>\n",
       "      <td>4</td>\n",
       "      <td>2016-04-16</td>\n",
       "      <td>482.31</td>\n",
       "    </tr>\n",
       "  </tbody>\n",
       "</table>\n",
       "</div>"
      ],
      "text/plain": [
       "         date  amount\n",
       "0  2016-04-12  587.52\n",
       "1  2016-04-13  348.87\n",
       "2  2016-04-14  251.53\n",
       "3  2016-04-15   64.16\n",
       "4  2016-04-16  482.31"
      ]
     },
     "execution_count": 64,
     "metadata": {},
     "output_type": "execute_result"
    }
   ],
   "source": [
    "xyz_grouped.head()"
   ]
  },
  {
   "cell_type": "code",
   "execution_count": 65,
   "metadata": {},
   "outputs": [],
   "source": [
    "xyz_grouped['transaction_type'] = 'running_balance'"
   ]
  },
  {
   "cell_type": "code",
   "execution_count": 66,
   "metadata": {},
   "outputs": [],
   "source": [
    "xyz_grouped = xyz_grouped[['date','transaction_type','amount']]"
   ]
  },
  {
   "cell_type": "code",
   "execution_count": 67,
   "metadata": {},
   "outputs": [],
   "source": [
    "# merge both the above tables to get the credit amount, debit amount and running balance at the end of day for each date.\n",
    "\n",
    "df_final3 = pd.concat([df_trans3,xyz_grouped],ignore_index = False).sort_values(['date'],ascending = True)"
   ]
  },
  {
   "cell_type": "code",
   "execution_count": 68,
   "metadata": {},
   "outputs": [
    {
     "data": {
      "text/html": [
       "<div>\n",
       "<style scoped>\n",
       "    .dataframe tbody tr th:only-of-type {\n",
       "        vertical-align: middle;\n",
       "    }\n",
       "\n",
       "    .dataframe tbody tr th {\n",
       "        vertical-align: top;\n",
       "    }\n",
       "\n",
       "    .dataframe thead th {\n",
       "        text-align: right;\n",
       "    }\n",
       "</style>\n",
       "<table border=\"1\" class=\"dataframe\">\n",
       "  <thead>\n",
       "    <tr style=\"text-align: right;\">\n",
       "      <th></th>\n",
       "      <th>date</th>\n",
       "      <th>transaction_type</th>\n",
       "      <th>amount</th>\n",
       "    </tr>\n",
       "  </thead>\n",
       "  <tbody>\n",
       "    <tr>\n",
       "      <td>0</td>\n",
       "      <td>2016-04-12</td>\n",
       "      <td>credit</td>\n",
       "      <td>793.26</td>\n",
       "    </tr>\n",
       "    <tr>\n",
       "      <td>0</td>\n",
       "      <td>2016-04-12</td>\n",
       "      <td>running_balance</td>\n",
       "      <td>587.52</td>\n",
       "    </tr>\n",
       "    <tr>\n",
       "      <td>1</td>\n",
       "      <td>2016-04-12</td>\n",
       "      <td>debit</td>\n",
       "      <td>44.44</td>\n",
       "    </tr>\n",
       "    <tr>\n",
       "      <td>2</td>\n",
       "      <td>2016-04-13</td>\n",
       "      <td>credit</td>\n",
       "      <td>737.30</td>\n",
       "    </tr>\n",
       "    <tr>\n",
       "      <td>3</td>\n",
       "      <td>2016-04-13</td>\n",
       "      <td>debit</td>\n",
       "      <td>975.95</td>\n",
       "    </tr>\n",
       "  </tbody>\n",
       "</table>\n",
       "</div>"
      ],
      "text/plain": [
       "         date transaction_type  amount\n",
       "0  2016-04-12           credit  793.26\n",
       "0  2016-04-12  running_balance  587.52\n",
       "1  2016-04-12            debit   44.44\n",
       "2  2016-04-13           credit  737.30\n",
       "3  2016-04-13            debit  975.95"
      ]
     },
     "execution_count": 68,
     "metadata": {},
     "output_type": "execute_result"
    }
   ],
   "source": [
    "df_final3.head()"
   ]
  },
  {
   "cell_type": "markdown",
   "metadata": {},
   "source": [
    "###### [ans] Create an interactive time series plot\n"
   ]
  },
  {
   "cell_type": "code",
   "execution_count": 69,
   "metadata": {},
   "outputs": [
    {
     "data": {
      "application/vnd.plotly.v1+json": {
       "config": {
        "plotlyServerURL": "https://plotly.com"
       },
       "data": [
        {
         "hoverlabel": {
          "namelength": 0
         },
         "hovertemplate": "transaction_type=credit<br>date=%{x}<br>amount=%{y}",
         "legendgroup": "credit",
         "line": {
          "color": "#636efa",
          "dash": "solid"
         },
         "mode": "lines",
         "name": "credit",
         "showlegend": true,
         "type": "scatter",
         "x": [
          "2016-04-12",
          "2016-04-13",
          "2016-04-15",
          "2016-04-16",
          "2016-04-18",
          "2016-04-19",
          "2016-04-20",
          "2016-04-21",
          "2016-04-23",
          "2016-04-27",
          "2016-04-28",
          "2016-05-03",
          "2016-05-04",
          "2016-05-05",
          "2016-05-06",
          "2016-05-07",
          "2016-05-08",
          "2016-05-09",
          "2016-05-11",
          "2016-05-12",
          "2016-05-13",
          "2016-05-16",
          "2016-05-18",
          "2016-05-20",
          "2016-05-23",
          "2016-05-24",
          "2016-05-25",
          "2016-05-26",
          "2016-05-27",
          "2016-06-01",
          "2016-06-02",
          "2016-06-03",
          "2016-06-05",
          "2016-06-06",
          "2016-06-07",
          "2016-06-08",
          "2016-06-09",
          "2016-06-10",
          "2016-06-11",
          "2016-06-13",
          "2016-06-15",
          "2016-06-16",
          "2016-06-17",
          "2016-06-19",
          "2016-06-21",
          "2016-06-23",
          "2016-06-24",
          "2016-06-25",
          "2016-06-27",
          "2016-06-28",
          "2016-06-29",
          "2016-06-30",
          "2016-07-02",
          "2016-07-04",
          "2016-07-05",
          "2016-07-08",
          "2016-07-10",
          "2016-07-11",
          "2016-07-12",
          "2016-07-13",
          "2016-07-14",
          "2016-07-15",
          "2016-07-16",
          "2016-07-18",
          "2016-07-20",
          "2016-07-21",
          "2016-07-23",
          "2016-07-25",
          "2016-07-27",
          "2016-07-28",
          "2016-07-31",
          "2016-08-01",
          "2016-08-02",
          "2016-08-03",
          "2016-08-04",
          "2016-08-05",
          "2016-08-06",
          "2016-08-07",
          "2016-08-09",
          "2016-08-10",
          "2016-08-11",
          "2016-08-12",
          "2016-08-15",
          "2016-08-16",
          "2016-08-19",
          "2016-08-21",
          "2016-08-22",
          "2016-08-23",
          "2016-08-24",
          "2016-08-26",
          "2016-08-29",
          "2016-08-31",
          "2016-09-02",
          "2016-09-03",
          "2016-09-04",
          "2016-09-06",
          "2016-09-07",
          "2016-09-08",
          "2016-09-09",
          "2016-09-12",
          "2016-09-13",
          "2016-09-14",
          "2016-09-15",
          "2016-09-16",
          "2016-09-18",
          "2016-09-19",
          "2016-09-20",
          "2016-09-21",
          "2016-09-22",
          "2016-09-23",
          "2016-09-28",
          "2016-09-30",
          "2016-10-03",
          "2016-10-04",
          "2016-10-05",
          "2016-10-06",
          "2016-10-07",
          "2016-10-08",
          "2016-10-11",
          "2016-10-14",
          "2016-10-15",
          "2016-10-16",
          "2016-10-17",
          "2016-10-20",
          "2016-10-21",
          "2016-10-22",
          "2016-10-23",
          "2016-10-25",
          "2016-10-26",
          "2016-10-28",
          "2016-10-30",
          "2016-10-31",
          "2016-11-01",
          "2016-11-02",
          "2016-11-04",
          "2016-11-05",
          "2016-11-06",
          "2016-11-07",
          "2016-11-08",
          "2016-11-09",
          "2016-11-10",
          "2016-11-11",
          "2016-11-12",
          "2016-11-14",
          "2016-11-15",
          "2016-11-16",
          "2016-11-17",
          "2016-11-18",
          "2016-11-19",
          "2016-11-21",
          "2016-11-23",
          "2016-11-24",
          "2016-11-25",
          "2016-11-26",
          "2016-11-28",
          "2016-11-29",
          "2016-11-30",
          "2016-12-01",
          "2016-12-02",
          "2016-12-03",
          "2016-12-05",
          "2016-12-06",
          "2016-12-07",
          "2016-12-08",
          "2016-12-09",
          "2016-12-10",
          "2016-12-12",
          "2016-12-13",
          "2016-12-14",
          "2016-12-15"
         ],
         "xaxis": "x",
         "y": [
          793.26,
          737.3,
          600,
          501.49,
          0.2,
          146.26,
          894.26,
          1246.22,
          135,
          1720.79,
          195.12,
          163,
          403.26,
          140,
          5.87,
          250.06,
          329.76,
          589.76,
          883.78,
          3167.12,
          176.5,
          585.2,
          588.05,
          306.51,
          1063.17,
          798.65,
          2562.92,
          533.9,
          125.49,
          500,
          164.21,
          33.9,
          40,
          264.09,
          688.85,
          288.94,
          125,
          1182.45,
          250,
          326.52,
          1203.46,
          1.28,
          2598.46,
          1210.04,
          106.58,
          329.65,
          2047.75,
          135,
          1.2,
          4589.95,
          1354.41,
          1747.3500000000001,
          175,
          1069.8,
          2072.3500000000004,
          226.01000000000002,
          371,
          4656.59,
          146.46,
          20.88,
          990.86,
          2350.74,
          1.33,
          1527.6,
          2722.04,
          3596.4300000000003,
          1,
          300,
          52.08,
          124.3,
          0.02,
          300,
          293.01,
          405.36,
          100,
          1179.9400000000003,
          39.95,
          194.5,
          1500,
          728.79,
          551.7,
          340.37,
          13592.34,
          3707.55,
          3097.76,
          250,
          500,
          602.9,
          737.69,
          1609.1,
          4811.2,
          1591.85,
          3845.0699999999997,
          989.1899999999999,
          135,
          5178.89,
          1639,
          2952.3500000000004,
          484.9,
          211.1,
          2718.2,
          1097.5900000000001,
          920.42,
          1.44,
          1000,
          7060.8,
          336.35,
          417.9,
          350,
          1609.92,
          12.52,
          566.27,
          2140.4300000000003,
          299.58,
          129.12,
          459.26,
          4307.08,
          189.02,
          1556,
          253,
          36.96,
          0.75,
          2351.04,
          39.95,
          135.01,
          2908,
          2693.87,
          100,
          1164.15,
          535.75,
          204,
          2418.71,
          400,
          332.22,
          739.05,
          194.5,
          34.04,
          4077.3199999999997,
          2724.87,
          478.99,
          686.62,
          2008.23,
          28,
          31959.99,
          1389.11,
          1.36,
          2768.49,
          0.01,
          115.39,
          5924.31,
          2609.31,
          135,
          1820.9,
          744.94,
          1359.1,
          1297.6100000000001,
          500,
          3263.2,
          3000,
          3000,
          25,
          572.3,
          460.44,
          3202.4,
          1648.25,
          194.5,
          1400,
          39.95,
          1175.87,
          2718.2
         ],
         "yaxis": "y"
        },
        {
         "hoverlabel": {
          "namelength": 0
         },
         "hovertemplate": "transaction_type=running_balance<br>date=%{x}<br>amount=%{y}",
         "legendgroup": "running_balance",
         "line": {
          "color": "#EF553B",
          "dash": "solid"
         },
         "mode": "lines",
         "name": "running_balance",
         "showlegend": true,
         "type": "scatter",
         "x": [
          "2016-04-12",
          "2016-04-13",
          "2016-04-14",
          "2016-04-15",
          "2016-04-16",
          "2016-04-17",
          "2016-04-18",
          "2016-04-19",
          "2016-04-20",
          "2016-04-21",
          "2016-04-22",
          "2016-04-23",
          "2016-04-24",
          "2016-04-25",
          "2016-04-26",
          "2016-04-27",
          "2016-04-28",
          "2016-04-29",
          "2016-04-30",
          "2016-05-02",
          "2016-05-03",
          "2016-05-04",
          "2016-05-05",
          "2016-05-06",
          "2016-05-07",
          "2016-05-08",
          "2016-05-09",
          "2016-05-10",
          "2016-05-11",
          "2016-05-12",
          "2016-05-13",
          "2016-05-14",
          "2016-05-15",
          "2016-05-16",
          "2016-05-17",
          "2016-05-18",
          "2016-05-19",
          "2016-05-20",
          "2016-05-21",
          "2016-05-22",
          "2016-05-23",
          "2016-05-24",
          "2016-05-25",
          "2016-05-26",
          "2016-05-27",
          "2016-05-28",
          "2016-05-29",
          "2016-05-30",
          "2016-05-31",
          "2016-06-01",
          "2016-06-02",
          "2016-06-03",
          "2016-06-04",
          "2016-06-05",
          "2016-06-06",
          "2016-06-07",
          "2016-06-08",
          "2016-06-09",
          "2016-06-10",
          "2016-06-11",
          "2016-06-12",
          "2016-06-13",
          "2016-06-14",
          "2016-06-15",
          "2016-06-16",
          "2016-06-17",
          "2016-06-18",
          "2016-06-19",
          "2016-06-20",
          "2016-06-21",
          "2016-06-22",
          "2016-06-23",
          "2016-06-24",
          "2016-06-25",
          "2016-06-26",
          "2016-06-27",
          "2016-06-28",
          "2016-06-29",
          "2016-06-30",
          "2016-07-01",
          "2016-07-02",
          "2016-07-03",
          "2016-07-04",
          "2016-07-05",
          "2016-07-06",
          "2016-07-07",
          "2016-07-08",
          "2016-07-09",
          "2016-07-10",
          "2016-07-11",
          "2016-07-12",
          "2016-07-13",
          "2016-07-14",
          "2016-07-15",
          "2016-07-16",
          "2016-07-17",
          "2016-07-18",
          "2016-07-19",
          "2016-07-20",
          "2016-07-21",
          "2016-07-22",
          "2016-07-23",
          "2016-07-24",
          "2016-07-25",
          "2016-07-26",
          "2016-07-27",
          "2016-07-28",
          "2016-07-29",
          "2016-07-30",
          "2016-07-31",
          "2016-08-01",
          "2016-08-02",
          "2016-08-03",
          "2016-08-04",
          "2016-08-05",
          "2016-08-06",
          "2016-08-07",
          "2016-08-08",
          "2016-08-09",
          "2016-08-10",
          "2016-08-11",
          "2016-08-12",
          "2016-08-13",
          "2016-08-15",
          "2016-08-16",
          "2016-08-17",
          "2016-08-18",
          "2016-08-19",
          "2016-08-20",
          "2016-08-21",
          "2016-08-22",
          "2016-08-23",
          "2016-08-24",
          "2016-08-25",
          "2016-08-26",
          "2016-08-27",
          "2016-08-28",
          "2016-08-29",
          "2016-08-30",
          "2016-08-31",
          "2016-09-01",
          "2016-09-02",
          "2016-09-03",
          "2016-09-04",
          "2016-09-05",
          "2016-09-06",
          "2016-09-07",
          "2016-09-08",
          "2016-09-09",
          "2016-09-10",
          "2016-09-11",
          "2016-09-12",
          "2016-09-13",
          "2016-09-14",
          "2016-09-15",
          "2016-09-16",
          "2016-09-17",
          "2016-09-18",
          "2016-09-19",
          "2016-09-20",
          "2016-09-21",
          "2016-09-22",
          "2016-09-23",
          "2016-09-24",
          "2016-09-25",
          "2016-09-26",
          "2016-09-28",
          "2016-09-29",
          "2016-09-30",
          "2016-10-01",
          "2016-10-02",
          "2016-10-03",
          "2016-10-04",
          "2016-10-05",
          "2016-10-06",
          "2016-10-07",
          "2016-10-08",
          "2016-10-10",
          "2016-10-11",
          "2016-10-12",
          "2016-10-13",
          "2016-10-14",
          "2016-10-15",
          "2016-10-16",
          "2016-10-17",
          "2016-10-18",
          "2016-10-19",
          "2016-10-20",
          "2016-10-21",
          "2016-10-22",
          "2016-10-23",
          "2016-10-24",
          "2016-10-25",
          "2016-10-26",
          "2016-10-27",
          "2016-10-28",
          "2016-10-29",
          "2016-10-30",
          "2016-10-31",
          "2016-11-01",
          "2016-11-02",
          "2016-11-03",
          "2016-11-04",
          "2016-11-05",
          "2016-11-06",
          "2016-11-07",
          "2016-11-08",
          "2016-11-09",
          "2016-11-10",
          "2016-11-11",
          "2016-11-12",
          "2016-11-13",
          "2016-11-14",
          "2016-11-15",
          "2016-11-16",
          "2016-11-17",
          "2016-11-18",
          "2016-11-19",
          "2016-11-20",
          "2016-11-21",
          "2016-11-22",
          "2016-11-23",
          "2016-11-24",
          "2016-11-25",
          "2016-11-26",
          "2016-11-27",
          "2016-11-28",
          "2016-11-29",
          "2016-11-30",
          "2016-12-01",
          "2016-12-02",
          "2016-12-03",
          "2016-12-04",
          "2016-12-05",
          "2016-12-06",
          "2016-12-07",
          "2016-12-08",
          "2016-12-09",
          "2016-12-10",
          "2016-12-11",
          "2016-12-12",
          "2016-12-13",
          "2016-12-14",
          "2016-12-15"
         ],
         "xaxis": "x",
         "y": [
          587.52,
          348.87,
          251.53,
          64.16,
          482.31,
          438.81,
          149.17000000000002,
          414.92,
          390.65999999999997,
          1321.06,
          991.1,
          705.34,
          691.06,
          602.86,
          337.49,
          2006.33,
          2158.9,
          2011.42,
          1665.26,
          1285.56,
          1549.4,
          1868.02,
          2008.02,
          -342.6,
          52.730000000000004,
          364.68,
          351.47,
          368.45,
          163.01,
          3364.35,
          2817.86,
          2419.1,
          2336.66,
          2252.25,
          2120,
          2666.78,
          2022.57,
          347,
          210.89999999999998,
          150.51,
          1138.1000000000001,
          1573,
          3433.63,
          3557.66,
          1451.8500000000001,
          1138.53,
          813.36,
          529.77,
          33.12,
          357.87,
          277.58,
          4.1000000000000005,
          -14.15,
          1.12,
          294.53999999999996,
          465.82,
          496.08,
          261.24,
          1345.8200000000002,
          1252.83,
          1194.41,
          874.45,
          440.4,
          721.66,
          306.30999999999995,
          2554.8199999999997,
          441.77,
          1616.53,
          1077.66,
          281.47,
          184.67999999999998,
          379.33,
          1211.0700000000002,
          942.67,
          633.72,
          706.65,
          3689.36,
          4513.400000000001,
          5473.76,
          2001.1599999999999,
          4795.14,
          4445.469999999999,
          3839.28,
          2621.15,
          316.59000000000003,
          522.72,
          460.22999999999996,
          -8.04,
          385.31,
          3040.6600000000003,
          2680.61,
          2391.4199999999996,
          2703.18,
          1619.1399999999999,
          1428.87,
          1335.66,
          2034.52,
          302.75,
          3711.3700000000003,
          3628.08,
          4031.9500000000003,
          737.47,
          696.59,
          842.93,
          -646.62,
          -266.86,
          705.38,
          432.72,
          294.39,
          294.41,
          732.67,
          925.28,
          248.86999999999998,
          531.38,
          937.53,
          859.6899999999999,
          672.44,
          761.78,
          2069.5,
          2649.43,
          496.42,
          476.42,
          363.74,
          5140.69,
          4662.2,
          1105.72,
          906.28,
          4907.879999999999,
          554.27,
          4318.97,
          4319.929999999999,
          879.52,
          1212.16,
          377.24,
          1542.9399999999998,
          555.0600000000001,
          8.97,
          2723.13,
          1057.1799999999998,
          2591.35,
          3256.8,
          4049.46,
          1098.44,
          1052.73,
          827.8599999999999,
          6123.05,
          1754.09,
          2230.95,
          498.23,
          295.05,
          226.21,
          1908.5100000000002,
          3076.26,
          693.22,
          3395.98,
          972.78,
          643.02,
          2872.7200000000003,
          5663.2,
          2590.48,
          2275.13,
          2275.13,
          3145.88,
          202.01,
          311.65,
          2363.69,
          1394.58,
          2532.18,
          3124.2000000000003,
          2544.18,
          3022.52,
          3664.79,
          3357.6100000000006,
          1663.71,
          3122.0699999999997,
          3009.08,
          2588.9300000000007,
          2718.99,
          404.5,
          537.95,
          494.39,
          581.01,
          435.39,
          310.01,
          598.7,
          331.38,
          -263.28,
          -176.41999999999996,
          -442.40999999999997,
          3012.33,
          2361.2,
          1938.9900000000002,
          952.04,
          717.4499999999999,
          342.23,
          761.8199999999999,
          311.41,
          422.77,
          1917.4599999999998,
          629.13,
          1669.07,
          271.72,
          924.75,
          1041.3400000000001,
          684.52,
          3135.36,
          2913.91,
          188.46,
          393.92,
          2598.71,
          1972.76,
          1433.77,
          3160.0199999999995,
          2308.66,
          1782.5500000000002,
          3116.12,
          695.79,
          625.21,
          515.49,
          4479.2,
          3436.1099999999997,
          5452.12,
          2674.37,
          3171.3,
          2361.63,
          1287.39,
          2208.48,
          2703.2799999999997,
          505.21,
          3806.27,
          3521.18,
          3233.6499999999996,
          107.11,
          2930.24,
          51.70999999999998,
          3305.4100000000003,
          4714.08,
          6030.9400000000005,
          3567.1499999999996,
          1504.64,
          4354.12,
          3622.0999999999995,
          3552.3099999999995,
          2056.38
         ],
         "yaxis": "y"
        },
        {
         "hoverlabel": {
          "namelength": 0
         },
         "hovertemplate": "transaction_type=debit<br>date=%{x}<br>amount=%{y}",
         "legendgroup": "debit",
         "line": {
          "color": "#00cc96",
          "dash": "solid"
         },
         "mode": "lines",
         "name": "debit",
         "showlegend": true,
         "type": "scatter",
         "x": [
          "2016-04-12",
          "2016-04-13",
          "2016-04-14",
          "2016-04-15",
          "2016-04-16",
          "2016-04-17",
          "2016-04-18",
          "2016-04-19",
          "2016-04-20",
          "2016-04-21",
          "2016-04-22",
          "2016-04-23",
          "2016-04-24",
          "2016-04-25",
          "2016-04-26",
          "2016-04-27",
          "2016-04-28",
          "2016-04-29",
          "2016-04-30",
          "2016-05-02",
          "2016-05-03",
          "2016-05-04",
          "2016-05-06",
          "2016-05-07",
          "2016-05-08",
          "2016-05-09",
          "2016-05-10",
          "2016-05-11",
          "2016-05-12",
          "2016-05-13",
          "2016-05-14",
          "2016-05-15",
          "2016-05-16",
          "2016-05-17",
          "2016-05-18",
          "2016-05-19",
          "2016-05-20",
          "2016-05-21",
          "2016-05-22",
          "2016-05-23",
          "2016-05-24",
          "2016-05-25",
          "2016-05-26",
          "2016-05-27",
          "2016-05-28",
          "2016-05-29",
          "2016-05-30",
          "2016-05-31",
          "2016-06-01",
          "2016-06-02",
          "2016-06-03",
          "2016-06-04",
          "2016-06-05",
          "2016-06-06",
          "2016-06-07",
          "2016-06-08",
          "2016-06-09",
          "2016-06-10",
          "2016-06-11",
          "2016-06-12",
          "2016-06-13",
          "2016-06-14",
          "2016-06-15",
          "2016-06-16",
          "2016-06-17",
          "2016-06-18",
          "2016-06-20",
          "2016-06-21",
          "2016-06-22",
          "2016-06-23",
          "2016-06-24",
          "2016-06-25",
          "2016-06-26",
          "2016-06-27",
          "2016-06-28",
          "2016-06-29",
          "2016-06-30",
          "2016-07-01",
          "2016-07-02",
          "2016-07-03",
          "2016-07-04",
          "2016-07-05",
          "2016-07-06",
          "2016-07-07",
          "2016-07-08",
          "2016-07-09",
          "2016-07-10",
          "2016-07-11",
          "2016-07-12",
          "2016-07-13",
          "2016-07-14",
          "2016-07-15",
          "2016-07-16",
          "2016-07-17",
          "2016-07-18",
          "2016-07-19",
          "2016-07-20",
          "2016-07-21",
          "2016-07-22",
          "2016-07-23",
          "2016-07-24",
          "2016-07-25",
          "2016-07-26",
          "2016-07-27",
          "2016-07-28",
          "2016-07-29",
          "2016-07-30",
          "2016-08-01",
          "2016-08-02",
          "2016-08-03",
          "2016-08-04",
          "2016-08-05",
          "2016-08-06",
          "2016-08-07",
          "2016-08-08",
          "2016-08-09",
          "2016-08-10",
          "2016-08-11",
          "2016-08-12",
          "2016-08-13",
          "2016-08-15",
          "2016-08-16",
          "2016-08-17",
          "2016-08-18",
          "2016-08-19",
          "2016-08-20",
          "2016-08-22",
          "2016-08-23",
          "2016-08-24",
          "2016-08-25",
          "2016-08-26",
          "2016-08-27",
          "2016-08-28",
          "2016-08-29",
          "2016-08-30",
          "2016-08-31",
          "2016-09-01",
          "2016-09-02",
          "2016-09-03",
          "2016-09-04",
          "2016-09-05",
          "2016-09-06",
          "2016-09-07",
          "2016-09-08",
          "2016-09-09",
          "2016-09-10",
          "2016-09-11",
          "2016-09-12",
          "2016-09-13",
          "2016-09-14",
          "2016-09-15",
          "2016-09-16",
          "2016-09-17",
          "2016-09-18",
          "2016-09-19",
          "2016-09-20",
          "2016-09-21",
          "2016-09-22",
          "2016-09-23",
          "2016-09-24",
          "2016-09-25",
          "2016-09-26",
          "2016-09-28",
          "2016-09-29",
          "2016-09-30",
          "2016-10-01",
          "2016-10-02",
          "2016-10-03",
          "2016-10-04",
          "2016-10-05",
          "2016-10-06",
          "2016-10-07",
          "2016-10-08",
          "2016-10-10",
          "2016-10-11",
          "2016-10-12",
          "2016-10-13",
          "2016-10-14",
          "2016-10-15",
          "2016-10-16",
          "2016-10-17",
          "2016-10-18",
          "2016-10-19",
          "2016-10-20",
          "2016-10-21",
          "2016-10-22",
          "2016-10-23",
          "2016-10-24",
          "2016-10-25",
          "2016-10-26",
          "2016-10-27",
          "2016-10-28",
          "2016-10-29",
          "2016-10-30",
          "2016-10-31",
          "2016-11-01",
          "2016-11-02",
          "2016-11-03",
          "2016-11-04",
          "2016-11-05",
          "2016-11-07",
          "2016-11-08",
          "2016-11-09",
          "2016-11-10",
          "2016-11-11",
          "2016-11-12",
          "2016-11-13",
          "2016-11-14",
          "2016-11-15",
          "2016-11-16",
          "2016-11-17",
          "2016-11-18",
          "2016-11-19",
          "2016-11-20",
          "2016-11-21",
          "2016-11-22",
          "2016-11-23",
          "2016-11-24",
          "2016-11-25",
          "2016-11-26",
          "2016-11-27",
          "2016-11-28",
          "2016-11-29",
          "2016-11-30",
          "2016-12-01",
          "2016-12-02",
          "2016-12-03",
          "2016-12-04",
          "2016-12-05",
          "2016-12-06",
          "2016-12-07",
          "2016-12-08",
          "2016-12-09",
          "2016-12-10",
          "2016-12-11",
          "2016-12-12",
          "2016-12-13",
          "2016-12-14",
          "2016-12-15"
         ],
         "xaxis": "x",
         "y": [
          44.44,
          975.95,
          97.34,
          787.37,
          83.34,
          43.5,
          290.80000000000007,
          39.269999999999996,
          902.03,
          481.99,
          327.66,
          420.76,
          14.28,
          88.2,
          265.37,
          51.95,
          42.55,
          147.48000000000002,
          346.16,
          213.53,
          115.33,
          84.64,
          2325.6,
          140.9,
          17.81,
          38.26,
          281.56,
          840.0899999999999,
          214.91,
          702.99,
          251.34,
          82.44,
          817.03,
          127.24000000000001,
          43.57,
          318.90999999999997,
          1982.0800000000002,
          362.38000000000005,
          40,
          194.99000000000004,
          359.16999999999996,
          702.29,
          309.86999999999995,
          2331.3,
          234.10999999999996,
          165.2,
          443.55999999999995,
          339.94,
          331.96,
          168.09,
          386.59000000000003,
          13.39,
          24.73,
          51.94,
          518.5600000000001,
          64.17,
          554.3499999999999,
          97.87,
          229.61999999999995,
          58.42,
          646.48,
          434.05,
          921.21,
          417.63,
          2223.19,
          347.95,
          538.87,
          2671.8800000000006,
          96.59,
          170.28,
          828.0799999999999,
          209.28,
          61.67,
          762.8299999999999,
          1603.4099999999999,
          525.37,
          786.9900000000001,
          151.4,
          702.22,
          201.82999999999998,
          1823.8299999999997,
          3157.2199999999993,
          251.18,
          123.45,
          2150.1400000000003,
          121.99,
          54.87,
          2270.3,
          259.47999999999996,
          557.0999999999999,
          587.0200000000001,
          3526.86,
          103.34,
          89.36999999999999,
          920.83,
          160.99,
          676.3599999999999,
          3896.4,
          108.35,
          3300.4900000000002,
          36.87,
          293.65999999999997,
          225,
          192.99,
          60.519999999999996,
          27.67,
          138.32999999999998,
          77.7,
          100.4,
          264.97,
          257.96000000000004,
          362.35,
          117.78999999999999,
          48.2,
          282.20000000000005,
          75,
          159.92000000000002,
          2704.7100000000005,
          360.36999999999995,
          112.67999999999999,
          8887.63,
          4153.9,
          499.2,
          191.21,
          2193.81,
          276.4,
          1053.3100000000002,
          232.58,
          102.68,
          1137.29,
          164.02,
          3447.75,
          124.87,
          3877.3599999999997,
          210.61,
          54.68,
          1072.27,
          2673.32,
          645.6099999999999,
          180.71,
          224.87000000000003,
          3557.39,
          6007.96,
          2475.49,
          356.74999999999994,
          203.18,
          68.84,
          389.66999999999996,
          1550.4499999999998,
          503.94000000000005,
          784.21,
          268.23,
          329.76,
          1038.32,
          4270.319999999999,
          3409.0699999999997,
          733.25,
          350,
          1037.6999999999998,
          144.62,
          53.89,
          451.45,
          1006.63,
          18.5,
          81.47999999999999,
          104.33,
          47.349999999999994,
          1448.1599999999999,
          606.76,
          666.9200000000001,
          317,
          3103.9700000000003,
          609.17,
          182.60000000000002,
          3482.98,
          254.16,
          43.56,
          166.38,
          182.57999999999998,
          126.13000000000001,
          1749.69,
          267.32,
          426,
          121.75,
          401,
          30.67,
          2693.87,
          95.83000000000001,
          1127.32,
          1758.37,
          119.65,
          341.22999999999996,
          127.21,
          92.64,
          1346.1100000000001,
          389.89,
          301.83,
          387.58000000000004,
          374.9,
          77.91,
          3027.12,
          2946.32,
          2413.1,
          927.7900000000001,
          148.15,
          653.95,
          203.22,
          30569.510000000006,
          2066.12,
          91.83000000000001,
          2044.9100000000003,
          457.75,
          41.71,
          109.72,
          4067.4500000000003,
          1043.0900000000001,
          593.3,
          2912.75,
          1323.97,
          1371.8800000000003,
          51.19,
          620.7399999999999,
          1783.86,
          366.68,
          2196.14,
          3422.48,
          3287.5299999999997,
          29.07,
          299.34,
          405.2,
          252.36999999999998,
          1596.4200000000003,
          331.39,
          2855.6,
          42.519999999999996,
          570.51,
          771.9700000000001,
          1245.66,
          1979.3899999999999
         ],
         "yaxis": "y"
        }
       ],
       "layout": {
        "legend": {
         "title": {
          "text": "transaction_type"
         },
         "tracegroupgap": 0
        },
        "template": {
         "data": {
          "bar": [
           {
            "error_x": {
             "color": "#2a3f5f"
            },
            "error_y": {
             "color": "#2a3f5f"
            },
            "marker": {
             "line": {
              "color": "#E5ECF6",
              "width": 0.5
             }
            },
            "type": "bar"
           }
          ],
          "barpolar": [
           {
            "marker": {
             "line": {
              "color": "#E5ECF6",
              "width": 0.5
             }
            },
            "type": "barpolar"
           }
          ],
          "carpet": [
           {
            "aaxis": {
             "endlinecolor": "#2a3f5f",
             "gridcolor": "white",
             "linecolor": "white",
             "minorgridcolor": "white",
             "startlinecolor": "#2a3f5f"
            },
            "baxis": {
             "endlinecolor": "#2a3f5f",
             "gridcolor": "white",
             "linecolor": "white",
             "minorgridcolor": "white",
             "startlinecolor": "#2a3f5f"
            },
            "type": "carpet"
           }
          ],
          "choropleth": [
           {
            "colorbar": {
             "outlinewidth": 0,
             "ticks": ""
            },
            "type": "choropleth"
           }
          ],
          "contour": [
           {
            "colorbar": {
             "outlinewidth": 0,
             "ticks": ""
            },
            "colorscale": [
             [
              0,
              "#0d0887"
             ],
             [
              0.1111111111111111,
              "#46039f"
             ],
             [
              0.2222222222222222,
              "#7201a8"
             ],
             [
              0.3333333333333333,
              "#9c179e"
             ],
             [
              0.4444444444444444,
              "#bd3786"
             ],
             [
              0.5555555555555556,
              "#d8576b"
             ],
             [
              0.6666666666666666,
              "#ed7953"
             ],
             [
              0.7777777777777778,
              "#fb9f3a"
             ],
             [
              0.8888888888888888,
              "#fdca26"
             ],
             [
              1,
              "#f0f921"
             ]
            ],
            "type": "contour"
           }
          ],
          "contourcarpet": [
           {
            "colorbar": {
             "outlinewidth": 0,
             "ticks": ""
            },
            "type": "contourcarpet"
           }
          ],
          "heatmap": [
           {
            "colorbar": {
             "outlinewidth": 0,
             "ticks": ""
            },
            "colorscale": [
             [
              0,
              "#0d0887"
             ],
             [
              0.1111111111111111,
              "#46039f"
             ],
             [
              0.2222222222222222,
              "#7201a8"
             ],
             [
              0.3333333333333333,
              "#9c179e"
             ],
             [
              0.4444444444444444,
              "#bd3786"
             ],
             [
              0.5555555555555556,
              "#d8576b"
             ],
             [
              0.6666666666666666,
              "#ed7953"
             ],
             [
              0.7777777777777778,
              "#fb9f3a"
             ],
             [
              0.8888888888888888,
              "#fdca26"
             ],
             [
              1,
              "#f0f921"
             ]
            ],
            "type": "heatmap"
           }
          ],
          "heatmapgl": [
           {
            "colorbar": {
             "outlinewidth": 0,
             "ticks": ""
            },
            "colorscale": [
             [
              0,
              "#0d0887"
             ],
             [
              0.1111111111111111,
              "#46039f"
             ],
             [
              0.2222222222222222,
              "#7201a8"
             ],
             [
              0.3333333333333333,
              "#9c179e"
             ],
             [
              0.4444444444444444,
              "#bd3786"
             ],
             [
              0.5555555555555556,
              "#d8576b"
             ],
             [
              0.6666666666666666,
              "#ed7953"
             ],
             [
              0.7777777777777778,
              "#fb9f3a"
             ],
             [
              0.8888888888888888,
              "#fdca26"
             ],
             [
              1,
              "#f0f921"
             ]
            ],
            "type": "heatmapgl"
           }
          ],
          "histogram": [
           {
            "marker": {
             "colorbar": {
              "outlinewidth": 0,
              "ticks": ""
             }
            },
            "type": "histogram"
           }
          ],
          "histogram2d": [
           {
            "colorbar": {
             "outlinewidth": 0,
             "ticks": ""
            },
            "colorscale": [
             [
              0,
              "#0d0887"
             ],
             [
              0.1111111111111111,
              "#46039f"
             ],
             [
              0.2222222222222222,
              "#7201a8"
             ],
             [
              0.3333333333333333,
              "#9c179e"
             ],
             [
              0.4444444444444444,
              "#bd3786"
             ],
             [
              0.5555555555555556,
              "#d8576b"
             ],
             [
              0.6666666666666666,
              "#ed7953"
             ],
             [
              0.7777777777777778,
              "#fb9f3a"
             ],
             [
              0.8888888888888888,
              "#fdca26"
             ],
             [
              1,
              "#f0f921"
             ]
            ],
            "type": "histogram2d"
           }
          ],
          "histogram2dcontour": [
           {
            "colorbar": {
             "outlinewidth": 0,
             "ticks": ""
            },
            "colorscale": [
             [
              0,
              "#0d0887"
             ],
             [
              0.1111111111111111,
              "#46039f"
             ],
             [
              0.2222222222222222,
              "#7201a8"
             ],
             [
              0.3333333333333333,
              "#9c179e"
             ],
             [
              0.4444444444444444,
              "#bd3786"
             ],
             [
              0.5555555555555556,
              "#d8576b"
             ],
             [
              0.6666666666666666,
              "#ed7953"
             ],
             [
              0.7777777777777778,
              "#fb9f3a"
             ],
             [
              0.8888888888888888,
              "#fdca26"
             ],
             [
              1,
              "#f0f921"
             ]
            ],
            "type": "histogram2dcontour"
           }
          ],
          "mesh3d": [
           {
            "colorbar": {
             "outlinewidth": 0,
             "ticks": ""
            },
            "type": "mesh3d"
           }
          ],
          "parcoords": [
           {
            "line": {
             "colorbar": {
              "outlinewidth": 0,
              "ticks": ""
             }
            },
            "type": "parcoords"
           }
          ],
          "pie": [
           {
            "automargin": true,
            "type": "pie"
           }
          ],
          "scatter": [
           {
            "marker": {
             "colorbar": {
              "outlinewidth": 0,
              "ticks": ""
             }
            },
            "type": "scatter"
           }
          ],
          "scatter3d": [
           {
            "line": {
             "colorbar": {
              "outlinewidth": 0,
              "ticks": ""
             }
            },
            "marker": {
             "colorbar": {
              "outlinewidth": 0,
              "ticks": ""
             }
            },
            "type": "scatter3d"
           }
          ],
          "scattercarpet": [
           {
            "marker": {
             "colorbar": {
              "outlinewidth": 0,
              "ticks": ""
             }
            },
            "type": "scattercarpet"
           }
          ],
          "scattergeo": [
           {
            "marker": {
             "colorbar": {
              "outlinewidth": 0,
              "ticks": ""
             }
            },
            "type": "scattergeo"
           }
          ],
          "scattergl": [
           {
            "marker": {
             "colorbar": {
              "outlinewidth": 0,
              "ticks": ""
             }
            },
            "type": "scattergl"
           }
          ],
          "scattermapbox": [
           {
            "marker": {
             "colorbar": {
              "outlinewidth": 0,
              "ticks": ""
             }
            },
            "type": "scattermapbox"
           }
          ],
          "scatterpolar": [
           {
            "marker": {
             "colorbar": {
              "outlinewidth": 0,
              "ticks": ""
             }
            },
            "type": "scatterpolar"
           }
          ],
          "scatterpolargl": [
           {
            "marker": {
             "colorbar": {
              "outlinewidth": 0,
              "ticks": ""
             }
            },
            "type": "scatterpolargl"
           }
          ],
          "scatterternary": [
           {
            "marker": {
             "colorbar": {
              "outlinewidth": 0,
              "ticks": ""
             }
            },
            "type": "scatterternary"
           }
          ],
          "surface": [
           {
            "colorbar": {
             "outlinewidth": 0,
             "ticks": ""
            },
            "colorscale": [
             [
              0,
              "#0d0887"
             ],
             [
              0.1111111111111111,
              "#46039f"
             ],
             [
              0.2222222222222222,
              "#7201a8"
             ],
             [
              0.3333333333333333,
              "#9c179e"
             ],
             [
              0.4444444444444444,
              "#bd3786"
             ],
             [
              0.5555555555555556,
              "#d8576b"
             ],
             [
              0.6666666666666666,
              "#ed7953"
             ],
             [
              0.7777777777777778,
              "#fb9f3a"
             ],
             [
              0.8888888888888888,
              "#fdca26"
             ],
             [
              1,
              "#f0f921"
             ]
            ],
            "type": "surface"
           }
          ],
          "table": [
           {
            "cells": {
             "fill": {
              "color": "#EBF0F8"
             },
             "line": {
              "color": "white"
             }
            },
            "header": {
             "fill": {
              "color": "#C8D4E3"
             },
             "line": {
              "color": "white"
             }
            },
            "type": "table"
           }
          ]
         },
         "layout": {
          "annotationdefaults": {
           "arrowcolor": "#2a3f5f",
           "arrowhead": 0,
           "arrowwidth": 1
          },
          "coloraxis": {
           "colorbar": {
            "outlinewidth": 0,
            "ticks": ""
           }
          },
          "colorscale": {
           "diverging": [
            [
             0,
             "#8e0152"
            ],
            [
             0.1,
             "#c51b7d"
            ],
            [
             0.2,
             "#de77ae"
            ],
            [
             0.3,
             "#f1b6da"
            ],
            [
             0.4,
             "#fde0ef"
            ],
            [
             0.5,
             "#f7f7f7"
            ],
            [
             0.6,
             "#e6f5d0"
            ],
            [
             0.7,
             "#b8e186"
            ],
            [
             0.8,
             "#7fbc41"
            ],
            [
             0.9,
             "#4d9221"
            ],
            [
             1,
             "#276419"
            ]
           ],
           "sequential": [
            [
             0,
             "#0d0887"
            ],
            [
             0.1111111111111111,
             "#46039f"
            ],
            [
             0.2222222222222222,
             "#7201a8"
            ],
            [
             0.3333333333333333,
             "#9c179e"
            ],
            [
             0.4444444444444444,
             "#bd3786"
            ],
            [
             0.5555555555555556,
             "#d8576b"
            ],
            [
             0.6666666666666666,
             "#ed7953"
            ],
            [
             0.7777777777777778,
             "#fb9f3a"
            ],
            [
             0.8888888888888888,
             "#fdca26"
            ],
            [
             1,
             "#f0f921"
            ]
           ],
           "sequentialminus": [
            [
             0,
             "#0d0887"
            ],
            [
             0.1111111111111111,
             "#46039f"
            ],
            [
             0.2222222222222222,
             "#7201a8"
            ],
            [
             0.3333333333333333,
             "#9c179e"
            ],
            [
             0.4444444444444444,
             "#bd3786"
            ],
            [
             0.5555555555555556,
             "#d8576b"
            ],
            [
             0.6666666666666666,
             "#ed7953"
            ],
            [
             0.7777777777777778,
             "#fb9f3a"
            ],
            [
             0.8888888888888888,
             "#fdca26"
            ],
            [
             1,
             "#f0f921"
            ]
           ]
          },
          "colorway": [
           "#636efa",
           "#EF553B",
           "#00cc96",
           "#ab63fa",
           "#FFA15A",
           "#19d3f3",
           "#FF6692",
           "#B6E880",
           "#FF97FF",
           "#FECB52"
          ],
          "font": {
           "color": "#2a3f5f"
          },
          "geo": {
           "bgcolor": "white",
           "lakecolor": "white",
           "landcolor": "#E5ECF6",
           "showlakes": true,
           "showland": true,
           "subunitcolor": "white"
          },
          "hoverlabel": {
           "align": "left"
          },
          "hovermode": "closest",
          "mapbox": {
           "style": "light"
          },
          "paper_bgcolor": "white",
          "plot_bgcolor": "#E5ECF6",
          "polar": {
           "angularaxis": {
            "gridcolor": "white",
            "linecolor": "white",
            "ticks": ""
           },
           "bgcolor": "#E5ECF6",
           "radialaxis": {
            "gridcolor": "white",
            "linecolor": "white",
            "ticks": ""
           }
          },
          "scene": {
           "xaxis": {
            "backgroundcolor": "#E5ECF6",
            "gridcolor": "white",
            "gridwidth": 2,
            "linecolor": "white",
            "showbackground": true,
            "ticks": "",
            "zerolinecolor": "white"
           },
           "yaxis": {
            "backgroundcolor": "#E5ECF6",
            "gridcolor": "white",
            "gridwidth": 2,
            "linecolor": "white",
            "showbackground": true,
            "ticks": "",
            "zerolinecolor": "white"
           },
           "zaxis": {
            "backgroundcolor": "#E5ECF6",
            "gridcolor": "white",
            "gridwidth": 2,
            "linecolor": "white",
            "showbackground": true,
            "ticks": "",
            "zerolinecolor": "white"
           }
          },
          "shapedefaults": {
           "line": {
            "color": "#2a3f5f"
           }
          },
          "ternary": {
           "aaxis": {
            "gridcolor": "white",
            "linecolor": "white",
            "ticks": ""
           },
           "baxis": {
            "gridcolor": "white",
            "linecolor": "white",
            "ticks": ""
           },
           "bgcolor": "#E5ECF6",
           "caxis": {
            "gridcolor": "white",
            "linecolor": "white",
            "ticks": ""
           }
          },
          "title": {
           "x": 0.05
          },
          "xaxis": {
           "automargin": true,
           "gridcolor": "white",
           "linecolor": "white",
           "ticks": "",
           "title": {
            "standoff": 15
           },
           "zerolinecolor": "white",
           "zerolinewidth": 2
          },
          "yaxis": {
           "automargin": true,
           "gridcolor": "white",
           "linecolor": "white",
           "ticks": "",
           "title": {
            "standoff": 15
           },
           "zerolinecolor": "white",
           "zerolinewidth": 2
          }
         }
        },
        "title": {
         "text": "Lead ID : 318465, Aggregated on all bank accounts"
        },
        "xaxis": {
         "anchor": "y",
         "domain": [
          0,
          1
         ],
         "title": {
          "text": "date"
         }
        },
        "yaxis": {
         "anchor": "x",
         "domain": [
          0,
          1
         ],
         "title": {
          "text": "amount"
         }
        }
       }
      },
      "text/html": [
       "<div>\n",
       "        \n",
       "        \n",
       "            <div id=\"6432fc57-cbe7-4578-8216-ad9001c32400\" class=\"plotly-graph-div\" style=\"height:525px; width:100%;\"></div>\n",
       "            <script type=\"text/javascript\">\n",
       "                require([\"plotly\"], function(Plotly) {\n",
       "                    window.PLOTLYENV=window.PLOTLYENV || {};\n",
       "                    \n",
       "                if (document.getElementById(\"6432fc57-cbe7-4578-8216-ad9001c32400\")) {\n",
       "                    Plotly.newPlot(\n",
       "                        '6432fc57-cbe7-4578-8216-ad9001c32400',\n",
       "                        [{\"hoverlabel\": {\"namelength\": 0}, \"hovertemplate\": \"transaction_type=credit<br>date=%{x}<br>amount=%{y}\", \"legendgroup\": \"credit\", \"line\": {\"color\": \"#636efa\", \"dash\": \"solid\"}, \"mode\": \"lines\", \"name\": \"credit\", \"showlegend\": true, \"type\": \"scatter\", \"x\": [\"2016-04-12\", \"2016-04-13\", \"2016-04-15\", \"2016-04-16\", \"2016-04-18\", \"2016-04-19\", \"2016-04-20\", \"2016-04-21\", \"2016-04-23\", \"2016-04-27\", \"2016-04-28\", \"2016-05-03\", \"2016-05-04\", \"2016-05-05\", \"2016-05-06\", \"2016-05-07\", \"2016-05-08\", \"2016-05-09\", \"2016-05-11\", \"2016-05-12\", \"2016-05-13\", \"2016-05-16\", \"2016-05-18\", \"2016-05-20\", \"2016-05-23\", \"2016-05-24\", \"2016-05-25\", \"2016-05-26\", \"2016-05-27\", \"2016-06-01\", \"2016-06-02\", \"2016-06-03\", \"2016-06-05\", \"2016-06-06\", \"2016-06-07\", \"2016-06-08\", \"2016-06-09\", \"2016-06-10\", \"2016-06-11\", \"2016-06-13\", \"2016-06-15\", \"2016-06-16\", \"2016-06-17\", \"2016-06-19\", \"2016-06-21\", \"2016-06-23\", \"2016-06-24\", \"2016-06-25\", \"2016-06-27\", \"2016-06-28\", \"2016-06-29\", \"2016-06-30\", \"2016-07-02\", \"2016-07-04\", \"2016-07-05\", \"2016-07-08\", \"2016-07-10\", \"2016-07-11\", \"2016-07-12\", \"2016-07-13\", \"2016-07-14\", \"2016-07-15\", \"2016-07-16\", \"2016-07-18\", \"2016-07-20\", \"2016-07-21\", \"2016-07-23\", \"2016-07-25\", \"2016-07-27\", \"2016-07-28\", \"2016-07-31\", \"2016-08-01\", \"2016-08-02\", \"2016-08-03\", \"2016-08-04\", \"2016-08-05\", \"2016-08-06\", \"2016-08-07\", \"2016-08-09\", \"2016-08-10\", \"2016-08-11\", \"2016-08-12\", \"2016-08-15\", \"2016-08-16\", \"2016-08-19\", \"2016-08-21\", \"2016-08-22\", \"2016-08-23\", \"2016-08-24\", \"2016-08-26\", \"2016-08-29\", \"2016-08-31\", \"2016-09-02\", \"2016-09-03\", \"2016-09-04\", \"2016-09-06\", \"2016-09-07\", \"2016-09-08\", \"2016-09-09\", \"2016-09-12\", \"2016-09-13\", \"2016-09-14\", \"2016-09-15\", \"2016-09-16\", \"2016-09-18\", \"2016-09-19\", \"2016-09-20\", \"2016-09-21\", \"2016-09-22\", \"2016-09-23\", \"2016-09-28\", \"2016-09-30\", \"2016-10-03\", \"2016-10-04\", \"2016-10-05\", \"2016-10-06\", \"2016-10-07\", \"2016-10-08\", \"2016-10-11\", \"2016-10-14\", \"2016-10-15\", \"2016-10-16\", \"2016-10-17\", \"2016-10-20\", \"2016-10-21\", \"2016-10-22\", \"2016-10-23\", \"2016-10-25\", \"2016-10-26\", \"2016-10-28\", \"2016-10-30\", \"2016-10-31\", \"2016-11-01\", \"2016-11-02\", \"2016-11-04\", \"2016-11-05\", \"2016-11-06\", \"2016-11-07\", \"2016-11-08\", \"2016-11-09\", \"2016-11-10\", \"2016-11-11\", \"2016-11-12\", \"2016-11-14\", \"2016-11-15\", \"2016-11-16\", \"2016-11-17\", \"2016-11-18\", \"2016-11-19\", \"2016-11-21\", \"2016-11-23\", \"2016-11-24\", \"2016-11-25\", \"2016-11-26\", \"2016-11-28\", \"2016-11-29\", \"2016-11-30\", \"2016-12-01\", \"2016-12-02\", \"2016-12-03\", \"2016-12-05\", \"2016-12-06\", \"2016-12-07\", \"2016-12-08\", \"2016-12-09\", \"2016-12-10\", \"2016-12-12\", \"2016-12-13\", \"2016-12-14\", \"2016-12-15\"], \"xaxis\": \"x\", \"y\": [793.26, 737.3, 600.0, 501.49, 0.2, 146.26, 894.26, 1246.22, 135.0, 1720.79, 195.12, 163.0, 403.26, 140.0, 5.87, 250.06, 329.76, 589.76, 883.78, 3167.12, 176.5, 585.2, 588.05, 306.51, 1063.17, 798.65, 2562.92, 533.9, 125.49, 500.0, 164.21, 33.9, 40.0, 264.09, 688.85, 288.94, 125.0, 1182.45, 250.0, 326.52, 1203.46, 1.28, 2598.46, 1210.04, 106.58, 329.65, 2047.75, 135.0, 1.2, 4589.95, 1354.41, 1747.3500000000001, 175.0, 1069.8, 2072.3500000000004, 226.01000000000002, 371.0, 4656.59, 146.46, 20.88, 990.86, 2350.74, 1.33, 1527.6, 2722.04, 3596.4300000000003, 1.0, 300.0, 52.08, 124.3, 0.02, 300.0, 293.01, 405.36, 100.0, 1179.9400000000003, 39.95, 194.5, 1500.0, 728.79, 551.7, 340.37, 13592.34, 3707.55, 3097.76, 250.0, 500.0, 602.9, 737.69, 1609.1, 4811.2, 1591.85, 3845.0699999999997, 989.1899999999999, 135.0, 5178.89, 1639.0, 2952.3500000000004, 484.9, 211.1, 2718.2, 1097.5900000000001, 920.42, 1.44, 1000.0, 7060.8, 336.35, 417.9, 350.0, 1609.92, 12.52, 566.27, 2140.4300000000003, 299.58, 129.12, 459.26, 4307.08, 189.02, 1556.0, 253.0, 36.96, 0.75, 2351.04, 39.95, 135.01, 2908.0, 2693.87, 100.0, 1164.15, 535.75, 204.0, 2418.71, 400.0, 332.22, 739.05, 194.5, 34.04, 4077.3199999999997, 2724.87, 478.99, 686.62, 2008.23, 28.0, 31959.99, 1389.11, 1.36, 2768.49, 0.01, 115.39, 5924.31, 2609.31, 135.0, 1820.9, 744.94, 1359.1, 1297.6100000000001, 500.0, 3263.2, 3000.0, 3000.0, 25.0, 572.3, 460.44, 3202.4, 1648.25, 194.5, 1400.0, 39.95, 1175.87, 2718.2], \"yaxis\": \"y\"}, {\"hoverlabel\": {\"namelength\": 0}, \"hovertemplate\": \"transaction_type=running_balance<br>date=%{x}<br>amount=%{y}\", \"legendgroup\": \"running_balance\", \"line\": {\"color\": \"#EF553B\", \"dash\": \"solid\"}, \"mode\": \"lines\", \"name\": \"running_balance\", \"showlegend\": true, \"type\": \"scatter\", \"x\": [\"2016-04-12\", \"2016-04-13\", \"2016-04-14\", \"2016-04-15\", \"2016-04-16\", \"2016-04-17\", \"2016-04-18\", \"2016-04-19\", \"2016-04-20\", \"2016-04-21\", \"2016-04-22\", \"2016-04-23\", \"2016-04-24\", \"2016-04-25\", \"2016-04-26\", \"2016-04-27\", \"2016-04-28\", \"2016-04-29\", \"2016-04-30\", \"2016-05-02\", \"2016-05-03\", \"2016-05-04\", \"2016-05-05\", \"2016-05-06\", \"2016-05-07\", \"2016-05-08\", \"2016-05-09\", \"2016-05-10\", \"2016-05-11\", \"2016-05-12\", \"2016-05-13\", \"2016-05-14\", \"2016-05-15\", \"2016-05-16\", \"2016-05-17\", \"2016-05-18\", \"2016-05-19\", \"2016-05-20\", \"2016-05-21\", \"2016-05-22\", \"2016-05-23\", \"2016-05-24\", \"2016-05-25\", \"2016-05-26\", \"2016-05-27\", \"2016-05-28\", \"2016-05-29\", \"2016-05-30\", \"2016-05-31\", \"2016-06-01\", \"2016-06-02\", \"2016-06-03\", \"2016-06-04\", \"2016-06-05\", \"2016-06-06\", \"2016-06-07\", \"2016-06-08\", \"2016-06-09\", \"2016-06-10\", \"2016-06-11\", \"2016-06-12\", \"2016-06-13\", \"2016-06-14\", \"2016-06-15\", \"2016-06-16\", \"2016-06-17\", \"2016-06-18\", \"2016-06-19\", \"2016-06-20\", \"2016-06-21\", \"2016-06-22\", \"2016-06-23\", \"2016-06-24\", \"2016-06-25\", \"2016-06-26\", \"2016-06-27\", \"2016-06-28\", \"2016-06-29\", \"2016-06-30\", \"2016-07-01\", \"2016-07-02\", \"2016-07-03\", \"2016-07-04\", \"2016-07-05\", \"2016-07-06\", \"2016-07-07\", \"2016-07-08\", \"2016-07-09\", \"2016-07-10\", \"2016-07-11\", \"2016-07-12\", \"2016-07-13\", \"2016-07-14\", \"2016-07-15\", \"2016-07-16\", \"2016-07-17\", \"2016-07-18\", \"2016-07-19\", \"2016-07-20\", \"2016-07-21\", \"2016-07-22\", \"2016-07-23\", \"2016-07-24\", \"2016-07-25\", \"2016-07-26\", \"2016-07-27\", \"2016-07-28\", \"2016-07-29\", \"2016-07-30\", \"2016-07-31\", \"2016-08-01\", \"2016-08-02\", \"2016-08-03\", \"2016-08-04\", \"2016-08-05\", \"2016-08-06\", \"2016-08-07\", \"2016-08-08\", \"2016-08-09\", \"2016-08-10\", \"2016-08-11\", \"2016-08-12\", \"2016-08-13\", \"2016-08-15\", \"2016-08-16\", \"2016-08-17\", \"2016-08-18\", \"2016-08-19\", \"2016-08-20\", \"2016-08-21\", \"2016-08-22\", \"2016-08-23\", \"2016-08-24\", \"2016-08-25\", \"2016-08-26\", \"2016-08-27\", \"2016-08-28\", \"2016-08-29\", \"2016-08-30\", \"2016-08-31\", \"2016-09-01\", \"2016-09-02\", \"2016-09-03\", \"2016-09-04\", \"2016-09-05\", \"2016-09-06\", \"2016-09-07\", \"2016-09-08\", \"2016-09-09\", \"2016-09-10\", \"2016-09-11\", \"2016-09-12\", \"2016-09-13\", \"2016-09-14\", \"2016-09-15\", \"2016-09-16\", \"2016-09-17\", \"2016-09-18\", \"2016-09-19\", \"2016-09-20\", \"2016-09-21\", \"2016-09-22\", \"2016-09-23\", \"2016-09-24\", \"2016-09-25\", \"2016-09-26\", \"2016-09-28\", \"2016-09-29\", \"2016-09-30\", \"2016-10-01\", \"2016-10-02\", \"2016-10-03\", \"2016-10-04\", \"2016-10-05\", \"2016-10-06\", \"2016-10-07\", \"2016-10-08\", \"2016-10-10\", \"2016-10-11\", \"2016-10-12\", \"2016-10-13\", \"2016-10-14\", \"2016-10-15\", \"2016-10-16\", \"2016-10-17\", \"2016-10-18\", \"2016-10-19\", \"2016-10-20\", \"2016-10-21\", \"2016-10-22\", \"2016-10-23\", \"2016-10-24\", \"2016-10-25\", \"2016-10-26\", \"2016-10-27\", \"2016-10-28\", \"2016-10-29\", \"2016-10-30\", \"2016-10-31\", \"2016-11-01\", \"2016-11-02\", \"2016-11-03\", \"2016-11-04\", \"2016-11-05\", \"2016-11-06\", \"2016-11-07\", \"2016-11-08\", \"2016-11-09\", \"2016-11-10\", \"2016-11-11\", \"2016-11-12\", \"2016-11-13\", \"2016-11-14\", \"2016-11-15\", \"2016-11-16\", \"2016-11-17\", \"2016-11-18\", \"2016-11-19\", \"2016-11-20\", \"2016-11-21\", \"2016-11-22\", \"2016-11-23\", \"2016-11-24\", \"2016-11-25\", \"2016-11-26\", \"2016-11-27\", \"2016-11-28\", \"2016-11-29\", \"2016-11-30\", \"2016-12-01\", \"2016-12-02\", \"2016-12-03\", \"2016-12-04\", \"2016-12-05\", \"2016-12-06\", \"2016-12-07\", \"2016-12-08\", \"2016-12-09\", \"2016-12-10\", \"2016-12-11\", \"2016-12-12\", \"2016-12-13\", \"2016-12-14\", \"2016-12-15\"], \"xaxis\": \"x\", \"y\": [587.52, 348.87, 251.53, 64.16, 482.31, 438.81, 149.17000000000002, 414.92, 390.65999999999997, 1321.06, 991.1, 705.34, 691.06, 602.86, 337.49, 2006.33, 2158.9, 2011.42, 1665.26, 1285.56, 1549.4, 1868.02, 2008.02, -342.6, 52.730000000000004, 364.68, 351.47, 368.45, 163.01, 3364.35, 2817.86, 2419.1, 2336.66, 2252.25, 2120.0, 2666.78, 2022.57, 347.0, 210.89999999999998, 150.51, 1138.1000000000001, 1573.0, 3433.63, 3557.66, 1451.8500000000001, 1138.53, 813.36, 529.77, 33.12, 357.87, 277.58, 4.1000000000000005, -14.15, 1.12, 294.53999999999996, 465.82, 496.08, 261.24, 1345.8200000000002, 1252.83, 1194.41, 874.45, 440.4, 721.66, 306.30999999999995, 2554.8199999999997, 441.77, 1616.53, 1077.66, 281.47, 184.67999999999998, 379.33, 1211.0700000000002, 942.67, 633.72, 706.65, 3689.36, 4513.400000000001, 5473.76, 2001.1599999999999, 4795.14, 4445.469999999999, 3839.28, 2621.15, 316.59000000000003, 522.72, 460.22999999999996, -8.04, 385.31, 3040.6600000000003, 2680.61, 2391.4199999999996, 2703.18, 1619.1399999999999, 1428.87, 1335.66, 2034.52, 302.75, 3711.3700000000003, 3628.08, 4031.9500000000003, 737.47, 696.59, 842.93, -646.62, -266.86, 705.38, 432.72, 294.39, 294.41, 732.67, 925.28, 248.86999999999998, 531.38, 937.53, 859.6899999999999, 672.44, 761.78, 2069.5, 2649.43, 496.42, 476.42, 363.74, 5140.69, 4662.2, 1105.72, 906.28, 4907.879999999999, 554.27, 4318.97, 4319.929999999999, 879.52, 1212.16, 377.24, 1542.9399999999998, 555.0600000000001, 8.97, 2723.13, 1057.1799999999998, 2591.35, 3256.8, 4049.46, 1098.44, 1052.73, 827.8599999999999, 6123.05, 1754.09, 2230.95, 498.23, 295.05, 226.21, 1908.5100000000002, 3076.26, 693.22, 3395.98, 972.78, 643.02, 2872.7200000000003, 5663.2, 2590.48, 2275.13, 2275.13, 3145.88, 202.01, 311.65, 2363.69, 1394.58, 2532.18, 3124.2000000000003, 2544.18, 3022.52, 3664.79, 3357.6100000000006, 1663.71, 3122.0699999999997, 3009.08, 2588.9300000000007, 2718.99, 404.5, 537.95, 494.39, 581.01, 435.39, 310.01, 598.7, 331.38, -263.28, -176.41999999999996, -442.40999999999997, 3012.33, 2361.2, 1938.9900000000002, 952.04, 717.4499999999999, 342.23, 761.8199999999999, 311.41, 422.77, 1917.4599999999998, 629.13, 1669.07, 271.72, 924.75, 1041.3400000000001, 684.52, 3135.36, 2913.91, 188.46, 393.92, 2598.71, 1972.76, 1433.77, 3160.0199999999995, 2308.66, 1782.5500000000002, 3116.12, 695.79, 625.21, 515.49, 4479.2, 3436.1099999999997, 5452.12, 2674.37, 3171.3, 2361.63, 1287.39, 2208.48, 2703.2799999999997, 505.21, 3806.27, 3521.18, 3233.6499999999996, 107.11, 2930.24, 51.70999999999998, 3305.4100000000003, 4714.08, 6030.9400000000005, 3567.1499999999996, 1504.64, 4354.12, 3622.0999999999995, 3552.3099999999995, 2056.38], \"yaxis\": \"y\"}, {\"hoverlabel\": {\"namelength\": 0}, \"hovertemplate\": \"transaction_type=debit<br>date=%{x}<br>amount=%{y}\", \"legendgroup\": \"debit\", \"line\": {\"color\": \"#00cc96\", \"dash\": \"solid\"}, \"mode\": \"lines\", \"name\": \"debit\", \"showlegend\": true, \"type\": \"scatter\", \"x\": [\"2016-04-12\", \"2016-04-13\", \"2016-04-14\", \"2016-04-15\", \"2016-04-16\", \"2016-04-17\", \"2016-04-18\", \"2016-04-19\", \"2016-04-20\", \"2016-04-21\", \"2016-04-22\", \"2016-04-23\", \"2016-04-24\", \"2016-04-25\", \"2016-04-26\", \"2016-04-27\", \"2016-04-28\", \"2016-04-29\", \"2016-04-30\", \"2016-05-02\", \"2016-05-03\", \"2016-05-04\", \"2016-05-06\", \"2016-05-07\", \"2016-05-08\", \"2016-05-09\", \"2016-05-10\", \"2016-05-11\", \"2016-05-12\", \"2016-05-13\", \"2016-05-14\", \"2016-05-15\", \"2016-05-16\", \"2016-05-17\", \"2016-05-18\", \"2016-05-19\", \"2016-05-20\", \"2016-05-21\", \"2016-05-22\", \"2016-05-23\", \"2016-05-24\", \"2016-05-25\", \"2016-05-26\", \"2016-05-27\", \"2016-05-28\", \"2016-05-29\", \"2016-05-30\", \"2016-05-31\", \"2016-06-01\", \"2016-06-02\", \"2016-06-03\", \"2016-06-04\", \"2016-06-05\", \"2016-06-06\", \"2016-06-07\", \"2016-06-08\", \"2016-06-09\", \"2016-06-10\", \"2016-06-11\", \"2016-06-12\", \"2016-06-13\", \"2016-06-14\", \"2016-06-15\", \"2016-06-16\", \"2016-06-17\", \"2016-06-18\", \"2016-06-20\", \"2016-06-21\", \"2016-06-22\", \"2016-06-23\", \"2016-06-24\", \"2016-06-25\", \"2016-06-26\", \"2016-06-27\", \"2016-06-28\", \"2016-06-29\", \"2016-06-30\", \"2016-07-01\", \"2016-07-02\", \"2016-07-03\", \"2016-07-04\", \"2016-07-05\", \"2016-07-06\", \"2016-07-07\", \"2016-07-08\", \"2016-07-09\", \"2016-07-10\", \"2016-07-11\", \"2016-07-12\", \"2016-07-13\", \"2016-07-14\", \"2016-07-15\", \"2016-07-16\", \"2016-07-17\", \"2016-07-18\", \"2016-07-19\", \"2016-07-20\", \"2016-07-21\", \"2016-07-22\", \"2016-07-23\", \"2016-07-24\", \"2016-07-25\", \"2016-07-26\", \"2016-07-27\", \"2016-07-28\", \"2016-07-29\", \"2016-07-30\", \"2016-08-01\", \"2016-08-02\", \"2016-08-03\", \"2016-08-04\", \"2016-08-05\", \"2016-08-06\", \"2016-08-07\", \"2016-08-08\", \"2016-08-09\", \"2016-08-10\", \"2016-08-11\", \"2016-08-12\", \"2016-08-13\", \"2016-08-15\", \"2016-08-16\", \"2016-08-17\", \"2016-08-18\", \"2016-08-19\", \"2016-08-20\", \"2016-08-22\", \"2016-08-23\", \"2016-08-24\", \"2016-08-25\", \"2016-08-26\", \"2016-08-27\", \"2016-08-28\", \"2016-08-29\", \"2016-08-30\", \"2016-08-31\", \"2016-09-01\", \"2016-09-02\", \"2016-09-03\", \"2016-09-04\", \"2016-09-05\", \"2016-09-06\", \"2016-09-07\", \"2016-09-08\", \"2016-09-09\", \"2016-09-10\", \"2016-09-11\", \"2016-09-12\", \"2016-09-13\", \"2016-09-14\", \"2016-09-15\", \"2016-09-16\", \"2016-09-17\", \"2016-09-18\", \"2016-09-19\", \"2016-09-20\", \"2016-09-21\", \"2016-09-22\", \"2016-09-23\", \"2016-09-24\", \"2016-09-25\", \"2016-09-26\", \"2016-09-28\", \"2016-09-29\", \"2016-09-30\", \"2016-10-01\", \"2016-10-02\", \"2016-10-03\", \"2016-10-04\", \"2016-10-05\", \"2016-10-06\", \"2016-10-07\", \"2016-10-08\", \"2016-10-10\", \"2016-10-11\", \"2016-10-12\", \"2016-10-13\", \"2016-10-14\", \"2016-10-15\", \"2016-10-16\", \"2016-10-17\", \"2016-10-18\", \"2016-10-19\", \"2016-10-20\", \"2016-10-21\", \"2016-10-22\", \"2016-10-23\", \"2016-10-24\", \"2016-10-25\", \"2016-10-26\", \"2016-10-27\", \"2016-10-28\", \"2016-10-29\", \"2016-10-30\", \"2016-10-31\", \"2016-11-01\", \"2016-11-02\", \"2016-11-03\", \"2016-11-04\", \"2016-11-05\", \"2016-11-07\", \"2016-11-08\", \"2016-11-09\", \"2016-11-10\", \"2016-11-11\", \"2016-11-12\", \"2016-11-13\", \"2016-11-14\", \"2016-11-15\", \"2016-11-16\", \"2016-11-17\", \"2016-11-18\", \"2016-11-19\", \"2016-11-20\", \"2016-11-21\", \"2016-11-22\", \"2016-11-23\", \"2016-11-24\", \"2016-11-25\", \"2016-11-26\", \"2016-11-27\", \"2016-11-28\", \"2016-11-29\", \"2016-11-30\", \"2016-12-01\", \"2016-12-02\", \"2016-12-03\", \"2016-12-04\", \"2016-12-05\", \"2016-12-06\", \"2016-12-07\", \"2016-12-08\", \"2016-12-09\", \"2016-12-10\", \"2016-12-11\", \"2016-12-12\", \"2016-12-13\", \"2016-12-14\", \"2016-12-15\"], \"xaxis\": \"x\", \"y\": [44.44, 975.95, 97.34, 787.37, 83.34, 43.5, 290.80000000000007, 39.269999999999996, 902.03, 481.99, 327.66, 420.76, 14.28, 88.2, 265.37, 51.95, 42.55, 147.48000000000002, 346.16, 213.53, 115.33, 84.64, 2325.6, 140.9, 17.81, 38.26, 281.56, 840.0899999999999, 214.91, 702.99, 251.34, 82.44, 817.03, 127.24000000000001, 43.57, 318.90999999999997, 1982.0800000000002, 362.38000000000005, 40.0, 194.99000000000004, 359.16999999999996, 702.29, 309.86999999999995, 2331.3, 234.10999999999996, 165.2, 443.55999999999995, 339.94, 331.96, 168.09, 386.59000000000003, 13.39, 24.73, 51.94, 518.5600000000001, 64.17, 554.3499999999999, 97.87, 229.61999999999995, 58.42, 646.48, 434.05, 921.21, 417.63, 2223.19, 347.95, 538.87, 2671.8800000000006, 96.59, 170.28, 828.0799999999999, 209.28, 61.67, 762.8299999999999, 1603.4099999999999, 525.37, 786.9900000000001, 151.4, 702.22, 201.82999999999998, 1823.8299999999997, 3157.2199999999993, 251.18, 123.45, 2150.1400000000003, 121.99, 54.87, 2270.3, 259.47999999999996, 557.0999999999999, 587.0200000000001, 3526.86, 103.34, 89.36999999999999, 920.83, 160.99, 676.3599999999999, 3896.4, 108.35, 3300.4900000000002, 36.87, 293.65999999999997, 225.0, 192.99, 60.519999999999996, 27.67, 138.32999999999998, 77.7, 100.4, 264.97, 257.96000000000004, 362.35, 117.78999999999999, 48.2, 282.20000000000005, 75.0, 159.92000000000002, 2704.7100000000005, 360.36999999999995, 112.67999999999999, 8887.63, 4153.9, 499.2, 191.21, 2193.81, 276.4, 1053.3100000000002, 232.58, 102.68, 1137.29, 164.02, 3447.75, 124.87, 3877.3599999999997, 210.61, 54.68, 1072.27, 2673.32, 645.6099999999999, 180.71, 224.87000000000003, 3557.39, 6007.96, 2475.49, 356.74999999999994, 203.18, 68.84, 389.66999999999996, 1550.4499999999998, 503.94000000000005, 784.21, 268.23, 329.76, 1038.32, 4270.319999999999, 3409.0699999999997, 733.25, 350.0, 1037.6999999999998, 144.62, 53.89, 451.45, 1006.63, 18.5, 81.47999999999999, 104.33, 47.349999999999994, 1448.1599999999999, 606.76, 666.9200000000001, 317.0, 3103.9700000000003, 609.17, 182.60000000000002, 3482.98, 254.16, 43.56, 166.38, 182.57999999999998, 126.13000000000001, 1749.69, 267.32, 426.0, 121.75, 401.0, 30.67, 2693.87, 95.83000000000001, 1127.32, 1758.37, 119.65, 341.22999999999996, 127.21, 92.64, 1346.1100000000001, 389.89, 301.83, 387.58000000000004, 374.9, 77.91, 3027.12, 2946.32, 2413.1, 927.7900000000001, 148.15, 653.95, 203.22, 30569.510000000006, 2066.12, 91.83000000000001, 2044.9100000000003, 457.75, 41.71, 109.72, 4067.4500000000003, 1043.0900000000001, 593.3, 2912.75, 1323.97, 1371.8800000000003, 51.19, 620.7399999999999, 1783.86, 366.68, 2196.14, 3422.48, 3287.5299999999997, 29.07, 299.34, 405.2, 252.36999999999998, 1596.4200000000003, 331.39, 2855.6, 42.519999999999996, 570.51, 771.9700000000001, 1245.66, 1979.3899999999999], \"yaxis\": \"y\"}],\n",
       "                        {\"legend\": {\"title\": {\"text\": \"transaction_type\"}, \"tracegroupgap\": 0}, \"template\": {\"data\": {\"bar\": [{\"error_x\": {\"color\": \"#2a3f5f\"}, \"error_y\": {\"color\": \"#2a3f5f\"}, \"marker\": {\"line\": {\"color\": \"#E5ECF6\", \"width\": 0.5}}, \"type\": \"bar\"}], \"barpolar\": [{\"marker\": {\"line\": {\"color\": \"#E5ECF6\", \"width\": 0.5}}, \"type\": \"barpolar\"}], \"carpet\": [{\"aaxis\": {\"endlinecolor\": \"#2a3f5f\", \"gridcolor\": \"white\", \"linecolor\": \"white\", \"minorgridcolor\": \"white\", \"startlinecolor\": \"#2a3f5f\"}, \"baxis\": {\"endlinecolor\": \"#2a3f5f\", \"gridcolor\": \"white\", \"linecolor\": \"white\", \"minorgridcolor\": \"white\", \"startlinecolor\": \"#2a3f5f\"}, \"type\": \"carpet\"}], \"choropleth\": [{\"colorbar\": {\"outlinewidth\": 0, \"ticks\": \"\"}, \"type\": \"choropleth\"}], \"contour\": [{\"colorbar\": {\"outlinewidth\": 0, \"ticks\": \"\"}, \"colorscale\": [[0.0, \"#0d0887\"], [0.1111111111111111, \"#46039f\"], [0.2222222222222222, \"#7201a8\"], [0.3333333333333333, \"#9c179e\"], [0.4444444444444444, \"#bd3786\"], [0.5555555555555556, \"#d8576b\"], [0.6666666666666666, \"#ed7953\"], [0.7777777777777778, \"#fb9f3a\"], [0.8888888888888888, \"#fdca26\"], [1.0, \"#f0f921\"]], \"type\": \"contour\"}], \"contourcarpet\": [{\"colorbar\": {\"outlinewidth\": 0, \"ticks\": \"\"}, \"type\": \"contourcarpet\"}], \"heatmap\": [{\"colorbar\": {\"outlinewidth\": 0, \"ticks\": \"\"}, \"colorscale\": [[0.0, \"#0d0887\"], [0.1111111111111111, \"#46039f\"], [0.2222222222222222, \"#7201a8\"], [0.3333333333333333, \"#9c179e\"], [0.4444444444444444, \"#bd3786\"], [0.5555555555555556, \"#d8576b\"], [0.6666666666666666, \"#ed7953\"], [0.7777777777777778, \"#fb9f3a\"], [0.8888888888888888, \"#fdca26\"], [1.0, \"#f0f921\"]], \"type\": \"heatmap\"}], \"heatmapgl\": [{\"colorbar\": {\"outlinewidth\": 0, \"ticks\": \"\"}, \"colorscale\": [[0.0, \"#0d0887\"], [0.1111111111111111, \"#46039f\"], [0.2222222222222222, \"#7201a8\"], [0.3333333333333333, \"#9c179e\"], [0.4444444444444444, \"#bd3786\"], [0.5555555555555556, \"#d8576b\"], [0.6666666666666666, \"#ed7953\"], [0.7777777777777778, \"#fb9f3a\"], [0.8888888888888888, \"#fdca26\"], [1.0, \"#f0f921\"]], \"type\": \"heatmapgl\"}], \"histogram\": [{\"marker\": {\"colorbar\": {\"outlinewidth\": 0, \"ticks\": \"\"}}, \"type\": \"histogram\"}], \"histogram2d\": [{\"colorbar\": {\"outlinewidth\": 0, \"ticks\": \"\"}, \"colorscale\": [[0.0, \"#0d0887\"], [0.1111111111111111, \"#46039f\"], [0.2222222222222222, \"#7201a8\"], [0.3333333333333333, \"#9c179e\"], [0.4444444444444444, \"#bd3786\"], [0.5555555555555556, \"#d8576b\"], [0.6666666666666666, \"#ed7953\"], [0.7777777777777778, \"#fb9f3a\"], [0.8888888888888888, \"#fdca26\"], [1.0, \"#f0f921\"]], \"type\": \"histogram2d\"}], \"histogram2dcontour\": [{\"colorbar\": {\"outlinewidth\": 0, \"ticks\": \"\"}, \"colorscale\": [[0.0, \"#0d0887\"], [0.1111111111111111, \"#46039f\"], [0.2222222222222222, \"#7201a8\"], [0.3333333333333333, \"#9c179e\"], [0.4444444444444444, \"#bd3786\"], [0.5555555555555556, \"#d8576b\"], [0.6666666666666666, \"#ed7953\"], [0.7777777777777778, \"#fb9f3a\"], [0.8888888888888888, \"#fdca26\"], [1.0, \"#f0f921\"]], \"type\": \"histogram2dcontour\"}], \"mesh3d\": [{\"colorbar\": {\"outlinewidth\": 0, \"ticks\": \"\"}, \"type\": \"mesh3d\"}], \"parcoords\": [{\"line\": {\"colorbar\": {\"outlinewidth\": 0, \"ticks\": \"\"}}, \"type\": \"parcoords\"}], \"pie\": [{\"automargin\": true, \"type\": \"pie\"}], \"scatter\": [{\"marker\": {\"colorbar\": {\"outlinewidth\": 0, \"ticks\": \"\"}}, \"type\": \"scatter\"}], \"scatter3d\": [{\"line\": {\"colorbar\": {\"outlinewidth\": 0, \"ticks\": \"\"}}, \"marker\": {\"colorbar\": {\"outlinewidth\": 0, \"ticks\": \"\"}}, \"type\": \"scatter3d\"}], \"scattercarpet\": [{\"marker\": {\"colorbar\": {\"outlinewidth\": 0, \"ticks\": \"\"}}, \"type\": \"scattercarpet\"}], \"scattergeo\": [{\"marker\": {\"colorbar\": {\"outlinewidth\": 0, \"ticks\": \"\"}}, \"type\": \"scattergeo\"}], \"scattergl\": [{\"marker\": {\"colorbar\": {\"outlinewidth\": 0, \"ticks\": \"\"}}, \"type\": \"scattergl\"}], \"scattermapbox\": [{\"marker\": {\"colorbar\": {\"outlinewidth\": 0, \"ticks\": \"\"}}, \"type\": \"scattermapbox\"}], \"scatterpolar\": [{\"marker\": {\"colorbar\": {\"outlinewidth\": 0, \"ticks\": \"\"}}, \"type\": \"scatterpolar\"}], \"scatterpolargl\": [{\"marker\": {\"colorbar\": {\"outlinewidth\": 0, \"ticks\": \"\"}}, \"type\": \"scatterpolargl\"}], \"scatterternary\": [{\"marker\": {\"colorbar\": {\"outlinewidth\": 0, \"ticks\": \"\"}}, \"type\": \"scatterternary\"}], \"surface\": [{\"colorbar\": {\"outlinewidth\": 0, \"ticks\": \"\"}, \"colorscale\": [[0.0, \"#0d0887\"], [0.1111111111111111, \"#46039f\"], [0.2222222222222222, \"#7201a8\"], [0.3333333333333333, \"#9c179e\"], [0.4444444444444444, \"#bd3786\"], [0.5555555555555556, \"#d8576b\"], [0.6666666666666666, \"#ed7953\"], [0.7777777777777778, \"#fb9f3a\"], [0.8888888888888888, \"#fdca26\"], [1.0, \"#f0f921\"]], \"type\": \"surface\"}], \"table\": [{\"cells\": {\"fill\": {\"color\": \"#EBF0F8\"}, \"line\": {\"color\": \"white\"}}, \"header\": {\"fill\": {\"color\": \"#C8D4E3\"}, \"line\": {\"color\": \"white\"}}, \"type\": \"table\"}]}, \"layout\": {\"annotationdefaults\": {\"arrowcolor\": \"#2a3f5f\", \"arrowhead\": 0, \"arrowwidth\": 1}, \"coloraxis\": {\"colorbar\": {\"outlinewidth\": 0, \"ticks\": \"\"}}, \"colorscale\": {\"diverging\": [[0, \"#8e0152\"], [0.1, \"#c51b7d\"], [0.2, \"#de77ae\"], [0.3, \"#f1b6da\"], [0.4, \"#fde0ef\"], [0.5, \"#f7f7f7\"], [0.6, \"#e6f5d0\"], [0.7, \"#b8e186\"], [0.8, \"#7fbc41\"], [0.9, \"#4d9221\"], [1, \"#276419\"]], \"sequential\": [[0.0, \"#0d0887\"], [0.1111111111111111, \"#46039f\"], [0.2222222222222222, \"#7201a8\"], [0.3333333333333333, \"#9c179e\"], [0.4444444444444444, \"#bd3786\"], [0.5555555555555556, \"#d8576b\"], [0.6666666666666666, \"#ed7953\"], [0.7777777777777778, \"#fb9f3a\"], [0.8888888888888888, \"#fdca26\"], [1.0, \"#f0f921\"]], \"sequentialminus\": [[0.0, \"#0d0887\"], [0.1111111111111111, \"#46039f\"], [0.2222222222222222, \"#7201a8\"], [0.3333333333333333, \"#9c179e\"], [0.4444444444444444, \"#bd3786\"], [0.5555555555555556, \"#d8576b\"], [0.6666666666666666, \"#ed7953\"], [0.7777777777777778, \"#fb9f3a\"], [0.8888888888888888, \"#fdca26\"], [1.0, \"#f0f921\"]]}, \"colorway\": [\"#636efa\", \"#EF553B\", \"#00cc96\", \"#ab63fa\", \"#FFA15A\", \"#19d3f3\", \"#FF6692\", \"#B6E880\", \"#FF97FF\", \"#FECB52\"], \"font\": {\"color\": \"#2a3f5f\"}, \"geo\": {\"bgcolor\": \"white\", \"lakecolor\": \"white\", \"landcolor\": \"#E5ECF6\", \"showlakes\": true, \"showland\": true, \"subunitcolor\": \"white\"}, \"hoverlabel\": {\"align\": \"left\"}, \"hovermode\": \"closest\", \"mapbox\": {\"style\": \"light\"}, \"paper_bgcolor\": \"white\", \"plot_bgcolor\": \"#E5ECF6\", \"polar\": {\"angularaxis\": {\"gridcolor\": \"white\", \"linecolor\": \"white\", \"ticks\": \"\"}, \"bgcolor\": \"#E5ECF6\", \"radialaxis\": {\"gridcolor\": \"white\", \"linecolor\": \"white\", \"ticks\": \"\"}}, \"scene\": {\"xaxis\": {\"backgroundcolor\": \"#E5ECF6\", \"gridcolor\": \"white\", \"gridwidth\": 2, \"linecolor\": \"white\", \"showbackground\": true, \"ticks\": \"\", \"zerolinecolor\": \"white\"}, \"yaxis\": {\"backgroundcolor\": \"#E5ECF6\", \"gridcolor\": \"white\", \"gridwidth\": 2, \"linecolor\": \"white\", \"showbackground\": true, \"ticks\": \"\", \"zerolinecolor\": \"white\"}, \"zaxis\": {\"backgroundcolor\": \"#E5ECF6\", \"gridcolor\": \"white\", \"gridwidth\": 2, \"linecolor\": \"white\", \"showbackground\": true, \"ticks\": \"\", \"zerolinecolor\": \"white\"}}, \"shapedefaults\": {\"line\": {\"color\": \"#2a3f5f\"}}, \"ternary\": {\"aaxis\": {\"gridcolor\": \"white\", \"linecolor\": \"white\", \"ticks\": \"\"}, \"baxis\": {\"gridcolor\": \"white\", \"linecolor\": \"white\", \"ticks\": \"\"}, \"bgcolor\": \"#E5ECF6\", \"caxis\": {\"gridcolor\": \"white\", \"linecolor\": \"white\", \"ticks\": \"\"}}, \"title\": {\"x\": 0.05}, \"xaxis\": {\"automargin\": true, \"gridcolor\": \"white\", \"linecolor\": \"white\", \"ticks\": \"\", \"title\": {\"standoff\": 15}, \"zerolinecolor\": \"white\", \"zerolinewidth\": 2}, \"yaxis\": {\"automargin\": true, \"gridcolor\": \"white\", \"linecolor\": \"white\", \"ticks\": \"\", \"title\": {\"standoff\": 15}, \"zerolinecolor\": \"white\", \"zerolinewidth\": 2}}}, \"title\": {\"text\": \"Lead ID : 318465, Aggregated on all bank accounts\"}, \"xaxis\": {\"anchor\": \"y\", \"domain\": [0.0, 1.0], \"title\": {\"text\": \"date\"}}, \"yaxis\": {\"anchor\": \"x\", \"domain\": [0.0, 1.0], \"title\": {\"text\": \"amount\"}}},\n",
       "                        {\"responsive\": true}\n",
       "                    ).then(function(){\n",
       "                            \n",
       "var gd = document.getElementById('6432fc57-cbe7-4578-8216-ad9001c32400');\n",
       "var x = new MutationObserver(function (mutations, observer) {{\n",
       "        var display = window.getComputedStyle(gd).display;\n",
       "        if (!display || display === 'none') {{\n",
       "            console.log([gd, 'removed!']);\n",
       "            Plotly.purge(gd);\n",
       "            observer.disconnect();\n",
       "        }}\n",
       "}});\n",
       "\n",
       "// Listen for the removal of the full notebook cells\n",
       "var notebookContainer = gd.closest('#notebook-container');\n",
       "if (notebookContainer) {{\n",
       "    x.observe(notebookContainer, {childList: true});\n",
       "}}\n",
       "\n",
       "// Listen for the clearing of the current output cell\n",
       "var outputEl = gd.closest('.output');\n",
       "if (outputEl) {{\n",
       "    x.observe(outputEl, {childList: true});\n",
       "}}\n",
       "\n",
       "                        })\n",
       "                };\n",
       "                });\n",
       "            </script>\n",
       "        </div>"
      ]
     },
     "metadata": {},
     "output_type": "display_data"
    }
   ],
   "source": [
    "username = 'rravishankar'\n",
    "api_key = 'lLY6mbM1zktKBEQ3DGVo'\n",
    "\n",
    "chart_studio.tools.set_credentials_file(username = username, api_key = api_key)\n",
    "\n",
    "fig3 = px.line(df_final3, x=\"date\", y=\"amount\", color='transaction_type',\\\n",
    "              title=\"Lead ID : 318465, Aggregated on all bank accounts\")\n",
    "\n",
    "py.plot(fig3,filename = 'TimeSeries_3',auto_open=False)\n",
    "fig3.show()"
   ]
  },
  {
   "cell_type": "markdown",
   "metadata": {},
   "source": [
    "###### Using Log scale for amounts as there is a spike on one day that skews the other data points on the plot"
   ]
  },
  {
   "cell_type": "code",
   "execution_count": 70,
   "metadata": {},
   "outputs": [
    {
     "data": {
      "application/vnd.plotly.v1+json": {
       "config": {
        "plotlyServerURL": "https://plotly.com"
       },
       "data": [
        {
         "hoverlabel": {
          "namelength": 0
         },
         "hovertemplate": "transaction_type=credit<br>date=%{x}<br>amount=%{y}",
         "legendgroup": "credit",
         "line": {
          "color": "#636efa",
          "dash": "solid"
         },
         "mode": "lines",
         "name": "credit",
         "showlegend": true,
         "type": "scatter",
         "x": [
          "2016-04-12",
          "2016-04-13",
          "2016-04-15",
          "2016-04-16",
          "2016-04-18",
          "2016-04-19",
          "2016-04-20",
          "2016-04-21",
          "2016-04-23",
          "2016-04-27",
          "2016-04-28",
          "2016-05-03",
          "2016-05-04",
          "2016-05-05",
          "2016-05-06",
          "2016-05-07",
          "2016-05-08",
          "2016-05-09",
          "2016-05-11",
          "2016-05-12",
          "2016-05-13",
          "2016-05-16",
          "2016-05-18",
          "2016-05-20",
          "2016-05-23",
          "2016-05-24",
          "2016-05-25",
          "2016-05-26",
          "2016-05-27",
          "2016-06-01",
          "2016-06-02",
          "2016-06-03",
          "2016-06-05",
          "2016-06-06",
          "2016-06-07",
          "2016-06-08",
          "2016-06-09",
          "2016-06-10",
          "2016-06-11",
          "2016-06-13",
          "2016-06-15",
          "2016-06-16",
          "2016-06-17",
          "2016-06-19",
          "2016-06-21",
          "2016-06-23",
          "2016-06-24",
          "2016-06-25",
          "2016-06-27",
          "2016-06-28",
          "2016-06-29",
          "2016-06-30",
          "2016-07-02",
          "2016-07-04",
          "2016-07-05",
          "2016-07-08",
          "2016-07-10",
          "2016-07-11",
          "2016-07-12",
          "2016-07-13",
          "2016-07-14",
          "2016-07-15",
          "2016-07-16",
          "2016-07-18",
          "2016-07-20",
          "2016-07-21",
          "2016-07-23",
          "2016-07-25",
          "2016-07-27",
          "2016-07-28",
          "2016-07-31",
          "2016-08-01",
          "2016-08-02",
          "2016-08-03",
          "2016-08-04",
          "2016-08-05",
          "2016-08-06",
          "2016-08-07",
          "2016-08-09",
          "2016-08-10",
          "2016-08-11",
          "2016-08-12",
          "2016-08-15",
          "2016-08-16",
          "2016-08-19",
          "2016-08-21",
          "2016-08-22",
          "2016-08-23",
          "2016-08-24",
          "2016-08-26",
          "2016-08-29",
          "2016-08-31",
          "2016-09-02",
          "2016-09-03",
          "2016-09-04",
          "2016-09-06",
          "2016-09-07",
          "2016-09-08",
          "2016-09-09",
          "2016-09-12",
          "2016-09-13",
          "2016-09-14",
          "2016-09-15",
          "2016-09-16",
          "2016-09-18",
          "2016-09-19",
          "2016-09-20",
          "2016-09-21",
          "2016-09-22",
          "2016-09-23",
          "2016-09-28",
          "2016-09-30",
          "2016-10-03",
          "2016-10-04",
          "2016-10-05",
          "2016-10-06",
          "2016-10-07",
          "2016-10-08",
          "2016-10-11",
          "2016-10-14",
          "2016-10-15",
          "2016-10-16",
          "2016-10-17",
          "2016-10-20",
          "2016-10-21",
          "2016-10-22",
          "2016-10-23",
          "2016-10-25",
          "2016-10-26",
          "2016-10-28",
          "2016-10-30",
          "2016-10-31",
          "2016-11-01",
          "2016-11-02",
          "2016-11-04",
          "2016-11-05",
          "2016-11-06",
          "2016-11-07",
          "2016-11-08",
          "2016-11-09",
          "2016-11-10",
          "2016-11-11",
          "2016-11-12",
          "2016-11-14",
          "2016-11-15",
          "2016-11-16",
          "2016-11-17",
          "2016-11-18",
          "2016-11-19",
          "2016-11-21",
          "2016-11-23",
          "2016-11-24",
          "2016-11-25",
          "2016-11-26",
          "2016-11-28",
          "2016-11-29",
          "2016-11-30",
          "2016-12-01",
          "2016-12-02",
          "2016-12-03",
          "2016-12-05",
          "2016-12-06",
          "2016-12-07",
          "2016-12-08",
          "2016-12-09",
          "2016-12-10",
          "2016-12-12",
          "2016-12-13",
          "2016-12-14",
          "2016-12-15"
         ],
         "xaxis": "x",
         "y": [
          793.26,
          737.3,
          600,
          501.49,
          0.2,
          146.26,
          894.26,
          1246.22,
          135,
          1720.79,
          195.12,
          163,
          403.26,
          140,
          5.87,
          250.06,
          329.76,
          589.76,
          883.78,
          3167.12,
          176.5,
          585.2,
          588.05,
          306.51,
          1063.17,
          798.65,
          2562.92,
          533.9,
          125.49,
          500,
          164.21,
          33.9,
          40,
          264.09,
          688.85,
          288.94,
          125,
          1182.45,
          250,
          326.52,
          1203.46,
          1.28,
          2598.46,
          1210.04,
          106.58,
          329.65,
          2047.75,
          135,
          1.2,
          4589.95,
          1354.41,
          1747.3500000000001,
          175,
          1069.8,
          2072.3500000000004,
          226.01000000000002,
          371,
          4656.59,
          146.46,
          20.88,
          990.86,
          2350.74,
          1.33,
          1527.6,
          2722.04,
          3596.4300000000003,
          1,
          300,
          52.08,
          124.3,
          0.02,
          300,
          293.01,
          405.36,
          100,
          1179.9400000000003,
          39.95,
          194.5,
          1500,
          728.79,
          551.7,
          340.37,
          13592.34,
          3707.55,
          3097.76,
          250,
          500,
          602.9,
          737.69,
          1609.1,
          4811.2,
          1591.85,
          3845.0699999999997,
          989.1899999999999,
          135,
          5178.89,
          1639,
          2952.3500000000004,
          484.9,
          211.1,
          2718.2,
          1097.5900000000001,
          920.42,
          1.44,
          1000,
          7060.8,
          336.35,
          417.9,
          350,
          1609.92,
          12.52,
          566.27,
          2140.4300000000003,
          299.58,
          129.12,
          459.26,
          4307.08,
          189.02,
          1556,
          253,
          36.96,
          0.75,
          2351.04,
          39.95,
          135.01,
          2908,
          2693.87,
          100,
          1164.15,
          535.75,
          204,
          2418.71,
          400,
          332.22,
          739.05,
          194.5,
          34.04,
          4077.3199999999997,
          2724.87,
          478.99,
          686.62,
          2008.23,
          28,
          31959.99,
          1389.11,
          1.36,
          2768.49,
          0.01,
          115.39,
          5924.31,
          2609.31,
          135,
          1820.9,
          744.94,
          1359.1,
          1297.6100000000001,
          500,
          3263.2,
          3000,
          3000,
          25,
          572.3,
          460.44,
          3202.4,
          1648.25,
          194.5,
          1400,
          39.95,
          1175.87,
          2718.2
         ],
         "yaxis": "y"
        },
        {
         "hoverlabel": {
          "namelength": 0
         },
         "hovertemplate": "transaction_type=running_balance<br>date=%{x}<br>amount=%{y}",
         "legendgroup": "running_balance",
         "line": {
          "color": "#EF553B",
          "dash": "solid"
         },
         "mode": "lines",
         "name": "running_balance",
         "showlegend": true,
         "type": "scatter",
         "x": [
          "2016-04-12",
          "2016-04-13",
          "2016-04-14",
          "2016-04-15",
          "2016-04-16",
          "2016-04-17",
          "2016-04-18",
          "2016-04-19",
          "2016-04-20",
          "2016-04-21",
          "2016-04-22",
          "2016-04-23",
          "2016-04-24",
          "2016-04-25",
          "2016-04-26",
          "2016-04-27",
          "2016-04-28",
          "2016-04-29",
          "2016-04-30",
          "2016-05-02",
          "2016-05-03",
          "2016-05-04",
          "2016-05-05",
          "2016-05-06",
          "2016-05-07",
          "2016-05-08",
          "2016-05-09",
          "2016-05-10",
          "2016-05-11",
          "2016-05-12",
          "2016-05-13",
          "2016-05-14",
          "2016-05-15",
          "2016-05-16",
          "2016-05-17",
          "2016-05-18",
          "2016-05-19",
          "2016-05-20",
          "2016-05-21",
          "2016-05-22",
          "2016-05-23",
          "2016-05-24",
          "2016-05-25",
          "2016-05-26",
          "2016-05-27",
          "2016-05-28",
          "2016-05-29",
          "2016-05-30",
          "2016-05-31",
          "2016-06-01",
          "2016-06-02",
          "2016-06-03",
          "2016-06-04",
          "2016-06-05",
          "2016-06-06",
          "2016-06-07",
          "2016-06-08",
          "2016-06-09",
          "2016-06-10",
          "2016-06-11",
          "2016-06-12",
          "2016-06-13",
          "2016-06-14",
          "2016-06-15",
          "2016-06-16",
          "2016-06-17",
          "2016-06-18",
          "2016-06-19",
          "2016-06-20",
          "2016-06-21",
          "2016-06-22",
          "2016-06-23",
          "2016-06-24",
          "2016-06-25",
          "2016-06-26",
          "2016-06-27",
          "2016-06-28",
          "2016-06-29",
          "2016-06-30",
          "2016-07-01",
          "2016-07-02",
          "2016-07-03",
          "2016-07-04",
          "2016-07-05",
          "2016-07-06",
          "2016-07-07",
          "2016-07-08",
          "2016-07-09",
          "2016-07-10",
          "2016-07-11",
          "2016-07-12",
          "2016-07-13",
          "2016-07-14",
          "2016-07-15",
          "2016-07-16",
          "2016-07-17",
          "2016-07-18",
          "2016-07-19",
          "2016-07-20",
          "2016-07-21",
          "2016-07-22",
          "2016-07-23",
          "2016-07-24",
          "2016-07-25",
          "2016-07-26",
          "2016-07-27",
          "2016-07-28",
          "2016-07-29",
          "2016-07-30",
          "2016-07-31",
          "2016-08-01",
          "2016-08-02",
          "2016-08-03",
          "2016-08-04",
          "2016-08-05",
          "2016-08-06",
          "2016-08-07",
          "2016-08-08",
          "2016-08-09",
          "2016-08-10",
          "2016-08-11",
          "2016-08-12",
          "2016-08-13",
          "2016-08-15",
          "2016-08-16",
          "2016-08-17",
          "2016-08-18",
          "2016-08-19",
          "2016-08-20",
          "2016-08-21",
          "2016-08-22",
          "2016-08-23",
          "2016-08-24",
          "2016-08-25",
          "2016-08-26",
          "2016-08-27",
          "2016-08-28",
          "2016-08-29",
          "2016-08-30",
          "2016-08-31",
          "2016-09-01",
          "2016-09-02",
          "2016-09-03",
          "2016-09-04",
          "2016-09-05",
          "2016-09-06",
          "2016-09-07",
          "2016-09-08",
          "2016-09-09",
          "2016-09-10",
          "2016-09-11",
          "2016-09-12",
          "2016-09-13",
          "2016-09-14",
          "2016-09-15",
          "2016-09-16",
          "2016-09-17",
          "2016-09-18",
          "2016-09-19",
          "2016-09-20",
          "2016-09-21",
          "2016-09-22",
          "2016-09-23",
          "2016-09-24",
          "2016-09-25",
          "2016-09-26",
          "2016-09-28",
          "2016-09-29",
          "2016-09-30",
          "2016-10-01",
          "2016-10-02",
          "2016-10-03",
          "2016-10-04",
          "2016-10-05",
          "2016-10-06",
          "2016-10-07",
          "2016-10-08",
          "2016-10-10",
          "2016-10-11",
          "2016-10-12",
          "2016-10-13",
          "2016-10-14",
          "2016-10-15",
          "2016-10-16",
          "2016-10-17",
          "2016-10-18",
          "2016-10-19",
          "2016-10-20",
          "2016-10-21",
          "2016-10-22",
          "2016-10-23",
          "2016-10-24",
          "2016-10-25",
          "2016-10-26",
          "2016-10-27",
          "2016-10-28",
          "2016-10-29",
          "2016-10-30",
          "2016-10-31",
          "2016-11-01",
          "2016-11-02",
          "2016-11-03",
          "2016-11-04",
          "2016-11-05",
          "2016-11-06",
          "2016-11-07",
          "2016-11-08",
          "2016-11-09",
          "2016-11-10",
          "2016-11-11",
          "2016-11-12",
          "2016-11-13",
          "2016-11-14",
          "2016-11-15",
          "2016-11-16",
          "2016-11-17",
          "2016-11-18",
          "2016-11-19",
          "2016-11-20",
          "2016-11-21",
          "2016-11-22",
          "2016-11-23",
          "2016-11-24",
          "2016-11-25",
          "2016-11-26",
          "2016-11-27",
          "2016-11-28",
          "2016-11-29",
          "2016-11-30",
          "2016-12-01",
          "2016-12-02",
          "2016-12-03",
          "2016-12-04",
          "2016-12-05",
          "2016-12-06",
          "2016-12-07",
          "2016-12-08",
          "2016-12-09",
          "2016-12-10",
          "2016-12-11",
          "2016-12-12",
          "2016-12-13",
          "2016-12-14",
          "2016-12-15"
         ],
         "xaxis": "x",
         "y": [
          587.52,
          348.87,
          251.53,
          64.16,
          482.31,
          438.81,
          149.17000000000002,
          414.92,
          390.65999999999997,
          1321.06,
          991.1,
          705.34,
          691.06,
          602.86,
          337.49,
          2006.33,
          2158.9,
          2011.42,
          1665.26,
          1285.56,
          1549.4,
          1868.02,
          2008.02,
          -342.6,
          52.730000000000004,
          364.68,
          351.47,
          368.45,
          163.01,
          3364.35,
          2817.86,
          2419.1,
          2336.66,
          2252.25,
          2120,
          2666.78,
          2022.57,
          347,
          210.89999999999998,
          150.51,
          1138.1000000000001,
          1573,
          3433.63,
          3557.66,
          1451.8500000000001,
          1138.53,
          813.36,
          529.77,
          33.12,
          357.87,
          277.58,
          4.1000000000000005,
          -14.15,
          1.12,
          294.53999999999996,
          465.82,
          496.08,
          261.24,
          1345.8200000000002,
          1252.83,
          1194.41,
          874.45,
          440.4,
          721.66,
          306.30999999999995,
          2554.8199999999997,
          441.77,
          1616.53,
          1077.66,
          281.47,
          184.67999999999998,
          379.33,
          1211.0700000000002,
          942.67,
          633.72,
          706.65,
          3689.36,
          4513.400000000001,
          5473.76,
          2001.1599999999999,
          4795.14,
          4445.469999999999,
          3839.28,
          2621.15,
          316.59000000000003,
          522.72,
          460.22999999999996,
          -8.04,
          385.31,
          3040.6600000000003,
          2680.61,
          2391.4199999999996,
          2703.18,
          1619.1399999999999,
          1428.87,
          1335.66,
          2034.52,
          302.75,
          3711.3700000000003,
          3628.08,
          4031.9500000000003,
          737.47,
          696.59,
          842.93,
          -646.62,
          -266.86,
          705.38,
          432.72,
          294.39,
          294.41,
          732.67,
          925.28,
          248.86999999999998,
          531.38,
          937.53,
          859.6899999999999,
          672.44,
          761.78,
          2069.5,
          2649.43,
          496.42,
          476.42,
          363.74,
          5140.69,
          4662.2,
          1105.72,
          906.28,
          4907.879999999999,
          554.27,
          4318.97,
          4319.929999999999,
          879.52,
          1212.16,
          377.24,
          1542.9399999999998,
          555.0600000000001,
          8.97,
          2723.13,
          1057.1799999999998,
          2591.35,
          3256.8,
          4049.46,
          1098.44,
          1052.73,
          827.8599999999999,
          6123.05,
          1754.09,
          2230.95,
          498.23,
          295.05,
          226.21,
          1908.5100000000002,
          3076.26,
          693.22,
          3395.98,
          972.78,
          643.02,
          2872.7200000000003,
          5663.2,
          2590.48,
          2275.13,
          2275.13,
          3145.88,
          202.01,
          311.65,
          2363.69,
          1394.58,
          2532.18,
          3124.2000000000003,
          2544.18,
          3022.52,
          3664.79,
          3357.6100000000006,
          1663.71,
          3122.0699999999997,
          3009.08,
          2588.9300000000007,
          2718.99,
          404.5,
          537.95,
          494.39,
          581.01,
          435.39,
          310.01,
          598.7,
          331.38,
          -263.28,
          -176.41999999999996,
          -442.40999999999997,
          3012.33,
          2361.2,
          1938.9900000000002,
          952.04,
          717.4499999999999,
          342.23,
          761.8199999999999,
          311.41,
          422.77,
          1917.4599999999998,
          629.13,
          1669.07,
          271.72,
          924.75,
          1041.3400000000001,
          684.52,
          3135.36,
          2913.91,
          188.46,
          393.92,
          2598.71,
          1972.76,
          1433.77,
          3160.0199999999995,
          2308.66,
          1782.5500000000002,
          3116.12,
          695.79,
          625.21,
          515.49,
          4479.2,
          3436.1099999999997,
          5452.12,
          2674.37,
          3171.3,
          2361.63,
          1287.39,
          2208.48,
          2703.2799999999997,
          505.21,
          3806.27,
          3521.18,
          3233.6499999999996,
          107.11,
          2930.24,
          51.70999999999998,
          3305.4100000000003,
          4714.08,
          6030.9400000000005,
          3567.1499999999996,
          1504.64,
          4354.12,
          3622.0999999999995,
          3552.3099999999995,
          2056.38
         ],
         "yaxis": "y"
        },
        {
         "hoverlabel": {
          "namelength": 0
         },
         "hovertemplate": "transaction_type=debit<br>date=%{x}<br>amount=%{y}",
         "legendgroup": "debit",
         "line": {
          "color": "#00cc96",
          "dash": "solid"
         },
         "mode": "lines",
         "name": "debit",
         "showlegend": true,
         "type": "scatter",
         "x": [
          "2016-04-12",
          "2016-04-13",
          "2016-04-14",
          "2016-04-15",
          "2016-04-16",
          "2016-04-17",
          "2016-04-18",
          "2016-04-19",
          "2016-04-20",
          "2016-04-21",
          "2016-04-22",
          "2016-04-23",
          "2016-04-24",
          "2016-04-25",
          "2016-04-26",
          "2016-04-27",
          "2016-04-28",
          "2016-04-29",
          "2016-04-30",
          "2016-05-02",
          "2016-05-03",
          "2016-05-04",
          "2016-05-06",
          "2016-05-07",
          "2016-05-08",
          "2016-05-09",
          "2016-05-10",
          "2016-05-11",
          "2016-05-12",
          "2016-05-13",
          "2016-05-14",
          "2016-05-15",
          "2016-05-16",
          "2016-05-17",
          "2016-05-18",
          "2016-05-19",
          "2016-05-20",
          "2016-05-21",
          "2016-05-22",
          "2016-05-23",
          "2016-05-24",
          "2016-05-25",
          "2016-05-26",
          "2016-05-27",
          "2016-05-28",
          "2016-05-29",
          "2016-05-30",
          "2016-05-31",
          "2016-06-01",
          "2016-06-02",
          "2016-06-03",
          "2016-06-04",
          "2016-06-05",
          "2016-06-06",
          "2016-06-07",
          "2016-06-08",
          "2016-06-09",
          "2016-06-10",
          "2016-06-11",
          "2016-06-12",
          "2016-06-13",
          "2016-06-14",
          "2016-06-15",
          "2016-06-16",
          "2016-06-17",
          "2016-06-18",
          "2016-06-20",
          "2016-06-21",
          "2016-06-22",
          "2016-06-23",
          "2016-06-24",
          "2016-06-25",
          "2016-06-26",
          "2016-06-27",
          "2016-06-28",
          "2016-06-29",
          "2016-06-30",
          "2016-07-01",
          "2016-07-02",
          "2016-07-03",
          "2016-07-04",
          "2016-07-05",
          "2016-07-06",
          "2016-07-07",
          "2016-07-08",
          "2016-07-09",
          "2016-07-10",
          "2016-07-11",
          "2016-07-12",
          "2016-07-13",
          "2016-07-14",
          "2016-07-15",
          "2016-07-16",
          "2016-07-17",
          "2016-07-18",
          "2016-07-19",
          "2016-07-20",
          "2016-07-21",
          "2016-07-22",
          "2016-07-23",
          "2016-07-24",
          "2016-07-25",
          "2016-07-26",
          "2016-07-27",
          "2016-07-28",
          "2016-07-29",
          "2016-07-30",
          "2016-08-01",
          "2016-08-02",
          "2016-08-03",
          "2016-08-04",
          "2016-08-05",
          "2016-08-06",
          "2016-08-07",
          "2016-08-08",
          "2016-08-09",
          "2016-08-10",
          "2016-08-11",
          "2016-08-12",
          "2016-08-13",
          "2016-08-15",
          "2016-08-16",
          "2016-08-17",
          "2016-08-18",
          "2016-08-19",
          "2016-08-20",
          "2016-08-22",
          "2016-08-23",
          "2016-08-24",
          "2016-08-25",
          "2016-08-26",
          "2016-08-27",
          "2016-08-28",
          "2016-08-29",
          "2016-08-30",
          "2016-08-31",
          "2016-09-01",
          "2016-09-02",
          "2016-09-03",
          "2016-09-04",
          "2016-09-05",
          "2016-09-06",
          "2016-09-07",
          "2016-09-08",
          "2016-09-09",
          "2016-09-10",
          "2016-09-11",
          "2016-09-12",
          "2016-09-13",
          "2016-09-14",
          "2016-09-15",
          "2016-09-16",
          "2016-09-17",
          "2016-09-18",
          "2016-09-19",
          "2016-09-20",
          "2016-09-21",
          "2016-09-22",
          "2016-09-23",
          "2016-09-24",
          "2016-09-25",
          "2016-09-26",
          "2016-09-28",
          "2016-09-29",
          "2016-09-30",
          "2016-10-01",
          "2016-10-02",
          "2016-10-03",
          "2016-10-04",
          "2016-10-05",
          "2016-10-06",
          "2016-10-07",
          "2016-10-08",
          "2016-10-10",
          "2016-10-11",
          "2016-10-12",
          "2016-10-13",
          "2016-10-14",
          "2016-10-15",
          "2016-10-16",
          "2016-10-17",
          "2016-10-18",
          "2016-10-19",
          "2016-10-20",
          "2016-10-21",
          "2016-10-22",
          "2016-10-23",
          "2016-10-24",
          "2016-10-25",
          "2016-10-26",
          "2016-10-27",
          "2016-10-28",
          "2016-10-29",
          "2016-10-30",
          "2016-10-31",
          "2016-11-01",
          "2016-11-02",
          "2016-11-03",
          "2016-11-04",
          "2016-11-05",
          "2016-11-07",
          "2016-11-08",
          "2016-11-09",
          "2016-11-10",
          "2016-11-11",
          "2016-11-12",
          "2016-11-13",
          "2016-11-14",
          "2016-11-15",
          "2016-11-16",
          "2016-11-17",
          "2016-11-18",
          "2016-11-19",
          "2016-11-20",
          "2016-11-21",
          "2016-11-22",
          "2016-11-23",
          "2016-11-24",
          "2016-11-25",
          "2016-11-26",
          "2016-11-27",
          "2016-11-28",
          "2016-11-29",
          "2016-11-30",
          "2016-12-01",
          "2016-12-02",
          "2016-12-03",
          "2016-12-04",
          "2016-12-05",
          "2016-12-06",
          "2016-12-07",
          "2016-12-08",
          "2016-12-09",
          "2016-12-10",
          "2016-12-11",
          "2016-12-12",
          "2016-12-13",
          "2016-12-14",
          "2016-12-15"
         ],
         "xaxis": "x",
         "y": [
          44.44,
          975.95,
          97.34,
          787.37,
          83.34,
          43.5,
          290.80000000000007,
          39.269999999999996,
          902.03,
          481.99,
          327.66,
          420.76,
          14.28,
          88.2,
          265.37,
          51.95,
          42.55,
          147.48000000000002,
          346.16,
          213.53,
          115.33,
          84.64,
          2325.6,
          140.9,
          17.81,
          38.26,
          281.56,
          840.0899999999999,
          214.91,
          702.99,
          251.34,
          82.44,
          817.03,
          127.24000000000001,
          43.57,
          318.90999999999997,
          1982.0800000000002,
          362.38000000000005,
          40,
          194.99000000000004,
          359.16999999999996,
          702.29,
          309.86999999999995,
          2331.3,
          234.10999999999996,
          165.2,
          443.55999999999995,
          339.94,
          331.96,
          168.09,
          386.59000000000003,
          13.39,
          24.73,
          51.94,
          518.5600000000001,
          64.17,
          554.3499999999999,
          97.87,
          229.61999999999995,
          58.42,
          646.48,
          434.05,
          921.21,
          417.63,
          2223.19,
          347.95,
          538.87,
          2671.8800000000006,
          96.59,
          170.28,
          828.0799999999999,
          209.28,
          61.67,
          762.8299999999999,
          1603.4099999999999,
          525.37,
          786.9900000000001,
          151.4,
          702.22,
          201.82999999999998,
          1823.8299999999997,
          3157.2199999999993,
          251.18,
          123.45,
          2150.1400000000003,
          121.99,
          54.87,
          2270.3,
          259.47999999999996,
          557.0999999999999,
          587.0200000000001,
          3526.86,
          103.34,
          89.36999999999999,
          920.83,
          160.99,
          676.3599999999999,
          3896.4,
          108.35,
          3300.4900000000002,
          36.87,
          293.65999999999997,
          225,
          192.99,
          60.519999999999996,
          27.67,
          138.32999999999998,
          77.7,
          100.4,
          264.97,
          257.96000000000004,
          362.35,
          117.78999999999999,
          48.2,
          282.20000000000005,
          75,
          159.92000000000002,
          2704.7100000000005,
          360.36999999999995,
          112.67999999999999,
          8887.63,
          4153.9,
          499.2,
          191.21,
          2193.81,
          276.4,
          1053.3100000000002,
          232.58,
          102.68,
          1137.29,
          164.02,
          3447.75,
          124.87,
          3877.3599999999997,
          210.61,
          54.68,
          1072.27,
          2673.32,
          645.6099999999999,
          180.71,
          224.87000000000003,
          3557.39,
          6007.96,
          2475.49,
          356.74999999999994,
          203.18,
          68.84,
          389.66999999999996,
          1550.4499999999998,
          503.94000000000005,
          784.21,
          268.23,
          329.76,
          1038.32,
          4270.319999999999,
          3409.0699999999997,
          733.25,
          350,
          1037.6999999999998,
          144.62,
          53.89,
          451.45,
          1006.63,
          18.5,
          81.47999999999999,
          104.33,
          47.349999999999994,
          1448.1599999999999,
          606.76,
          666.9200000000001,
          317,
          3103.9700000000003,
          609.17,
          182.60000000000002,
          3482.98,
          254.16,
          43.56,
          166.38,
          182.57999999999998,
          126.13000000000001,
          1749.69,
          267.32,
          426,
          121.75,
          401,
          30.67,
          2693.87,
          95.83000000000001,
          1127.32,
          1758.37,
          119.65,
          341.22999999999996,
          127.21,
          92.64,
          1346.1100000000001,
          389.89,
          301.83,
          387.58000000000004,
          374.9,
          77.91,
          3027.12,
          2946.32,
          2413.1,
          927.7900000000001,
          148.15,
          653.95,
          203.22,
          30569.510000000006,
          2066.12,
          91.83000000000001,
          2044.9100000000003,
          457.75,
          41.71,
          109.72,
          4067.4500000000003,
          1043.0900000000001,
          593.3,
          2912.75,
          1323.97,
          1371.8800000000003,
          51.19,
          620.7399999999999,
          1783.86,
          366.68,
          2196.14,
          3422.48,
          3287.5299999999997,
          29.07,
          299.34,
          405.2,
          252.36999999999998,
          1596.4200000000003,
          331.39,
          2855.6,
          42.519999999999996,
          570.51,
          771.9700000000001,
          1245.66,
          1979.3899999999999
         ],
         "yaxis": "y"
        }
       ],
       "layout": {
        "legend": {
         "title": {
          "text": "transaction_type"
         },
         "tracegroupgap": 0
        },
        "template": {
         "data": {
          "bar": [
           {
            "error_x": {
             "color": "#2a3f5f"
            },
            "error_y": {
             "color": "#2a3f5f"
            },
            "marker": {
             "line": {
              "color": "#E5ECF6",
              "width": 0.5
             }
            },
            "type": "bar"
           }
          ],
          "barpolar": [
           {
            "marker": {
             "line": {
              "color": "#E5ECF6",
              "width": 0.5
             }
            },
            "type": "barpolar"
           }
          ],
          "carpet": [
           {
            "aaxis": {
             "endlinecolor": "#2a3f5f",
             "gridcolor": "white",
             "linecolor": "white",
             "minorgridcolor": "white",
             "startlinecolor": "#2a3f5f"
            },
            "baxis": {
             "endlinecolor": "#2a3f5f",
             "gridcolor": "white",
             "linecolor": "white",
             "minorgridcolor": "white",
             "startlinecolor": "#2a3f5f"
            },
            "type": "carpet"
           }
          ],
          "choropleth": [
           {
            "colorbar": {
             "outlinewidth": 0,
             "ticks": ""
            },
            "type": "choropleth"
           }
          ],
          "contour": [
           {
            "colorbar": {
             "outlinewidth": 0,
             "ticks": ""
            },
            "colorscale": [
             [
              0,
              "#0d0887"
             ],
             [
              0.1111111111111111,
              "#46039f"
             ],
             [
              0.2222222222222222,
              "#7201a8"
             ],
             [
              0.3333333333333333,
              "#9c179e"
             ],
             [
              0.4444444444444444,
              "#bd3786"
             ],
             [
              0.5555555555555556,
              "#d8576b"
             ],
             [
              0.6666666666666666,
              "#ed7953"
             ],
             [
              0.7777777777777778,
              "#fb9f3a"
             ],
             [
              0.8888888888888888,
              "#fdca26"
             ],
             [
              1,
              "#f0f921"
             ]
            ],
            "type": "contour"
           }
          ],
          "contourcarpet": [
           {
            "colorbar": {
             "outlinewidth": 0,
             "ticks": ""
            },
            "type": "contourcarpet"
           }
          ],
          "heatmap": [
           {
            "colorbar": {
             "outlinewidth": 0,
             "ticks": ""
            },
            "colorscale": [
             [
              0,
              "#0d0887"
             ],
             [
              0.1111111111111111,
              "#46039f"
             ],
             [
              0.2222222222222222,
              "#7201a8"
             ],
             [
              0.3333333333333333,
              "#9c179e"
             ],
             [
              0.4444444444444444,
              "#bd3786"
             ],
             [
              0.5555555555555556,
              "#d8576b"
             ],
             [
              0.6666666666666666,
              "#ed7953"
             ],
             [
              0.7777777777777778,
              "#fb9f3a"
             ],
             [
              0.8888888888888888,
              "#fdca26"
             ],
             [
              1,
              "#f0f921"
             ]
            ],
            "type": "heatmap"
           }
          ],
          "heatmapgl": [
           {
            "colorbar": {
             "outlinewidth": 0,
             "ticks": ""
            },
            "colorscale": [
             [
              0,
              "#0d0887"
             ],
             [
              0.1111111111111111,
              "#46039f"
             ],
             [
              0.2222222222222222,
              "#7201a8"
             ],
             [
              0.3333333333333333,
              "#9c179e"
             ],
             [
              0.4444444444444444,
              "#bd3786"
             ],
             [
              0.5555555555555556,
              "#d8576b"
             ],
             [
              0.6666666666666666,
              "#ed7953"
             ],
             [
              0.7777777777777778,
              "#fb9f3a"
             ],
             [
              0.8888888888888888,
              "#fdca26"
             ],
             [
              1,
              "#f0f921"
             ]
            ],
            "type": "heatmapgl"
           }
          ],
          "histogram": [
           {
            "marker": {
             "colorbar": {
              "outlinewidth": 0,
              "ticks": ""
             }
            },
            "type": "histogram"
           }
          ],
          "histogram2d": [
           {
            "colorbar": {
             "outlinewidth": 0,
             "ticks": ""
            },
            "colorscale": [
             [
              0,
              "#0d0887"
             ],
             [
              0.1111111111111111,
              "#46039f"
             ],
             [
              0.2222222222222222,
              "#7201a8"
             ],
             [
              0.3333333333333333,
              "#9c179e"
             ],
             [
              0.4444444444444444,
              "#bd3786"
             ],
             [
              0.5555555555555556,
              "#d8576b"
             ],
             [
              0.6666666666666666,
              "#ed7953"
             ],
             [
              0.7777777777777778,
              "#fb9f3a"
             ],
             [
              0.8888888888888888,
              "#fdca26"
             ],
             [
              1,
              "#f0f921"
             ]
            ],
            "type": "histogram2d"
           }
          ],
          "histogram2dcontour": [
           {
            "colorbar": {
             "outlinewidth": 0,
             "ticks": ""
            },
            "colorscale": [
             [
              0,
              "#0d0887"
             ],
             [
              0.1111111111111111,
              "#46039f"
             ],
             [
              0.2222222222222222,
              "#7201a8"
             ],
             [
              0.3333333333333333,
              "#9c179e"
             ],
             [
              0.4444444444444444,
              "#bd3786"
             ],
             [
              0.5555555555555556,
              "#d8576b"
             ],
             [
              0.6666666666666666,
              "#ed7953"
             ],
             [
              0.7777777777777778,
              "#fb9f3a"
             ],
             [
              0.8888888888888888,
              "#fdca26"
             ],
             [
              1,
              "#f0f921"
             ]
            ],
            "type": "histogram2dcontour"
           }
          ],
          "mesh3d": [
           {
            "colorbar": {
             "outlinewidth": 0,
             "ticks": ""
            },
            "type": "mesh3d"
           }
          ],
          "parcoords": [
           {
            "line": {
             "colorbar": {
              "outlinewidth": 0,
              "ticks": ""
             }
            },
            "type": "parcoords"
           }
          ],
          "pie": [
           {
            "automargin": true,
            "type": "pie"
           }
          ],
          "scatter": [
           {
            "marker": {
             "colorbar": {
              "outlinewidth": 0,
              "ticks": ""
             }
            },
            "type": "scatter"
           }
          ],
          "scatter3d": [
           {
            "line": {
             "colorbar": {
              "outlinewidth": 0,
              "ticks": ""
             }
            },
            "marker": {
             "colorbar": {
              "outlinewidth": 0,
              "ticks": ""
             }
            },
            "type": "scatter3d"
           }
          ],
          "scattercarpet": [
           {
            "marker": {
             "colorbar": {
              "outlinewidth": 0,
              "ticks": ""
             }
            },
            "type": "scattercarpet"
           }
          ],
          "scattergeo": [
           {
            "marker": {
             "colorbar": {
              "outlinewidth": 0,
              "ticks": ""
             }
            },
            "type": "scattergeo"
           }
          ],
          "scattergl": [
           {
            "marker": {
             "colorbar": {
              "outlinewidth": 0,
              "ticks": ""
             }
            },
            "type": "scattergl"
           }
          ],
          "scattermapbox": [
           {
            "marker": {
             "colorbar": {
              "outlinewidth": 0,
              "ticks": ""
             }
            },
            "type": "scattermapbox"
           }
          ],
          "scatterpolar": [
           {
            "marker": {
             "colorbar": {
              "outlinewidth": 0,
              "ticks": ""
             }
            },
            "type": "scatterpolar"
           }
          ],
          "scatterpolargl": [
           {
            "marker": {
             "colorbar": {
              "outlinewidth": 0,
              "ticks": ""
             }
            },
            "type": "scatterpolargl"
           }
          ],
          "scatterternary": [
           {
            "marker": {
             "colorbar": {
              "outlinewidth": 0,
              "ticks": ""
             }
            },
            "type": "scatterternary"
           }
          ],
          "surface": [
           {
            "colorbar": {
             "outlinewidth": 0,
             "ticks": ""
            },
            "colorscale": [
             [
              0,
              "#0d0887"
             ],
             [
              0.1111111111111111,
              "#46039f"
             ],
             [
              0.2222222222222222,
              "#7201a8"
             ],
             [
              0.3333333333333333,
              "#9c179e"
             ],
             [
              0.4444444444444444,
              "#bd3786"
             ],
             [
              0.5555555555555556,
              "#d8576b"
             ],
             [
              0.6666666666666666,
              "#ed7953"
             ],
             [
              0.7777777777777778,
              "#fb9f3a"
             ],
             [
              0.8888888888888888,
              "#fdca26"
             ],
             [
              1,
              "#f0f921"
             ]
            ],
            "type": "surface"
           }
          ],
          "table": [
           {
            "cells": {
             "fill": {
              "color": "#EBF0F8"
             },
             "line": {
              "color": "white"
             }
            },
            "header": {
             "fill": {
              "color": "#C8D4E3"
             },
             "line": {
              "color": "white"
             }
            },
            "type": "table"
           }
          ]
         },
         "layout": {
          "annotationdefaults": {
           "arrowcolor": "#2a3f5f",
           "arrowhead": 0,
           "arrowwidth": 1
          },
          "coloraxis": {
           "colorbar": {
            "outlinewidth": 0,
            "ticks": ""
           }
          },
          "colorscale": {
           "diverging": [
            [
             0,
             "#8e0152"
            ],
            [
             0.1,
             "#c51b7d"
            ],
            [
             0.2,
             "#de77ae"
            ],
            [
             0.3,
             "#f1b6da"
            ],
            [
             0.4,
             "#fde0ef"
            ],
            [
             0.5,
             "#f7f7f7"
            ],
            [
             0.6,
             "#e6f5d0"
            ],
            [
             0.7,
             "#b8e186"
            ],
            [
             0.8,
             "#7fbc41"
            ],
            [
             0.9,
             "#4d9221"
            ],
            [
             1,
             "#276419"
            ]
           ],
           "sequential": [
            [
             0,
             "#0d0887"
            ],
            [
             0.1111111111111111,
             "#46039f"
            ],
            [
             0.2222222222222222,
             "#7201a8"
            ],
            [
             0.3333333333333333,
             "#9c179e"
            ],
            [
             0.4444444444444444,
             "#bd3786"
            ],
            [
             0.5555555555555556,
             "#d8576b"
            ],
            [
             0.6666666666666666,
             "#ed7953"
            ],
            [
             0.7777777777777778,
             "#fb9f3a"
            ],
            [
             0.8888888888888888,
             "#fdca26"
            ],
            [
             1,
             "#f0f921"
            ]
           ],
           "sequentialminus": [
            [
             0,
             "#0d0887"
            ],
            [
             0.1111111111111111,
             "#46039f"
            ],
            [
             0.2222222222222222,
             "#7201a8"
            ],
            [
             0.3333333333333333,
             "#9c179e"
            ],
            [
             0.4444444444444444,
             "#bd3786"
            ],
            [
             0.5555555555555556,
             "#d8576b"
            ],
            [
             0.6666666666666666,
             "#ed7953"
            ],
            [
             0.7777777777777778,
             "#fb9f3a"
            ],
            [
             0.8888888888888888,
             "#fdca26"
            ],
            [
             1,
             "#f0f921"
            ]
           ]
          },
          "colorway": [
           "#636efa",
           "#EF553B",
           "#00cc96",
           "#ab63fa",
           "#FFA15A",
           "#19d3f3",
           "#FF6692",
           "#B6E880",
           "#FF97FF",
           "#FECB52"
          ],
          "font": {
           "color": "#2a3f5f"
          },
          "geo": {
           "bgcolor": "white",
           "lakecolor": "white",
           "landcolor": "#E5ECF6",
           "showlakes": true,
           "showland": true,
           "subunitcolor": "white"
          },
          "hoverlabel": {
           "align": "left"
          },
          "hovermode": "closest",
          "mapbox": {
           "style": "light"
          },
          "paper_bgcolor": "white",
          "plot_bgcolor": "#E5ECF6",
          "polar": {
           "angularaxis": {
            "gridcolor": "white",
            "linecolor": "white",
            "ticks": ""
           },
           "bgcolor": "#E5ECF6",
           "radialaxis": {
            "gridcolor": "white",
            "linecolor": "white",
            "ticks": ""
           }
          },
          "scene": {
           "xaxis": {
            "backgroundcolor": "#E5ECF6",
            "gridcolor": "white",
            "gridwidth": 2,
            "linecolor": "white",
            "showbackground": true,
            "ticks": "",
            "zerolinecolor": "white"
           },
           "yaxis": {
            "backgroundcolor": "#E5ECF6",
            "gridcolor": "white",
            "gridwidth": 2,
            "linecolor": "white",
            "showbackground": true,
            "ticks": "",
            "zerolinecolor": "white"
           },
           "zaxis": {
            "backgroundcolor": "#E5ECF6",
            "gridcolor": "white",
            "gridwidth": 2,
            "linecolor": "white",
            "showbackground": true,
            "ticks": "",
            "zerolinecolor": "white"
           }
          },
          "shapedefaults": {
           "line": {
            "color": "#2a3f5f"
           }
          },
          "ternary": {
           "aaxis": {
            "gridcolor": "white",
            "linecolor": "white",
            "ticks": ""
           },
           "baxis": {
            "gridcolor": "white",
            "linecolor": "white",
            "ticks": ""
           },
           "bgcolor": "#E5ECF6",
           "caxis": {
            "gridcolor": "white",
            "linecolor": "white",
            "ticks": ""
           }
          },
          "title": {
           "x": 0.05
          },
          "xaxis": {
           "automargin": true,
           "gridcolor": "white",
           "linecolor": "white",
           "ticks": "",
           "title": {
            "standoff": 15
           },
           "zerolinecolor": "white",
           "zerolinewidth": 2
          },
          "yaxis": {
           "automargin": true,
           "gridcolor": "white",
           "linecolor": "white",
           "ticks": "",
           "title": {
            "standoff": 15
           },
           "zerolinecolor": "white",
           "zerolinewidth": 2
          }
         }
        },
        "title": {
         "text": "Lead ID : 318465, Aggregated on all bank accounts"
        },
        "xaxis": {
         "anchor": "y",
         "domain": [
          0,
          1
         ],
         "title": {
          "text": "date"
         }
        },
        "yaxis": {
         "anchor": "x",
         "domain": [
          0,
          1
         ],
         "title": {
          "text": "amount"
         },
         "type": "log"
        }
       }
      },
      "text/html": [
       "<div>\n",
       "        \n",
       "        \n",
       "            <div id=\"da3d8b68-1dd7-437c-93c8-31e4c1693747\" class=\"plotly-graph-div\" style=\"height:525px; width:100%;\"></div>\n",
       "            <script type=\"text/javascript\">\n",
       "                require([\"plotly\"], function(Plotly) {\n",
       "                    window.PLOTLYENV=window.PLOTLYENV || {};\n",
       "                    \n",
       "                if (document.getElementById(\"da3d8b68-1dd7-437c-93c8-31e4c1693747\")) {\n",
       "                    Plotly.newPlot(\n",
       "                        'da3d8b68-1dd7-437c-93c8-31e4c1693747',\n",
       "                        [{\"hoverlabel\": {\"namelength\": 0}, \"hovertemplate\": \"transaction_type=credit<br>date=%{x}<br>amount=%{y}\", \"legendgroup\": \"credit\", \"line\": {\"color\": \"#636efa\", \"dash\": \"solid\"}, \"mode\": \"lines\", \"name\": \"credit\", \"showlegend\": true, \"type\": \"scatter\", \"x\": [\"2016-04-12\", \"2016-04-13\", \"2016-04-15\", \"2016-04-16\", \"2016-04-18\", \"2016-04-19\", \"2016-04-20\", \"2016-04-21\", \"2016-04-23\", \"2016-04-27\", \"2016-04-28\", \"2016-05-03\", \"2016-05-04\", \"2016-05-05\", \"2016-05-06\", \"2016-05-07\", \"2016-05-08\", \"2016-05-09\", \"2016-05-11\", \"2016-05-12\", \"2016-05-13\", \"2016-05-16\", \"2016-05-18\", \"2016-05-20\", \"2016-05-23\", \"2016-05-24\", \"2016-05-25\", \"2016-05-26\", \"2016-05-27\", \"2016-06-01\", \"2016-06-02\", \"2016-06-03\", \"2016-06-05\", \"2016-06-06\", \"2016-06-07\", \"2016-06-08\", \"2016-06-09\", \"2016-06-10\", \"2016-06-11\", \"2016-06-13\", \"2016-06-15\", \"2016-06-16\", \"2016-06-17\", \"2016-06-19\", \"2016-06-21\", \"2016-06-23\", \"2016-06-24\", \"2016-06-25\", \"2016-06-27\", \"2016-06-28\", \"2016-06-29\", \"2016-06-30\", \"2016-07-02\", \"2016-07-04\", \"2016-07-05\", \"2016-07-08\", \"2016-07-10\", \"2016-07-11\", \"2016-07-12\", \"2016-07-13\", \"2016-07-14\", \"2016-07-15\", \"2016-07-16\", \"2016-07-18\", \"2016-07-20\", \"2016-07-21\", \"2016-07-23\", \"2016-07-25\", \"2016-07-27\", \"2016-07-28\", \"2016-07-31\", \"2016-08-01\", \"2016-08-02\", \"2016-08-03\", \"2016-08-04\", \"2016-08-05\", \"2016-08-06\", \"2016-08-07\", \"2016-08-09\", \"2016-08-10\", \"2016-08-11\", \"2016-08-12\", \"2016-08-15\", \"2016-08-16\", \"2016-08-19\", \"2016-08-21\", \"2016-08-22\", \"2016-08-23\", \"2016-08-24\", \"2016-08-26\", \"2016-08-29\", \"2016-08-31\", \"2016-09-02\", \"2016-09-03\", \"2016-09-04\", \"2016-09-06\", \"2016-09-07\", \"2016-09-08\", \"2016-09-09\", \"2016-09-12\", \"2016-09-13\", \"2016-09-14\", \"2016-09-15\", \"2016-09-16\", \"2016-09-18\", \"2016-09-19\", \"2016-09-20\", \"2016-09-21\", \"2016-09-22\", \"2016-09-23\", \"2016-09-28\", \"2016-09-30\", \"2016-10-03\", \"2016-10-04\", \"2016-10-05\", \"2016-10-06\", \"2016-10-07\", \"2016-10-08\", \"2016-10-11\", \"2016-10-14\", \"2016-10-15\", \"2016-10-16\", \"2016-10-17\", \"2016-10-20\", \"2016-10-21\", \"2016-10-22\", \"2016-10-23\", \"2016-10-25\", \"2016-10-26\", \"2016-10-28\", \"2016-10-30\", \"2016-10-31\", \"2016-11-01\", \"2016-11-02\", \"2016-11-04\", \"2016-11-05\", \"2016-11-06\", \"2016-11-07\", \"2016-11-08\", \"2016-11-09\", \"2016-11-10\", \"2016-11-11\", \"2016-11-12\", \"2016-11-14\", \"2016-11-15\", \"2016-11-16\", \"2016-11-17\", \"2016-11-18\", \"2016-11-19\", \"2016-11-21\", \"2016-11-23\", \"2016-11-24\", \"2016-11-25\", \"2016-11-26\", \"2016-11-28\", \"2016-11-29\", \"2016-11-30\", \"2016-12-01\", \"2016-12-02\", \"2016-12-03\", \"2016-12-05\", \"2016-12-06\", \"2016-12-07\", \"2016-12-08\", \"2016-12-09\", \"2016-12-10\", \"2016-12-12\", \"2016-12-13\", \"2016-12-14\", \"2016-12-15\"], \"xaxis\": \"x\", \"y\": [793.26, 737.3, 600.0, 501.49, 0.2, 146.26, 894.26, 1246.22, 135.0, 1720.79, 195.12, 163.0, 403.26, 140.0, 5.87, 250.06, 329.76, 589.76, 883.78, 3167.12, 176.5, 585.2, 588.05, 306.51, 1063.17, 798.65, 2562.92, 533.9, 125.49, 500.0, 164.21, 33.9, 40.0, 264.09, 688.85, 288.94, 125.0, 1182.45, 250.0, 326.52, 1203.46, 1.28, 2598.46, 1210.04, 106.58, 329.65, 2047.75, 135.0, 1.2, 4589.95, 1354.41, 1747.3500000000001, 175.0, 1069.8, 2072.3500000000004, 226.01000000000002, 371.0, 4656.59, 146.46, 20.88, 990.86, 2350.74, 1.33, 1527.6, 2722.04, 3596.4300000000003, 1.0, 300.0, 52.08, 124.3, 0.02, 300.0, 293.01, 405.36, 100.0, 1179.9400000000003, 39.95, 194.5, 1500.0, 728.79, 551.7, 340.37, 13592.34, 3707.55, 3097.76, 250.0, 500.0, 602.9, 737.69, 1609.1, 4811.2, 1591.85, 3845.0699999999997, 989.1899999999999, 135.0, 5178.89, 1639.0, 2952.3500000000004, 484.9, 211.1, 2718.2, 1097.5900000000001, 920.42, 1.44, 1000.0, 7060.8, 336.35, 417.9, 350.0, 1609.92, 12.52, 566.27, 2140.4300000000003, 299.58, 129.12, 459.26, 4307.08, 189.02, 1556.0, 253.0, 36.96, 0.75, 2351.04, 39.95, 135.01, 2908.0, 2693.87, 100.0, 1164.15, 535.75, 204.0, 2418.71, 400.0, 332.22, 739.05, 194.5, 34.04, 4077.3199999999997, 2724.87, 478.99, 686.62, 2008.23, 28.0, 31959.99, 1389.11, 1.36, 2768.49, 0.01, 115.39, 5924.31, 2609.31, 135.0, 1820.9, 744.94, 1359.1, 1297.6100000000001, 500.0, 3263.2, 3000.0, 3000.0, 25.0, 572.3, 460.44, 3202.4, 1648.25, 194.5, 1400.0, 39.95, 1175.87, 2718.2], \"yaxis\": \"y\"}, {\"hoverlabel\": {\"namelength\": 0}, \"hovertemplate\": \"transaction_type=running_balance<br>date=%{x}<br>amount=%{y}\", \"legendgroup\": \"running_balance\", \"line\": {\"color\": \"#EF553B\", \"dash\": \"solid\"}, \"mode\": \"lines\", \"name\": \"running_balance\", \"showlegend\": true, \"type\": \"scatter\", \"x\": [\"2016-04-12\", \"2016-04-13\", \"2016-04-14\", \"2016-04-15\", \"2016-04-16\", \"2016-04-17\", \"2016-04-18\", \"2016-04-19\", \"2016-04-20\", \"2016-04-21\", \"2016-04-22\", \"2016-04-23\", \"2016-04-24\", \"2016-04-25\", \"2016-04-26\", \"2016-04-27\", \"2016-04-28\", \"2016-04-29\", \"2016-04-30\", \"2016-05-02\", \"2016-05-03\", \"2016-05-04\", \"2016-05-05\", \"2016-05-06\", \"2016-05-07\", \"2016-05-08\", \"2016-05-09\", \"2016-05-10\", \"2016-05-11\", \"2016-05-12\", \"2016-05-13\", \"2016-05-14\", \"2016-05-15\", \"2016-05-16\", \"2016-05-17\", \"2016-05-18\", \"2016-05-19\", \"2016-05-20\", \"2016-05-21\", \"2016-05-22\", \"2016-05-23\", \"2016-05-24\", \"2016-05-25\", \"2016-05-26\", \"2016-05-27\", \"2016-05-28\", \"2016-05-29\", \"2016-05-30\", \"2016-05-31\", \"2016-06-01\", \"2016-06-02\", \"2016-06-03\", \"2016-06-04\", \"2016-06-05\", \"2016-06-06\", \"2016-06-07\", \"2016-06-08\", \"2016-06-09\", \"2016-06-10\", \"2016-06-11\", \"2016-06-12\", \"2016-06-13\", \"2016-06-14\", \"2016-06-15\", \"2016-06-16\", \"2016-06-17\", \"2016-06-18\", \"2016-06-19\", \"2016-06-20\", \"2016-06-21\", \"2016-06-22\", \"2016-06-23\", \"2016-06-24\", \"2016-06-25\", \"2016-06-26\", \"2016-06-27\", \"2016-06-28\", \"2016-06-29\", \"2016-06-30\", \"2016-07-01\", \"2016-07-02\", \"2016-07-03\", \"2016-07-04\", \"2016-07-05\", \"2016-07-06\", \"2016-07-07\", \"2016-07-08\", \"2016-07-09\", \"2016-07-10\", \"2016-07-11\", \"2016-07-12\", \"2016-07-13\", \"2016-07-14\", \"2016-07-15\", \"2016-07-16\", \"2016-07-17\", \"2016-07-18\", \"2016-07-19\", \"2016-07-20\", \"2016-07-21\", \"2016-07-22\", \"2016-07-23\", \"2016-07-24\", \"2016-07-25\", \"2016-07-26\", \"2016-07-27\", \"2016-07-28\", \"2016-07-29\", \"2016-07-30\", \"2016-07-31\", \"2016-08-01\", \"2016-08-02\", \"2016-08-03\", \"2016-08-04\", \"2016-08-05\", \"2016-08-06\", \"2016-08-07\", \"2016-08-08\", \"2016-08-09\", \"2016-08-10\", \"2016-08-11\", \"2016-08-12\", \"2016-08-13\", \"2016-08-15\", \"2016-08-16\", \"2016-08-17\", \"2016-08-18\", \"2016-08-19\", \"2016-08-20\", \"2016-08-21\", \"2016-08-22\", \"2016-08-23\", \"2016-08-24\", \"2016-08-25\", \"2016-08-26\", \"2016-08-27\", \"2016-08-28\", \"2016-08-29\", \"2016-08-30\", \"2016-08-31\", \"2016-09-01\", \"2016-09-02\", \"2016-09-03\", \"2016-09-04\", \"2016-09-05\", \"2016-09-06\", \"2016-09-07\", \"2016-09-08\", \"2016-09-09\", \"2016-09-10\", \"2016-09-11\", \"2016-09-12\", \"2016-09-13\", \"2016-09-14\", \"2016-09-15\", \"2016-09-16\", \"2016-09-17\", \"2016-09-18\", \"2016-09-19\", \"2016-09-20\", \"2016-09-21\", \"2016-09-22\", \"2016-09-23\", \"2016-09-24\", \"2016-09-25\", \"2016-09-26\", \"2016-09-28\", \"2016-09-29\", \"2016-09-30\", \"2016-10-01\", \"2016-10-02\", \"2016-10-03\", \"2016-10-04\", \"2016-10-05\", \"2016-10-06\", \"2016-10-07\", \"2016-10-08\", \"2016-10-10\", \"2016-10-11\", \"2016-10-12\", \"2016-10-13\", \"2016-10-14\", \"2016-10-15\", \"2016-10-16\", \"2016-10-17\", \"2016-10-18\", \"2016-10-19\", \"2016-10-20\", \"2016-10-21\", \"2016-10-22\", \"2016-10-23\", \"2016-10-24\", \"2016-10-25\", \"2016-10-26\", \"2016-10-27\", \"2016-10-28\", \"2016-10-29\", \"2016-10-30\", \"2016-10-31\", \"2016-11-01\", \"2016-11-02\", \"2016-11-03\", \"2016-11-04\", \"2016-11-05\", \"2016-11-06\", \"2016-11-07\", \"2016-11-08\", \"2016-11-09\", \"2016-11-10\", \"2016-11-11\", \"2016-11-12\", \"2016-11-13\", \"2016-11-14\", \"2016-11-15\", \"2016-11-16\", \"2016-11-17\", \"2016-11-18\", \"2016-11-19\", \"2016-11-20\", \"2016-11-21\", \"2016-11-22\", \"2016-11-23\", \"2016-11-24\", \"2016-11-25\", \"2016-11-26\", \"2016-11-27\", \"2016-11-28\", \"2016-11-29\", \"2016-11-30\", \"2016-12-01\", \"2016-12-02\", \"2016-12-03\", \"2016-12-04\", \"2016-12-05\", \"2016-12-06\", \"2016-12-07\", \"2016-12-08\", \"2016-12-09\", \"2016-12-10\", \"2016-12-11\", \"2016-12-12\", \"2016-12-13\", \"2016-12-14\", \"2016-12-15\"], \"xaxis\": \"x\", \"y\": [587.52, 348.87, 251.53, 64.16, 482.31, 438.81, 149.17000000000002, 414.92, 390.65999999999997, 1321.06, 991.1, 705.34, 691.06, 602.86, 337.49, 2006.33, 2158.9, 2011.42, 1665.26, 1285.56, 1549.4, 1868.02, 2008.02, -342.6, 52.730000000000004, 364.68, 351.47, 368.45, 163.01, 3364.35, 2817.86, 2419.1, 2336.66, 2252.25, 2120.0, 2666.78, 2022.57, 347.0, 210.89999999999998, 150.51, 1138.1000000000001, 1573.0, 3433.63, 3557.66, 1451.8500000000001, 1138.53, 813.36, 529.77, 33.12, 357.87, 277.58, 4.1000000000000005, -14.15, 1.12, 294.53999999999996, 465.82, 496.08, 261.24, 1345.8200000000002, 1252.83, 1194.41, 874.45, 440.4, 721.66, 306.30999999999995, 2554.8199999999997, 441.77, 1616.53, 1077.66, 281.47, 184.67999999999998, 379.33, 1211.0700000000002, 942.67, 633.72, 706.65, 3689.36, 4513.400000000001, 5473.76, 2001.1599999999999, 4795.14, 4445.469999999999, 3839.28, 2621.15, 316.59000000000003, 522.72, 460.22999999999996, -8.04, 385.31, 3040.6600000000003, 2680.61, 2391.4199999999996, 2703.18, 1619.1399999999999, 1428.87, 1335.66, 2034.52, 302.75, 3711.3700000000003, 3628.08, 4031.9500000000003, 737.47, 696.59, 842.93, -646.62, -266.86, 705.38, 432.72, 294.39, 294.41, 732.67, 925.28, 248.86999999999998, 531.38, 937.53, 859.6899999999999, 672.44, 761.78, 2069.5, 2649.43, 496.42, 476.42, 363.74, 5140.69, 4662.2, 1105.72, 906.28, 4907.879999999999, 554.27, 4318.97, 4319.929999999999, 879.52, 1212.16, 377.24, 1542.9399999999998, 555.0600000000001, 8.97, 2723.13, 1057.1799999999998, 2591.35, 3256.8, 4049.46, 1098.44, 1052.73, 827.8599999999999, 6123.05, 1754.09, 2230.95, 498.23, 295.05, 226.21, 1908.5100000000002, 3076.26, 693.22, 3395.98, 972.78, 643.02, 2872.7200000000003, 5663.2, 2590.48, 2275.13, 2275.13, 3145.88, 202.01, 311.65, 2363.69, 1394.58, 2532.18, 3124.2000000000003, 2544.18, 3022.52, 3664.79, 3357.6100000000006, 1663.71, 3122.0699999999997, 3009.08, 2588.9300000000007, 2718.99, 404.5, 537.95, 494.39, 581.01, 435.39, 310.01, 598.7, 331.38, -263.28, -176.41999999999996, -442.40999999999997, 3012.33, 2361.2, 1938.9900000000002, 952.04, 717.4499999999999, 342.23, 761.8199999999999, 311.41, 422.77, 1917.4599999999998, 629.13, 1669.07, 271.72, 924.75, 1041.3400000000001, 684.52, 3135.36, 2913.91, 188.46, 393.92, 2598.71, 1972.76, 1433.77, 3160.0199999999995, 2308.66, 1782.5500000000002, 3116.12, 695.79, 625.21, 515.49, 4479.2, 3436.1099999999997, 5452.12, 2674.37, 3171.3, 2361.63, 1287.39, 2208.48, 2703.2799999999997, 505.21, 3806.27, 3521.18, 3233.6499999999996, 107.11, 2930.24, 51.70999999999998, 3305.4100000000003, 4714.08, 6030.9400000000005, 3567.1499999999996, 1504.64, 4354.12, 3622.0999999999995, 3552.3099999999995, 2056.38], \"yaxis\": \"y\"}, {\"hoverlabel\": {\"namelength\": 0}, \"hovertemplate\": \"transaction_type=debit<br>date=%{x}<br>amount=%{y}\", \"legendgroup\": \"debit\", \"line\": {\"color\": \"#00cc96\", \"dash\": \"solid\"}, \"mode\": \"lines\", \"name\": \"debit\", \"showlegend\": true, \"type\": \"scatter\", \"x\": [\"2016-04-12\", \"2016-04-13\", \"2016-04-14\", \"2016-04-15\", \"2016-04-16\", \"2016-04-17\", \"2016-04-18\", \"2016-04-19\", \"2016-04-20\", \"2016-04-21\", \"2016-04-22\", \"2016-04-23\", \"2016-04-24\", \"2016-04-25\", \"2016-04-26\", \"2016-04-27\", \"2016-04-28\", \"2016-04-29\", \"2016-04-30\", \"2016-05-02\", \"2016-05-03\", \"2016-05-04\", \"2016-05-06\", \"2016-05-07\", \"2016-05-08\", \"2016-05-09\", \"2016-05-10\", \"2016-05-11\", \"2016-05-12\", \"2016-05-13\", \"2016-05-14\", \"2016-05-15\", \"2016-05-16\", \"2016-05-17\", \"2016-05-18\", \"2016-05-19\", \"2016-05-20\", \"2016-05-21\", \"2016-05-22\", \"2016-05-23\", \"2016-05-24\", \"2016-05-25\", \"2016-05-26\", \"2016-05-27\", \"2016-05-28\", \"2016-05-29\", \"2016-05-30\", \"2016-05-31\", \"2016-06-01\", \"2016-06-02\", \"2016-06-03\", \"2016-06-04\", \"2016-06-05\", \"2016-06-06\", \"2016-06-07\", \"2016-06-08\", \"2016-06-09\", \"2016-06-10\", \"2016-06-11\", \"2016-06-12\", \"2016-06-13\", \"2016-06-14\", \"2016-06-15\", \"2016-06-16\", \"2016-06-17\", \"2016-06-18\", \"2016-06-20\", \"2016-06-21\", \"2016-06-22\", \"2016-06-23\", \"2016-06-24\", \"2016-06-25\", \"2016-06-26\", \"2016-06-27\", \"2016-06-28\", \"2016-06-29\", \"2016-06-30\", \"2016-07-01\", \"2016-07-02\", \"2016-07-03\", \"2016-07-04\", \"2016-07-05\", \"2016-07-06\", \"2016-07-07\", \"2016-07-08\", \"2016-07-09\", \"2016-07-10\", \"2016-07-11\", \"2016-07-12\", \"2016-07-13\", \"2016-07-14\", \"2016-07-15\", \"2016-07-16\", \"2016-07-17\", \"2016-07-18\", \"2016-07-19\", \"2016-07-20\", \"2016-07-21\", \"2016-07-22\", \"2016-07-23\", \"2016-07-24\", \"2016-07-25\", \"2016-07-26\", \"2016-07-27\", \"2016-07-28\", \"2016-07-29\", \"2016-07-30\", \"2016-08-01\", \"2016-08-02\", \"2016-08-03\", \"2016-08-04\", \"2016-08-05\", \"2016-08-06\", \"2016-08-07\", \"2016-08-08\", \"2016-08-09\", \"2016-08-10\", \"2016-08-11\", \"2016-08-12\", \"2016-08-13\", \"2016-08-15\", \"2016-08-16\", \"2016-08-17\", \"2016-08-18\", \"2016-08-19\", \"2016-08-20\", \"2016-08-22\", \"2016-08-23\", \"2016-08-24\", \"2016-08-25\", \"2016-08-26\", \"2016-08-27\", \"2016-08-28\", \"2016-08-29\", \"2016-08-30\", \"2016-08-31\", \"2016-09-01\", \"2016-09-02\", \"2016-09-03\", \"2016-09-04\", \"2016-09-05\", \"2016-09-06\", \"2016-09-07\", \"2016-09-08\", \"2016-09-09\", \"2016-09-10\", \"2016-09-11\", \"2016-09-12\", \"2016-09-13\", \"2016-09-14\", \"2016-09-15\", \"2016-09-16\", \"2016-09-17\", \"2016-09-18\", \"2016-09-19\", \"2016-09-20\", \"2016-09-21\", \"2016-09-22\", \"2016-09-23\", \"2016-09-24\", \"2016-09-25\", \"2016-09-26\", \"2016-09-28\", \"2016-09-29\", \"2016-09-30\", \"2016-10-01\", \"2016-10-02\", \"2016-10-03\", \"2016-10-04\", \"2016-10-05\", \"2016-10-06\", \"2016-10-07\", \"2016-10-08\", \"2016-10-10\", \"2016-10-11\", \"2016-10-12\", \"2016-10-13\", \"2016-10-14\", \"2016-10-15\", \"2016-10-16\", \"2016-10-17\", \"2016-10-18\", \"2016-10-19\", \"2016-10-20\", \"2016-10-21\", \"2016-10-22\", \"2016-10-23\", \"2016-10-24\", \"2016-10-25\", \"2016-10-26\", \"2016-10-27\", \"2016-10-28\", \"2016-10-29\", \"2016-10-30\", \"2016-10-31\", \"2016-11-01\", \"2016-11-02\", \"2016-11-03\", \"2016-11-04\", \"2016-11-05\", \"2016-11-07\", \"2016-11-08\", \"2016-11-09\", \"2016-11-10\", \"2016-11-11\", \"2016-11-12\", \"2016-11-13\", \"2016-11-14\", \"2016-11-15\", \"2016-11-16\", \"2016-11-17\", \"2016-11-18\", \"2016-11-19\", \"2016-11-20\", \"2016-11-21\", \"2016-11-22\", \"2016-11-23\", \"2016-11-24\", \"2016-11-25\", \"2016-11-26\", \"2016-11-27\", \"2016-11-28\", \"2016-11-29\", \"2016-11-30\", \"2016-12-01\", \"2016-12-02\", \"2016-12-03\", \"2016-12-04\", \"2016-12-05\", \"2016-12-06\", \"2016-12-07\", \"2016-12-08\", \"2016-12-09\", \"2016-12-10\", \"2016-12-11\", \"2016-12-12\", \"2016-12-13\", \"2016-12-14\", \"2016-12-15\"], \"xaxis\": \"x\", \"y\": [44.44, 975.95, 97.34, 787.37, 83.34, 43.5, 290.80000000000007, 39.269999999999996, 902.03, 481.99, 327.66, 420.76, 14.28, 88.2, 265.37, 51.95, 42.55, 147.48000000000002, 346.16, 213.53, 115.33, 84.64, 2325.6, 140.9, 17.81, 38.26, 281.56, 840.0899999999999, 214.91, 702.99, 251.34, 82.44, 817.03, 127.24000000000001, 43.57, 318.90999999999997, 1982.0800000000002, 362.38000000000005, 40.0, 194.99000000000004, 359.16999999999996, 702.29, 309.86999999999995, 2331.3, 234.10999999999996, 165.2, 443.55999999999995, 339.94, 331.96, 168.09, 386.59000000000003, 13.39, 24.73, 51.94, 518.5600000000001, 64.17, 554.3499999999999, 97.87, 229.61999999999995, 58.42, 646.48, 434.05, 921.21, 417.63, 2223.19, 347.95, 538.87, 2671.8800000000006, 96.59, 170.28, 828.0799999999999, 209.28, 61.67, 762.8299999999999, 1603.4099999999999, 525.37, 786.9900000000001, 151.4, 702.22, 201.82999999999998, 1823.8299999999997, 3157.2199999999993, 251.18, 123.45, 2150.1400000000003, 121.99, 54.87, 2270.3, 259.47999999999996, 557.0999999999999, 587.0200000000001, 3526.86, 103.34, 89.36999999999999, 920.83, 160.99, 676.3599999999999, 3896.4, 108.35, 3300.4900000000002, 36.87, 293.65999999999997, 225.0, 192.99, 60.519999999999996, 27.67, 138.32999999999998, 77.7, 100.4, 264.97, 257.96000000000004, 362.35, 117.78999999999999, 48.2, 282.20000000000005, 75.0, 159.92000000000002, 2704.7100000000005, 360.36999999999995, 112.67999999999999, 8887.63, 4153.9, 499.2, 191.21, 2193.81, 276.4, 1053.3100000000002, 232.58, 102.68, 1137.29, 164.02, 3447.75, 124.87, 3877.3599999999997, 210.61, 54.68, 1072.27, 2673.32, 645.6099999999999, 180.71, 224.87000000000003, 3557.39, 6007.96, 2475.49, 356.74999999999994, 203.18, 68.84, 389.66999999999996, 1550.4499999999998, 503.94000000000005, 784.21, 268.23, 329.76, 1038.32, 4270.319999999999, 3409.0699999999997, 733.25, 350.0, 1037.6999999999998, 144.62, 53.89, 451.45, 1006.63, 18.5, 81.47999999999999, 104.33, 47.349999999999994, 1448.1599999999999, 606.76, 666.9200000000001, 317.0, 3103.9700000000003, 609.17, 182.60000000000002, 3482.98, 254.16, 43.56, 166.38, 182.57999999999998, 126.13000000000001, 1749.69, 267.32, 426.0, 121.75, 401.0, 30.67, 2693.87, 95.83000000000001, 1127.32, 1758.37, 119.65, 341.22999999999996, 127.21, 92.64, 1346.1100000000001, 389.89, 301.83, 387.58000000000004, 374.9, 77.91, 3027.12, 2946.32, 2413.1, 927.7900000000001, 148.15, 653.95, 203.22, 30569.510000000006, 2066.12, 91.83000000000001, 2044.9100000000003, 457.75, 41.71, 109.72, 4067.4500000000003, 1043.0900000000001, 593.3, 2912.75, 1323.97, 1371.8800000000003, 51.19, 620.7399999999999, 1783.86, 366.68, 2196.14, 3422.48, 3287.5299999999997, 29.07, 299.34, 405.2, 252.36999999999998, 1596.4200000000003, 331.39, 2855.6, 42.519999999999996, 570.51, 771.9700000000001, 1245.66, 1979.3899999999999], \"yaxis\": \"y\"}],\n",
       "                        {\"legend\": {\"title\": {\"text\": \"transaction_type\"}, \"tracegroupgap\": 0}, \"template\": {\"data\": {\"bar\": [{\"error_x\": {\"color\": \"#2a3f5f\"}, \"error_y\": {\"color\": \"#2a3f5f\"}, \"marker\": {\"line\": {\"color\": \"#E5ECF6\", \"width\": 0.5}}, \"type\": \"bar\"}], \"barpolar\": [{\"marker\": {\"line\": {\"color\": \"#E5ECF6\", \"width\": 0.5}}, \"type\": \"barpolar\"}], \"carpet\": [{\"aaxis\": {\"endlinecolor\": \"#2a3f5f\", \"gridcolor\": \"white\", \"linecolor\": \"white\", \"minorgridcolor\": \"white\", \"startlinecolor\": \"#2a3f5f\"}, \"baxis\": {\"endlinecolor\": \"#2a3f5f\", \"gridcolor\": \"white\", \"linecolor\": \"white\", \"minorgridcolor\": \"white\", \"startlinecolor\": \"#2a3f5f\"}, \"type\": \"carpet\"}], \"choropleth\": [{\"colorbar\": {\"outlinewidth\": 0, \"ticks\": \"\"}, \"type\": \"choropleth\"}], \"contour\": [{\"colorbar\": {\"outlinewidth\": 0, \"ticks\": \"\"}, \"colorscale\": [[0.0, \"#0d0887\"], [0.1111111111111111, \"#46039f\"], [0.2222222222222222, \"#7201a8\"], [0.3333333333333333, \"#9c179e\"], [0.4444444444444444, \"#bd3786\"], [0.5555555555555556, \"#d8576b\"], [0.6666666666666666, \"#ed7953\"], [0.7777777777777778, \"#fb9f3a\"], [0.8888888888888888, \"#fdca26\"], [1.0, \"#f0f921\"]], \"type\": \"contour\"}], \"contourcarpet\": [{\"colorbar\": {\"outlinewidth\": 0, \"ticks\": \"\"}, \"type\": \"contourcarpet\"}], \"heatmap\": [{\"colorbar\": {\"outlinewidth\": 0, \"ticks\": \"\"}, \"colorscale\": [[0.0, \"#0d0887\"], [0.1111111111111111, \"#46039f\"], [0.2222222222222222, \"#7201a8\"], [0.3333333333333333, \"#9c179e\"], [0.4444444444444444, \"#bd3786\"], [0.5555555555555556, \"#d8576b\"], [0.6666666666666666, \"#ed7953\"], [0.7777777777777778, \"#fb9f3a\"], [0.8888888888888888, \"#fdca26\"], [1.0, \"#f0f921\"]], \"type\": \"heatmap\"}], \"heatmapgl\": [{\"colorbar\": {\"outlinewidth\": 0, \"ticks\": \"\"}, \"colorscale\": [[0.0, \"#0d0887\"], [0.1111111111111111, \"#46039f\"], [0.2222222222222222, \"#7201a8\"], [0.3333333333333333, \"#9c179e\"], [0.4444444444444444, \"#bd3786\"], [0.5555555555555556, \"#d8576b\"], [0.6666666666666666, \"#ed7953\"], [0.7777777777777778, \"#fb9f3a\"], [0.8888888888888888, \"#fdca26\"], [1.0, \"#f0f921\"]], \"type\": \"heatmapgl\"}], \"histogram\": [{\"marker\": {\"colorbar\": {\"outlinewidth\": 0, \"ticks\": \"\"}}, \"type\": \"histogram\"}], \"histogram2d\": [{\"colorbar\": {\"outlinewidth\": 0, \"ticks\": \"\"}, \"colorscale\": [[0.0, \"#0d0887\"], [0.1111111111111111, \"#46039f\"], [0.2222222222222222, \"#7201a8\"], [0.3333333333333333, \"#9c179e\"], [0.4444444444444444, \"#bd3786\"], [0.5555555555555556, \"#d8576b\"], [0.6666666666666666, \"#ed7953\"], [0.7777777777777778, \"#fb9f3a\"], [0.8888888888888888, \"#fdca26\"], [1.0, \"#f0f921\"]], \"type\": \"histogram2d\"}], \"histogram2dcontour\": [{\"colorbar\": {\"outlinewidth\": 0, \"ticks\": \"\"}, \"colorscale\": [[0.0, \"#0d0887\"], [0.1111111111111111, \"#46039f\"], [0.2222222222222222, \"#7201a8\"], [0.3333333333333333, \"#9c179e\"], [0.4444444444444444, \"#bd3786\"], [0.5555555555555556, \"#d8576b\"], [0.6666666666666666, \"#ed7953\"], [0.7777777777777778, \"#fb9f3a\"], [0.8888888888888888, \"#fdca26\"], [1.0, \"#f0f921\"]], \"type\": \"histogram2dcontour\"}], \"mesh3d\": [{\"colorbar\": {\"outlinewidth\": 0, \"ticks\": \"\"}, \"type\": \"mesh3d\"}], \"parcoords\": [{\"line\": {\"colorbar\": {\"outlinewidth\": 0, \"ticks\": \"\"}}, \"type\": \"parcoords\"}], \"pie\": [{\"automargin\": true, \"type\": \"pie\"}], \"scatter\": [{\"marker\": {\"colorbar\": {\"outlinewidth\": 0, \"ticks\": \"\"}}, \"type\": \"scatter\"}], \"scatter3d\": [{\"line\": {\"colorbar\": {\"outlinewidth\": 0, \"ticks\": \"\"}}, \"marker\": {\"colorbar\": {\"outlinewidth\": 0, \"ticks\": \"\"}}, \"type\": \"scatter3d\"}], \"scattercarpet\": [{\"marker\": {\"colorbar\": {\"outlinewidth\": 0, \"ticks\": \"\"}}, \"type\": \"scattercarpet\"}], \"scattergeo\": [{\"marker\": {\"colorbar\": {\"outlinewidth\": 0, \"ticks\": \"\"}}, \"type\": \"scattergeo\"}], \"scattergl\": [{\"marker\": {\"colorbar\": {\"outlinewidth\": 0, \"ticks\": \"\"}}, \"type\": \"scattergl\"}], \"scattermapbox\": [{\"marker\": {\"colorbar\": {\"outlinewidth\": 0, \"ticks\": \"\"}}, \"type\": \"scattermapbox\"}], \"scatterpolar\": [{\"marker\": {\"colorbar\": {\"outlinewidth\": 0, \"ticks\": \"\"}}, \"type\": \"scatterpolar\"}], \"scatterpolargl\": [{\"marker\": {\"colorbar\": {\"outlinewidth\": 0, \"ticks\": \"\"}}, \"type\": \"scatterpolargl\"}], \"scatterternary\": [{\"marker\": {\"colorbar\": {\"outlinewidth\": 0, \"ticks\": \"\"}}, \"type\": \"scatterternary\"}], \"surface\": [{\"colorbar\": {\"outlinewidth\": 0, \"ticks\": \"\"}, \"colorscale\": [[0.0, \"#0d0887\"], [0.1111111111111111, \"#46039f\"], [0.2222222222222222, \"#7201a8\"], [0.3333333333333333, \"#9c179e\"], [0.4444444444444444, \"#bd3786\"], [0.5555555555555556, \"#d8576b\"], [0.6666666666666666, \"#ed7953\"], [0.7777777777777778, \"#fb9f3a\"], [0.8888888888888888, \"#fdca26\"], [1.0, \"#f0f921\"]], \"type\": \"surface\"}], \"table\": [{\"cells\": {\"fill\": {\"color\": \"#EBF0F8\"}, \"line\": {\"color\": \"white\"}}, \"header\": {\"fill\": {\"color\": \"#C8D4E3\"}, \"line\": {\"color\": \"white\"}}, \"type\": \"table\"}]}, \"layout\": {\"annotationdefaults\": {\"arrowcolor\": \"#2a3f5f\", \"arrowhead\": 0, \"arrowwidth\": 1}, \"coloraxis\": {\"colorbar\": {\"outlinewidth\": 0, \"ticks\": \"\"}}, \"colorscale\": {\"diverging\": [[0, \"#8e0152\"], [0.1, \"#c51b7d\"], [0.2, \"#de77ae\"], [0.3, \"#f1b6da\"], [0.4, \"#fde0ef\"], [0.5, \"#f7f7f7\"], [0.6, \"#e6f5d0\"], [0.7, \"#b8e186\"], [0.8, \"#7fbc41\"], [0.9, \"#4d9221\"], [1, \"#276419\"]], \"sequential\": [[0.0, \"#0d0887\"], [0.1111111111111111, \"#46039f\"], [0.2222222222222222, \"#7201a8\"], [0.3333333333333333, \"#9c179e\"], [0.4444444444444444, \"#bd3786\"], [0.5555555555555556, \"#d8576b\"], [0.6666666666666666, \"#ed7953\"], [0.7777777777777778, \"#fb9f3a\"], [0.8888888888888888, \"#fdca26\"], [1.0, \"#f0f921\"]], \"sequentialminus\": [[0.0, \"#0d0887\"], [0.1111111111111111, \"#46039f\"], [0.2222222222222222, \"#7201a8\"], [0.3333333333333333, \"#9c179e\"], [0.4444444444444444, \"#bd3786\"], [0.5555555555555556, \"#d8576b\"], [0.6666666666666666, \"#ed7953\"], [0.7777777777777778, \"#fb9f3a\"], [0.8888888888888888, \"#fdca26\"], [1.0, \"#f0f921\"]]}, \"colorway\": [\"#636efa\", \"#EF553B\", \"#00cc96\", \"#ab63fa\", \"#FFA15A\", \"#19d3f3\", \"#FF6692\", \"#B6E880\", \"#FF97FF\", \"#FECB52\"], \"font\": {\"color\": \"#2a3f5f\"}, \"geo\": {\"bgcolor\": \"white\", \"lakecolor\": \"white\", \"landcolor\": \"#E5ECF6\", \"showlakes\": true, \"showland\": true, \"subunitcolor\": \"white\"}, \"hoverlabel\": {\"align\": \"left\"}, \"hovermode\": \"closest\", \"mapbox\": {\"style\": \"light\"}, \"paper_bgcolor\": \"white\", \"plot_bgcolor\": \"#E5ECF6\", \"polar\": {\"angularaxis\": {\"gridcolor\": \"white\", \"linecolor\": \"white\", \"ticks\": \"\"}, \"bgcolor\": \"#E5ECF6\", \"radialaxis\": {\"gridcolor\": \"white\", \"linecolor\": \"white\", \"ticks\": \"\"}}, \"scene\": {\"xaxis\": {\"backgroundcolor\": \"#E5ECF6\", \"gridcolor\": \"white\", \"gridwidth\": 2, \"linecolor\": \"white\", \"showbackground\": true, \"ticks\": \"\", \"zerolinecolor\": \"white\"}, \"yaxis\": {\"backgroundcolor\": \"#E5ECF6\", \"gridcolor\": \"white\", \"gridwidth\": 2, \"linecolor\": \"white\", \"showbackground\": true, \"ticks\": \"\", \"zerolinecolor\": \"white\"}, \"zaxis\": {\"backgroundcolor\": \"#E5ECF6\", \"gridcolor\": \"white\", \"gridwidth\": 2, \"linecolor\": \"white\", \"showbackground\": true, \"ticks\": \"\", \"zerolinecolor\": \"white\"}}, \"shapedefaults\": {\"line\": {\"color\": \"#2a3f5f\"}}, \"ternary\": {\"aaxis\": {\"gridcolor\": \"white\", \"linecolor\": \"white\", \"ticks\": \"\"}, \"baxis\": {\"gridcolor\": \"white\", \"linecolor\": \"white\", \"ticks\": \"\"}, \"bgcolor\": \"#E5ECF6\", \"caxis\": {\"gridcolor\": \"white\", \"linecolor\": \"white\", \"ticks\": \"\"}}, \"title\": {\"x\": 0.05}, \"xaxis\": {\"automargin\": true, \"gridcolor\": \"white\", \"linecolor\": \"white\", \"ticks\": \"\", \"title\": {\"standoff\": 15}, \"zerolinecolor\": \"white\", \"zerolinewidth\": 2}, \"yaxis\": {\"automargin\": true, \"gridcolor\": \"white\", \"linecolor\": \"white\", \"ticks\": \"\", \"title\": {\"standoff\": 15}, \"zerolinecolor\": \"white\", \"zerolinewidth\": 2}}}, \"title\": {\"text\": \"Lead ID : 318465, Aggregated on all bank accounts\"}, \"xaxis\": {\"anchor\": \"y\", \"domain\": [0.0, 1.0], \"title\": {\"text\": \"date\"}}, \"yaxis\": {\"anchor\": \"x\", \"domain\": [0.0, 1.0], \"title\": {\"text\": \"amount\"}, \"type\": \"log\"}},\n",
       "                        {\"responsive\": true}\n",
       "                    ).then(function(){\n",
       "                            \n",
       "var gd = document.getElementById('da3d8b68-1dd7-437c-93c8-31e4c1693747');\n",
       "var x = new MutationObserver(function (mutations, observer) {{\n",
       "        var display = window.getComputedStyle(gd).display;\n",
       "        if (!display || display === 'none') {{\n",
       "            console.log([gd, 'removed!']);\n",
       "            Plotly.purge(gd);\n",
       "            observer.disconnect();\n",
       "        }}\n",
       "}});\n",
       "\n",
       "// Listen for the removal of the full notebook cells\n",
       "var notebookContainer = gd.closest('#notebook-container');\n",
       "if (notebookContainer) {{\n",
       "    x.observe(notebookContainer, {childList: true});\n",
       "}}\n",
       "\n",
       "// Listen for the clearing of the current output cell\n",
       "var outputEl = gd.closest('.output');\n",
       "if (outputEl) {{\n",
       "    x.observe(outputEl, {childList: true});\n",
       "}}\n",
       "\n",
       "                        })\n",
       "                };\n",
       "                });\n",
       "            </script>\n",
       "        </div>"
      ]
     },
     "metadata": {},
     "output_type": "display_data"
    }
   ],
   "source": [
    "\n",
    "fig31 = px.line(df_final3, x=\"date\", y=\"amount\", color='transaction_type',\\\n",
    "              title=\"Lead ID : 318465, Aggregated on all bank accounts\")\n",
    "\n",
    "fig31.update_layout(yaxis_type=\"log\")\n",
    "\n",
    "py.plot(fig31,filename = 'TimeSeries_31',auto_open=False)\n",
    "\n",
    "fig31.show()"
   ]
  },
  {
   "cell_type": "markdown",
   "metadata": {},
   "source": [
    "\n",
    "###### Question 3 : \n",
    "\n",
    "######  Lead ID : 326062\n",
    "\n",
    "Same procedure as above for Lead ID : 326062"
   ]
  },
  {
   "cell_type": "code",
   "execution_count": 72,
   "metadata": {},
   "outputs": [],
   "source": [
    "# not filtering on bank accounts \n",
    "\n",
    "df_merchant1 = df[(df['Lead ID']==326062)]"
   ]
  },
  {
   "cell_type": "code",
   "execution_count": 73,
   "metadata": {},
   "outputs": [],
   "source": [
    "df_merchant1 = df_merchant1.sort_values(['date','trans_order'],ascending = True)"
   ]
  },
  {
   "cell_type": "code",
   "execution_count": 74,
   "metadata": {},
   "outputs": [],
   "source": [
    "df_trans4 = pd.DataFrame(df_merchant1.groupby(['date','transaction_type'])['amount'].sum().reset_index())"
   ]
  },
  {
   "cell_type": "code",
   "execution_count": 75,
   "metadata": {},
   "outputs": [
    {
     "data": {
      "text/html": [
       "<div>\n",
       "<style scoped>\n",
       "    .dataframe tbody tr th:only-of-type {\n",
       "        vertical-align: middle;\n",
       "    }\n",
       "\n",
       "    .dataframe tbody tr th {\n",
       "        vertical-align: top;\n",
       "    }\n",
       "\n",
       "    .dataframe thead th {\n",
       "        text-align: right;\n",
       "    }\n",
       "</style>\n",
       "<table border=\"1\" class=\"dataframe\">\n",
       "  <thead>\n",
       "    <tr style=\"text-align: right;\">\n",
       "      <th></th>\n",
       "      <th>date</th>\n",
       "      <th>transaction_type</th>\n",
       "      <th>amount</th>\n",
       "    </tr>\n",
       "  </thead>\n",
       "  <tbody>\n",
       "    <tr>\n",
       "      <td>0</td>\n",
       "      <td>2016-04-13</td>\n",
       "      <td>credit</td>\n",
       "      <td>1654.57</td>\n",
       "    </tr>\n",
       "    <tr>\n",
       "      <td>1</td>\n",
       "      <td>2016-04-13</td>\n",
       "      <td>debit</td>\n",
       "      <td>500.00</td>\n",
       "    </tr>\n",
       "    <tr>\n",
       "      <td>2</td>\n",
       "      <td>2016-04-14</td>\n",
       "      <td>credit</td>\n",
       "      <td>1028.15</td>\n",
       "    </tr>\n",
       "    <tr>\n",
       "      <td>3</td>\n",
       "      <td>2016-04-14</td>\n",
       "      <td>debit</td>\n",
       "      <td>4436.04</td>\n",
       "    </tr>\n",
       "    <tr>\n",
       "      <td>4</td>\n",
       "      <td>2016-04-15</td>\n",
       "      <td>credit</td>\n",
       "      <td>1086.10</td>\n",
       "    </tr>\n",
       "  </tbody>\n",
       "</table>\n",
       "</div>"
      ],
      "text/plain": [
       "         date transaction_type   amount\n",
       "0  2016-04-13           credit  1654.57\n",
       "1  2016-04-13            debit   500.00\n",
       "2  2016-04-14           credit  1028.15\n",
       "3  2016-04-14            debit  4436.04\n",
       "4  2016-04-15           credit  1086.10"
      ]
     },
     "execution_count": 75,
     "metadata": {},
     "output_type": "execute_result"
    }
   ],
   "source": [
    "df_trans4.head()"
   ]
  },
  {
   "cell_type": "code",
   "execution_count": 76,
   "metadata": {},
   "outputs": [],
   "source": [
    "df_temp4 = pd.DataFrame(df_merchant1.groupby(['date','bank_account_id'])['trans_order'].max().reset_index())"
   ]
  },
  {
   "cell_type": "code",
   "execution_count": 77,
   "metadata": {},
   "outputs": [
    {
     "data": {
      "text/html": [
       "<div>\n",
       "<style scoped>\n",
       "    .dataframe tbody tr th:only-of-type {\n",
       "        vertical-align: middle;\n",
       "    }\n",
       "\n",
       "    .dataframe tbody tr th {\n",
       "        vertical-align: top;\n",
       "    }\n",
       "\n",
       "    .dataframe thead th {\n",
       "        text-align: right;\n",
       "    }\n",
       "</style>\n",
       "<table border=\"1\" class=\"dataframe\">\n",
       "  <thead>\n",
       "    <tr style=\"text-align: right;\">\n",
       "      <th></th>\n",
       "      <th>date</th>\n",
       "      <th>bank_account_id</th>\n",
       "      <th>trans_order</th>\n",
       "    </tr>\n",
       "  </thead>\n",
       "  <tbody>\n",
       "    <tr>\n",
       "      <td>0</td>\n",
       "      <td>2016-04-13</td>\n",
       "      <td>14044</td>\n",
       "      <td>2</td>\n",
       "    </tr>\n",
       "    <tr>\n",
       "      <td>1</td>\n",
       "      <td>2016-04-14</td>\n",
       "      <td>14044</td>\n",
       "      <td>4</td>\n",
       "    </tr>\n",
       "    <tr>\n",
       "      <td>2</td>\n",
       "      <td>2016-04-15</td>\n",
       "      <td>14044</td>\n",
       "      <td>13</td>\n",
       "    </tr>\n",
       "    <tr>\n",
       "      <td>3</td>\n",
       "      <td>2016-04-18</td>\n",
       "      <td>14044</td>\n",
       "      <td>11</td>\n",
       "    </tr>\n",
       "    <tr>\n",
       "      <td>4</td>\n",
       "      <td>2016-04-19</td>\n",
       "      <td>14044</td>\n",
       "      <td>8</td>\n",
       "    </tr>\n",
       "  </tbody>\n",
       "</table>\n",
       "</div>"
      ],
      "text/plain": [
       "         date  bank_account_id  trans_order\n",
       "0  2016-04-13            14044            2\n",
       "1  2016-04-14            14044            4\n",
       "2  2016-04-15            14044           13\n",
       "3  2016-04-18            14044           11\n",
       "4  2016-04-19            14044            8"
      ]
     },
     "execution_count": 77,
     "metadata": {},
     "output_type": "execute_result"
    }
   ],
   "source": [
    "df_temp4.head()"
   ]
  },
  {
   "cell_type": "code",
   "execution_count": 78,
   "metadata": {},
   "outputs": [],
   "source": [
    "xyz4 = pd.merge(df_merchant1, df_temp4,  how='inner', on=['date','bank_account_id','trans_order'])\\\n",
    "[['date','bank_account_id','running_balance']]"
   ]
  },
  {
   "cell_type": "code",
   "execution_count": 79,
   "metadata": {},
   "outputs": [
    {
     "data": {
      "text/html": [
       "<div>\n",
       "<style scoped>\n",
       "    .dataframe tbody tr th:only-of-type {\n",
       "        vertical-align: middle;\n",
       "    }\n",
       "\n",
       "    .dataframe tbody tr th {\n",
       "        vertical-align: top;\n",
       "    }\n",
       "\n",
       "    .dataframe thead th {\n",
       "        text-align: right;\n",
       "    }\n",
       "</style>\n",
       "<table border=\"1\" class=\"dataframe\">\n",
       "  <thead>\n",
       "    <tr style=\"text-align: right;\">\n",
       "      <th></th>\n",
       "      <th>date</th>\n",
       "      <th>bank_account_id</th>\n",
       "      <th>running_balance</th>\n",
       "    </tr>\n",
       "  </thead>\n",
       "  <tbody>\n",
       "    <tr>\n",
       "      <td>0</td>\n",
       "      <td>2016-04-13</td>\n",
       "      <td>14044</td>\n",
       "      <td>9829.82</td>\n",
       "    </tr>\n",
       "    <tr>\n",
       "      <td>1</td>\n",
       "      <td>2016-04-14</td>\n",
       "      <td>14044</td>\n",
       "      <td>6421.93</td>\n",
       "    </tr>\n",
       "    <tr>\n",
       "      <td>2</td>\n",
       "      <td>2016-04-15</td>\n",
       "      <td>14044</td>\n",
       "      <td>1661.98</td>\n",
       "    </tr>\n",
       "    <tr>\n",
       "      <td>3</td>\n",
       "      <td>2016-04-18</td>\n",
       "      <td>14044</td>\n",
       "      <td>2895.68</td>\n",
       "    </tr>\n",
       "    <tr>\n",
       "      <td>4</td>\n",
       "      <td>2016-04-19</td>\n",
       "      <td>14044</td>\n",
       "      <td>8512.40</td>\n",
       "    </tr>\n",
       "  </tbody>\n",
       "</table>\n",
       "</div>"
      ],
      "text/plain": [
       "         date  bank_account_id  running_balance\n",
       "0  2016-04-13            14044          9829.82\n",
       "1  2016-04-14            14044          6421.93\n",
       "2  2016-04-15            14044          1661.98\n",
       "3  2016-04-18            14044          2895.68\n",
       "4  2016-04-19            14044          8512.40"
      ]
     },
     "execution_count": 79,
     "metadata": {},
     "output_type": "execute_result"
    }
   ],
   "source": [
    "xyz4.head()"
   ]
  },
  {
   "cell_type": "code",
   "execution_count": 80,
   "metadata": {},
   "outputs": [],
   "source": [
    "xyz_grouped1 = xyz4.groupby(['date'])[['running_balance']].sum().reset_index()"
   ]
  },
  {
   "cell_type": "code",
   "execution_count": 81,
   "metadata": {},
   "outputs": [],
   "source": [
    "xyz_grouped1 = xyz_grouped1.rename(columns = {'running_balance':'amount'})"
   ]
  },
  {
   "cell_type": "code",
   "execution_count": 82,
   "metadata": {},
   "outputs": [
    {
     "data": {
      "text/html": [
       "<div>\n",
       "<style scoped>\n",
       "    .dataframe tbody tr th:only-of-type {\n",
       "        vertical-align: middle;\n",
       "    }\n",
       "\n",
       "    .dataframe tbody tr th {\n",
       "        vertical-align: top;\n",
       "    }\n",
       "\n",
       "    .dataframe thead th {\n",
       "        text-align: right;\n",
       "    }\n",
       "</style>\n",
       "<table border=\"1\" class=\"dataframe\">\n",
       "  <thead>\n",
       "    <tr style=\"text-align: right;\">\n",
       "      <th></th>\n",
       "      <th>date</th>\n",
       "      <th>amount</th>\n",
       "    </tr>\n",
       "  </thead>\n",
       "  <tbody>\n",
       "    <tr>\n",
       "      <td>0</td>\n",
       "      <td>2016-04-13</td>\n",
       "      <td>9829.82</td>\n",
       "    </tr>\n",
       "    <tr>\n",
       "      <td>1</td>\n",
       "      <td>2016-04-14</td>\n",
       "      <td>6421.93</td>\n",
       "    </tr>\n",
       "    <tr>\n",
       "      <td>2</td>\n",
       "      <td>2016-04-15</td>\n",
       "      <td>1661.98</td>\n",
       "    </tr>\n",
       "    <tr>\n",
       "      <td>3</td>\n",
       "      <td>2016-04-18</td>\n",
       "      <td>2895.68</td>\n",
       "    </tr>\n",
       "    <tr>\n",
       "      <td>4</td>\n",
       "      <td>2016-04-19</td>\n",
       "      <td>8512.40</td>\n",
       "    </tr>\n",
       "  </tbody>\n",
       "</table>\n",
       "</div>"
      ],
      "text/plain": [
       "         date   amount\n",
       "0  2016-04-13  9829.82\n",
       "1  2016-04-14  6421.93\n",
       "2  2016-04-15  1661.98\n",
       "3  2016-04-18  2895.68\n",
       "4  2016-04-19  8512.40"
      ]
     },
     "execution_count": 82,
     "metadata": {},
     "output_type": "execute_result"
    }
   ],
   "source": [
    "xyz_grouped1.head()"
   ]
  },
  {
   "cell_type": "code",
   "execution_count": 83,
   "metadata": {},
   "outputs": [],
   "source": [
    "xyz_grouped1['transaction_type'] = 'running_balance'"
   ]
  },
  {
   "cell_type": "code",
   "execution_count": 84,
   "metadata": {},
   "outputs": [],
   "source": [
    "xyz_grouped1 = xyz_grouped1[['date','transaction_type','amount']]"
   ]
  },
  {
   "cell_type": "code",
   "execution_count": 85,
   "metadata": {},
   "outputs": [],
   "source": [
    "df_final4 = pd.concat([df_trans4,xyz_grouped1],ignore_index = False).sort_values(['date'],ascending = True)"
   ]
  },
  {
   "cell_type": "code",
   "execution_count": 86,
   "metadata": {},
   "outputs": [
    {
     "data": {
      "text/html": [
       "<div>\n",
       "<style scoped>\n",
       "    .dataframe tbody tr th:only-of-type {\n",
       "        vertical-align: middle;\n",
       "    }\n",
       "\n",
       "    .dataframe tbody tr th {\n",
       "        vertical-align: top;\n",
       "    }\n",
       "\n",
       "    .dataframe thead th {\n",
       "        text-align: right;\n",
       "    }\n",
       "</style>\n",
       "<table border=\"1\" class=\"dataframe\">\n",
       "  <thead>\n",
       "    <tr style=\"text-align: right;\">\n",
       "      <th></th>\n",
       "      <th>date</th>\n",
       "      <th>transaction_type</th>\n",
       "      <th>amount</th>\n",
       "    </tr>\n",
       "  </thead>\n",
       "  <tbody>\n",
       "    <tr>\n",
       "      <td>0</td>\n",
       "      <td>2016-04-13</td>\n",
       "      <td>credit</td>\n",
       "      <td>1654.57</td>\n",
       "    </tr>\n",
       "    <tr>\n",
       "      <td>1</td>\n",
       "      <td>2016-04-13</td>\n",
       "      <td>debit</td>\n",
       "      <td>500.00</td>\n",
       "    </tr>\n",
       "    <tr>\n",
       "      <td>0</td>\n",
       "      <td>2016-04-13</td>\n",
       "      <td>running_balance</td>\n",
       "      <td>9829.82</td>\n",
       "    </tr>\n",
       "    <tr>\n",
       "      <td>1</td>\n",
       "      <td>2016-04-14</td>\n",
       "      <td>running_balance</td>\n",
       "      <td>6421.93</td>\n",
       "    </tr>\n",
       "    <tr>\n",
       "      <td>2</td>\n",
       "      <td>2016-04-14</td>\n",
       "      <td>credit</td>\n",
       "      <td>1028.15</td>\n",
       "    </tr>\n",
       "  </tbody>\n",
       "</table>\n",
       "</div>"
      ],
      "text/plain": [
       "         date transaction_type   amount\n",
       "0  2016-04-13           credit  1654.57\n",
       "1  2016-04-13            debit   500.00\n",
       "0  2016-04-13  running_balance  9829.82\n",
       "1  2016-04-14  running_balance  6421.93\n",
       "2  2016-04-14           credit  1028.15"
      ]
     },
     "execution_count": 86,
     "metadata": {},
     "output_type": "execute_result"
    }
   ],
   "source": [
    "df_final4.head()"
   ]
  },
  {
   "cell_type": "markdown",
   "metadata": {},
   "source": [
    "###### [ans] Creating interactive plot with plotly"
   ]
  },
  {
   "cell_type": "code",
   "execution_count": 87,
   "metadata": {},
   "outputs": [
    {
     "data": {
      "application/vnd.plotly.v1+json": {
       "config": {
        "plotlyServerURL": "https://plotly.com"
       },
       "data": [
        {
         "hoverlabel": {
          "namelength": 0
         },
         "hovertemplate": "transaction_type=credit<br>date=%{x}<br>amount=%{y}",
         "legendgroup": "credit",
         "line": {
          "color": "#636efa",
          "dash": "solid"
         },
         "mode": "lines",
         "name": "credit",
         "showlegend": true,
         "type": "scatter",
         "x": [
          "2016-04-13",
          "2016-04-14",
          "2016-04-15",
          "2016-04-18",
          "2016-04-19",
          "2016-04-20",
          "2016-04-21",
          "2016-04-22",
          "2016-04-25",
          "2016-04-26",
          "2016-04-27",
          "2016-04-28",
          "2016-04-29",
          "2016-05-02",
          "2016-05-03",
          "2016-05-04",
          "2016-05-05",
          "2016-05-06",
          "2016-05-09",
          "2016-05-10",
          "2016-05-11",
          "2016-05-12",
          "2016-05-13",
          "2016-05-16",
          "2016-05-17",
          "2016-05-18",
          "2016-05-19",
          "2016-05-20",
          "2016-05-23",
          "2016-05-24",
          "2016-05-25",
          "2016-05-26",
          "2016-05-27",
          "2016-05-31",
          "2016-06-01",
          "2016-06-02",
          "2016-06-03",
          "2016-06-06",
          "2016-06-07",
          "2016-06-08",
          "2016-06-09",
          "2016-06-10",
          "2016-06-13",
          "2016-06-14",
          "2016-06-15",
          "2016-06-16",
          "2016-06-17",
          "2016-06-20",
          "2016-06-21",
          "2016-06-22",
          "2016-06-23",
          "2016-06-24",
          "2016-06-27",
          "2016-06-28",
          "2016-06-29",
          "2016-06-30",
          "2016-07-01",
          "2016-07-05",
          "2016-07-06",
          "2016-07-07",
          "2016-07-08",
          "2016-07-11",
          "2016-07-12",
          "2016-07-13",
          "2016-07-14",
          "2016-07-15",
          "2016-07-18",
          "2016-07-19",
          "2016-07-20",
          "2016-07-21",
          "2016-07-22",
          "2016-07-25",
          "2016-07-26",
          "2016-07-27",
          "2016-07-28",
          "2016-07-29",
          "2016-08-01",
          "2016-08-02",
          "2016-08-03",
          "2016-08-04",
          "2016-08-05",
          "2016-08-08",
          "2016-08-09",
          "2016-08-10",
          "2016-08-11",
          "2016-08-12",
          "2016-08-15",
          "2016-08-16",
          "2016-08-17",
          "2016-08-18",
          "2016-08-19",
          "2016-08-22",
          "2016-08-23",
          "2016-08-24",
          "2016-08-25",
          "2016-08-26",
          "2016-08-29",
          "2016-08-30",
          "2016-08-31",
          "2016-09-01",
          "2016-09-02",
          "2016-09-06",
          "2016-09-07",
          "2016-09-08",
          "2016-09-09",
          "2016-09-12",
          "2016-09-13",
          "2016-09-14",
          "2016-09-15",
          "2016-09-16",
          "2016-09-19",
          "2016-09-20",
          "2016-09-21",
          "2016-09-22",
          "2016-09-23",
          "2016-09-26",
          "2016-09-27",
          "2016-09-28",
          "2016-09-29",
          "2016-09-30",
          "2016-10-03",
          "2016-10-04",
          "2016-10-05",
          "2016-10-06",
          "2016-10-07",
          "2016-10-11",
          "2016-10-12",
          "2016-10-13",
          "2016-10-14",
          "2016-10-17",
          "2016-10-18",
          "2016-10-19",
          "2016-10-20",
          "2016-10-21",
          "2016-10-24",
          "2016-10-25",
          "2016-10-26",
          "2016-10-27",
          "2016-10-28",
          "2016-10-31",
          "2016-11-01",
          "2016-11-02",
          "2016-11-03",
          "2016-11-04",
          "2016-11-07",
          "2016-11-08",
          "2016-11-09",
          "2016-11-14",
          "2016-11-15",
          "2016-11-16",
          "2016-11-17",
          "2016-11-18",
          "2016-11-21",
          "2016-11-22",
          "2016-11-23",
          "2016-11-25",
          "2016-11-28",
          "2016-11-29",
          "2016-11-30",
          "2016-12-01",
          "2016-12-02",
          "2016-12-05",
          "2016-12-06",
          "2016-12-07",
          "2016-12-08",
          "2016-12-09",
          "2016-12-12",
          "2016-12-13",
          "2016-12-14",
          "2016-12-15",
          "2016-12-16",
          "2016-12-19",
          "2016-12-20",
          "2016-12-21",
          "2016-12-22",
          "2016-12-23",
          "2016-12-27",
          "2016-12-28",
          "2016-12-29",
          "2016-12-30",
          "2017-01-03",
          "2017-01-04",
          "2017-01-05",
          "2017-01-06",
          "2017-01-09",
          "2017-01-10",
          "2017-01-11",
          "2017-01-12",
          "2017-01-13",
          "2017-01-17",
          "2017-01-18",
          "2017-01-19",
          "2017-01-20",
          "2017-01-23",
          "2017-01-24",
          "2017-01-25",
          "2017-01-26",
          "2017-01-27",
          "2017-01-30",
          "2017-01-31",
          "2017-02-01",
          "2017-02-02",
          "2017-02-03",
          "2017-02-06",
          "2017-02-07",
          "2017-02-08",
          "2017-02-09",
          "2017-02-10",
          "2017-02-13",
          "2017-02-14",
          "2017-02-15",
          "2017-02-16",
          "2017-02-17",
          "2017-02-21",
          "2017-02-22",
          "2017-02-23"
         ],
         "xaxis": "x",
         "y": [
          1654.57,
          1028.15,
          1086.1,
          3341.06,
          6537.449999999999,
          2353.49,
          1333.37,
          1514.1,
          2846.76,
          5238.2300000000005,
          2064.7,
          1047.98,
          1997.96,
          3357.5,
          5309.74,
          2220.35,
          1671.28,
          1470.13,
          2468.83,
          4458.3,
          1689.65,
          1228.55,
          1179.08,
          3268.23,
          6241.2699999999995,
          1907.07,
          1476.9299999999998,
          1129.55,
          2602.33,
          4612.71,
          3986.33,
          1252.31,
          1280.46,
          4013.7200000000003,
          7124.12,
          1456.82,
          2030.67,
          3230.2799999999997,
          4281.62,
          2039.51,
          1701.34,
          1557.72,
          2559,
          4684.09,
          2304.77,
          1109.37,
          3495.76,
          2273,
          4247.38,
          1487.09,
          1643.02,
          1632.72,
          5924.3,
          4543.68,
          1668.54,
          1387.4099999999999,
          1363.66,
          2580.92,
          6775.47,
          730.96,
          3658.95,
          5507.53,
          10996.099999999999,
          4339.91,
          3106.58,
          2846.7599999999998,
          6177.53,
          11127.85,
          17941.23,
          2837.33,
          3310.5,
          5217.34,
          10472.24,
          3874.62,
          2630.66,
          3224.54,
          5484.620000000001,
          8383.460000000001,
          6916.17,
          3056.02,
          3861.62,
          6797.9400000000005,
          10525.91,
          4516.33,
          2705.8599999999997,
          3064.3599999999997,
          6174.02,
          11226.61,
          3846.91,
          2965.97,
          2942.3599999999997,
          5788.67,
          11228.83,
          4392.13,
          3042.14,
          3338.44,
          9593.699999999999,
          10437.02,
          3901.36,
          3171.85,
          2510.5,
          9027.36,
          13283.140000000001,
          1385.29,
          2038.43,
          5636.96,
          9223.5,
          3585.08,
          2352.88,
          2978.91,
          6350.4400000000005,
          11339.59,
          3983.37,
          2619.56,
          2557.09,
          9802.68,
          8865.87,
          3845.2,
          5618.77,
          2513.92,
          4679.83,
          11140.19,
          3900.9799999999996,
          2123.24,
          2419.29,
          4613.38,
          12145.76,
          2232.62,
          3322.4500000000003,
          4433.42,
          9742.66,
          3973.01,
          2026.1799999999998,
          2597.06,
          4053.04,
          9611.83,
          2944.03,
          1012.04,
          1178.71,
          2508.92,
          6014.279999999999,
          2127.7,
          1233.82,
          1080.81,
          1236.56,
          8183.62,
          1856.52,
          4223.860000000001,
          5734.03,
          5013.62,
          1016.19,
          1441.48,
          3679.4300000000003,
          5247.110000000001,
          2336.26,
          1260.57,
          3910.59,
          3644.58,
          1664.39,
          1915.12,
          1109.4299999999998,
          3047.5699999999997,
          5907.57,
          1716.39,
          644.74,
          1750.23,
          3032.31,
          4841.22,
          2317.1099999999997,
          1655.02,
          1645,
          3141.55,
          5387.469999999999,
          2168.95,
          1208.7,
          1566.56,
          2078.12,
          5539.11,
          510,
          2752.73,
          2825.03,
          5614.96,
          1389.09,
          11917.45,
          4340.48,
          12056.18,
          2572.05,
          2147.25,
          795.37,
          2592.01,
          7076.01,
          7371.35,
          1453.41,
          1746.3,
          6077.790000000001,
          3782.88,
          1157.24,
          1170.09,
          3133.9,
          5589.39,
          2550.67,
          1226.0900000000001,
          4061.81,
          2209.19,
          4819.63,
          889.04,
          1035.53,
          2233.11,
          1710.62,
          7037.18,
          2387.73,
          1004.53,
          1606.22,
          2767.1,
          7012.81,
          1926.29
         ],
         "yaxis": "y"
        },
        {
         "hoverlabel": {
          "namelength": 0
         },
         "hovertemplate": "transaction_type=debit<br>date=%{x}<br>amount=%{y}",
         "legendgroup": "debit",
         "line": {
          "color": "#EF553B",
          "dash": "solid"
         },
         "mode": "lines",
         "name": "debit",
         "showlegend": true,
         "type": "scatter",
         "x": [
          "2016-04-13",
          "2016-04-14",
          "2016-04-15",
          "2016-04-18",
          "2016-04-19",
          "2016-04-20",
          "2016-04-21",
          "2016-04-22",
          "2016-04-25",
          "2016-04-27",
          "2016-04-29",
          "2016-05-02",
          "2016-05-03",
          "2016-05-04",
          "2016-05-05",
          "2016-05-06",
          "2016-05-09",
          "2016-05-10",
          "2016-05-11",
          "2016-05-12",
          "2016-05-13",
          "2016-05-16",
          "2016-05-17",
          "2016-05-18",
          "2016-05-19",
          "2016-05-20",
          "2016-05-23",
          "2016-05-24",
          "2016-05-25",
          "2016-05-27",
          "2016-05-31",
          "2016-06-01",
          "2016-06-03",
          "2016-06-06",
          "2016-06-07",
          "2016-06-08",
          "2016-06-10",
          "2016-06-13",
          "2016-06-14",
          "2016-06-15",
          "2016-06-16",
          "2016-06-17",
          "2016-06-20",
          "2016-06-21",
          "2016-06-22",
          "2016-06-23",
          "2016-06-24",
          "2016-06-27",
          "2016-06-28",
          "2016-06-29",
          "2016-06-30",
          "2016-07-01",
          "2016-07-05",
          "2016-07-06",
          "2016-07-07",
          "2016-07-08",
          "2016-07-11",
          "2016-07-12",
          "2016-07-13",
          "2016-07-14",
          "2016-07-15",
          "2016-07-18",
          "2016-07-19",
          "2016-07-20",
          "2016-07-21",
          "2016-07-22",
          "2016-07-25",
          "2016-07-26",
          "2016-07-27",
          "2016-07-28",
          "2016-07-29",
          "2016-08-01",
          "2016-08-02",
          "2016-08-03",
          "2016-08-04",
          "2016-08-05",
          "2016-08-08",
          "2016-08-09",
          "2016-08-10",
          "2016-08-11",
          "2016-08-12",
          "2016-08-15",
          "2016-08-16",
          "2016-08-17",
          "2016-08-18",
          "2016-08-19",
          "2016-08-22",
          "2016-08-23",
          "2016-08-24",
          "2016-08-25",
          "2016-08-26",
          "2016-08-29",
          "2016-08-30",
          "2016-08-31",
          "2016-09-01",
          "2016-09-02",
          "2016-09-06",
          "2016-09-07",
          "2016-09-08",
          "2016-09-09",
          "2016-09-12",
          "2016-09-13",
          "2016-09-14",
          "2016-09-15",
          "2016-09-16",
          "2016-09-19",
          "2016-09-20",
          "2016-09-21",
          "2016-09-22",
          "2016-09-23",
          "2016-09-26",
          "2016-09-27",
          "2016-09-28",
          "2016-09-30",
          "2016-10-03",
          "2016-10-04",
          "2016-10-05",
          "2016-10-06",
          "2016-10-07",
          "2016-10-11",
          "2016-10-12",
          "2016-10-13",
          "2016-10-14",
          "2016-10-17",
          "2016-10-18",
          "2016-10-19",
          "2016-10-20",
          "2016-10-21",
          "2016-10-24",
          "2016-10-25",
          "2016-10-26",
          "2016-10-27",
          "2016-10-28",
          "2016-10-31",
          "2016-11-01",
          "2016-11-02",
          "2016-11-03",
          "2016-11-04",
          "2016-11-07",
          "2016-11-08",
          "2016-11-09",
          "2016-11-10",
          "2016-11-14",
          "2016-11-15",
          "2016-11-16",
          "2016-11-17",
          "2016-11-18",
          "2016-11-21",
          "2016-11-22",
          "2016-11-23",
          "2016-11-25",
          "2016-11-28",
          "2016-11-29",
          "2016-11-30",
          "2016-12-01",
          "2016-12-02",
          "2016-12-05",
          "2016-12-06",
          "2016-12-07",
          "2016-12-08",
          "2016-12-09",
          "2016-12-12",
          "2016-12-13",
          "2016-12-14",
          "2016-12-15",
          "2016-12-16",
          "2016-12-19",
          "2016-12-20",
          "2016-12-21",
          "2016-12-22",
          "2016-12-23",
          "2016-12-27",
          "2016-12-28",
          "2016-12-29",
          "2016-12-30",
          "2017-01-03",
          "2017-01-04",
          "2017-01-05",
          "2017-01-06",
          "2017-01-09",
          "2017-01-10",
          "2017-01-11",
          "2017-01-12",
          "2017-01-13",
          "2017-01-17",
          "2017-01-18",
          "2017-01-19",
          "2017-01-20",
          "2017-01-23",
          "2017-01-24",
          "2017-01-25",
          "2017-01-26",
          "2017-01-27",
          "2017-01-30",
          "2017-01-31",
          "2017-02-01",
          "2017-02-02",
          "2017-02-03",
          "2017-02-06",
          "2017-02-07",
          "2017-02-08",
          "2017-02-09",
          "2017-02-10",
          "2017-02-13",
          "2017-02-14",
          "2017-02-15",
          "2017-02-16",
          "2017-02-17",
          "2017-02-21",
          "2017-02-22",
          "2017-02-23"
         ],
         "xaxis": "x",
         "y": [
          500,
          4436.04,
          5846.049999999999,
          2107.36,
          920.73,
          3564.6,
          917.6,
          236.52,
          1447.66,
          4035.65,
          5541.32,
          15602.36,
          1073.95,
          375.6,
          353.32,
          4228.44,
          495.16,
          3028.06,
          276.37,
          3229.77,
          6026.48,
          2780.15,
          1746.7,
          1572.17,
          4420,
          403.01,
          8342.470000000001,
          308.42,
          1044.75,
          4550,
          6510.52,
          1365.94,
          2266.49,
          5165.15,
          1722.98,
          4011.2,
          6593.24,
          1276.1799999999998,
          4237.85,
          623.89,
          9181.01,
          590.69,
          386.63,
          5235.049999999999,
          335.07,
          135.99,
          6960.29,
          1931.81,
          6419.830000000001,
          1359.6999999999998,
          453.78999999999996,
          45.76,
          4422.209999999999,
          995.7700000000001,
          1527.8,
          6834.4,
          4530.7,
          9064.640000000001,
          1756.59,
          2488.29,
          1957.17,
          7742.309999999998,
          9000.810000000001,
          477.68,
          265.3,
          10770.82,
          17980.04,
          14869.140000000001,
          4326.57,
          458.83,
          15,
          9629.369999999999,
          7991.610000000001,
          2328.93,
          225.79999999999998,
          9977.25,
          8807.960000000001,
          7330.6,
          10946.760000000002,
          771.3900000000001,
          581.38,
          8901.97,
          7379.18,
          442.63,
          238.85,
          11477.84,
          6928.04,
          10815.4,
          2779.2900000000004,
          4107.74,
          736.6800000000001,
          4430.17,
          13744.57,
          294.41,
          1977.9,
          10553.87,
          11866.19,
          10555.920000000002,
          68.13,
          3544.15,
          7139.78,
          8506.9,
          1813.78,
          699.25,
          9785.23,
          6135.04,
          4117.69,
          8396.529999999999,
          4828,
          886.58,
          5726.709999999999,
          9154.42,
          7988.860000000001,
          9284.88,
          5368.57,
          4527.079999999999,
          9221.42,
          717.74,
          542.6600000000001,
          9063.220000000001,
          469.3,
          8292.14,
          12019.08,
          5258.24,
          3453.96,
          7056.580000000001,
          922.22,
          1884.63,
          1124.21,
          137.98,
          143.96,
          4975.26,
          6532.4,
          7339.54,
          2348.6299999999997,
          4677.15,
          2922.25,
          19.95,
          1390.9200000000003,
          4647.27,
          471.95000000000005,
          3623.6800000000003,
          6735.35,
          1338.63,
          15403.77,
          560.7,
          542.5,
          664.71,
          3659.91,
          1062.23,
          5049.2,
          4099.329999999999,
          2130.5099999999998,
          6617.17,
          110,
          500,
          2427.89,
          4607.030000000001,
          317.47999999999996,
          679.89,
          5043.8,
          4418.49,
          4661.9,
          931.73,
          19.4,
          123.56,
          1091.59,
          3860.7200000000003,
          681.79,
          2701.4800000000005,
          5030.59,
          8334.279999999999,
          5243.759999999999,
          263.48,
          99.69999999999999,
          4204.81,
          1427.5100000000002,
          1496.33,
          4126.720000000001,
          9495.029999999999,
          7638.87,
          4436.32,
          11528.1,
          19,
          2100.1200000000003,
          111.15,
          759.5,
          14349.429999999998,
          4373.429999999999,
          196.23000000000002,
          6062.09,
          1335.43,
          641.09,
          454.65000000000003,
          5300.95,
          6533.06,
          1653.38,
          4934.55,
          4238.3,
          1633.7400000000002,
          4189.7300000000005,
          454.38,
          1059.66,
          191.82999999999998,
          5079.77,
          1473.25,
          178.8,
          6584.55,
          4010.75,
          6406.52,
          632.7699999999999
         ],
         "yaxis": "y"
        },
        {
         "hoverlabel": {
          "namelength": 0
         },
         "hovertemplate": "transaction_type=running_balance<br>date=%{x}<br>amount=%{y}",
         "legendgroup": "running_balance",
         "line": {
          "color": "#00cc96",
          "dash": "solid"
         },
         "mode": "lines",
         "name": "running_balance",
         "showlegend": true,
         "type": "scatter",
         "x": [
          "2016-04-13",
          "2016-04-14",
          "2016-04-15",
          "2016-04-18",
          "2016-04-19",
          "2016-04-20",
          "2016-04-21",
          "2016-04-22",
          "2016-04-25",
          "2016-04-26",
          "2016-04-27",
          "2016-04-28",
          "2016-04-29",
          "2016-05-02",
          "2016-05-03",
          "2016-05-04",
          "2016-05-05",
          "2016-05-06",
          "2016-05-09",
          "2016-05-10",
          "2016-05-11",
          "2016-05-12",
          "2016-05-13",
          "2016-05-16",
          "2016-05-17",
          "2016-05-18",
          "2016-05-19",
          "2016-05-20",
          "2016-05-23",
          "2016-05-24",
          "2016-05-25",
          "2016-05-26",
          "2016-05-27",
          "2016-05-31",
          "2016-06-01",
          "2016-06-02",
          "2016-06-03",
          "2016-06-06",
          "2016-06-07",
          "2016-06-08",
          "2016-06-09",
          "2016-06-10",
          "2016-06-13",
          "2016-06-14",
          "2016-06-15",
          "2016-06-16",
          "2016-06-17",
          "2016-06-20",
          "2016-06-21",
          "2016-06-22",
          "2016-06-23",
          "2016-06-24",
          "2016-06-27",
          "2016-06-28",
          "2016-06-29",
          "2016-06-30",
          "2016-07-01",
          "2016-07-05",
          "2016-07-06",
          "2016-07-07",
          "2016-07-08",
          "2016-07-11",
          "2016-07-12",
          "2016-07-13",
          "2016-07-14",
          "2016-07-15",
          "2016-07-18",
          "2016-07-19",
          "2016-07-20",
          "2016-07-21",
          "2016-07-22",
          "2016-07-25",
          "2016-07-26",
          "2016-07-27",
          "2016-07-28",
          "2016-07-29",
          "2016-08-01",
          "2016-08-02",
          "2016-08-03",
          "2016-08-04",
          "2016-08-05",
          "2016-08-08",
          "2016-08-09",
          "2016-08-10",
          "2016-08-11",
          "2016-08-12",
          "2016-08-15",
          "2016-08-16",
          "2016-08-17",
          "2016-08-18",
          "2016-08-19",
          "2016-08-22",
          "2016-08-23",
          "2016-08-24",
          "2016-08-25",
          "2016-08-26",
          "2016-08-29",
          "2016-08-30",
          "2016-08-31",
          "2016-09-01",
          "2016-09-02",
          "2016-09-06",
          "2016-09-07",
          "2016-09-08",
          "2016-09-09",
          "2016-09-12",
          "2016-09-13",
          "2016-09-14",
          "2016-09-15",
          "2016-09-16",
          "2016-09-19",
          "2016-09-20",
          "2016-09-21",
          "2016-09-22",
          "2016-09-23",
          "2016-09-26",
          "2016-09-27",
          "2016-09-28",
          "2016-09-29",
          "2016-09-30",
          "2016-10-03",
          "2016-10-04",
          "2016-10-05",
          "2016-10-06",
          "2016-10-07",
          "2016-10-11",
          "2016-10-12",
          "2016-10-13",
          "2016-10-14",
          "2016-10-17",
          "2016-10-18",
          "2016-10-19",
          "2016-10-20",
          "2016-10-21",
          "2016-10-24",
          "2016-10-25",
          "2016-10-26",
          "2016-10-27",
          "2016-10-28",
          "2016-10-31",
          "2016-11-01",
          "2016-11-02",
          "2016-11-03",
          "2016-11-04",
          "2016-11-07",
          "2016-11-08",
          "2016-11-09",
          "2016-11-10",
          "2016-11-14",
          "2016-11-15",
          "2016-11-16",
          "2016-11-17",
          "2016-11-18",
          "2016-11-21",
          "2016-11-22",
          "2016-11-23",
          "2016-11-25",
          "2016-11-28",
          "2016-11-29",
          "2016-11-30",
          "2016-12-01",
          "2016-12-02",
          "2016-12-05",
          "2016-12-06",
          "2016-12-07",
          "2016-12-08",
          "2016-12-09",
          "2016-12-12",
          "2016-12-13",
          "2016-12-14",
          "2016-12-15",
          "2016-12-16",
          "2016-12-19",
          "2016-12-20",
          "2016-12-21",
          "2016-12-22",
          "2016-12-23",
          "2016-12-27",
          "2016-12-28",
          "2016-12-29",
          "2016-12-30",
          "2017-01-03",
          "2017-01-04",
          "2017-01-05",
          "2017-01-06",
          "2017-01-09",
          "2017-01-10",
          "2017-01-11",
          "2017-01-12",
          "2017-01-13",
          "2017-01-17",
          "2017-01-18",
          "2017-01-19",
          "2017-01-20",
          "2017-01-23",
          "2017-01-24",
          "2017-01-25",
          "2017-01-26",
          "2017-01-27",
          "2017-01-30",
          "2017-01-31",
          "2017-02-01",
          "2017-02-02",
          "2017-02-03",
          "2017-02-06",
          "2017-02-07",
          "2017-02-08",
          "2017-02-09",
          "2017-02-10",
          "2017-02-13",
          "2017-02-14",
          "2017-02-15",
          "2017-02-16",
          "2017-02-17",
          "2017-02-21",
          "2017-02-22",
          "2017-02-23"
         ],
         "xaxis": "x",
         "y": [
          9829.82,
          6421.93,
          1661.98,
          2895.68,
          8512.4,
          7301.29,
          7717.06,
          8994.64,
          10393.74,
          15631.97,
          13661.02,
          14709,
          11165.64,
          -1079.22,
          3156.57,
          5001.32,
          6319.28,
          3560.97,
          5534.64,
          6964.88,
          8378.16,
          6376.94,
          1529.54,
          2017.62,
          6512.19,
          6847.09,
          3904.02,
          4630.56,
          -1109.58,
          3194.71,
          6136.29,
          7388.6,
          4119.06,
          1622.26,
          7380.44,
          8837.26,
          8601.44,
          6666.57,
          9225.21,
          7253.52,
          8954.86,
          3919.34,
          5202.16,
          5648.4,
          7329.28,
          -742.36,
          2162.71,
          4049.08,
          3061.41,
          4213.43,
          5720.46,
          392.89,
          4385.38,
          2509.23,
          2818.07,
          3751.69,
          5069.59,
          3228.3,
          9008,
          8211.16,
          5126.49,
          6103.32,
          8034.780000000001,
          10618.1,
          11236.39,
          12125.98,
          10561.199999999999,
          12688.24,
          30151.79,
          32723.82,
          25263.5,
          12500.800000000001,
          8103.9,
          7651.950000000001,
          9823.779999999999,
          13033.32,
          8888.57,
          9280.42,
          13867.66,
          16697.88,
          10582.25,
          8572.23,
          11767.54,
          5337.11,
          7271.58,
          9754.56,
          7026.610000000001,
          10874.04,
          14278.32,
          17005.440000000002,
          8469.96,
          7330.59,
          7744.02,
          9356.86,
          8291.26,
          10893.02,
          16056.55,
          12749,
          16355.95,
          17549.9,
          9506.529999999999,
          6667.7,
          9394.92,
          10712.08,
          9206.36,
          7703.54,
          8420.14,
          10191.44,
          11845.07,
          5038.75,
          5254.15,
          12476.05,
          8062.889999999999,
          5854.450000000001,
          7524.96,
          11600.93,
          11312.380000000001,
          7168.719999999999,
          12787.490000000002,
          6016.53,
          5327.79,
          11940.9,
          6620.46,
          8025.96,
          9902.59,
          5452.75,
          17129.21,
          11069.69,
          2373.06,
          1548.24,
          7836.9400000000005,
          4753.37,
          5857.33,
          6569.76,
          9498.59,
          18972.440000000002,
          21772.510000000002,
          17809.29,
          12455.6,
          7624.98,
          11290.630000000001,
          8741.18,
          7052.75,
          5400.55,
          7959.25,
          11495.6,
          12880.169999999998,
          9256.49,
          6745,
          8796.11,
          750.25,
          1105.74,
          2104.7200000000003,
          5119.44,
          5806.64,
          7080.67,
          4192.04,
          3603.3,
          5117.37,
          564.59,
          2369.71,
          2979.14,
          3699.36,
          4899.36,
          6298.27,
          6313.12,
          3019.5499999999997,
          1633.3700000000001,
          1772.05,
          3157.43,
          4793.05,
          6314.49,
          8405.09,
          9391.2,
          10878.36,
          9926.22,
          6421.55,
          165.39,
          460.74,
          707.26,
          3400.93,
          1990.51,
          6208.6,
          6104.72,
          13892.09,
          8737.54,
          13154.849999999999,
          7342.38,
          1909.73,
          1361.7,
          3177.99,
          9139.1,
          15750.95,
          3858.68,
          727.8,
          6609.36,
          4884.4400000000005,
          2631.25,
          3160.25,
          5839.5,
          8152.94,
          4170.55,
          3407.26,
          2870.52,
          580.41,
          3766.3,
          465.61,
          1046.76,
          2220.21,
          3739,
          5696.41,
          6610.89,
          7436.62,
          2458.29,
          1214.64,
          1820.93,
          3114.45
         ],
         "yaxis": "y"
        }
       ],
       "layout": {
        "legend": {
         "title": {
          "text": "transaction_type"
         },
         "tracegroupgap": 0
        },
        "template": {
         "data": {
          "bar": [
           {
            "error_x": {
             "color": "#2a3f5f"
            },
            "error_y": {
             "color": "#2a3f5f"
            },
            "marker": {
             "line": {
              "color": "#E5ECF6",
              "width": 0.5
             }
            },
            "type": "bar"
           }
          ],
          "barpolar": [
           {
            "marker": {
             "line": {
              "color": "#E5ECF6",
              "width": 0.5
             }
            },
            "type": "barpolar"
           }
          ],
          "carpet": [
           {
            "aaxis": {
             "endlinecolor": "#2a3f5f",
             "gridcolor": "white",
             "linecolor": "white",
             "minorgridcolor": "white",
             "startlinecolor": "#2a3f5f"
            },
            "baxis": {
             "endlinecolor": "#2a3f5f",
             "gridcolor": "white",
             "linecolor": "white",
             "minorgridcolor": "white",
             "startlinecolor": "#2a3f5f"
            },
            "type": "carpet"
           }
          ],
          "choropleth": [
           {
            "colorbar": {
             "outlinewidth": 0,
             "ticks": ""
            },
            "type": "choropleth"
           }
          ],
          "contour": [
           {
            "colorbar": {
             "outlinewidth": 0,
             "ticks": ""
            },
            "colorscale": [
             [
              0,
              "#0d0887"
             ],
             [
              0.1111111111111111,
              "#46039f"
             ],
             [
              0.2222222222222222,
              "#7201a8"
             ],
             [
              0.3333333333333333,
              "#9c179e"
             ],
             [
              0.4444444444444444,
              "#bd3786"
             ],
             [
              0.5555555555555556,
              "#d8576b"
             ],
             [
              0.6666666666666666,
              "#ed7953"
             ],
             [
              0.7777777777777778,
              "#fb9f3a"
             ],
             [
              0.8888888888888888,
              "#fdca26"
             ],
             [
              1,
              "#f0f921"
             ]
            ],
            "type": "contour"
           }
          ],
          "contourcarpet": [
           {
            "colorbar": {
             "outlinewidth": 0,
             "ticks": ""
            },
            "type": "contourcarpet"
           }
          ],
          "heatmap": [
           {
            "colorbar": {
             "outlinewidth": 0,
             "ticks": ""
            },
            "colorscale": [
             [
              0,
              "#0d0887"
             ],
             [
              0.1111111111111111,
              "#46039f"
             ],
             [
              0.2222222222222222,
              "#7201a8"
             ],
             [
              0.3333333333333333,
              "#9c179e"
             ],
             [
              0.4444444444444444,
              "#bd3786"
             ],
             [
              0.5555555555555556,
              "#d8576b"
             ],
             [
              0.6666666666666666,
              "#ed7953"
             ],
             [
              0.7777777777777778,
              "#fb9f3a"
             ],
             [
              0.8888888888888888,
              "#fdca26"
             ],
             [
              1,
              "#f0f921"
             ]
            ],
            "type": "heatmap"
           }
          ],
          "heatmapgl": [
           {
            "colorbar": {
             "outlinewidth": 0,
             "ticks": ""
            },
            "colorscale": [
             [
              0,
              "#0d0887"
             ],
             [
              0.1111111111111111,
              "#46039f"
             ],
             [
              0.2222222222222222,
              "#7201a8"
             ],
             [
              0.3333333333333333,
              "#9c179e"
             ],
             [
              0.4444444444444444,
              "#bd3786"
             ],
             [
              0.5555555555555556,
              "#d8576b"
             ],
             [
              0.6666666666666666,
              "#ed7953"
             ],
             [
              0.7777777777777778,
              "#fb9f3a"
             ],
             [
              0.8888888888888888,
              "#fdca26"
             ],
             [
              1,
              "#f0f921"
             ]
            ],
            "type": "heatmapgl"
           }
          ],
          "histogram": [
           {
            "marker": {
             "colorbar": {
              "outlinewidth": 0,
              "ticks": ""
             }
            },
            "type": "histogram"
           }
          ],
          "histogram2d": [
           {
            "colorbar": {
             "outlinewidth": 0,
             "ticks": ""
            },
            "colorscale": [
             [
              0,
              "#0d0887"
             ],
             [
              0.1111111111111111,
              "#46039f"
             ],
             [
              0.2222222222222222,
              "#7201a8"
             ],
             [
              0.3333333333333333,
              "#9c179e"
             ],
             [
              0.4444444444444444,
              "#bd3786"
             ],
             [
              0.5555555555555556,
              "#d8576b"
             ],
             [
              0.6666666666666666,
              "#ed7953"
             ],
             [
              0.7777777777777778,
              "#fb9f3a"
             ],
             [
              0.8888888888888888,
              "#fdca26"
             ],
             [
              1,
              "#f0f921"
             ]
            ],
            "type": "histogram2d"
           }
          ],
          "histogram2dcontour": [
           {
            "colorbar": {
             "outlinewidth": 0,
             "ticks": ""
            },
            "colorscale": [
             [
              0,
              "#0d0887"
             ],
             [
              0.1111111111111111,
              "#46039f"
             ],
             [
              0.2222222222222222,
              "#7201a8"
             ],
             [
              0.3333333333333333,
              "#9c179e"
             ],
             [
              0.4444444444444444,
              "#bd3786"
             ],
             [
              0.5555555555555556,
              "#d8576b"
             ],
             [
              0.6666666666666666,
              "#ed7953"
             ],
             [
              0.7777777777777778,
              "#fb9f3a"
             ],
             [
              0.8888888888888888,
              "#fdca26"
             ],
             [
              1,
              "#f0f921"
             ]
            ],
            "type": "histogram2dcontour"
           }
          ],
          "mesh3d": [
           {
            "colorbar": {
             "outlinewidth": 0,
             "ticks": ""
            },
            "type": "mesh3d"
           }
          ],
          "parcoords": [
           {
            "line": {
             "colorbar": {
              "outlinewidth": 0,
              "ticks": ""
             }
            },
            "type": "parcoords"
           }
          ],
          "pie": [
           {
            "automargin": true,
            "type": "pie"
           }
          ],
          "scatter": [
           {
            "marker": {
             "colorbar": {
              "outlinewidth": 0,
              "ticks": ""
             }
            },
            "type": "scatter"
           }
          ],
          "scatter3d": [
           {
            "line": {
             "colorbar": {
              "outlinewidth": 0,
              "ticks": ""
             }
            },
            "marker": {
             "colorbar": {
              "outlinewidth": 0,
              "ticks": ""
             }
            },
            "type": "scatter3d"
           }
          ],
          "scattercarpet": [
           {
            "marker": {
             "colorbar": {
              "outlinewidth": 0,
              "ticks": ""
             }
            },
            "type": "scattercarpet"
           }
          ],
          "scattergeo": [
           {
            "marker": {
             "colorbar": {
              "outlinewidth": 0,
              "ticks": ""
             }
            },
            "type": "scattergeo"
           }
          ],
          "scattergl": [
           {
            "marker": {
             "colorbar": {
              "outlinewidth": 0,
              "ticks": ""
             }
            },
            "type": "scattergl"
           }
          ],
          "scattermapbox": [
           {
            "marker": {
             "colorbar": {
              "outlinewidth": 0,
              "ticks": ""
             }
            },
            "type": "scattermapbox"
           }
          ],
          "scatterpolar": [
           {
            "marker": {
             "colorbar": {
              "outlinewidth": 0,
              "ticks": ""
             }
            },
            "type": "scatterpolar"
           }
          ],
          "scatterpolargl": [
           {
            "marker": {
             "colorbar": {
              "outlinewidth": 0,
              "ticks": ""
             }
            },
            "type": "scatterpolargl"
           }
          ],
          "scatterternary": [
           {
            "marker": {
             "colorbar": {
              "outlinewidth": 0,
              "ticks": ""
             }
            },
            "type": "scatterternary"
           }
          ],
          "surface": [
           {
            "colorbar": {
             "outlinewidth": 0,
             "ticks": ""
            },
            "colorscale": [
             [
              0,
              "#0d0887"
             ],
             [
              0.1111111111111111,
              "#46039f"
             ],
             [
              0.2222222222222222,
              "#7201a8"
             ],
             [
              0.3333333333333333,
              "#9c179e"
             ],
             [
              0.4444444444444444,
              "#bd3786"
             ],
             [
              0.5555555555555556,
              "#d8576b"
             ],
             [
              0.6666666666666666,
              "#ed7953"
             ],
             [
              0.7777777777777778,
              "#fb9f3a"
             ],
             [
              0.8888888888888888,
              "#fdca26"
             ],
             [
              1,
              "#f0f921"
             ]
            ],
            "type": "surface"
           }
          ],
          "table": [
           {
            "cells": {
             "fill": {
              "color": "#EBF0F8"
             },
             "line": {
              "color": "white"
             }
            },
            "header": {
             "fill": {
              "color": "#C8D4E3"
             },
             "line": {
              "color": "white"
             }
            },
            "type": "table"
           }
          ]
         },
         "layout": {
          "annotationdefaults": {
           "arrowcolor": "#2a3f5f",
           "arrowhead": 0,
           "arrowwidth": 1
          },
          "coloraxis": {
           "colorbar": {
            "outlinewidth": 0,
            "ticks": ""
           }
          },
          "colorscale": {
           "diverging": [
            [
             0,
             "#8e0152"
            ],
            [
             0.1,
             "#c51b7d"
            ],
            [
             0.2,
             "#de77ae"
            ],
            [
             0.3,
             "#f1b6da"
            ],
            [
             0.4,
             "#fde0ef"
            ],
            [
             0.5,
             "#f7f7f7"
            ],
            [
             0.6,
             "#e6f5d0"
            ],
            [
             0.7,
             "#b8e186"
            ],
            [
             0.8,
             "#7fbc41"
            ],
            [
             0.9,
             "#4d9221"
            ],
            [
             1,
             "#276419"
            ]
           ],
           "sequential": [
            [
             0,
             "#0d0887"
            ],
            [
             0.1111111111111111,
             "#46039f"
            ],
            [
             0.2222222222222222,
             "#7201a8"
            ],
            [
             0.3333333333333333,
             "#9c179e"
            ],
            [
             0.4444444444444444,
             "#bd3786"
            ],
            [
             0.5555555555555556,
             "#d8576b"
            ],
            [
             0.6666666666666666,
             "#ed7953"
            ],
            [
             0.7777777777777778,
             "#fb9f3a"
            ],
            [
             0.8888888888888888,
             "#fdca26"
            ],
            [
             1,
             "#f0f921"
            ]
           ],
           "sequentialminus": [
            [
             0,
             "#0d0887"
            ],
            [
             0.1111111111111111,
             "#46039f"
            ],
            [
             0.2222222222222222,
             "#7201a8"
            ],
            [
             0.3333333333333333,
             "#9c179e"
            ],
            [
             0.4444444444444444,
             "#bd3786"
            ],
            [
             0.5555555555555556,
             "#d8576b"
            ],
            [
             0.6666666666666666,
             "#ed7953"
            ],
            [
             0.7777777777777778,
             "#fb9f3a"
            ],
            [
             0.8888888888888888,
             "#fdca26"
            ],
            [
             1,
             "#f0f921"
            ]
           ]
          },
          "colorway": [
           "#636efa",
           "#EF553B",
           "#00cc96",
           "#ab63fa",
           "#FFA15A",
           "#19d3f3",
           "#FF6692",
           "#B6E880",
           "#FF97FF",
           "#FECB52"
          ],
          "font": {
           "color": "#2a3f5f"
          },
          "geo": {
           "bgcolor": "white",
           "lakecolor": "white",
           "landcolor": "#E5ECF6",
           "showlakes": true,
           "showland": true,
           "subunitcolor": "white"
          },
          "hoverlabel": {
           "align": "left"
          },
          "hovermode": "closest",
          "mapbox": {
           "style": "light"
          },
          "paper_bgcolor": "white",
          "plot_bgcolor": "#E5ECF6",
          "polar": {
           "angularaxis": {
            "gridcolor": "white",
            "linecolor": "white",
            "ticks": ""
           },
           "bgcolor": "#E5ECF6",
           "radialaxis": {
            "gridcolor": "white",
            "linecolor": "white",
            "ticks": ""
           }
          },
          "scene": {
           "xaxis": {
            "backgroundcolor": "#E5ECF6",
            "gridcolor": "white",
            "gridwidth": 2,
            "linecolor": "white",
            "showbackground": true,
            "ticks": "",
            "zerolinecolor": "white"
           },
           "yaxis": {
            "backgroundcolor": "#E5ECF6",
            "gridcolor": "white",
            "gridwidth": 2,
            "linecolor": "white",
            "showbackground": true,
            "ticks": "",
            "zerolinecolor": "white"
           },
           "zaxis": {
            "backgroundcolor": "#E5ECF6",
            "gridcolor": "white",
            "gridwidth": 2,
            "linecolor": "white",
            "showbackground": true,
            "ticks": "",
            "zerolinecolor": "white"
           }
          },
          "shapedefaults": {
           "line": {
            "color": "#2a3f5f"
           }
          },
          "ternary": {
           "aaxis": {
            "gridcolor": "white",
            "linecolor": "white",
            "ticks": ""
           },
           "baxis": {
            "gridcolor": "white",
            "linecolor": "white",
            "ticks": ""
           },
           "bgcolor": "#E5ECF6",
           "caxis": {
            "gridcolor": "white",
            "linecolor": "white",
            "ticks": ""
           }
          },
          "title": {
           "x": 0.05
          },
          "xaxis": {
           "automargin": true,
           "gridcolor": "white",
           "linecolor": "white",
           "ticks": "",
           "title": {
            "standoff": 15
           },
           "zerolinecolor": "white",
           "zerolinewidth": 2
          },
          "yaxis": {
           "automargin": true,
           "gridcolor": "white",
           "linecolor": "white",
           "ticks": "",
           "title": {
            "standoff": 15
           },
           "zerolinecolor": "white",
           "zerolinewidth": 2
          }
         }
        },
        "title": {
         "text": "Lead ID : 326062, Aggregated on all bank accounts"
        },
        "xaxis": {
         "anchor": "y",
         "domain": [
          0,
          1
         ],
         "title": {
          "text": "date"
         }
        },
        "yaxis": {
         "anchor": "x",
         "domain": [
          0,
          1
         ],
         "title": {
          "text": "amount"
         }
        }
       }
      },
      "text/html": [
       "<div>\n",
       "        \n",
       "        \n",
       "            <div id=\"e4450523-2425-4144-a2ad-981de7e79b57\" class=\"plotly-graph-div\" style=\"height:525px; width:100%;\"></div>\n",
       "            <script type=\"text/javascript\">\n",
       "                require([\"plotly\"], function(Plotly) {\n",
       "                    window.PLOTLYENV=window.PLOTLYENV || {};\n",
       "                    \n",
       "                if (document.getElementById(\"e4450523-2425-4144-a2ad-981de7e79b57\")) {\n",
       "                    Plotly.newPlot(\n",
       "                        'e4450523-2425-4144-a2ad-981de7e79b57',\n",
       "                        [{\"hoverlabel\": {\"namelength\": 0}, \"hovertemplate\": \"transaction_type=credit<br>date=%{x}<br>amount=%{y}\", \"legendgroup\": \"credit\", \"line\": {\"color\": \"#636efa\", \"dash\": \"solid\"}, \"mode\": \"lines\", \"name\": \"credit\", \"showlegend\": true, \"type\": \"scatter\", \"x\": [\"2016-04-13\", \"2016-04-14\", \"2016-04-15\", \"2016-04-18\", \"2016-04-19\", \"2016-04-20\", \"2016-04-21\", \"2016-04-22\", \"2016-04-25\", \"2016-04-26\", \"2016-04-27\", \"2016-04-28\", \"2016-04-29\", \"2016-05-02\", \"2016-05-03\", \"2016-05-04\", \"2016-05-05\", \"2016-05-06\", \"2016-05-09\", \"2016-05-10\", \"2016-05-11\", \"2016-05-12\", \"2016-05-13\", \"2016-05-16\", \"2016-05-17\", \"2016-05-18\", \"2016-05-19\", \"2016-05-20\", \"2016-05-23\", \"2016-05-24\", \"2016-05-25\", \"2016-05-26\", \"2016-05-27\", \"2016-05-31\", \"2016-06-01\", \"2016-06-02\", \"2016-06-03\", \"2016-06-06\", \"2016-06-07\", \"2016-06-08\", \"2016-06-09\", \"2016-06-10\", \"2016-06-13\", \"2016-06-14\", \"2016-06-15\", \"2016-06-16\", \"2016-06-17\", \"2016-06-20\", \"2016-06-21\", \"2016-06-22\", \"2016-06-23\", \"2016-06-24\", \"2016-06-27\", \"2016-06-28\", \"2016-06-29\", \"2016-06-30\", \"2016-07-01\", \"2016-07-05\", \"2016-07-06\", \"2016-07-07\", \"2016-07-08\", \"2016-07-11\", \"2016-07-12\", \"2016-07-13\", \"2016-07-14\", \"2016-07-15\", \"2016-07-18\", \"2016-07-19\", \"2016-07-20\", \"2016-07-21\", \"2016-07-22\", \"2016-07-25\", \"2016-07-26\", \"2016-07-27\", \"2016-07-28\", \"2016-07-29\", \"2016-08-01\", \"2016-08-02\", \"2016-08-03\", \"2016-08-04\", \"2016-08-05\", \"2016-08-08\", \"2016-08-09\", \"2016-08-10\", \"2016-08-11\", \"2016-08-12\", \"2016-08-15\", \"2016-08-16\", \"2016-08-17\", \"2016-08-18\", \"2016-08-19\", \"2016-08-22\", \"2016-08-23\", \"2016-08-24\", \"2016-08-25\", \"2016-08-26\", \"2016-08-29\", \"2016-08-30\", \"2016-08-31\", \"2016-09-01\", \"2016-09-02\", \"2016-09-06\", \"2016-09-07\", \"2016-09-08\", \"2016-09-09\", \"2016-09-12\", \"2016-09-13\", \"2016-09-14\", \"2016-09-15\", \"2016-09-16\", \"2016-09-19\", \"2016-09-20\", \"2016-09-21\", \"2016-09-22\", \"2016-09-23\", \"2016-09-26\", \"2016-09-27\", \"2016-09-28\", \"2016-09-29\", \"2016-09-30\", \"2016-10-03\", \"2016-10-04\", \"2016-10-05\", \"2016-10-06\", \"2016-10-07\", \"2016-10-11\", \"2016-10-12\", \"2016-10-13\", \"2016-10-14\", \"2016-10-17\", \"2016-10-18\", \"2016-10-19\", \"2016-10-20\", \"2016-10-21\", \"2016-10-24\", \"2016-10-25\", \"2016-10-26\", \"2016-10-27\", \"2016-10-28\", \"2016-10-31\", \"2016-11-01\", \"2016-11-02\", \"2016-11-03\", \"2016-11-04\", \"2016-11-07\", \"2016-11-08\", \"2016-11-09\", \"2016-11-14\", \"2016-11-15\", \"2016-11-16\", \"2016-11-17\", \"2016-11-18\", \"2016-11-21\", \"2016-11-22\", \"2016-11-23\", \"2016-11-25\", \"2016-11-28\", \"2016-11-29\", \"2016-11-30\", \"2016-12-01\", \"2016-12-02\", \"2016-12-05\", \"2016-12-06\", \"2016-12-07\", \"2016-12-08\", \"2016-12-09\", \"2016-12-12\", \"2016-12-13\", \"2016-12-14\", \"2016-12-15\", \"2016-12-16\", \"2016-12-19\", \"2016-12-20\", \"2016-12-21\", \"2016-12-22\", \"2016-12-23\", \"2016-12-27\", \"2016-12-28\", \"2016-12-29\", \"2016-12-30\", \"2017-01-03\", \"2017-01-04\", \"2017-01-05\", \"2017-01-06\", \"2017-01-09\", \"2017-01-10\", \"2017-01-11\", \"2017-01-12\", \"2017-01-13\", \"2017-01-17\", \"2017-01-18\", \"2017-01-19\", \"2017-01-20\", \"2017-01-23\", \"2017-01-24\", \"2017-01-25\", \"2017-01-26\", \"2017-01-27\", \"2017-01-30\", \"2017-01-31\", \"2017-02-01\", \"2017-02-02\", \"2017-02-03\", \"2017-02-06\", \"2017-02-07\", \"2017-02-08\", \"2017-02-09\", \"2017-02-10\", \"2017-02-13\", \"2017-02-14\", \"2017-02-15\", \"2017-02-16\", \"2017-02-17\", \"2017-02-21\", \"2017-02-22\", \"2017-02-23\"], \"xaxis\": \"x\", \"y\": [1654.57, 1028.15, 1086.1, 3341.06, 6537.449999999999, 2353.49, 1333.37, 1514.1, 2846.76, 5238.2300000000005, 2064.7, 1047.98, 1997.96, 3357.5, 5309.74, 2220.35, 1671.28, 1470.13, 2468.83, 4458.3, 1689.65, 1228.55, 1179.08, 3268.23, 6241.2699999999995, 1907.07, 1476.9299999999998, 1129.55, 2602.33, 4612.71, 3986.33, 1252.31, 1280.46, 4013.7200000000003, 7124.12, 1456.82, 2030.67, 3230.2799999999997, 4281.62, 2039.51, 1701.34, 1557.72, 2559.0, 4684.09, 2304.77, 1109.37, 3495.76, 2273.0, 4247.38, 1487.09, 1643.02, 1632.72, 5924.3, 4543.68, 1668.54, 1387.4099999999999, 1363.66, 2580.92, 6775.47, 730.96, 3658.95, 5507.53, 10996.099999999999, 4339.91, 3106.58, 2846.7599999999998, 6177.53, 11127.85, 17941.23, 2837.33, 3310.5, 5217.34, 10472.24, 3874.62, 2630.66, 3224.54, 5484.620000000001, 8383.460000000001, 6916.17, 3056.02, 3861.62, 6797.9400000000005, 10525.91, 4516.33, 2705.8599999999997, 3064.3599999999997, 6174.02, 11226.61, 3846.91, 2965.97, 2942.3599999999997, 5788.67, 11228.83, 4392.13, 3042.14, 3338.44, 9593.699999999999, 10437.02, 3901.36, 3171.85, 2510.5, 9027.36, 13283.140000000001, 1385.29, 2038.43, 5636.96, 9223.5, 3585.08, 2352.88, 2978.91, 6350.4400000000005, 11339.59, 3983.37, 2619.56, 2557.09, 9802.68, 8865.87, 3845.2, 5618.77, 2513.92, 4679.83, 11140.19, 3900.9799999999996, 2123.24, 2419.29, 4613.38, 12145.76, 2232.62, 3322.4500000000003, 4433.42, 9742.66, 3973.01, 2026.1799999999998, 2597.06, 4053.04, 9611.83, 2944.03, 1012.04, 1178.71, 2508.92, 6014.279999999999, 2127.7, 1233.82, 1080.81, 1236.56, 8183.62, 1856.52, 4223.860000000001, 5734.03, 5013.62, 1016.19, 1441.48, 3679.4300000000003, 5247.110000000001, 2336.26, 1260.57, 3910.59, 3644.58, 1664.39, 1915.12, 1109.4299999999998, 3047.5699999999997, 5907.57, 1716.39, 644.74, 1750.23, 3032.31, 4841.22, 2317.1099999999997, 1655.02, 1645.0, 3141.55, 5387.469999999999, 2168.95, 1208.7, 1566.56, 2078.12, 5539.11, 510.0, 2752.73, 2825.03, 5614.96, 1389.09, 11917.45, 4340.48, 12056.18, 2572.05, 2147.25, 795.37, 2592.01, 7076.01, 7371.35, 1453.41, 1746.3, 6077.790000000001, 3782.88, 1157.24, 1170.09, 3133.9, 5589.39, 2550.67, 1226.0900000000001, 4061.81, 2209.19, 4819.63, 889.04, 1035.53, 2233.11, 1710.62, 7037.18, 2387.73, 1004.53, 1606.22, 2767.1, 7012.81, 1926.29], \"yaxis\": \"y\"}, {\"hoverlabel\": {\"namelength\": 0}, \"hovertemplate\": \"transaction_type=debit<br>date=%{x}<br>amount=%{y}\", \"legendgroup\": \"debit\", \"line\": {\"color\": \"#EF553B\", \"dash\": \"solid\"}, \"mode\": \"lines\", \"name\": \"debit\", \"showlegend\": true, \"type\": \"scatter\", \"x\": [\"2016-04-13\", \"2016-04-14\", \"2016-04-15\", \"2016-04-18\", \"2016-04-19\", \"2016-04-20\", \"2016-04-21\", \"2016-04-22\", \"2016-04-25\", \"2016-04-27\", \"2016-04-29\", \"2016-05-02\", \"2016-05-03\", \"2016-05-04\", \"2016-05-05\", \"2016-05-06\", \"2016-05-09\", \"2016-05-10\", \"2016-05-11\", \"2016-05-12\", \"2016-05-13\", \"2016-05-16\", \"2016-05-17\", \"2016-05-18\", \"2016-05-19\", \"2016-05-20\", \"2016-05-23\", \"2016-05-24\", \"2016-05-25\", \"2016-05-27\", \"2016-05-31\", \"2016-06-01\", \"2016-06-03\", \"2016-06-06\", \"2016-06-07\", \"2016-06-08\", \"2016-06-10\", \"2016-06-13\", \"2016-06-14\", \"2016-06-15\", \"2016-06-16\", \"2016-06-17\", \"2016-06-20\", \"2016-06-21\", \"2016-06-22\", \"2016-06-23\", \"2016-06-24\", \"2016-06-27\", \"2016-06-28\", \"2016-06-29\", \"2016-06-30\", \"2016-07-01\", \"2016-07-05\", \"2016-07-06\", \"2016-07-07\", \"2016-07-08\", \"2016-07-11\", \"2016-07-12\", \"2016-07-13\", \"2016-07-14\", \"2016-07-15\", \"2016-07-18\", \"2016-07-19\", \"2016-07-20\", \"2016-07-21\", \"2016-07-22\", \"2016-07-25\", \"2016-07-26\", \"2016-07-27\", \"2016-07-28\", \"2016-07-29\", \"2016-08-01\", \"2016-08-02\", \"2016-08-03\", \"2016-08-04\", \"2016-08-05\", \"2016-08-08\", \"2016-08-09\", \"2016-08-10\", \"2016-08-11\", \"2016-08-12\", \"2016-08-15\", \"2016-08-16\", \"2016-08-17\", \"2016-08-18\", \"2016-08-19\", \"2016-08-22\", \"2016-08-23\", \"2016-08-24\", \"2016-08-25\", \"2016-08-26\", \"2016-08-29\", \"2016-08-30\", \"2016-08-31\", \"2016-09-01\", \"2016-09-02\", \"2016-09-06\", \"2016-09-07\", \"2016-09-08\", \"2016-09-09\", \"2016-09-12\", \"2016-09-13\", \"2016-09-14\", \"2016-09-15\", \"2016-09-16\", \"2016-09-19\", \"2016-09-20\", \"2016-09-21\", \"2016-09-22\", \"2016-09-23\", \"2016-09-26\", \"2016-09-27\", \"2016-09-28\", \"2016-09-30\", \"2016-10-03\", \"2016-10-04\", \"2016-10-05\", \"2016-10-06\", \"2016-10-07\", \"2016-10-11\", \"2016-10-12\", \"2016-10-13\", \"2016-10-14\", \"2016-10-17\", \"2016-10-18\", \"2016-10-19\", \"2016-10-20\", \"2016-10-21\", \"2016-10-24\", \"2016-10-25\", \"2016-10-26\", \"2016-10-27\", \"2016-10-28\", \"2016-10-31\", \"2016-11-01\", \"2016-11-02\", \"2016-11-03\", \"2016-11-04\", \"2016-11-07\", \"2016-11-08\", \"2016-11-09\", \"2016-11-10\", \"2016-11-14\", \"2016-11-15\", \"2016-11-16\", \"2016-11-17\", \"2016-11-18\", \"2016-11-21\", \"2016-11-22\", \"2016-11-23\", \"2016-11-25\", \"2016-11-28\", \"2016-11-29\", \"2016-11-30\", \"2016-12-01\", \"2016-12-02\", \"2016-12-05\", \"2016-12-06\", \"2016-12-07\", \"2016-12-08\", \"2016-12-09\", \"2016-12-12\", \"2016-12-13\", \"2016-12-14\", \"2016-12-15\", \"2016-12-16\", \"2016-12-19\", \"2016-12-20\", \"2016-12-21\", \"2016-12-22\", \"2016-12-23\", \"2016-12-27\", \"2016-12-28\", \"2016-12-29\", \"2016-12-30\", \"2017-01-03\", \"2017-01-04\", \"2017-01-05\", \"2017-01-06\", \"2017-01-09\", \"2017-01-10\", \"2017-01-11\", \"2017-01-12\", \"2017-01-13\", \"2017-01-17\", \"2017-01-18\", \"2017-01-19\", \"2017-01-20\", \"2017-01-23\", \"2017-01-24\", \"2017-01-25\", \"2017-01-26\", \"2017-01-27\", \"2017-01-30\", \"2017-01-31\", \"2017-02-01\", \"2017-02-02\", \"2017-02-03\", \"2017-02-06\", \"2017-02-07\", \"2017-02-08\", \"2017-02-09\", \"2017-02-10\", \"2017-02-13\", \"2017-02-14\", \"2017-02-15\", \"2017-02-16\", \"2017-02-17\", \"2017-02-21\", \"2017-02-22\", \"2017-02-23\"], \"xaxis\": \"x\", \"y\": [500.0, 4436.04, 5846.049999999999, 2107.36, 920.73, 3564.6, 917.6, 236.52, 1447.66, 4035.65, 5541.32, 15602.36, 1073.95, 375.6, 353.32, 4228.44, 495.16, 3028.06, 276.37, 3229.77, 6026.48, 2780.15, 1746.7, 1572.17, 4420.0, 403.01, 8342.470000000001, 308.42, 1044.75, 4550.0, 6510.52, 1365.94, 2266.49, 5165.15, 1722.98, 4011.2, 6593.24, 1276.1799999999998, 4237.85, 623.89, 9181.01, 590.69, 386.63, 5235.049999999999, 335.07, 135.99, 6960.29, 1931.81, 6419.830000000001, 1359.6999999999998, 453.78999999999996, 45.76, 4422.209999999999, 995.7700000000001, 1527.8, 6834.4, 4530.7, 9064.640000000001, 1756.59, 2488.29, 1957.17, 7742.309999999998, 9000.810000000001, 477.68, 265.3, 10770.82, 17980.04, 14869.140000000001, 4326.57, 458.83, 15.0, 9629.369999999999, 7991.610000000001, 2328.93, 225.79999999999998, 9977.25, 8807.960000000001, 7330.6, 10946.760000000002, 771.3900000000001, 581.38, 8901.97, 7379.18, 442.63, 238.85, 11477.84, 6928.04, 10815.4, 2779.2900000000004, 4107.74, 736.6800000000001, 4430.17, 13744.57, 294.41, 1977.9, 10553.87, 11866.19, 10555.920000000002, 68.13, 3544.15, 7139.78, 8506.9, 1813.78, 699.25, 9785.23, 6135.04, 4117.69, 8396.529999999999, 4828.0, 886.58, 5726.709999999999, 9154.42, 7988.860000000001, 9284.88, 5368.57, 4527.079999999999, 9221.42, 717.74, 542.6600000000001, 9063.220000000001, 469.3, 8292.14, 12019.08, 5258.24, 3453.96, 7056.580000000001, 922.22, 1884.63, 1124.21, 137.98, 143.96, 4975.26, 6532.4, 7339.54, 2348.6299999999997, 4677.15, 2922.25, 19.95, 1390.9200000000003, 4647.27, 471.95000000000005, 3623.6800000000003, 6735.35, 1338.63, 15403.77, 560.7, 542.5, 664.71, 3659.91, 1062.23, 5049.2, 4099.329999999999, 2130.5099999999998, 6617.17, 110.0, 500.0, 2427.89, 4607.030000000001, 317.47999999999996, 679.89, 5043.8, 4418.49, 4661.9, 931.73, 19.4, 123.56, 1091.59, 3860.7200000000003, 681.79, 2701.4800000000005, 5030.59, 8334.279999999999, 5243.759999999999, 263.48, 99.69999999999999, 4204.81, 1427.5100000000002, 1496.33, 4126.720000000001, 9495.029999999999, 7638.87, 4436.32, 11528.1, 19.0, 2100.1200000000003, 111.15, 759.5, 14349.429999999998, 4373.429999999999, 196.23000000000002, 6062.09, 1335.43, 641.09, 454.65000000000003, 5300.95, 6533.06, 1653.38, 4934.55, 4238.3, 1633.7400000000002, 4189.7300000000005, 454.38, 1059.66, 191.82999999999998, 5079.77, 1473.25, 178.8, 6584.55, 4010.75, 6406.52, 632.7699999999999], \"yaxis\": \"y\"}, {\"hoverlabel\": {\"namelength\": 0}, \"hovertemplate\": \"transaction_type=running_balance<br>date=%{x}<br>amount=%{y}\", \"legendgroup\": \"running_balance\", \"line\": {\"color\": \"#00cc96\", \"dash\": \"solid\"}, \"mode\": \"lines\", \"name\": \"running_balance\", \"showlegend\": true, \"type\": \"scatter\", \"x\": [\"2016-04-13\", \"2016-04-14\", \"2016-04-15\", \"2016-04-18\", \"2016-04-19\", \"2016-04-20\", \"2016-04-21\", \"2016-04-22\", \"2016-04-25\", \"2016-04-26\", \"2016-04-27\", \"2016-04-28\", \"2016-04-29\", \"2016-05-02\", \"2016-05-03\", \"2016-05-04\", \"2016-05-05\", \"2016-05-06\", \"2016-05-09\", \"2016-05-10\", \"2016-05-11\", \"2016-05-12\", \"2016-05-13\", \"2016-05-16\", \"2016-05-17\", \"2016-05-18\", \"2016-05-19\", \"2016-05-20\", \"2016-05-23\", \"2016-05-24\", \"2016-05-25\", \"2016-05-26\", \"2016-05-27\", \"2016-05-31\", \"2016-06-01\", \"2016-06-02\", \"2016-06-03\", \"2016-06-06\", \"2016-06-07\", \"2016-06-08\", \"2016-06-09\", \"2016-06-10\", \"2016-06-13\", \"2016-06-14\", \"2016-06-15\", \"2016-06-16\", \"2016-06-17\", \"2016-06-20\", \"2016-06-21\", \"2016-06-22\", \"2016-06-23\", \"2016-06-24\", \"2016-06-27\", \"2016-06-28\", \"2016-06-29\", \"2016-06-30\", \"2016-07-01\", \"2016-07-05\", \"2016-07-06\", \"2016-07-07\", \"2016-07-08\", \"2016-07-11\", \"2016-07-12\", \"2016-07-13\", \"2016-07-14\", \"2016-07-15\", \"2016-07-18\", \"2016-07-19\", \"2016-07-20\", \"2016-07-21\", \"2016-07-22\", \"2016-07-25\", \"2016-07-26\", \"2016-07-27\", \"2016-07-28\", \"2016-07-29\", \"2016-08-01\", \"2016-08-02\", \"2016-08-03\", \"2016-08-04\", \"2016-08-05\", \"2016-08-08\", \"2016-08-09\", \"2016-08-10\", \"2016-08-11\", \"2016-08-12\", \"2016-08-15\", \"2016-08-16\", \"2016-08-17\", \"2016-08-18\", \"2016-08-19\", \"2016-08-22\", \"2016-08-23\", \"2016-08-24\", \"2016-08-25\", \"2016-08-26\", \"2016-08-29\", \"2016-08-30\", \"2016-08-31\", \"2016-09-01\", \"2016-09-02\", \"2016-09-06\", \"2016-09-07\", \"2016-09-08\", \"2016-09-09\", \"2016-09-12\", \"2016-09-13\", \"2016-09-14\", \"2016-09-15\", \"2016-09-16\", \"2016-09-19\", \"2016-09-20\", \"2016-09-21\", \"2016-09-22\", \"2016-09-23\", \"2016-09-26\", \"2016-09-27\", \"2016-09-28\", \"2016-09-29\", \"2016-09-30\", \"2016-10-03\", \"2016-10-04\", \"2016-10-05\", \"2016-10-06\", \"2016-10-07\", \"2016-10-11\", \"2016-10-12\", \"2016-10-13\", \"2016-10-14\", \"2016-10-17\", \"2016-10-18\", \"2016-10-19\", \"2016-10-20\", \"2016-10-21\", \"2016-10-24\", \"2016-10-25\", \"2016-10-26\", \"2016-10-27\", \"2016-10-28\", \"2016-10-31\", \"2016-11-01\", \"2016-11-02\", \"2016-11-03\", \"2016-11-04\", \"2016-11-07\", \"2016-11-08\", \"2016-11-09\", \"2016-11-10\", \"2016-11-14\", \"2016-11-15\", \"2016-11-16\", \"2016-11-17\", \"2016-11-18\", \"2016-11-21\", \"2016-11-22\", \"2016-11-23\", \"2016-11-25\", \"2016-11-28\", \"2016-11-29\", \"2016-11-30\", \"2016-12-01\", \"2016-12-02\", \"2016-12-05\", \"2016-12-06\", \"2016-12-07\", \"2016-12-08\", \"2016-12-09\", \"2016-12-12\", \"2016-12-13\", \"2016-12-14\", \"2016-12-15\", \"2016-12-16\", \"2016-12-19\", \"2016-12-20\", \"2016-12-21\", \"2016-12-22\", \"2016-12-23\", \"2016-12-27\", \"2016-12-28\", \"2016-12-29\", \"2016-12-30\", \"2017-01-03\", \"2017-01-04\", \"2017-01-05\", \"2017-01-06\", \"2017-01-09\", \"2017-01-10\", \"2017-01-11\", \"2017-01-12\", \"2017-01-13\", \"2017-01-17\", \"2017-01-18\", \"2017-01-19\", \"2017-01-20\", \"2017-01-23\", \"2017-01-24\", \"2017-01-25\", \"2017-01-26\", \"2017-01-27\", \"2017-01-30\", \"2017-01-31\", \"2017-02-01\", \"2017-02-02\", \"2017-02-03\", \"2017-02-06\", \"2017-02-07\", \"2017-02-08\", \"2017-02-09\", \"2017-02-10\", \"2017-02-13\", \"2017-02-14\", \"2017-02-15\", \"2017-02-16\", \"2017-02-17\", \"2017-02-21\", \"2017-02-22\", \"2017-02-23\"], \"xaxis\": \"x\", \"y\": [9829.82, 6421.93, 1661.98, 2895.68, 8512.4, 7301.29, 7717.06, 8994.64, 10393.74, 15631.97, 13661.02, 14709.0, 11165.64, -1079.22, 3156.57, 5001.32, 6319.28, 3560.97, 5534.64, 6964.88, 8378.16, 6376.94, 1529.54, 2017.62, 6512.19, 6847.09, 3904.02, 4630.56, -1109.58, 3194.71, 6136.29, 7388.6, 4119.06, 1622.26, 7380.44, 8837.26, 8601.44, 6666.57, 9225.21, 7253.52, 8954.86, 3919.34, 5202.16, 5648.4, 7329.28, -742.36, 2162.71, 4049.08, 3061.41, 4213.43, 5720.46, 392.89, 4385.38, 2509.23, 2818.07, 3751.69, 5069.59, 3228.3, 9008.0, 8211.16, 5126.49, 6103.32, 8034.780000000001, 10618.1, 11236.39, 12125.98, 10561.199999999999, 12688.24, 30151.79, 32723.82, 25263.5, 12500.800000000001, 8103.9, 7651.950000000001, 9823.779999999999, 13033.32, 8888.57, 9280.42, 13867.66, 16697.88, 10582.25, 8572.23, 11767.54, 5337.11, 7271.58, 9754.56, 7026.610000000001, 10874.04, 14278.32, 17005.440000000002, 8469.96, 7330.59, 7744.02, 9356.86, 8291.26, 10893.02, 16056.55, 12749.0, 16355.95, 17549.9, 9506.529999999999, 6667.7, 9394.92, 10712.08, 9206.36, 7703.54, 8420.14, 10191.44, 11845.07, 5038.75, 5254.15, 12476.05, 8062.889999999999, 5854.450000000001, 7524.96, 11600.93, 11312.380000000001, 7168.719999999999, 12787.490000000002, 6016.53, 5327.79, 11940.9, 6620.46, 8025.96, 9902.59, 5452.75, 17129.21, 11069.69, 2373.06, 1548.24, 7836.9400000000005, 4753.37, 5857.33, 6569.76, 9498.59, 18972.440000000002, 21772.510000000002, 17809.29, 12455.6, 7624.98, 11290.630000000001, 8741.18, 7052.75, 5400.55, 7959.25, 11495.6, 12880.169999999998, 9256.49, 6745.0, 8796.11, 750.25, 1105.74, 2104.7200000000003, 5119.44, 5806.64, 7080.67, 4192.04, 3603.3, 5117.37, 564.59, 2369.71, 2979.14, 3699.36, 4899.36, 6298.27, 6313.12, 3019.5499999999997, 1633.3700000000001, 1772.05, 3157.43, 4793.05, 6314.49, 8405.09, 9391.2, 10878.36, 9926.22, 6421.55, 165.39, 460.74, 707.26, 3400.93, 1990.51, 6208.6, 6104.72, 13892.09, 8737.54, 13154.849999999999, 7342.38, 1909.73, 1361.7, 3177.99, 9139.1, 15750.95, 3858.68, 727.8, 6609.36, 4884.4400000000005, 2631.25, 3160.25, 5839.5, 8152.94, 4170.55, 3407.26, 2870.52, 580.41, 3766.3, 465.61, 1046.76, 2220.21, 3739.0, 5696.41, 6610.89, 7436.62, 2458.29, 1214.64, 1820.93, 3114.45], \"yaxis\": \"y\"}],\n",
       "                        {\"legend\": {\"title\": {\"text\": \"transaction_type\"}, \"tracegroupgap\": 0}, \"template\": {\"data\": {\"bar\": [{\"error_x\": {\"color\": \"#2a3f5f\"}, \"error_y\": {\"color\": \"#2a3f5f\"}, \"marker\": {\"line\": {\"color\": \"#E5ECF6\", \"width\": 0.5}}, \"type\": \"bar\"}], \"barpolar\": [{\"marker\": {\"line\": {\"color\": \"#E5ECF6\", \"width\": 0.5}}, \"type\": \"barpolar\"}], \"carpet\": [{\"aaxis\": {\"endlinecolor\": \"#2a3f5f\", \"gridcolor\": \"white\", \"linecolor\": \"white\", \"minorgridcolor\": \"white\", \"startlinecolor\": \"#2a3f5f\"}, \"baxis\": {\"endlinecolor\": \"#2a3f5f\", \"gridcolor\": \"white\", \"linecolor\": \"white\", \"minorgridcolor\": \"white\", \"startlinecolor\": \"#2a3f5f\"}, \"type\": \"carpet\"}], \"choropleth\": [{\"colorbar\": {\"outlinewidth\": 0, \"ticks\": \"\"}, \"type\": \"choropleth\"}], \"contour\": [{\"colorbar\": {\"outlinewidth\": 0, \"ticks\": \"\"}, \"colorscale\": [[0.0, \"#0d0887\"], [0.1111111111111111, \"#46039f\"], [0.2222222222222222, \"#7201a8\"], [0.3333333333333333, \"#9c179e\"], [0.4444444444444444, \"#bd3786\"], [0.5555555555555556, \"#d8576b\"], [0.6666666666666666, \"#ed7953\"], [0.7777777777777778, \"#fb9f3a\"], [0.8888888888888888, \"#fdca26\"], [1.0, \"#f0f921\"]], \"type\": \"contour\"}], \"contourcarpet\": [{\"colorbar\": {\"outlinewidth\": 0, \"ticks\": \"\"}, \"type\": \"contourcarpet\"}], \"heatmap\": [{\"colorbar\": {\"outlinewidth\": 0, \"ticks\": \"\"}, \"colorscale\": [[0.0, \"#0d0887\"], [0.1111111111111111, \"#46039f\"], [0.2222222222222222, \"#7201a8\"], [0.3333333333333333, \"#9c179e\"], [0.4444444444444444, \"#bd3786\"], [0.5555555555555556, \"#d8576b\"], [0.6666666666666666, \"#ed7953\"], [0.7777777777777778, \"#fb9f3a\"], [0.8888888888888888, \"#fdca26\"], [1.0, \"#f0f921\"]], \"type\": \"heatmap\"}], \"heatmapgl\": [{\"colorbar\": {\"outlinewidth\": 0, \"ticks\": \"\"}, \"colorscale\": [[0.0, \"#0d0887\"], [0.1111111111111111, \"#46039f\"], [0.2222222222222222, \"#7201a8\"], [0.3333333333333333, \"#9c179e\"], [0.4444444444444444, \"#bd3786\"], [0.5555555555555556, \"#d8576b\"], [0.6666666666666666, \"#ed7953\"], [0.7777777777777778, \"#fb9f3a\"], [0.8888888888888888, \"#fdca26\"], [1.0, \"#f0f921\"]], \"type\": \"heatmapgl\"}], \"histogram\": [{\"marker\": {\"colorbar\": {\"outlinewidth\": 0, \"ticks\": \"\"}}, \"type\": \"histogram\"}], \"histogram2d\": [{\"colorbar\": {\"outlinewidth\": 0, \"ticks\": \"\"}, \"colorscale\": [[0.0, \"#0d0887\"], [0.1111111111111111, \"#46039f\"], [0.2222222222222222, \"#7201a8\"], [0.3333333333333333, \"#9c179e\"], [0.4444444444444444, \"#bd3786\"], [0.5555555555555556, \"#d8576b\"], [0.6666666666666666, \"#ed7953\"], [0.7777777777777778, \"#fb9f3a\"], [0.8888888888888888, \"#fdca26\"], [1.0, \"#f0f921\"]], \"type\": \"histogram2d\"}], \"histogram2dcontour\": [{\"colorbar\": {\"outlinewidth\": 0, \"ticks\": \"\"}, \"colorscale\": [[0.0, \"#0d0887\"], [0.1111111111111111, \"#46039f\"], [0.2222222222222222, \"#7201a8\"], [0.3333333333333333, \"#9c179e\"], [0.4444444444444444, \"#bd3786\"], [0.5555555555555556, \"#d8576b\"], [0.6666666666666666, \"#ed7953\"], [0.7777777777777778, \"#fb9f3a\"], [0.8888888888888888, \"#fdca26\"], [1.0, \"#f0f921\"]], \"type\": \"histogram2dcontour\"}], \"mesh3d\": [{\"colorbar\": {\"outlinewidth\": 0, \"ticks\": \"\"}, \"type\": \"mesh3d\"}], \"parcoords\": [{\"line\": {\"colorbar\": {\"outlinewidth\": 0, \"ticks\": \"\"}}, \"type\": \"parcoords\"}], \"pie\": [{\"automargin\": true, \"type\": \"pie\"}], \"scatter\": [{\"marker\": {\"colorbar\": {\"outlinewidth\": 0, \"ticks\": \"\"}}, \"type\": \"scatter\"}], \"scatter3d\": [{\"line\": {\"colorbar\": {\"outlinewidth\": 0, \"ticks\": \"\"}}, \"marker\": {\"colorbar\": {\"outlinewidth\": 0, \"ticks\": \"\"}}, \"type\": \"scatter3d\"}], \"scattercarpet\": [{\"marker\": {\"colorbar\": {\"outlinewidth\": 0, \"ticks\": \"\"}}, \"type\": \"scattercarpet\"}], \"scattergeo\": [{\"marker\": {\"colorbar\": {\"outlinewidth\": 0, \"ticks\": \"\"}}, \"type\": \"scattergeo\"}], \"scattergl\": [{\"marker\": {\"colorbar\": {\"outlinewidth\": 0, \"ticks\": \"\"}}, \"type\": \"scattergl\"}], \"scattermapbox\": [{\"marker\": {\"colorbar\": {\"outlinewidth\": 0, \"ticks\": \"\"}}, \"type\": \"scattermapbox\"}], \"scatterpolar\": [{\"marker\": {\"colorbar\": {\"outlinewidth\": 0, \"ticks\": \"\"}}, \"type\": \"scatterpolar\"}], \"scatterpolargl\": [{\"marker\": {\"colorbar\": {\"outlinewidth\": 0, \"ticks\": \"\"}}, \"type\": \"scatterpolargl\"}], \"scatterternary\": [{\"marker\": {\"colorbar\": {\"outlinewidth\": 0, \"ticks\": \"\"}}, \"type\": \"scatterternary\"}], \"surface\": [{\"colorbar\": {\"outlinewidth\": 0, \"ticks\": \"\"}, \"colorscale\": [[0.0, \"#0d0887\"], [0.1111111111111111, \"#46039f\"], [0.2222222222222222, \"#7201a8\"], [0.3333333333333333, \"#9c179e\"], [0.4444444444444444, \"#bd3786\"], [0.5555555555555556, \"#d8576b\"], [0.6666666666666666, \"#ed7953\"], [0.7777777777777778, \"#fb9f3a\"], [0.8888888888888888, \"#fdca26\"], [1.0, \"#f0f921\"]], \"type\": \"surface\"}], \"table\": [{\"cells\": {\"fill\": {\"color\": \"#EBF0F8\"}, \"line\": {\"color\": \"white\"}}, \"header\": {\"fill\": {\"color\": \"#C8D4E3\"}, \"line\": {\"color\": \"white\"}}, \"type\": \"table\"}]}, \"layout\": {\"annotationdefaults\": {\"arrowcolor\": \"#2a3f5f\", \"arrowhead\": 0, \"arrowwidth\": 1}, \"coloraxis\": {\"colorbar\": {\"outlinewidth\": 0, \"ticks\": \"\"}}, \"colorscale\": {\"diverging\": [[0, \"#8e0152\"], [0.1, \"#c51b7d\"], [0.2, \"#de77ae\"], [0.3, \"#f1b6da\"], [0.4, \"#fde0ef\"], [0.5, \"#f7f7f7\"], [0.6, \"#e6f5d0\"], [0.7, \"#b8e186\"], [0.8, \"#7fbc41\"], [0.9, \"#4d9221\"], [1, \"#276419\"]], \"sequential\": [[0.0, \"#0d0887\"], [0.1111111111111111, \"#46039f\"], [0.2222222222222222, \"#7201a8\"], [0.3333333333333333, \"#9c179e\"], [0.4444444444444444, \"#bd3786\"], [0.5555555555555556, \"#d8576b\"], [0.6666666666666666, \"#ed7953\"], [0.7777777777777778, \"#fb9f3a\"], [0.8888888888888888, \"#fdca26\"], [1.0, \"#f0f921\"]], \"sequentialminus\": [[0.0, \"#0d0887\"], [0.1111111111111111, \"#46039f\"], [0.2222222222222222, \"#7201a8\"], [0.3333333333333333, \"#9c179e\"], [0.4444444444444444, \"#bd3786\"], [0.5555555555555556, \"#d8576b\"], [0.6666666666666666, \"#ed7953\"], [0.7777777777777778, \"#fb9f3a\"], [0.8888888888888888, \"#fdca26\"], [1.0, \"#f0f921\"]]}, \"colorway\": [\"#636efa\", \"#EF553B\", \"#00cc96\", \"#ab63fa\", \"#FFA15A\", \"#19d3f3\", \"#FF6692\", \"#B6E880\", \"#FF97FF\", \"#FECB52\"], \"font\": {\"color\": \"#2a3f5f\"}, \"geo\": {\"bgcolor\": \"white\", \"lakecolor\": \"white\", \"landcolor\": \"#E5ECF6\", \"showlakes\": true, \"showland\": true, \"subunitcolor\": \"white\"}, \"hoverlabel\": {\"align\": \"left\"}, \"hovermode\": \"closest\", \"mapbox\": {\"style\": \"light\"}, \"paper_bgcolor\": \"white\", \"plot_bgcolor\": \"#E5ECF6\", \"polar\": {\"angularaxis\": {\"gridcolor\": \"white\", \"linecolor\": \"white\", \"ticks\": \"\"}, \"bgcolor\": \"#E5ECF6\", \"radialaxis\": {\"gridcolor\": \"white\", \"linecolor\": \"white\", \"ticks\": \"\"}}, \"scene\": {\"xaxis\": {\"backgroundcolor\": \"#E5ECF6\", \"gridcolor\": \"white\", \"gridwidth\": 2, \"linecolor\": \"white\", \"showbackground\": true, \"ticks\": \"\", \"zerolinecolor\": \"white\"}, \"yaxis\": {\"backgroundcolor\": \"#E5ECF6\", \"gridcolor\": \"white\", \"gridwidth\": 2, \"linecolor\": \"white\", \"showbackground\": true, \"ticks\": \"\", \"zerolinecolor\": \"white\"}, \"zaxis\": {\"backgroundcolor\": \"#E5ECF6\", \"gridcolor\": \"white\", \"gridwidth\": 2, \"linecolor\": \"white\", \"showbackground\": true, \"ticks\": \"\", \"zerolinecolor\": \"white\"}}, \"shapedefaults\": {\"line\": {\"color\": \"#2a3f5f\"}}, \"ternary\": {\"aaxis\": {\"gridcolor\": \"white\", \"linecolor\": \"white\", \"ticks\": \"\"}, \"baxis\": {\"gridcolor\": \"white\", \"linecolor\": \"white\", \"ticks\": \"\"}, \"bgcolor\": \"#E5ECF6\", \"caxis\": {\"gridcolor\": \"white\", \"linecolor\": \"white\", \"ticks\": \"\"}}, \"title\": {\"x\": 0.05}, \"xaxis\": {\"automargin\": true, \"gridcolor\": \"white\", \"linecolor\": \"white\", \"ticks\": \"\", \"title\": {\"standoff\": 15}, \"zerolinecolor\": \"white\", \"zerolinewidth\": 2}, \"yaxis\": {\"automargin\": true, \"gridcolor\": \"white\", \"linecolor\": \"white\", \"ticks\": \"\", \"title\": {\"standoff\": 15}, \"zerolinecolor\": \"white\", \"zerolinewidth\": 2}}}, \"title\": {\"text\": \"Lead ID : 326062, Aggregated on all bank accounts\"}, \"xaxis\": {\"anchor\": \"y\", \"domain\": [0.0, 1.0], \"title\": {\"text\": \"date\"}}, \"yaxis\": {\"anchor\": \"x\", \"domain\": [0.0, 1.0], \"title\": {\"text\": \"amount\"}}},\n",
       "                        {\"responsive\": true}\n",
       "                    ).then(function(){\n",
       "                            \n",
       "var gd = document.getElementById('e4450523-2425-4144-a2ad-981de7e79b57');\n",
       "var x = new MutationObserver(function (mutations, observer) {{\n",
       "        var display = window.getComputedStyle(gd).display;\n",
       "        if (!display || display === 'none') {{\n",
       "            console.log([gd, 'removed!']);\n",
       "            Plotly.purge(gd);\n",
       "            observer.disconnect();\n",
       "        }}\n",
       "}});\n",
       "\n",
       "// Listen for the removal of the full notebook cells\n",
       "var notebookContainer = gd.closest('#notebook-container');\n",
       "if (notebookContainer) {{\n",
       "    x.observe(notebookContainer, {childList: true});\n",
       "}}\n",
       "\n",
       "// Listen for the clearing of the current output cell\n",
       "var outputEl = gd.closest('.output');\n",
       "if (outputEl) {{\n",
       "    x.observe(outputEl, {childList: true});\n",
       "}}\n",
       "\n",
       "                        })\n",
       "                };\n",
       "                });\n",
       "            </script>\n",
       "        </div>"
      ]
     },
     "metadata": {},
     "output_type": "display_data"
    }
   ],
   "source": [
    "username = 'rravishankar'\n",
    "api_key = 'lLY6mbM1zktKBEQ3DGVo'\n",
    "\n",
    "chart_studio.tools.set_credentials_file(username = username, api_key = api_key)\n",
    "\n",
    "fig4 = px.line(df_final4, x=\"date\", y=\"amount\", color='transaction_type',\\\n",
    "              title=\"Lead ID : 326062, Aggregated on all bank accounts\")\n",
    "\n",
    "py.plot(fig4,filename = 'TimeSeries_4',auto_open=False)\n",
    "fig4.show()"
   ]
  },
  {
   "cell_type": "markdown",
   "metadata": {},
   "source": [
    " ###### Question 4 : \n",
    " \n",
    "  The cash flow of a business has many dimensions [for example, top 5 deposits/Total deposits, \n",
    " average # of days between two withdrawals, coefficient of variation of the daily balance]\n",
    "that are potentially relevant to a borrower’s ability to repay. \n",
    "\n",
    "###### 4.1 Can you obtain the value of these variables for each merchant? \n",
    "\n",
    "###### 4.2 What other cash flow variables can you hypothesize that could be relevant for predicting merchant default?"
   ]
  },
  {
   "cell_type": "code",
   "execution_count": 89,
   "metadata": {},
   "outputs": [],
   "source": [
    " # average # of days between two withdrawals,\n",
    "\n",
    "# extract the withdrawals information and sort by Lead ID and date\n",
    "\n",
    "df_copy = df[df['transaction_type']=='debit'][['Lead ID','date']].sort_values(['Lead ID','date'],ascending = True)"
   ]
  },
  {
   "cell_type": "code",
   "execution_count": 90,
   "metadata": {},
   "outputs": [
    {
     "data": {
      "text/html": [
       "<div>\n",
       "<style scoped>\n",
       "    .dataframe tbody tr th:only-of-type {\n",
       "        vertical-align: middle;\n",
       "    }\n",
       "\n",
       "    .dataframe tbody tr th {\n",
       "        vertical-align: top;\n",
       "    }\n",
       "\n",
       "    .dataframe thead th {\n",
       "        text-align: right;\n",
       "    }\n",
       "</style>\n",
       "<table border=\"1\" class=\"dataframe\">\n",
       "  <thead>\n",
       "    <tr style=\"text-align: right;\">\n",
       "      <th></th>\n",
       "      <th>Lead ID</th>\n",
       "      <th>date</th>\n",
       "    </tr>\n",
       "  </thead>\n",
       "  <tbody>\n",
       "    <tr>\n",
       "      <td>3</td>\n",
       "      <td>308148</td>\n",
       "      <td>2016-03-21</td>\n",
       "    </tr>\n",
       "    <tr>\n",
       "      <td>4</td>\n",
       "      <td>308148</td>\n",
       "      <td>2016-03-22</td>\n",
       "    </tr>\n",
       "    <tr>\n",
       "      <td>5</td>\n",
       "      <td>308148</td>\n",
       "      <td>2016-03-23</td>\n",
       "    </tr>\n",
       "    <tr>\n",
       "      <td>6</td>\n",
       "      <td>308148</td>\n",
       "      <td>2016-03-24</td>\n",
       "    </tr>\n",
       "    <tr>\n",
       "      <td>7</td>\n",
       "      <td>308148</td>\n",
       "      <td>2016-03-24</td>\n",
       "    </tr>\n",
       "  </tbody>\n",
       "</table>\n",
       "</div>"
      ],
      "text/plain": [
       "   Lead ID        date\n",
       "3   308148  2016-03-21\n",
       "4   308148  2016-03-22\n",
       "5   308148  2016-03-23\n",
       "6   308148  2016-03-24\n",
       "7   308148  2016-03-24"
      ]
     },
     "execution_count": 90,
     "metadata": {},
     "output_type": "execute_result"
    }
   ],
   "source": [
    "df_copy.head()"
   ]
  },
  {
   "cell_type": "code",
   "execution_count": 91,
   "metadata": {},
   "outputs": [],
   "source": [
    "# calculate the day diff by subtracting the first withdrawal date with the second withdrawal date.\n",
    "\n",
    "df_copy['day_diff']=df_copy.groupby('Lead ID')['date']\\\n",
    "                            .apply(lambda x: (x.shift(-1)-x).dt.days)"
   ]
  },
  {
   "cell_type": "code",
   "execution_count": 92,
   "metadata": {},
   "outputs": [],
   "source": [
    "# Average # of days between each withdrawls\n",
    "\n",
    "df_avg = pd.DataFrame((df_copy.groupby('Lead ID')['day_diff'].sum())/(df_copy.groupby('Lead ID')['day_diff'].count())).reset_index()"
   ]
  },
  {
   "cell_type": "code",
   "execution_count": 93,
   "metadata": {},
   "outputs": [
    {
     "data": {
      "text/html": [
       "<div>\n",
       "<style scoped>\n",
       "    .dataframe tbody tr th:only-of-type {\n",
       "        vertical-align: middle;\n",
       "    }\n",
       "\n",
       "    .dataframe tbody tr th {\n",
       "        vertical-align: top;\n",
       "    }\n",
       "\n",
       "    .dataframe thead th {\n",
       "        text-align: right;\n",
       "    }\n",
       "</style>\n",
       "<table border=\"1\" class=\"dataframe\">\n",
       "  <thead>\n",
       "    <tr style=\"text-align: right;\">\n",
       "      <th></th>\n",
       "      <th>Lead ID</th>\n",
       "      <th>day_diff</th>\n",
       "    </tr>\n",
       "  </thead>\n",
       "  <tbody>\n",
       "    <tr>\n",
       "      <td>0</td>\n",
       "      <td>308148</td>\n",
       "      <td>0.802508</td>\n",
       "    </tr>\n",
       "    <tr>\n",
       "      <td>1</td>\n",
       "      <td>310443</td>\n",
       "      <td>1.387755</td>\n",
       "    </tr>\n",
       "    <tr>\n",
       "      <td>2</td>\n",
       "      <td>312745</td>\n",
       "      <td>0.607679</td>\n",
       "    </tr>\n",
       "    <tr>\n",
       "      <td>3</td>\n",
       "      <td>313082</td>\n",
       "      <td>0.259512</td>\n",
       "    </tr>\n",
       "    <tr>\n",
       "      <td>4</td>\n",
       "      <td>314036</td>\n",
       "      <td>0.157762</td>\n",
       "    </tr>\n",
       "  </tbody>\n",
       "</table>\n",
       "</div>"
      ],
      "text/plain": [
       "   Lead ID  day_diff\n",
       "0   308148  0.802508\n",
       "1   310443  1.387755\n",
       "2   312745  0.607679\n",
       "3   313082  0.259512\n",
       "4   314036  0.157762"
      ]
     },
     "execution_count": 93,
     "metadata": {},
     "output_type": "execute_result"
    }
   ],
   "source": [
    "df_avg.head()"
   ]
  },
  {
   "cell_type": "code",
   "execution_count": 94,
   "metadata": {},
   "outputs": [
    {
     "data": {
      "text/html": [
       "<div>\n",
       "<style scoped>\n",
       "    .dataframe tbody tr th:only-of-type {\n",
       "        vertical-align: middle;\n",
       "    }\n",
       "\n",
       "    .dataframe tbody tr th {\n",
       "        vertical-align: top;\n",
       "    }\n",
       "\n",
       "    .dataframe thead th {\n",
       "        text-align: right;\n",
       "    }\n",
       "</style>\n",
       "<table border=\"1\" class=\"dataframe\">\n",
       "  <thead>\n",
       "    <tr style=\"text-align: right;\">\n",
       "      <th></th>\n",
       "      <th>Lead ID</th>\n",
       "      <th>running_balance</th>\n",
       "    </tr>\n",
       "  </thead>\n",
       "  <tbody>\n",
       "    <tr>\n",
       "      <td>0</td>\n",
       "      <td>308148</td>\n",
       "      <td>0.897563</td>\n",
       "    </tr>\n",
       "    <tr>\n",
       "      <td>1</td>\n",
       "      <td>310443</td>\n",
       "      <td>0.901195</td>\n",
       "    </tr>\n",
       "    <tr>\n",
       "      <td>2</td>\n",
       "      <td>312745</td>\n",
       "      <td>0.820833</td>\n",
       "    </tr>\n",
       "    <tr>\n",
       "      <td>3</td>\n",
       "      <td>313082</td>\n",
       "      <td>0.996139</td>\n",
       "    </tr>\n",
       "    <tr>\n",
       "      <td>4</td>\n",
       "      <td>314036</td>\n",
       "      <td>1.088275</td>\n",
       "    </tr>\n",
       "  </tbody>\n",
       "</table>\n",
       "</div>"
      ],
      "text/plain": [
       "   Lead ID  running_balance\n",
       "0   308148         0.897563\n",
       "1   310443         0.901195\n",
       "2   312745         0.820833\n",
       "3   313082         0.996139\n",
       "4   314036         1.088275"
      ]
     },
     "execution_count": 94,
     "metadata": {},
     "output_type": "execute_result"
    }
   ],
   "source": [
    "# Coefficient of variation of daily balance\n",
    "# Standard deviation/mean of the running balance for each merchant\n",
    "\n",
    "df_coeff = pd.DataFrame((df.groupby('Lead ID')['running_balance'].std())/(df.groupby('Lead ID')['running_balance'].mean())).reset_index()\n",
    "\n",
    "df_coeff.head()"
   ]
  },
  {
   "cell_type": "code",
   "execution_count": 95,
   "metadata": {},
   "outputs": [],
   "source": [
    "# top 5 deposits/total deposits - percentage of top 5 deposits.\n",
    "\n",
    "df_top5 = pd.DataFrame(df[df['transaction_type']=='credit'].groupby('Lead ID')['amount'].nlargest(5)).\\\n",
    "                reset_index().drop('level_1',axis=1)\n",
    "                 "
   ]
  },
  {
   "cell_type": "code",
   "execution_count": 96,
   "metadata": {},
   "outputs": [],
   "source": [
    "# sum of top 5 deposits of each merchant\n",
    "\n",
    "df_total = pd.DataFrame(df_top5.groupby('Lead ID')['amount'].sum())"
   ]
  },
  {
   "cell_type": "code",
   "execution_count": 97,
   "metadata": {},
   "outputs": [],
   "source": [
    "# total deposits of each merchant\n",
    "\n",
    "x = pd.DataFrame(df[df['transaction_type']=='credit'].groupby('Lead ID')['amount'].sum())"
   ]
  },
  {
   "cell_type": "code",
   "execution_count": 98,
   "metadata": {},
   "outputs": [],
   "source": [
    "# top 5 deposits/Total Deposits for each merchant \n",
    "\n",
    "df_amt = pd.DataFrame(df_total['amount']/x.amount).reset_index()"
   ]
  },
  {
   "cell_type": "code",
   "execution_count": 99,
   "metadata": {},
   "outputs": [
    {
     "data": {
      "text/html": [
       "<div>\n",
       "<style scoped>\n",
       "    .dataframe tbody tr th:only-of-type {\n",
       "        vertical-align: middle;\n",
       "    }\n",
       "\n",
       "    .dataframe tbody tr th {\n",
       "        vertical-align: top;\n",
       "    }\n",
       "\n",
       "    .dataframe thead th {\n",
       "        text-align: right;\n",
       "    }\n",
       "</style>\n",
       "<table border=\"1\" class=\"dataframe\">\n",
       "  <thead>\n",
       "    <tr style=\"text-align: right;\">\n",
       "      <th></th>\n",
       "      <th>Lead ID</th>\n",
       "      <th>amount</th>\n",
       "    </tr>\n",
       "  </thead>\n",
       "  <tbody>\n",
       "    <tr>\n",
       "      <td>0</td>\n",
       "      <td>308148</td>\n",
       "      <td>0.382988</td>\n",
       "    </tr>\n",
       "    <tr>\n",
       "      <td>1</td>\n",
       "      <td>310443</td>\n",
       "      <td>0.606671</td>\n",
       "    </tr>\n",
       "    <tr>\n",
       "      <td>2</td>\n",
       "      <td>312745</td>\n",
       "      <td>0.149010</td>\n",
       "    </tr>\n",
       "    <tr>\n",
       "      <td>3</td>\n",
       "      <td>313082</td>\n",
       "      <td>0.147780</td>\n",
       "    </tr>\n",
       "    <tr>\n",
       "      <td>4</td>\n",
       "      <td>314036</td>\n",
       "      <td>0.169396</td>\n",
       "    </tr>\n",
       "  </tbody>\n",
       "</table>\n",
       "</div>"
      ],
      "text/plain": [
       "   Lead ID    amount\n",
       "0   308148  0.382988\n",
       "1   310443  0.606671\n",
       "2   312745  0.149010\n",
       "3   313082  0.147780\n",
       "4   314036  0.169396"
      ]
     },
     "execution_count": 99,
     "metadata": {},
     "output_type": "execute_result"
    }
   ],
   "source": [
    "df_amt.head()"
   ]
  },
  {
   "cell_type": "markdown",
   "metadata": {},
   "source": [
    " Merge all three columns to get the X variables corresponding to each merchant\n",
    "\n",
    "###### [ans] Avg number of days between two withdrawals, coefficient of variation of daily balance, top5/total deposits\n",
    "\n"
   ]
  },
  {
   "cell_type": "code",
   "execution_count": 100,
   "metadata": {},
   "outputs": [
    {
     "data": {
      "text/html": [
       "<div>\n",
       "<style scoped>\n",
       "    .dataframe tbody tr th:only-of-type {\n",
       "        vertical-align: middle;\n",
       "    }\n",
       "\n",
       "    .dataframe tbody tr th {\n",
       "        vertical-align: top;\n",
       "    }\n",
       "\n",
       "    .dataframe thead th {\n",
       "        text-align: right;\n",
       "    }\n",
       "</style>\n",
       "<table border=\"1\" class=\"dataframe\">\n",
       "  <thead>\n",
       "    <tr style=\"text-align: right;\">\n",
       "      <th></th>\n",
       "      <th>Merchant</th>\n",
       "      <th>Avg # days between two withdrawals</th>\n",
       "      <th>Coefficient of variation of daily balance</th>\n",
       "      <th>Top 5 deposits/Total Deposits</th>\n",
       "    </tr>\n",
       "  </thead>\n",
       "  <tbody>\n",
       "    <tr>\n",
       "      <td>0</td>\n",
       "      <td>308148</td>\n",
       "      <td>0.802508</td>\n",
       "      <td>0.897563</td>\n",
       "      <td>0.382988</td>\n",
       "    </tr>\n",
       "    <tr>\n",
       "      <td>1</td>\n",
       "      <td>310443</td>\n",
       "      <td>1.387755</td>\n",
       "      <td>0.901195</td>\n",
       "      <td>0.606671</td>\n",
       "    </tr>\n",
       "    <tr>\n",
       "      <td>2</td>\n",
       "      <td>312745</td>\n",
       "      <td>0.607679</td>\n",
       "      <td>0.820833</td>\n",
       "      <td>0.149010</td>\n",
       "    </tr>\n",
       "    <tr>\n",
       "      <td>3</td>\n",
       "      <td>313082</td>\n",
       "      <td>0.259512</td>\n",
       "      <td>0.996139</td>\n",
       "      <td>0.147780</td>\n",
       "    </tr>\n",
       "    <tr>\n",
       "      <td>4</td>\n",
       "      <td>314036</td>\n",
       "      <td>0.157762</td>\n",
       "      <td>1.088275</td>\n",
       "      <td>0.169396</td>\n",
       "    </tr>\n",
       "    <tr>\n",
       "      <td>5</td>\n",
       "      <td>314559</td>\n",
       "      <td>1.187279</td>\n",
       "      <td>0.826293</td>\n",
       "      <td>0.132420</td>\n",
       "    </tr>\n",
       "    <tr>\n",
       "      <td>6</td>\n",
       "      <td>316728</td>\n",
       "      <td>0.151751</td>\n",
       "      <td>1.386293</td>\n",
       "      <td>0.216526</td>\n",
       "    </tr>\n",
       "    <tr>\n",
       "      <td>7</td>\n",
       "      <td>318465</td>\n",
       "      <td>0.145895</td>\n",
       "      <td>1.410154</td>\n",
       "      <td>0.174407</td>\n",
       "    </tr>\n",
       "    <tr>\n",
       "      <td>8</td>\n",
       "      <td>321146</td>\n",
       "      <td>0.490066</td>\n",
       "      <td>19.688895</td>\n",
       "      <td>0.342832</td>\n",
       "    </tr>\n",
       "    <tr>\n",
       "      <td>9</td>\n",
       "      <td>321218</td>\n",
       "      <td>0.398585</td>\n",
       "      <td>1.157435</td>\n",
       "      <td>0.495735</td>\n",
       "    </tr>\n",
       "    <tr>\n",
       "      <td>10</td>\n",
       "      <td>321356</td>\n",
       "      <td>0.434562</td>\n",
       "      <td>1.228616</td>\n",
       "      <td>0.041576</td>\n",
       "    </tr>\n",
       "    <tr>\n",
       "      <td>11</td>\n",
       "      <td>321380</td>\n",
       "      <td>0.458549</td>\n",
       "      <td>1.003924</td>\n",
       "      <td>0.047502</td>\n",
       "    </tr>\n",
       "    <tr>\n",
       "      <td>12</td>\n",
       "      <td>321671</td>\n",
       "      <td>0.200895</td>\n",
       "      <td>7.170316</td>\n",
       "      <td>0.089117</td>\n",
       "    </tr>\n",
       "    <tr>\n",
       "      <td>13</td>\n",
       "      <td>323253</td>\n",
       "      <td>0.568396</td>\n",
       "      <td>1.063727</td>\n",
       "      <td>0.210944</td>\n",
       "    </tr>\n",
       "    <tr>\n",
       "      <td>14</td>\n",
       "      <td>325142</td>\n",
       "      <td>0.240000</td>\n",
       "      <td>0.914776</td>\n",
       "      <td>0.611113</td>\n",
       "    </tr>\n",
       "    <tr>\n",
       "      <td>15</td>\n",
       "      <td>325330</td>\n",
       "      <td>1.156250</td>\n",
       "      <td>0.587400</td>\n",
       "      <td>0.104262</td>\n",
       "    </tr>\n",
       "    <tr>\n",
       "      <td>16</td>\n",
       "      <td>326050</td>\n",
       "      <td>0.445415</td>\n",
       "      <td>0.431395</td>\n",
       "      <td>0.132672</td>\n",
       "    </tr>\n",
       "    <tr>\n",
       "      <td>17</td>\n",
       "      <td>326062</td>\n",
       "      <td>0.219140</td>\n",
       "      <td>0.901414</td>\n",
       "      <td>0.048075</td>\n",
       "    </tr>\n",
       "    <tr>\n",
       "      <td>18</td>\n",
       "      <td>328212</td>\n",
       "      <td>1.014535</td>\n",
       "      <td>0.980162</td>\n",
       "      <td>0.103296</td>\n",
       "    </tr>\n",
       "    <tr>\n",
       "      <td>19</td>\n",
       "      <td>329803</td>\n",
       "      <td>0.536697</td>\n",
       "      <td>2.237443</td>\n",
       "      <td>0.369753</td>\n",
       "    </tr>\n",
       "    <tr>\n",
       "      <td>20</td>\n",
       "      <td>330698</td>\n",
       "      <td>0.380110</td>\n",
       "      <td>1.161404</td>\n",
       "      <td>0.043716</td>\n",
       "    </tr>\n",
       "  </tbody>\n",
       "</table>\n",
       "</div>"
      ],
      "text/plain": [
       "    Merchant  Avg # days between two withdrawals  \\\n",
       "0     308148                            0.802508   \n",
       "1     310443                            1.387755   \n",
       "2     312745                            0.607679   \n",
       "3     313082                            0.259512   \n",
       "4     314036                            0.157762   \n",
       "5     314559                            1.187279   \n",
       "6     316728                            0.151751   \n",
       "7     318465                            0.145895   \n",
       "8     321146                            0.490066   \n",
       "9     321218                            0.398585   \n",
       "10    321356                            0.434562   \n",
       "11    321380                            0.458549   \n",
       "12    321671                            0.200895   \n",
       "13    323253                            0.568396   \n",
       "14    325142                            0.240000   \n",
       "15    325330                            1.156250   \n",
       "16    326050                            0.445415   \n",
       "17    326062                            0.219140   \n",
       "18    328212                            1.014535   \n",
       "19    329803                            0.536697   \n",
       "20    330698                            0.380110   \n",
       "\n",
       "    Coefficient of variation of daily balance  Top 5 deposits/Total Deposits  \n",
       "0                                    0.897563                       0.382988  \n",
       "1                                    0.901195                       0.606671  \n",
       "2                                    0.820833                       0.149010  \n",
       "3                                    0.996139                       0.147780  \n",
       "4                                    1.088275                       0.169396  \n",
       "5                                    0.826293                       0.132420  \n",
       "6                                    1.386293                       0.216526  \n",
       "7                                    1.410154                       0.174407  \n",
       "8                                   19.688895                       0.342832  \n",
       "9                                    1.157435                       0.495735  \n",
       "10                                   1.228616                       0.041576  \n",
       "11                                   1.003924                       0.047502  \n",
       "12                                   7.170316                       0.089117  \n",
       "13                                   1.063727                       0.210944  \n",
       "14                                   0.914776                       0.611113  \n",
       "15                                   0.587400                       0.104262  \n",
       "16                                   0.431395                       0.132672  \n",
       "17                                   0.901414                       0.048075  \n",
       "18                                   0.980162                       0.103296  \n",
       "19                                   2.237443                       0.369753  \n",
       "20                                   1.161404                       0.043716  "
      ]
     },
     "execution_count": 100,
     "metadata": {},
     "output_type": "execute_result"
    }
   ],
   "source": [
    "pd.merge(pd.merge(df_avg,df_coeff,on='Lead ID'),df_amt,on='Lead ID').\\\n",
    "rename(columns = {'day_diff':'Avg # days between two withdrawals','Lead ID': 'Merchant',\\\n",
    "                  'running_balance':'Coefficient of variation of daily balance','amount':'Top 5 deposits/Total Deposits'})"
   ]
  },
  {
   "attachments": {},
   "cell_type": "markdown",
   "metadata": {},
   "source": [
    "###### Question 4.2\n",
    "\n",
    "What other cash flow variables can you hypothesize that could be relevant for predicting merchant default?\n",
    "\n",
    "###### Ans : \n",
    "\n",
    "\n",
    "\n",
    "Number of loans currently availed, Number of deposits, Number of withdrawals, average credit amount per month, average debit amount per month, frequency of overdraft in the merchant’s account(negative balance in account), age of the oldest bank accounts, total number of bank accounts under each merchant, number of payment defaults in the past one year.\n",
    "\n",
    "In addition to this, knowledge about the merchant’s business would also be helpful. Thus : \n",
    " \n",
    "Annual revenue of the merchant, number of customers the merchant has, annual tax details, Earnings before interest and taxes (EBIT), operating cost(expenditure to run the business) could add value to the prediction."
   ]
  },
  {
   "attachments": {},
   "cell_type": "markdown",
   "metadata": {},
   "source": [
    "###### Question 5 : \n",
    "\n",
    "Develop a program by which clusters of similar transactions for a merchant can be identified from transaction descriptions and other information"
   ]
  },
  {
   "attachments": {},
   "cell_type": "markdown",
   "metadata": {},
   "source": [
    "###### [ans] \n",
    "\n",
    "\n",
    "###### 1) Assigning topics to transaction description using LDA model (Topic Modeling).\n",
    "\n",
    "\n",
    "###### 2) Further use the identified topics to perfrom KMeans clustering to group transactions based on amount, topic of transaction details, transaction type and industries.\n"
   ]
  },
  {
   "cell_type": "code",
   "execution_count": 101,
   "metadata": {},
   "outputs": [
    {
     "name": "stderr",
     "output_type": "stream",
     "text": [
      "[nltk_data] Downloading package stopwords to\n",
      "[nltk_data]     C:\\Users\\ritur\\AppData\\Roaming\\nltk_data...\n",
      "[nltk_data]   Package stopwords is already up-to-date!\n"
     ]
    },
    {
     "data": {
      "text/plain": [
       "True"
      ]
     },
     "execution_count": 101,
     "metadata": {},
     "output_type": "execute_result"
    }
   ],
   "source": [
    "# import stop words\n",
    "\n",
    "import nltk; nltk.download('stopwords')\n"
   ]
  },
  {
   "cell_type": "code",
   "execution_count": 102,
   "metadata": {},
   "outputs": [],
   "source": [
    "# define NLTK Stop words \n",
    "\n",
    "stop_words = stopwords.words('english')\n",
    "stop_words.extend(['from', 'subject', 're', 'edu', 'use'])"
   ]
  },
  {
   "cell_type": "code",
   "execution_count": 103,
   "metadata": {},
   "outputs": [
    {
     "data": {
      "text/plain": [
       "0                             DEPOSIT ID NUMBER xx6836\n",
       "1    ATM CASH DEPOSIT 03/21 2904 N BELT LINE RD IRV...\n",
       "2    ATM CASH DEPOSIT 03/21 2904 N BELT LINE RD IRV...\n",
       "3                 WAL-MART #0880 IRVING TXxx6007 03/20\n",
       "4              CHECK OR SUPPLY ORDERPPD ID: xxxxxx6800\n",
       "Name: description, dtype: object"
      ]
     },
     "execution_count": 103,
     "metadata": {},
     "output_type": "execute_result"
    }
   ],
   "source": [
    "# check the description column\n",
    "\n",
    "df['description'].head()"
   ]
  },
  {
   "cell_type": "markdown",
   "metadata": {},
   "source": [
    "###### Data Preprocessing"
   ]
  },
  {
   "cell_type": "code",
   "execution_count": 104,
   "metadata": {},
   "outputs": [
    {
     "data": {
      "text/plain": [
       "['deposit id number x',\n",
       " 'atm cash deposit n belt line rd irving tx',\n",
       " 'atm cash deposit n belt line rd irving tx',\n",
       " 'walmart irving tx ',\n",
       " 'check or supply orderppd id x',\n",
       " 'dollartree league city tx ',\n",
       " 'oreilly auto x seabrooktx ',\n",
       " 'withdrawal',\n",
       " 'wm supercenter walm league city tx ',\n",
       " 'walmart super center friendswood tx x ']"
      ]
     },
     "execution_count": 104,
     "metadata": {},
     "output_type": "execute_result"
    }
   ],
   "source": [
    "# Convert the description column to list\n",
    "data = df.description.values.tolist()\n",
    "\n",
    "# convert to lower case\n",
    "data = [sent.lower() for sent in data]\n",
    "\n",
    "# Remove Emails\n",
    "data = [re.sub('\\S*@\\S*\\s?', '', sent) for sent in data]\n",
    "\n",
    "# Remove numbers\n",
    "data = [re.sub('[0-9?|$|''.|!/*:#-]','' ,sent) for sent in data]\n",
    "\n",
    "# remove encoded account number XXXX to X\n",
    "data = [re.sub('([Xx])\\w+', 'x',sent) for sent in data]\n",
    "\n",
    "# Remove distracting single quotes\n",
    "data = [re.sub(\"[']\", '', sent) for sent in data]\n",
    "\n",
    "# Remove new line characters\n",
    "data = [re.sub(r'\\s+',' ', sent) for sent in data]\n",
    "\n",
    "\n",
    "# check for the preprocessing\n",
    "data[:10]"
   ]
  },
  {
   "cell_type": "markdown",
   "metadata": {},
   "source": [
    "Using the in-bulit gensim package to remove punctions and perform sentence to word transformation for each row of description "
   ]
  },
  {
   "cell_type": "code",
   "execution_count": 105,
   "metadata": {},
   "outputs": [
    {
     "name": "stdout",
     "output_type": "stream",
     "text": [
      "[['deposit', 'id', 'number'], ['atm', 'cash', 'deposit', 'belt', 'line', 'rd', 'irving', 'tx']]\n"
     ]
    }
   ],
   "source": [
    "def sent_to_words(sentences):\n",
    "    for sentence in sentences:\n",
    "        yield(gensim.utils.simple_preprocess(str(sentence), deacc=True))  # deacc=True removes punctuations\n",
    "\n",
    "data_words = list(sent_to_words(data))\n",
    "\n",
    "# check the sentence to word transformation\n",
    "\n",
    "print(data_words[:2])"
   ]
  },
  {
   "cell_type": "code",
   "execution_count": 106,
   "metadata": {},
   "outputs": [],
   "source": [
    "# remove stop words - defining a function to remove stop words from each row of description\n",
    "\n",
    "def remove_stopwords(texts):\n",
    "    return [[word for word in simple_preprocess(str(doc)) if word not in stop_words] for doc in texts]\n",
    "\n",
    "\n",
    "# Remove Stop Words\n",
    "data_words_nostops = remove_stopwords(data_words)"
   ]
  },
  {
   "cell_type": "code",
   "execution_count": 107,
   "metadata": {},
   "outputs": [
    {
     "data": {
      "text/plain": [
       "[['deposit', 'id', 'number'],\n",
       " ['atm', 'cash', 'deposit', 'belt', 'line', 'rd', 'irving', 'tx']]"
      ]
     },
     "execution_count": 107,
     "metadata": {},
     "output_type": "execute_result"
    }
   ],
   "source": [
    "# words/sentences without stopwords\n",
    "\n",
    "data_words_nostops[:2]"
   ]
  },
  {
   "cell_type": "code",
   "execution_count": 108,
   "metadata": {},
   "outputs": [
    {
     "name": "stdout",
     "output_type": "stream",
     "text": [
      "[[(0, 1), (1, 1), (2, 1)], [(0, 1), (3, 1), (4, 1), (5, 1), (6, 1), (7, 1), (8, 1), (9, 1)], [(0, 1), (3, 1), (4, 1), (5, 1), (6, 1), (7, 1), (8, 1), (9, 1)], [(6, 1), (9, 1), (10, 1)], [(1, 1), (11, 1), (12, 1), (13, 1)]]\n"
     ]
    }
   ],
   "source": [
    "# Create Dictionary of word corpus\n",
    "\n",
    "id2word = corpora.Dictionary(data_words_nostops)\n",
    "\n",
    "# Create Corpus\n",
    "\n",
    "texts = data_words_nostops\n",
    "\n",
    "\n",
    "# Term Document Frequency\n",
    "\n",
    "corpus = [id2word.doc2bow(text) for text in texts]\n",
    "\n",
    "# verify the conversion\n",
    "\n",
    "print(corpus[:5])"
   ]
  },
  {
   "cell_type": "code",
   "execution_count": 109,
   "metadata": {},
   "outputs": [
    {
     "data": {
      "text/plain": [
       "[[('deposit', 1), ('id', 1), ('number', 1)],\n",
       " [('deposit', 1),\n",
       "  ('atm', 1),\n",
       "  ('belt', 1),\n",
       "  ('cash', 1),\n",
       "  ('irving', 1),\n",
       "  ('line', 1),\n",
       "  ('rd', 1),\n",
       "  ('tx', 1)]]"
      ]
     },
     "execution_count": 109,
     "metadata": {},
     "output_type": "execute_result"
    }
   ],
   "source": [
    "# make it into a human readable form rather than vectors\n",
    "\n",
    "[[(id2word[id], freq) for id, freq in cp] for cp in corpus[:2]]"
   ]
  },
  {
   "cell_type": "markdown",
   "metadata": {},
   "source": [
    "###### Building the LDA Model\n"
   ]
  },
  {
   "cell_type": "code",
   "execution_count": 110,
   "metadata": {},
   "outputs": [],
   "source": [
    "# Build LDA model with the corpus and word dictionary , with number of topics as 7\n",
    "\n",
    "\n",
    "lda_model = gensim.models.ldamodel.LdaModel(corpus=corpus,\n",
    "                                           id2word=id2word,\n",
    "                                           num_topics=7, \n",
    "                                           random_state=0,\n",
    "                                           passes=10,\n",
    "                                           alpha='auto')"
   ]
  },
  {
   "cell_type": "code",
   "execution_count": 111,
   "metadata": {},
   "outputs": [
    {
     "data": {
      "text/plain": [
       "[('inc', 0.23125966),\n",
       " ('club', 0.051430415),\n",
       " ('idx', 0.049309082),\n",
       " ('usd', 0.031137023),\n",
       " ('indnthe', 0.025146138),\n",
       " ('idwfbt', 0.025146138),\n",
       " ('breakfast', 0.025146138),\n",
       " ('desbkcd', 0.024470687),\n",
       " ('stlmt', 0.024470687),\n",
       " ('sams', 0.02261074)]"
      ]
     },
     "execution_count": 111,
     "metadata": {},
     "output_type": "execute_result"
    }
   ],
   "source": [
    "# checking the model output : \n",
    "\n",
    "# the keywords and distribution value for each keyword for topic # - 5 \n",
    "\n",
    "lda_model.show_topic(5)"
   ]
  },
  {
   "cell_type": "code",
   "execution_count": 112,
   "metadata": {},
   "outputs": [
    {
     "name": "stdout",
     "output_type": "stream",
     "text": [
      "0: deposit transfer online wire associate janabi banking chk enterprises confirmation\n",
      "1: withdrawal id co worldpay trf idlkx desdep riverside gas lake\n",
      "2: ca checkcard purchase card wa authorized central sx paypal orlando\n",
      "3: atm deposit cash payment ky louisville card station pos vape\n",
      "4: ach persona dep ccd bankcard pmt doctorsauthor id shaban shevan\n",
      "5: inc club idx usd indnthe idwfbt breakfast desbkcd stlmt sams\n",
      "6: check new doctors newlogic preauthpmt logic paid fee persona flower\n"
     ]
    }
   ],
   "source": [
    "# printing the keywords in each topic\n",
    "\n",
    "for topic_id in range(lda_model.num_topics):\n",
    "    topk = lda_model.show_topic(topic_id, 10)\n",
    "    topk_words = [ w for w, _ in topk ]\n",
    "    \n",
    "    print('{}: {}'.format(topic_id, ' '.join(topk_words)))"
   ]
  },
  {
   "cell_type": "markdown",
   "metadata": {},
   "source": [
    "###### Model Perfromance"
   ]
  },
  {
   "cell_type": "code",
   "execution_count": 113,
   "metadata": {},
   "outputs": [
    {
     "name": "stdout",
     "output_type": "stream",
     "text": [
      "\n",
      "Perplexity:  -5.690992137939829\n",
      "\n",
      "Coherence Score:  0.4524798675896142\n"
     ]
    }
   ],
   "source": [
    "# Compute Perplexity\n",
    "\n",
    "print('\\nPerplexity: ', lda_model.log_perplexity(corpus))  # a measure of how good the model is. lower the better.\n",
    "\n",
    "# Compute Coherence Score\n",
    "\n",
    "coherence_model_lda = CoherenceModel(model=lda_model, texts=data_words_nostops, dictionary=id2word, coherence='c_v')\n",
    "coherence_lda = coherence_model_lda.get_coherence()\n",
    "print('\\nCoherence Score: ', coherence_lda)"
   ]
  },
  {
   "cell_type": "markdown",
   "metadata": {},
   "source": [
    "###### Identify the optimum number of topics using elbow method "
   ]
  },
  {
   "cell_type": "code",
   "execution_count": 114,
   "metadata": {},
   "outputs": [],
   "source": [
    "def compute_coherence_values(dictionary, corpus, texts, limit, start=2, step=3):\n",
    "    \"\"\"\n",
    "    Compute c_v coherence for various number of topics\n",
    "\n",
    "    Parameters:\n",
    "    ----------\n",
    "    dictionary : Gensim dictionary\n",
    "    corpus : Gensim corpus\n",
    "    texts : List of input texts\n",
    "    limit : Max num of topics\n",
    "\n",
    "    Returns:\n",
    "    -------\n",
    "    model_list : List of LDA topic models\n",
    "    coherence_values : Coherence values corresponding to the LDA model with respective number of topics\n",
    "    \"\"\"\n",
    "    coherence_values = []\n",
    "    model_list = []\n",
    "    for num_topics in range(start, limit, step):\n",
    "        model = gensim.models.ldamodel.LdaModel(corpus=corpus,\n",
    "                                           id2word=dictionary,\n",
    "                                           num_topics=num_topics,\n",
    "                                            random_state=0,\n",
    "                                           alpha='auto')\n",
    "        #model = gensim.models.wrappers.LdaMallet(mallet_path, corpus=corpus, num_topics=num_topics, id2word=id2word)\n",
    "        model_list.append(model)\n",
    "        coherencemodel = CoherenceModel(model=model, texts=texts, dictionary=dictionary, coherence='c_v')\n",
    "        coherence_values.append(coherencemodel.get_coherence())\n",
    "\n",
    "    return model_list, coherence_values"
   ]
  },
  {
   "cell_type": "code",
   "execution_count": 115,
   "metadata": {},
   "outputs": [],
   "source": [
    "model_list, coherence_values = compute_coherence_values(dictionary=id2word, corpus=corpus, texts=data_words_nostops, start=2, limit=25, step=2)"
   ]
  },
  {
   "cell_type": "code",
   "execution_count": 116,
   "metadata": {},
   "outputs": [
    {
     "data": {
      "image/png": "[encoded data removed]",
      "text/plain": [
       "<Figure size 432x288 with 1 Axes>"
      ]
     },
     "metadata": {
      "needs_background": "light"
     },
     "output_type": "display_data"
    }
   ],
   "source": [
    "# Show graph\n",
    "\n",
    "limit=25; start=2; step=2;\n",
    "x = range(start, limit, step)\n",
    "plt.plot(x, coherence_values)\n",
    "plt.xlabel(\"Num Topics\")\n",
    "plt.ylabel(\"Coherence score\")\n",
    "plt.legend((\"coherence_values\"), loc='best')\n",
    "plt.show()"
   ]
  },
  {
   "cell_type": "code",
   "execution_count": 117,
   "metadata": {},
   "outputs": [
    {
     "name": "stdout",
     "output_type": "stream",
     "text": [
      "Num Topics = 2  has Coherence Value of 0.4451\n",
      "Num Topics = 4  has Coherence Value of 0.4798\n",
      "Num Topics = 6  has Coherence Value of 0.5106\n",
      "Num Topics = 8  has Coherence Value of 0.4883\n",
      "Num Topics = 10  has Coherence Value of 0.4832\n",
      "Num Topics = 12  has Coherence Value of 0.5266\n",
      "Num Topics = 14  has Coherence Value of 0.5072\n",
      "Num Topics = 16  has Coherence Value of 0.5401\n",
      "Num Topics = 18  has Coherence Value of 0.5241\n",
      "Num Topics = 20  has Coherence Value of 0.5338\n",
      "Num Topics = 22  has Coherence Value of 0.5258\n",
      "Num Topics = 24  has Coherence Value of 0.526\n"
     ]
    }
   ],
   "source": [
    "# taking the optimum number of topics as 6 from the below.\n",
    "\n",
    "# Print the coherence scores\n",
    "\n",
    "for m, cv in zip(x, coherence_values):\n",
    "    print(\"Num Topics =\", m, \" has Coherence Value of\", round(cv, 4))"
   ]
  },
  {
   "cell_type": "code",
   "execution_count": 118,
   "metadata": {},
   "outputs": [],
   "source": [
    "optimal_model = model_list[2]"
   ]
  },
  {
   "cell_type": "code",
   "execution_count": 119,
   "metadata": {},
   "outputs": [
    {
     "name": "stdout",
     "output_type": "stream",
     "text": [
      "0: deposit transfer online wa associate janabi wire banking chk confirmation\n",
      "1: withdrawal id co worldpay trf idlkx desdep cash riverside card\n",
      "2: check ca checkcard purchase fee mi shoppe card item fl\n",
      "3: atm paid electronic station payment rd proc st douglas quickpay\n",
      "4: ach persona dep bankcard ccd pmt doctorsauthor btot shevan shaban\n",
      "5: inc new wire preauthpmt newlogic logic doctors associate janabi club\n"
     ]
    }
   ],
   "source": [
    "# print the keywords associated with each of the 6 topics\n",
    "\n",
    "for topic_id in range(optimal_model.num_topics):\n",
    "    topk = optimal_model.show_topic(topic_id, 10)\n",
    "    topk_words = [ w for w, _ in topk ]\n",
    "    \n",
    "    print('{}: {}'.format(topic_id, ' '.join(topk_words)))"
   ]
  },
  {
   "cell_type": "markdown",
   "metadata": {},
   "source": [
    "###### Finding the dominant topic in each transaction description"
   ]
  },
  {
   "cell_type": "code",
   "execution_count": 120,
   "metadata": {},
   "outputs": [],
   "source": [
    "# define a function to calculate the dominant topic number for each description\n",
    "\n",
    "def format_topics_sentences(ldamodel=lda_model, corpus=corpus, texts=data):\n",
    "    # Init output\n",
    "    sent_topics_df = pd.DataFrame()\n",
    "\n",
    "    # Get main topic in each document\n",
    "    for i, row in enumerate(ldamodel[corpus]):\n",
    "        row = sorted(row, key=lambda x: (x[1]), reverse=True)\n",
    "        # Get the Dominant topic, Perc Contribution and Keywords for each document\n",
    "        for j, (topic_num, prop_topic) in enumerate(row):\n",
    "            if j == 0:  # => dominant topic\n",
    "                wp = ldamodel.show_topic(topic_num)\n",
    "                topic_keywords = \", \".join([word for word, prop in wp])\n",
    "                sent_topics_df = sent_topics_df.append(pd.Series([int(topic_num), round(prop_topic,4), topic_keywords]), ignore_index=True)\n",
    "            else:\n",
    "                break\n",
    "    sent_topics_df.columns = ['Dominant_Topic', 'Perc_Contribution', 'Topic_Keywords']\n",
    "\n",
    "    # Add original text to the end of the output\n",
    "    contents = pd.Series(texts)\n",
    "    sent_topics_df = pd.concat([sent_topics_df, contents], axis=1)\n",
    "    return(sent_topics_df)\n",
    "\n",
    "\n",
    "\n",
    "\n"
   ]
  },
  {
   "cell_type": "code",
   "execution_count": 121,
   "metadata": {},
   "outputs": [],
   "source": [
    "df_topic_sents_keywords = format_topics_sentences(ldamodel=optimal_model, corpus=corpus, texts=df['description'])\n",
    "\n",
    "# Format\n",
    "df_dominant_topic = df_topic_sents_keywords.reset_index()\n",
    "\n",
    "# rename columns\n",
    "df_dominant_topic.columns = ['Document_No', 'Dominant_Topic', 'Topic_Perc_Contrib', 'Keywords', 'Text']"
   ]
  },
  {
   "cell_type": "code",
   "execution_count": 122,
   "metadata": {},
   "outputs": [],
   "source": [
    "# add amount, industry and transaction type to the LDA output.\n",
    "\n",
    "df_dominant_topic['industry'] = (df['Industry'])\n",
    "\n",
    "df_dominant_topic['transaction_type'] = (df['transaction_type'])\n",
    "\n",
    "df_dominant_topic['amount'] = (df['amount'])"
   ]
  },
  {
   "cell_type": "code",
   "execution_count": 123,
   "metadata": {},
   "outputs": [
    {
     "data": {
      "text/html": [
       "<div>\n",
       "<style scoped>\n",
       "    .dataframe tbody tr th:only-of-type {\n",
       "        vertical-align: middle;\n",
       "    }\n",
       "\n",
       "    .dataframe tbody tr th {\n",
       "        vertical-align: top;\n",
       "    }\n",
       "\n",
       "    .dataframe thead th {\n",
       "        text-align: right;\n",
       "    }\n",
       "</style>\n",
       "<table border=\"1\" class=\"dataframe\">\n",
       "  <thead>\n",
       "    <tr style=\"text-align: right;\">\n",
       "      <th></th>\n",
       "      <th>Document_No</th>\n",
       "      <th>Dominant_Topic</th>\n",
       "      <th>Topic_Perc_Contrib</th>\n",
       "      <th>Keywords</th>\n",
       "      <th>Text</th>\n",
       "      <th>industry</th>\n",
       "      <th>transaction_type</th>\n",
       "      <th>amount</th>\n",
       "    </tr>\n",
       "  </thead>\n",
       "  <tbody>\n",
       "    <tr>\n",
       "      <td>0</td>\n",
       "      <td>0</td>\n",
       "      <td>0.0</td>\n",
       "      <td>0.5591</td>\n",
       "      <td>deposit, transfer, online, wa, associate, jana...</td>\n",
       "      <td>DEPOSIT ID NUMBER xx6836</td>\n",
       "      <td>Accommodation and Food Services</td>\n",
       "      <td>credit</td>\n",
       "      <td>5000.00</td>\n",
       "    </tr>\n",
       "    <tr>\n",
       "      <td>1</td>\n",
       "      <td>1</td>\n",
       "      <td>3.0</td>\n",
       "      <td>0.6385</td>\n",
       "      <td>atm, paid, electronic, station, payment, rd, p...</td>\n",
       "      <td>ATM CASH DEPOSIT 03/21 2904 N BELT LINE RD IRV...</td>\n",
       "      <td>Accommodation and Food Services</td>\n",
       "      <td>credit</td>\n",
       "      <td>16.00</td>\n",
       "    </tr>\n",
       "    <tr>\n",
       "      <td>2</td>\n",
       "      <td>2</td>\n",
       "      <td>3.0</td>\n",
       "      <td>0.6385</td>\n",
       "      <td>atm, paid, electronic, station, payment, rd, p...</td>\n",
       "      <td>ATM CASH DEPOSIT 03/21 2904 N BELT LINE RD IRV...</td>\n",
       "      <td>Accommodation and Food Services</td>\n",
       "      <td>credit</td>\n",
       "      <td>1000.00</td>\n",
       "    </tr>\n",
       "    <tr>\n",
       "      <td>3</td>\n",
       "      <td>3</td>\n",
       "      <td>5.0</td>\n",
       "      <td>0.4106</td>\n",
       "      <td>inc, new, wire, preauthpmt, newlogic, logic, d...</td>\n",
       "      <td>WAL-MART #0880 IRVING TXxx6007 03/20</td>\n",
       "      <td>Accommodation and Food Services</td>\n",
       "      <td>debit</td>\n",
       "      <td>1015.50</td>\n",
       "    </tr>\n",
       "    <tr>\n",
       "      <td>4</td>\n",
       "      <td>4</td>\n",
       "      <td>5.0</td>\n",
       "      <td>0.3113</td>\n",
       "      <td>inc, new, wire, preauthpmt, newlogic, logic, d...</td>\n",
       "      <td>CHECK OR SUPPLY ORDERPPD ID: xxxxxx6800</td>\n",
       "      <td>Accommodation and Food Services</td>\n",
       "      <td>debit</td>\n",
       "      <td>27.62</td>\n",
       "    </tr>\n",
       "    <tr>\n",
       "      <td>5</td>\n",
       "      <td>5</td>\n",
       "      <td>2.0</td>\n",
       "      <td>0.7877</td>\n",
       "      <td>check, ca, checkcard, purchase, fee, mi, shopp...</td>\n",
       "      <td>DOLLARTREE LEAGUE CITY TXxx0062 03/23</td>\n",
       "      <td>Accommodation and Food Services</td>\n",
       "      <td>debit</td>\n",
       "      <td>3.24</td>\n",
       "    </tr>\n",
       "  </tbody>\n",
       "</table>\n",
       "</div>"
      ],
      "text/plain": [
       "   Document_No  Dominant_Topic  Topic_Perc_Contrib  \\\n",
       "0            0             0.0              0.5591   \n",
       "1            1             3.0              0.6385   \n",
       "2            2             3.0              0.6385   \n",
       "3            3             5.0              0.4106   \n",
       "4            4             5.0              0.3113   \n",
       "5            5             2.0              0.7877   \n",
       "\n",
       "                                            Keywords  \\\n",
       "0  deposit, transfer, online, wa, associate, jana...   \n",
       "1  atm, paid, electronic, station, payment, rd, p...   \n",
       "2  atm, paid, electronic, station, payment, rd, p...   \n",
       "3  inc, new, wire, preauthpmt, newlogic, logic, d...   \n",
       "4  inc, new, wire, preauthpmt, newlogic, logic, d...   \n",
       "5  check, ca, checkcard, purchase, fee, mi, shopp...   \n",
       "\n",
       "                                                Text  \\\n",
       "0                           DEPOSIT ID NUMBER xx6836   \n",
       "1  ATM CASH DEPOSIT 03/21 2904 N BELT LINE RD IRV...   \n",
       "2  ATM CASH DEPOSIT 03/21 2904 N BELT LINE RD IRV...   \n",
       "3               WAL-MART #0880 IRVING TXxx6007 03/20   \n",
       "4            CHECK OR SUPPLY ORDERPPD ID: xxxxxx6800   \n",
       "5              DOLLARTREE LEAGUE CITY TXxx0062 03/23   \n",
       "\n",
       "                          industry transaction_type   amount  \n",
       "0  Accommodation and Food Services           credit  5000.00  \n",
       "1  Accommodation and Food Services           credit    16.00  \n",
       "2  Accommodation and Food Services           credit  1000.00  \n",
       "3  Accommodation and Food Services            debit  1015.50  \n",
       "4  Accommodation and Food Services            debit    27.62  \n",
       "5  Accommodation and Food Services            debit     3.24  "
      ]
     },
     "execution_count": 123,
     "metadata": {},
     "output_type": "execute_result"
    }
   ],
   "source": [
    "# verify\n",
    "\n",
    "df_dominant_topic.head(6)"
   ]
  },
  {
   "cell_type": "code",
   "execution_count": 124,
   "metadata": {},
   "outputs": [],
   "source": [
    "# create a copy of the dataframe to perform clustering\n",
    "\n",
    "df_tr=df_dominant_topic"
   ]
  },
  {
   "cell_type": "code",
   "execution_count": 125,
   "metadata": {},
   "outputs": [],
   "source": [
    "# convert the topic number to category\n",
    "\n",
    "df_tr['Dominant_Topic'] = df_tr['Dominant_Topic'].astype('category')"
   ]
  },
  {
   "cell_type": "code",
   "execution_count": 126,
   "metadata": {},
   "outputs": [],
   "source": [
    "# convert to categories into dummies(one-hot encoding)\n",
    "\n",
    "df_tr = pd.get_dummies(df_tr, columns=['industry','transaction_type','Dominant_Topic'])"
   ]
  },
  {
   "cell_type": "code",
   "execution_count": 127,
   "metadata": {},
   "outputs": [
    {
     "data": {
      "text/html": [
       "<div>\n",
       "<style scoped>\n",
       "    .dataframe tbody tr th:only-of-type {\n",
       "        vertical-align: middle;\n",
       "    }\n",
       "\n",
       "    .dataframe tbody tr th {\n",
       "        vertical-align: top;\n",
       "    }\n",
       "\n",
       "    .dataframe thead th {\n",
       "        text-align: right;\n",
       "    }\n",
       "</style>\n",
       "<table border=\"1\" class=\"dataframe\">\n",
       "  <thead>\n",
       "    <tr style=\"text-align: right;\">\n",
       "      <th></th>\n",
       "      <th>Document_No</th>\n",
       "      <th>Topic_Perc_Contrib</th>\n",
       "      <th>Keywords</th>\n",
       "      <th>Text</th>\n",
       "      <th>amount</th>\n",
       "      <th>industry_Accommodation and Food Services</th>\n",
       "      <th>industry_Agriculture, Forestry, Fishing and Hunting</th>\n",
       "      <th>industry_Construction</th>\n",
       "      <th>industry_Educational Services</th>\n",
       "      <th>industry_Finance and Insurance</th>\n",
       "      <th>...</th>\n",
       "      <th>industry_Professional, Scientific, and Technical Services</th>\n",
       "      <th>industry_Retail Trade</th>\n",
       "      <th>transaction_type_credit</th>\n",
       "      <th>transaction_type_debit</th>\n",
       "      <th>Dominant_Topic_0.0</th>\n",
       "      <th>Dominant_Topic_1.0</th>\n",
       "      <th>Dominant_Topic_2.0</th>\n",
       "      <th>Dominant_Topic_3.0</th>\n",
       "      <th>Dominant_Topic_4.0</th>\n",
       "      <th>Dominant_Topic_5.0</th>\n",
       "    </tr>\n",
       "  </thead>\n",
       "  <tbody>\n",
       "    <tr>\n",
       "      <td>0</td>\n",
       "      <td>0</td>\n",
       "      <td>0.5591</td>\n",
       "      <td>deposit, transfer, online, wa, associate, jana...</td>\n",
       "      <td>DEPOSIT ID NUMBER xx6836</td>\n",
       "      <td>5000.00</td>\n",
       "      <td>1</td>\n",
       "      <td>0</td>\n",
       "      <td>0</td>\n",
       "      <td>0</td>\n",
       "      <td>0</td>\n",
       "      <td>...</td>\n",
       "      <td>0</td>\n",
       "      <td>0</td>\n",
       "      <td>1</td>\n",
       "      <td>0</td>\n",
       "      <td>1</td>\n",
       "      <td>0</td>\n",
       "      <td>0</td>\n",
       "      <td>0</td>\n",
       "      <td>0</td>\n",
       "      <td>0</td>\n",
       "    </tr>\n",
       "    <tr>\n",
       "      <td>1</td>\n",
       "      <td>1</td>\n",
       "      <td>0.6385</td>\n",
       "      <td>atm, paid, electronic, station, payment, rd, p...</td>\n",
       "      <td>ATM CASH DEPOSIT 03/21 2904 N BELT LINE RD IRV...</td>\n",
       "      <td>16.00</td>\n",
       "      <td>1</td>\n",
       "      <td>0</td>\n",
       "      <td>0</td>\n",
       "      <td>0</td>\n",
       "      <td>0</td>\n",
       "      <td>...</td>\n",
       "      <td>0</td>\n",
       "      <td>0</td>\n",
       "      <td>1</td>\n",
       "      <td>0</td>\n",
       "      <td>0</td>\n",
       "      <td>0</td>\n",
       "      <td>0</td>\n",
       "      <td>1</td>\n",
       "      <td>0</td>\n",
       "      <td>0</td>\n",
       "    </tr>\n",
       "    <tr>\n",
       "      <td>2</td>\n",
       "      <td>2</td>\n",
       "      <td>0.6385</td>\n",
       "      <td>atm, paid, electronic, station, payment, rd, p...</td>\n",
       "      <td>ATM CASH DEPOSIT 03/21 2904 N BELT LINE RD IRV...</td>\n",
       "      <td>1000.00</td>\n",
       "      <td>1</td>\n",
       "      <td>0</td>\n",
       "      <td>0</td>\n",
       "      <td>0</td>\n",
       "      <td>0</td>\n",
       "      <td>...</td>\n",
       "      <td>0</td>\n",
       "      <td>0</td>\n",
       "      <td>1</td>\n",
       "      <td>0</td>\n",
       "      <td>0</td>\n",
       "      <td>0</td>\n",
       "      <td>0</td>\n",
       "      <td>1</td>\n",
       "      <td>0</td>\n",
       "      <td>0</td>\n",
       "    </tr>\n",
       "    <tr>\n",
       "      <td>3</td>\n",
       "      <td>3</td>\n",
       "      <td>0.4106</td>\n",
       "      <td>inc, new, wire, preauthpmt, newlogic, logic, d...</td>\n",
       "      <td>WAL-MART #0880 IRVING TXxx6007 03/20</td>\n",
       "      <td>1015.50</td>\n",
       "      <td>1</td>\n",
       "      <td>0</td>\n",
       "      <td>0</td>\n",
       "      <td>0</td>\n",
       "      <td>0</td>\n",
       "      <td>...</td>\n",
       "      <td>0</td>\n",
       "      <td>0</td>\n",
       "      <td>0</td>\n",
       "      <td>1</td>\n",
       "      <td>0</td>\n",
       "      <td>0</td>\n",
       "      <td>0</td>\n",
       "      <td>0</td>\n",
       "      <td>0</td>\n",
       "      <td>1</td>\n",
       "    </tr>\n",
       "    <tr>\n",
       "      <td>4</td>\n",
       "      <td>4</td>\n",
       "      <td>0.3113</td>\n",
       "      <td>inc, new, wire, preauthpmt, newlogic, logic, d...</td>\n",
       "      <td>CHECK OR SUPPLY ORDERPPD ID: xxxxxx6800</td>\n",
       "      <td>27.62</td>\n",
       "      <td>1</td>\n",
       "      <td>0</td>\n",
       "      <td>0</td>\n",
       "      <td>0</td>\n",
       "      <td>0</td>\n",
       "      <td>...</td>\n",
       "      <td>0</td>\n",
       "      <td>0</td>\n",
       "      <td>0</td>\n",
       "      <td>1</td>\n",
       "      <td>0</td>\n",
       "      <td>0</td>\n",
       "      <td>0</td>\n",
       "      <td>0</td>\n",
       "      <td>0</td>\n",
       "      <td>1</td>\n",
       "    </tr>\n",
       "  </tbody>\n",
       "</table>\n",
       "<p>5 rows × 23 columns</p>\n",
       "</div>"
      ],
      "text/plain": [
       "   Document_No  Topic_Perc_Contrib  \\\n",
       "0            0              0.5591   \n",
       "1            1              0.6385   \n",
       "2            2              0.6385   \n",
       "3            3              0.4106   \n",
       "4            4              0.3113   \n",
       "\n",
       "                                            Keywords  \\\n",
       "0  deposit, transfer, online, wa, associate, jana...   \n",
       "1  atm, paid, electronic, station, payment, rd, p...   \n",
       "2  atm, paid, electronic, station, payment, rd, p...   \n",
       "3  inc, new, wire, preauthpmt, newlogic, logic, d...   \n",
       "4  inc, new, wire, preauthpmt, newlogic, logic, d...   \n",
       "\n",
       "                                                Text   amount  \\\n",
       "0                           DEPOSIT ID NUMBER xx6836  5000.00   \n",
       "1  ATM CASH DEPOSIT 03/21 2904 N BELT LINE RD IRV...    16.00   \n",
       "2  ATM CASH DEPOSIT 03/21 2904 N BELT LINE RD IRV...  1000.00   \n",
       "3               WAL-MART #0880 IRVING TXxx6007 03/20  1015.50   \n",
       "4            CHECK OR SUPPLY ORDERPPD ID: xxxxxx6800    27.62   \n",
       "\n",
       "   industry_Accommodation and Food Services  \\\n",
       "0                                         1   \n",
       "1                                         1   \n",
       "2                                         1   \n",
       "3                                         1   \n",
       "4                                         1   \n",
       "\n",
       "   industry_Agriculture, Forestry, Fishing and Hunting  industry_Construction  \\\n",
       "0                                                  0                        0   \n",
       "1                                                  0                        0   \n",
       "2                                                  0                        0   \n",
       "3                                                  0                        0   \n",
       "4                                                  0                        0   \n",
       "\n",
       "   industry_Educational Services  industry_Finance and Insurance  ...  \\\n",
       "0                              0                               0  ...   \n",
       "1                              0                               0  ...   \n",
       "2                              0                               0  ...   \n",
       "3                              0                               0  ...   \n",
       "4                              0                               0  ...   \n",
       "\n",
       "   industry_Professional, Scientific, and Technical Services  \\\n",
       "0                                                  0           \n",
       "1                                                  0           \n",
       "2                                                  0           \n",
       "3                                                  0           \n",
       "4                                                  0           \n",
       "\n",
       "   industry_Retail Trade  transaction_type_credit  transaction_type_debit  \\\n",
       "0                      0                        1                       0   \n",
       "1                      0                        1                       0   \n",
       "2                      0                        1                       0   \n",
       "3                      0                        0                       1   \n",
       "4                      0                        0                       1   \n",
       "\n",
       "   Dominant_Topic_0.0  Dominant_Topic_1.0  Dominant_Topic_2.0  \\\n",
       "0                   1                   0                   0   \n",
       "1                   0                   0                   0   \n",
       "2                   0                   0                   0   \n",
       "3                   0                   0                   0   \n",
       "4                   0                   0                   0   \n",
       "\n",
       "   Dominant_Topic_3.0  Dominant_Topic_4.0  Dominant_Topic_5.0  \n",
       "0                   0                   0                   0  \n",
       "1                   1                   0                   0  \n",
       "2                   1                   0                   0  \n",
       "3                   0                   0                   1  \n",
       "4                   0                   0                   1  \n",
       "\n",
       "[5 rows x 23 columns]"
      ]
     },
     "execution_count": 127,
     "metadata": {},
     "output_type": "execute_result"
    }
   ],
   "source": [
    "df_tr.head()"
   ]
  },
  {
   "cell_type": "code",
   "execution_count": 128,
   "metadata": {},
   "outputs": [],
   "source": [
    "from sklearn.cluster import KMeans"
   ]
  },
  {
   "cell_type": "code",
   "execution_count": 129,
   "metadata": {},
   "outputs": [],
   "source": [
    "X = df_tr[['amount',\n",
    "       'industry_Accommodation and Food Services',\n",
    "       'industry_Agriculture, Forestry, Fishing and Hunting',\n",
    "       'industry_Construction', 'industry_Educational Services',\n",
    "       'industry_Finance and Insurance',\n",
    "       'industry_Health Care and Social Assistance',\n",
    "       'industry_Information Technology',\n",
    "       'industry_Other Services (except Public Administration)',\n",
    "       'industry_Professional, Scientific, and Technical Services',\n",
    "       'industry_Retail Trade', 'transaction_type_credit',\n",
    "       'transaction_type_debit', 'Dominant_Topic_0.0', 'Dominant_Topic_1.0',\n",
    "       'Dominant_Topic_2.0', 'Dominant_Topic_3.0', 'Dominant_Topic_4.0',\n",
    "       'Dominant_Topic_5.0']]"
   ]
  },
  {
   "cell_type": "markdown",
   "metadata": {},
   "source": [
    "Assigning lower weights to transaction type, industries. Thus giving more weightage to the description(topics) column while performing clustering"
   ]
  },
  {
   "cell_type": "code",
   "execution_count": 130,
   "metadata": {},
   "outputs": [],
   "source": [
    "X['transaction_type_credit_weighted'] = X['transaction_type_credit']*0.25\n",
    "X['transaction_type_debit_weighted'] = X['transaction_type_debit']*0.25\n",
    "X['industry_Accommodation and Food Services_weighted'] = X['industry_Accommodation and Food Services']*0.25\n",
    "X['industry_Agriculture, Forestry, Fishing and Hunting_weighted'] = X['industry_Agriculture, Forestry, Fishing and Hunting']*0.25\n",
    "X['industry_Construction_weighted'] = X['industry_Construction']*0.25\n",
    "X['industry_Educational Services_weighted'] = X['industry_Educational Services']*0.25\n",
    "X['industry_Finance and Insurance_weighted'] = X['industry_Finance and Insurance']*0.25\n",
    "X['industry_Health Care and Social Assistance_weighted'] = X['industry_Health Care and Social Assistance']*0.25\n",
    "X['industry_Information Technology_weighted'] = X['industry_Information Technology']*0.25\n",
    "X['industry_Other Services (except Public Administration)_weighted'] = X['industry_Other Services (except Public Administration)']*0.25\n",
    "X['industry_Professional, Scientific, and Technical Services_weighted'] = X['industry_Professional, Scientific, and Technical Services']*0.25\n",
    "X['industry_Retail Trade_weighted'] = X['industry_Retail Trade']*0.25\n"
   ]
  },
  {
   "cell_type": "code",
   "execution_count": 131,
   "metadata": {},
   "outputs": [
    {
     "data": {
      "text/html": [
       "<div>\n",
       "<style scoped>\n",
       "    .dataframe tbody tr th:only-of-type {\n",
       "        vertical-align: middle;\n",
       "    }\n",
       "\n",
       "    .dataframe tbody tr th {\n",
       "        vertical-align: top;\n",
       "    }\n",
       "\n",
       "    .dataframe thead th {\n",
       "        text-align: right;\n",
       "    }\n",
       "</style>\n",
       "<table border=\"1\" class=\"dataframe\">\n",
       "  <thead>\n",
       "    <tr style=\"text-align: right;\">\n",
       "      <th></th>\n",
       "      <th>amount</th>\n",
       "      <th>industry_Accommodation and Food Services</th>\n",
       "      <th>industry_Agriculture, Forestry, Fishing and Hunting</th>\n",
       "      <th>industry_Construction</th>\n",
       "      <th>industry_Educational Services</th>\n",
       "      <th>industry_Finance and Insurance</th>\n",
       "      <th>industry_Health Care and Social Assistance</th>\n",
       "      <th>industry_Information Technology</th>\n",
       "      <th>industry_Other Services (except Public Administration)</th>\n",
       "      <th>industry_Professional, Scientific, and Technical Services</th>\n",
       "      <th>...</th>\n",
       "      <th>industry_Accommodation and Food Services_weighted</th>\n",
       "      <th>industry_Agriculture, Forestry, Fishing and Hunting_weighted</th>\n",
       "      <th>industry_Construction_weighted</th>\n",
       "      <th>industry_Educational Services_weighted</th>\n",
       "      <th>industry_Finance and Insurance_weighted</th>\n",
       "      <th>industry_Health Care and Social Assistance_weighted</th>\n",
       "      <th>industry_Information Technology_weighted</th>\n",
       "      <th>industry_Other Services (except Public Administration)_weighted</th>\n",
       "      <th>industry_Professional, Scientific, and Technical Services_weighted</th>\n",
       "      <th>industry_Retail Trade_weighted</th>\n",
       "    </tr>\n",
       "  </thead>\n",
       "  <tbody>\n",
       "    <tr>\n",
       "      <td>0</td>\n",
       "      <td>5000.00</td>\n",
       "      <td>1</td>\n",
       "      <td>0</td>\n",
       "      <td>0</td>\n",
       "      <td>0</td>\n",
       "      <td>0</td>\n",
       "      <td>0</td>\n",
       "      <td>0</td>\n",
       "      <td>0</td>\n",
       "      <td>0</td>\n",
       "      <td>...</td>\n",
       "      <td>0.25</td>\n",
       "      <td>0.0</td>\n",
       "      <td>0.0</td>\n",
       "      <td>0.0</td>\n",
       "      <td>0.0</td>\n",
       "      <td>0.0</td>\n",
       "      <td>0.0</td>\n",
       "      <td>0.0</td>\n",
       "      <td>0.0</td>\n",
       "      <td>0.0</td>\n",
       "    </tr>\n",
       "    <tr>\n",
       "      <td>1</td>\n",
       "      <td>16.00</td>\n",
       "      <td>1</td>\n",
       "      <td>0</td>\n",
       "      <td>0</td>\n",
       "      <td>0</td>\n",
       "      <td>0</td>\n",
       "      <td>0</td>\n",
       "      <td>0</td>\n",
       "      <td>0</td>\n",
       "      <td>0</td>\n",
       "      <td>...</td>\n",
       "      <td>0.25</td>\n",
       "      <td>0.0</td>\n",
       "      <td>0.0</td>\n",
       "      <td>0.0</td>\n",
       "      <td>0.0</td>\n",
       "      <td>0.0</td>\n",
       "      <td>0.0</td>\n",
       "      <td>0.0</td>\n",
       "      <td>0.0</td>\n",
       "      <td>0.0</td>\n",
       "    </tr>\n",
       "    <tr>\n",
       "      <td>2</td>\n",
       "      <td>1000.00</td>\n",
       "      <td>1</td>\n",
       "      <td>0</td>\n",
       "      <td>0</td>\n",
       "      <td>0</td>\n",
       "      <td>0</td>\n",
       "      <td>0</td>\n",
       "      <td>0</td>\n",
       "      <td>0</td>\n",
       "      <td>0</td>\n",
       "      <td>...</td>\n",
       "      <td>0.25</td>\n",
       "      <td>0.0</td>\n",
       "      <td>0.0</td>\n",
       "      <td>0.0</td>\n",
       "      <td>0.0</td>\n",
       "      <td>0.0</td>\n",
       "      <td>0.0</td>\n",
       "      <td>0.0</td>\n",
       "      <td>0.0</td>\n",
       "      <td>0.0</td>\n",
       "    </tr>\n",
       "    <tr>\n",
       "      <td>3</td>\n",
       "      <td>1015.50</td>\n",
       "      <td>1</td>\n",
       "      <td>0</td>\n",
       "      <td>0</td>\n",
       "      <td>0</td>\n",
       "      <td>0</td>\n",
       "      <td>0</td>\n",
       "      <td>0</td>\n",
       "      <td>0</td>\n",
       "      <td>0</td>\n",
       "      <td>...</td>\n",
       "      <td>0.25</td>\n",
       "      <td>0.0</td>\n",
       "      <td>0.0</td>\n",
       "      <td>0.0</td>\n",
       "      <td>0.0</td>\n",
       "      <td>0.0</td>\n",
       "      <td>0.0</td>\n",
       "      <td>0.0</td>\n",
       "      <td>0.0</td>\n",
       "      <td>0.0</td>\n",
       "    </tr>\n",
       "    <tr>\n",
       "      <td>4</td>\n",
       "      <td>27.62</td>\n",
       "      <td>1</td>\n",
       "      <td>0</td>\n",
       "      <td>0</td>\n",
       "      <td>0</td>\n",
       "      <td>0</td>\n",
       "      <td>0</td>\n",
       "      <td>0</td>\n",
       "      <td>0</td>\n",
       "      <td>0</td>\n",
       "      <td>...</td>\n",
       "      <td>0.25</td>\n",
       "      <td>0.0</td>\n",
       "      <td>0.0</td>\n",
       "      <td>0.0</td>\n",
       "      <td>0.0</td>\n",
       "      <td>0.0</td>\n",
       "      <td>0.0</td>\n",
       "      <td>0.0</td>\n",
       "      <td>0.0</td>\n",
       "      <td>0.0</td>\n",
       "    </tr>\n",
       "  </tbody>\n",
       "</table>\n",
       "<p>5 rows × 31 columns</p>\n",
       "</div>"
      ],
      "text/plain": [
       "    amount  industry_Accommodation and Food Services  \\\n",
       "0  5000.00                                         1   \n",
       "1    16.00                                         1   \n",
       "2  1000.00                                         1   \n",
       "3  1015.50                                         1   \n",
       "4    27.62                                         1   \n",
       "\n",
       "   industry_Agriculture, Forestry, Fishing and Hunting  industry_Construction  \\\n",
       "0                                                  0                        0   \n",
       "1                                                  0                        0   \n",
       "2                                                  0                        0   \n",
       "3                                                  0                        0   \n",
       "4                                                  0                        0   \n",
       "\n",
       "   industry_Educational Services  industry_Finance and Insurance  \\\n",
       "0                              0                               0   \n",
       "1                              0                               0   \n",
       "2                              0                               0   \n",
       "3                              0                               0   \n",
       "4                              0                               0   \n",
       "\n",
       "   industry_Health Care and Social Assistance  \\\n",
       "0                                           0   \n",
       "1                                           0   \n",
       "2                                           0   \n",
       "3                                           0   \n",
       "4                                           0   \n",
       "\n",
       "   industry_Information Technology  \\\n",
       "0                                0   \n",
       "1                                0   \n",
       "2                                0   \n",
       "3                                0   \n",
       "4                                0   \n",
       "\n",
       "   industry_Other Services (except Public Administration)  \\\n",
       "0                                                  0        \n",
       "1                                                  0        \n",
       "2                                                  0        \n",
       "3                                                  0        \n",
       "4                                                  0        \n",
       "\n",
       "   industry_Professional, Scientific, and Technical Services  ...  \\\n",
       "0                                                  0          ...   \n",
       "1                                                  0          ...   \n",
       "2                                                  0          ...   \n",
       "3                                                  0          ...   \n",
       "4                                                  0          ...   \n",
       "\n",
       "   industry_Accommodation and Food Services_weighted  \\\n",
       "0                                               0.25   \n",
       "1                                               0.25   \n",
       "2                                               0.25   \n",
       "3                                               0.25   \n",
       "4                                               0.25   \n",
       "\n",
       "   industry_Agriculture, Forestry, Fishing and Hunting_weighted  \\\n",
       "0                                                0.0              \n",
       "1                                                0.0              \n",
       "2                                                0.0              \n",
       "3                                                0.0              \n",
       "4                                                0.0              \n",
       "\n",
       "   industry_Construction_weighted  industry_Educational Services_weighted  \\\n",
       "0                             0.0                                     0.0   \n",
       "1                             0.0                                     0.0   \n",
       "2                             0.0                                     0.0   \n",
       "3                             0.0                                     0.0   \n",
       "4                             0.0                                     0.0   \n",
       "\n",
       "   industry_Finance and Insurance_weighted  \\\n",
       "0                                      0.0   \n",
       "1                                      0.0   \n",
       "2                                      0.0   \n",
       "3                                      0.0   \n",
       "4                                      0.0   \n",
       "\n",
       "   industry_Health Care and Social Assistance_weighted  \\\n",
       "0                                                0.0     \n",
       "1                                                0.0     \n",
       "2                                                0.0     \n",
       "3                                                0.0     \n",
       "4                                                0.0     \n",
       "\n",
       "   industry_Information Technology_weighted  \\\n",
       "0                                       0.0   \n",
       "1                                       0.0   \n",
       "2                                       0.0   \n",
       "3                                       0.0   \n",
       "4                                       0.0   \n",
       "\n",
       "   industry_Other Services (except Public Administration)_weighted  \\\n",
       "0                                                0.0                 \n",
       "1                                                0.0                 \n",
       "2                                                0.0                 \n",
       "3                                                0.0                 \n",
       "4                                                0.0                 \n",
       "\n",
       "   industry_Professional, Scientific, and Technical Services_weighted  \\\n",
       "0                                                0.0                    \n",
       "1                                                0.0                    \n",
       "2                                                0.0                    \n",
       "3                                                0.0                    \n",
       "4                                                0.0                    \n",
       "\n",
       "   industry_Retail Trade_weighted  \n",
       "0                             0.0  \n",
       "1                             0.0  \n",
       "2                             0.0  \n",
       "3                             0.0  \n",
       "4                             0.0  \n",
       "\n",
       "[5 rows x 31 columns]"
      ]
     },
     "execution_count": 131,
     "metadata": {},
     "output_type": "execute_result"
    }
   ],
   "source": [
    "X.head()"
   ]
  },
  {
   "cell_type": "code",
   "execution_count": 132,
   "metadata": {},
   "outputs": [],
   "source": [
    "# standardization of the amount column(x-mean/sigma)\n",
    "\n",
    "X['amt'] = (((X['amount'])-(X['amount'].mean()))/(X['amount'].std()))"
   ]
  },
  {
   "cell_type": "code",
   "execution_count": 133,
   "metadata": {},
   "outputs": [],
   "source": [
    "# new dataframe with the weighted and standardized columns\n",
    "\n",
    "X_weighted = X[['Dominant_Topic_0.0', 'Dominant_Topic_1.0',\n",
    "       'Dominant_Topic_2.0', 'Dominant_Topic_3.0', 'Dominant_Topic_4.0',\n",
    "       'Dominant_Topic_5.0', 'amt', 'transaction_type_credit_weighted',\n",
    "       'transaction_type_debit_weighted',\n",
    "       'industry_Accommodation and Food Services_weighted',\n",
    "       'industry_Agriculture, Forestry, Fishing and Hunting_weighted',\n",
    "       'industry_Construction_weighted',\n",
    "       'industry_Educational Services_weighted',\n",
    "       'industry_Finance and Insurance_weighted',\n",
    "       'industry_Health Care and Social Assistance_weighted',\n",
    "       'industry_Information Technology_weighted',\n",
    "       'industry_Other Services (except Public Administration)_weighted',\n",
    "       'industry_Professional, Scientific, and Technical Services_weighted',\n",
    "       'industry_Retail Trade_weighted']]"
   ]
  },
  {
   "cell_type": "code",
   "execution_count": 135,
   "metadata": {},
   "outputs": [
    {
     "data": {
      "text/plain": [
       "KMeans(algorithm='auto', copy_x=True, init='k-means++', max_iter=600,\n",
       "       n_clusters=2, n_init=10, n_jobs=None, precompute_distances='auto',\n",
       "       random_state=0, tol=0.0001, verbose=0)"
      ]
     },
     "execution_count": 135,
     "metadata": {},
     "output_type": "execute_result"
    }
   ],
   "source": [
    "# defining the kmeans function with initialization as k-means++\n",
    "kmeans = KMeans(n_clusters=2, init='k-means++',max_iter=600,random_state=0)\n",
    "\n",
    "# fitting the k means algorithm on scaled data\n",
    "kmeans.fit(X_weighted)"
   ]
  },
  {
   "cell_type": "code",
   "execution_count": 136,
   "metadata": {},
   "outputs": [
    {
     "data": {
      "text/plain": [
       "Text(0, 0.5, 'Inertia')"
      ]
     },
     "execution_count": 136,
     "metadata": {},
     "output_type": "execute_result"
    },
    {
     "data": {
      "image/png": "[encoded data removed]",
      "text/plain": [
       "<Figure size 864x432 with 1 Axes>"
      ]
     },
     "metadata": {
      "needs_background": "light"
     },
     "output_type": "display_data"
    }
   ],
   "source": [
    "# elbow method\n",
    "\n",
    "# fitting multiple k-means algorithms and storing the values in an empty list\n",
    "SSE = []\n",
    "for cluster in range(1,20):\n",
    "    kmeans = KMeans(n_jobs = -1, n_clusters = cluster, init='k-means++',random_state=0)\n",
    "    kmeans.fit(X_weighted)\n",
    "    SSE.append(kmeans.inertia_)\n",
    "\n",
    "# converting the results into a dataframe and plotting them\n",
    "frame = pd.DataFrame({'Cluster':range(1,20), 'SSE':SSE})\n",
    "plt.figure(figsize=(12,6))\n",
    "plt.plot(frame['Cluster'], frame['SSE'], marker='o')\n",
    "plt.xlabel('Number of clusters')\n",
    "plt.ylabel('Inertia')"
   ]
  },
  {
   "cell_type": "code",
   "execution_count": 137,
   "metadata": {},
   "outputs": [],
   "source": [
    "from kneed import DataGenerator, KneeLocator"
   ]
  },
  {
   "cell_type": "code",
   "execution_count": 138,
   "metadata": {},
   "outputs": [],
   "source": [
    "kl = KneeLocator(\n",
    "   range(1,20), SSE, curve=\"convex\", direction=\"decreasing\"\n",
    "   )"
   ]
  },
  {
   "cell_type": "code",
   "execution_count": 139,
   "metadata": {},
   "outputs": [
    {
     "data": {
      "text/plain": [
       "7"
      ]
     },
     "execution_count": 139,
     "metadata": {},
     "output_type": "execute_result"
    }
   ],
   "source": [
    "kl.elbow"
   ]
  },
  {
   "cell_type": "code",
   "execution_count": 140,
   "metadata": {},
   "outputs": [
    {
     "data": {
      "text/plain": [
       "KMeans(algorithm='auto', copy_x=True, init='k-means++', max_iter=300,\n",
       "       n_clusters=8, n_init=10, n_jobs=None, precompute_distances='auto',\n",
       "       random_state=None, tol=0.0001, verbose=0)"
      ]
     },
     "execution_count": 140,
     "metadata": {},
     "output_type": "execute_result"
    }
   ],
   "source": [
    "# defining the kmeans function with initialization as k-means++\n",
    "kmeans = KMeans(n_clusters=8, init='k-means++')\n",
    "\n",
    "# fitting the k means algorithm on scaled data\n",
    "kmeans.fit(X_weighted)"
   ]
  },
  {
   "cell_type": "code",
   "execution_count": 141,
   "metadata": {},
   "outputs": [],
   "source": [
    "pred = kmeans.predict(X_weighted)"
   ]
  },
  {
   "cell_type": "code",
   "execution_count": 142,
   "metadata": {},
   "outputs": [
    {
     "data": {
      "text/plain": [
       "0    8718\n",
       "4    6518\n",
       "5    4226\n",
       "3    3495\n",
       "6    2827\n",
       "2    2482\n",
       "1     761\n",
       "7       2\n",
       "Name: cluster, dtype: int64"
      ]
     },
     "execution_count": 142,
     "metadata": {},
     "output_type": "execute_result"
    }
   ],
   "source": [
    "frame = pd.DataFrame(X_weighted)\n",
    "frame['cluster'] = pred\n",
    "frame['cluster'].value_counts()"
   ]
  },
  {
   "cell_type": "code",
   "execution_count": 143,
   "metadata": {},
   "outputs": [],
   "source": [
    "df_cluster = pd.concat([df, frame['cluster']], axis=1)"
   ]
  },
  {
   "cell_type": "code",
   "execution_count": 144,
   "metadata": {},
   "outputs": [
    {
     "data": {
      "text/html": [
       "<div>\n",
       "<style scoped>\n",
       "    .dataframe tbody tr th:only-of-type {\n",
       "        vertical-align: middle;\n",
       "    }\n",
       "\n",
       "    .dataframe tbody tr th {\n",
       "        vertical-align: top;\n",
       "    }\n",
       "\n",
       "    .dataframe thead th {\n",
       "        text-align: right;\n",
       "    }\n",
       "</style>\n",
       "<table border=\"1\" class=\"dataframe\">\n",
       "  <thead>\n",
       "    <tr style=\"text-align: right;\">\n",
       "      <th></th>\n",
       "      <th>Lead ID</th>\n",
       "      <th>bankid</th>\n",
       "      <th>bank_account_id</th>\n",
       "      <th>account_number</th>\n",
       "      <th>Industry</th>\n",
       "      <th>post_date</th>\n",
       "      <th>description</th>\n",
       "      <th>transaction_type</th>\n",
       "      <th>amount</th>\n",
       "      <th>running_balance</th>\n",
       "      <th>trans_order</th>\n",
       "      <th>date</th>\n",
       "      <th>month_year</th>\n",
       "      <th>cluster</th>\n",
       "    </tr>\n",
       "  </thead>\n",
       "  <tbody>\n",
       "    <tr>\n",
       "      <td>0</td>\n",
       "      <td>308148</td>\n",
       "      <td>8535</td>\n",
       "      <td>12460</td>\n",
       "      <td>xxxx9928</td>\n",
       "      <td>Accommodation and Food Services</td>\n",
       "      <td>10-Mar-16</td>\n",
       "      <td>DEPOSIT ID NUMBER xx6836</td>\n",
       "      <td>credit</td>\n",
       "      <td>5000.00</td>\n",
       "      <td>5671.40</td>\n",
       "      <td>1</td>\n",
       "      <td>2016-03-10</td>\n",
       "      <td>2016-03</td>\n",
       "      <td>5</td>\n",
       "    </tr>\n",
       "    <tr>\n",
       "      <td>1</td>\n",
       "      <td>308148</td>\n",
       "      <td>8535</td>\n",
       "      <td>12460</td>\n",
       "      <td>xxxx9928</td>\n",
       "      <td>Accommodation and Food Services</td>\n",
       "      <td>21-Mar-16</td>\n",
       "      <td>ATM CASH DEPOSIT 03/21 2904 N BELT LINE RD IRV...</td>\n",
       "      <td>credit</td>\n",
       "      <td>16.00</td>\n",
       "      <td>5687.40</td>\n",
       "      <td>1</td>\n",
       "      <td>2016-03-21</td>\n",
       "      <td>2016-03</td>\n",
       "      <td>3</td>\n",
       "    </tr>\n",
       "    <tr>\n",
       "      <td>2</td>\n",
       "      <td>308148</td>\n",
       "      <td>8535</td>\n",
       "      <td>12460</td>\n",
       "      <td>xxxx9928</td>\n",
       "      <td>Accommodation and Food Services</td>\n",
       "      <td>21-Mar-16</td>\n",
       "      <td>ATM CASH DEPOSIT 03/21 2904 N BELT LINE RD IRV...</td>\n",
       "      <td>credit</td>\n",
       "      <td>1000.00</td>\n",
       "      <td>5671.90</td>\n",
       "      <td>3</td>\n",
       "      <td>2016-03-21</td>\n",
       "      <td>2016-03</td>\n",
       "      <td>3</td>\n",
       "    </tr>\n",
       "    <tr>\n",
       "      <td>3</td>\n",
       "      <td>308148</td>\n",
       "      <td>8535</td>\n",
       "      <td>12460</td>\n",
       "      <td>xxxx9928</td>\n",
       "      <td>Accommodation and Food Services</td>\n",
       "      <td>21-Mar-16</td>\n",
       "      <td>WAL-MART #0880 IRVING TXxx6007 03/20</td>\n",
       "      <td>debit</td>\n",
       "      <td>1015.50</td>\n",
       "      <td>4671.90</td>\n",
       "      <td>2</td>\n",
       "      <td>2016-03-21</td>\n",
       "      <td>2016-03</td>\n",
       "      <td>2</td>\n",
       "    </tr>\n",
       "    <tr>\n",
       "      <td>4</td>\n",
       "      <td>308148</td>\n",
       "      <td>8535</td>\n",
       "      <td>12460</td>\n",
       "      <td>xxxx9928</td>\n",
       "      <td>Accommodation and Food Services</td>\n",
       "      <td>22-Mar-16</td>\n",
       "      <td>CHECK OR SUPPLY ORDERPPD ID: xxxxxx6800</td>\n",
       "      <td>debit</td>\n",
       "      <td>27.62</td>\n",
       "      <td>5644.28</td>\n",
       "      <td>1</td>\n",
       "      <td>2016-03-22</td>\n",
       "      <td>2016-03</td>\n",
       "      <td>2</td>\n",
       "    </tr>\n",
       "  </tbody>\n",
       "</table>\n",
       "</div>"
      ],
      "text/plain": [
       "   Lead ID  bankid  bank_account_id account_number  \\\n",
       "0   308148    8535            12460       xxxx9928   \n",
       "1   308148    8535            12460       xxxx9928   \n",
       "2   308148    8535            12460       xxxx9928   \n",
       "3   308148    8535            12460       xxxx9928   \n",
       "4   308148    8535            12460       xxxx9928   \n",
       "\n",
       "                          Industry  post_date  \\\n",
       "0  Accommodation and Food Services  10-Mar-16   \n",
       "1  Accommodation and Food Services  21-Mar-16   \n",
       "2  Accommodation and Food Services  21-Mar-16   \n",
       "3  Accommodation and Food Services  21-Mar-16   \n",
       "4  Accommodation and Food Services  22-Mar-16   \n",
       "\n",
       "                                         description transaction_type  \\\n",
       "0                           DEPOSIT ID NUMBER xx6836           credit   \n",
       "1  ATM CASH DEPOSIT 03/21 2904 N BELT LINE RD IRV...           credit   \n",
       "2  ATM CASH DEPOSIT 03/21 2904 N BELT LINE RD IRV...           credit   \n",
       "3               WAL-MART #0880 IRVING TXxx6007 03/20            debit   \n",
       "4            CHECK OR SUPPLY ORDERPPD ID: xxxxxx6800            debit   \n",
       "\n",
       "    amount  running_balance  trans_order        date month_year  cluster  \n",
       "0  5000.00          5671.40            1  2016-03-10    2016-03        5  \n",
       "1    16.00          5687.40            1  2016-03-21    2016-03        3  \n",
       "2  1000.00          5671.90            3  2016-03-21    2016-03        3  \n",
       "3  1015.50          4671.90            2  2016-03-21    2016-03        2  \n",
       "4    27.62          5644.28            1  2016-03-22    2016-03        2  "
      ]
     },
     "execution_count": 144,
     "metadata": {},
     "output_type": "execute_result"
    }
   ],
   "source": [
    "df_cluster.head() #the cluster column provides the final group of the transactions"
   ]
  },
  {
   "cell_type": "code",
   "execution_count": null,
   "metadata": {},
   "outputs": [],
   "source": [
    "df_cluster.to_csv('C:\\Python - Data analytics\\Data Assessment\\data cluster_weighted.csv',index=False)"
   ]
  }
 ],
 "metadata": {
  "kernelspec": {
   "display_name": "Python 3",
   "language": "python",
   "name": "python3"
  },
  "language_info": {
   "codemirror_mode": {
    "name": "ipython",
    "version": 3
   },
   "file_extension": ".py",
   "mimetype": "text/x-python",
   "name": "python",
   "nbconvert_exporter": "python",
   "pygments_lexer": "ipython3",
   "version": "3.7.4"
  }
 },
 "nbformat": 4,
 "nbformat_minor": 2
}
